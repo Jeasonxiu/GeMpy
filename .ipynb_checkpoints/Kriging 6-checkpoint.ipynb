{
 "cells": [
  {
   "cell_type": "code",
   "execution_count": 1,
   "metadata": {
    "collapsed": false
   },
   "outputs": [],
   "source": [
    "import numpy as np\n",
    "import matplotlib.pyplot as plt\n",
    "from sklearn.metrics.pairwise import euclidean_distances\n",
    "import sklearn.metrics as me\n",
    "from __future__ import division\n",
    "%matplotlib inline"
   ]
  },
  {
   "cell_type": "code",
   "execution_count": 2,
   "metadata": {
    "collapsed": false
   },
   "outputs": [
    {
     "name": "stdout",
     "output_type": "stream",
     "text": [
      "[ 2.  5.] [ 6.34202014  3.93969262] [[1 7]\n",
      " [5 7]\n",
      " [6 7]\n",
      " [9 8]]\n"
     ]
    },
    {
     "data": {
      "image/png": "[encoded data removed]",
      "text/plain": [
       "<matplotlib.figure.Figure at 0x7fb0628d5128>"
      ]
     },
     "metadata": {},
     "output_type": "display_data"
    }
   ],
   "source": [
    "layer_1 = np.array([[1,7],[5,7],[6,7], [9,8]])\n",
    "layer_2 = np.array([[1,1],[5,1],[9,1]])\n",
    "layer_3 = np.array([[1,1],[3,2],[7,4]])\n",
    "\n",
    "dip_pos_1 = np.array([2,4])\n",
    "dip_angle_1 = 90\n",
    "dip_pos_1_v = np.array([np.cos(np.deg2rad(dip_angle_1))*1,\n",
    "                        np.sin(np.deg2rad(dip_angle_1))]) + dip_pos_1\n",
    "\n",
    "\n",
    "\n",
    "dip_pos_2 = np.array([6,3])\n",
    "dip_angle_2 = 70\n",
    "dip_pos_2_v = np.array([np.cos(np.deg2rad(dip_angle_2))*1, \n",
    "                        np.sin(np.deg2rad(dip_angle_2))]) + dip_pos_2\n",
    "\n",
    "\n",
    "plt.arrow(dip_pos_1[0],dip_pos_1[1], dip_pos_1_v[0]-dip_pos_1[0],\n",
    "          dip_pos_1_v[1]-dip_pos_1[1], head_width = 0.2)\n",
    "plt.arrow(dip_pos_2[0],dip_pos_2[1],dip_pos_2_v[0]-dip_pos_2[0], \n",
    "          dip_pos_2_v[1]-dip_pos_2[1], head_width = 0.2)\n",
    "plt.plot(layer_1[:,0],layer_1[:,1], \"o\")\n",
    "plt.plot(layer_2[:,0],layer_2[:,1], \"o\")\n",
    "plt.xlim(0,10)\n",
    "plt.ylim(0,10)\n",
    "print (dip_pos_1_v, dip_pos_2_v, layer_1)\n",
    "layers = np.asarray([layer_1,layer_2])\n",
    "dips = np.asarray([dip_pos_1,dip_pos_2])"
   ]
  },
  {
   "cell_type": "code",
   "execution_count": 3,
   "metadata": {
    "collapsed": true
   },
   "outputs": [],
   "source": [
    "#layers = [np.random.uniform(0,10,(100,2)) for i in range(2)]\n",
    "#dips = np.random.uniform(0,10, (30,2))\n",
    "#dips_angles = np.random.normal(90,10, 8)"
   ]
  },
  {
   "cell_type": "code",
   "execution_count": 4,
   "metadata": {
    "collapsed": false
   },
   "outputs": [],
   "source": [
    "import pdb;"
   ]
  },
  {
   "cell_type": "code",
   "execution_count": 5,
   "metadata": {
    "collapsed": false
   },
   "outputs": [],
   "source": [
    "# =================================0\n",
    "# THE INCREMENTS OF POTENTIAL\n",
    "\n",
    "def cov_cubic_f(r,a = 6, c_o = 1):\n",
    "    ans_d0 = c_o*(1-7*(r/a)**2+35/4*(r/a)**3-7/2*(r/a)**5+3/4*(r/a)**7)\n",
    "    ans_d0[r>a] = 0\n",
    "    return ans_d0\n",
    "\n",
    "def cov_cubic_d1_f(r,a = 6., c_o = 1):\n",
    "    ans_d1 = (-7* (a - r)**3 *r* (8* a**2 + 9 *a* r + 3* r**2)* (c_o))/(4* a**7)\n",
    "    ans_d1[r>a] = 0.\n",
    "    return ans_d1\n",
    "                    \n",
    "def cov_cubic_d2_f(r, a = 6, c_o = 1):\n",
    "    ans_d2 = (-7 * (4.* a**5. - 15. *a**4. * r + 20. *( a**2)*(r**3) - 9* r**5) * \n",
    "            (c_o))/(2*a**7)\n",
    "    \n",
    "    ans_d2[r>a] = 0\n",
    "    return ans_d2\n",
    "\n",
    "def cov_cubic_layer(X,Y, a = 6., c_o = 1., verbose = 0):\n",
    "    \"\"\"x = Array: Position of the measured points\"\n",
    "    a =  Range of the spherical semivariogram\n",
    "    C_o = Nugget, variance\n",
    "    \"\"\"\n",
    "    # Creation of r vector\n",
    "    r_m = np.asarray(euclidean_distances(X,Y))\n",
    "   \n",
    "    # Initializing\n",
    "    # Applying the functio\n",
    "    C_h = c_o*(1.-7.*(r_m/a)**2.+35./4.*(r_m/a)**3.\n",
    "                -7./2.*(r_m/a)**5.+3./4.*(r_m/a)**7.)\n",
    "    C_h[r_m>a] = 0\n",
    "    if verbose !=0:\n",
    "        print(r_m>a)\n",
    "        print (\"Our lag matrix is\", r_m)\n",
    "        print(\"Our covariance matrix is\",C_h)\n",
    "    return C_h\n",
    "\n",
    "def C_I(layers, a = 6.):\n",
    "    #print \"layers\", layers\n",
    "    layers = np.asarray(layers)\n",
    "    #print \"layers\", len(layers)\n",
    "    for r in range(len(layers)):\n",
    "        for s in range(len(layers)):\n",
    "         #   print \"layers2\", layers[r][1:],layers[s][1:]\n",
    "        \n",
    "           # print \"nagnoagjja\", layers[s][0].reshape(1,-1),layers[r][1:],\n",
    "            a_p = cov_cubic_layer(layers[r][1:],layers[s][1:], a = a)\n",
    "            b_p = cov_cubic_layer(layers[s][0].reshape(1,-1),\n",
    "                                  layers[r][1:], a = a).transpose()\n",
    "            \n",
    "            test = cov_cubic_layer(layers[r][1:],layers[s][0].reshape(1,-1), a =a)\n",
    "            c_p = cov_cubic_layer(layers[s][1:],\n",
    "                                  layers[r][0].reshape(1,-1),a=a).transpose()\n",
    "            d_p = cov_cubic_layer(layers[r][0].reshape(1,-1),\n",
    "                                layers[s][0].reshape(1,-1), a=a)  \n",
    "            \n",
    "            #pdb.set_trace()\n",
    "            #print \"s\", s,\"r\", r \n",
    "            if s == 0:\n",
    "                \n",
    "                C_I_row = a_p-b_p-c_p+d_p\n",
    "            else:\n",
    "                C_I_row = np.hstack((C_I_row, a_p-b_p-c_p+d_p)) \n",
    "                \n",
    "        if r == 0:\n",
    "            C_I = C_I_row\n",
    "        else:\n",
    "            C_I = np.vstack((C_I,C_I_row))\n",
    "   # C_I  += 0.00000001\n",
    "    return C_I"
   ]
  },
  {
   "cell_type": "code",
   "execution_count": 6,
   "metadata": {
    "collapsed": false,
    "scrolled": false
   },
   "outputs": [
    {
     "data": {
      "text/plain": [
       "array([[ 1.87105624,  1.77585948,  0.98731906,  0.        ,  0.        ],\n",
       "       [ 1.77585948,  1.98942794,  1.19742208,  0.        ,  0.        ],\n",
       "       [ 0.98731906,  1.19742208,  2.        ,  0.        ,  0.        ],\n",
       "       [ 0.        ,  0.        ,  0.        ,  1.87105624,  1.        ],\n",
       "       [ 0.        ,  0.        ,  0.        ,  1.        ,  2.        ]])"
      ]
     },
     "execution_count": 6,
     "metadata": {},
     "output_type": "execute_result"
    }
   ],
   "source": [
    "C_I(layers)"
   ]
  },
  {
   "cell_type": "code",
   "execution_count": 88,
   "metadata": {
    "collapsed": false
   },
   "outputs": [],
   "source": [
    "#=====================\n",
    "# THE GRADIENTS\n",
    "\n",
    "def h_f(dips, direct):\n",
    "    #pdb.set_trace()\n",
    "    if direct == \"x\":\n",
    "        #print (np.subtract.outer(dips[:,0],dips[:,0]))\n",
    "        #print (dips[:,0] , dips[:,0].reshape((dips[:,0].shape[0],1)))\n",
    "      #  print (\"hx\",dips[:,0] - dips[:,0].reshape((dips[:,0].shape[0],1)))\n",
    "        return (np.subtract.outer(dips[:,0],dips[:,0]))\n",
    "    if direct == \"y\":\n",
    "      #  print (\"hy\",dips[:,1] - dips[:,1].reshape((dips[:,1].shape[0],1)))\n",
    "        return (np.subtract.outer(dips[:,1],dips[:,1]))\n",
    "\n",
    "def C_G(dips, sig_z = 1, a = 6., C_000 = -14*1/6**2-0.2):\n",
    "    dips = np.asarray(dips)\n",
    "    \n",
    "    \n",
    "    if len(dips) == 1:\n",
    "        lalolu = np.ones((2,2))*C_0\n",
    "        lalolu[0,1 ] = 0\n",
    "        lalolu[1,0] = 0\n",
    "        return lalolu\n",
    "    r = me.euclidean_distances(dips)\n",
    "   # print (\"R\",r)\n",
    "    C_0 = 1\n",
    "    \n",
    "    for i in \"xy\":\n",
    "        for j in \"xy\":\n",
    "            if i == j and j == \"x\":\n",
    "                h0 = h_f(dips, direct = i)\n",
    "                C_G_row =  (C_0*(h0**2/r**3-1/r)*cov_cubic_d1_f(r, a = a) -\n",
    "                            (h0/r)**2*cov_cubic_d2_f(r, a = a))\n",
    "               # print (\"teta\", C_0*(h0**2/r**3-1/r)*cov_cubic_d1_f(r, a = a) -\n",
    "               #             (h0/r)**2*cov_cubic_d2_f(r, a = a)) \n",
    "                \n",
    "                h1 = h_f(dips, direct = i)\n",
    "                h2 = h_f(dips, direct = j)\n",
    "         \n",
    "                \n",
    "         #       print (\"teta 3\" , ((C_0*(h0*h0/r**2)*\n",
    "         #                     ((1/r)*cov_cubic_d1_f(r, a = a)\n",
    "         #                      -cov_cubic_d2_f(r, a = a)))))\n",
    "               # pdb.set_trace()\n",
    "              #  print \"0\"\n",
    "            elif i == j:\n",
    "         #       print (\"a\",h0**2)\n",
    "                h0 = h_f(dips, direct = i)\n",
    "                C_G_row = np.hstack((C_G_row, (\n",
    "                            C_0*(h0**2/r**3-1/r)\n",
    "                          *cov_cubic_d1_f(r, a = a) - \n",
    "                            (h0/r)**2*cov_cubic_d2_f(r, a = a))))\n",
    "               # pdb.set_trace()\n",
    "            else:\n",
    "                if j == \"x\":\n",
    "                    \"\"\"\n",
    "                    print (\"cov_d1\",cov_cubic_d1_f(r, a = a))\n",
    "                    print (\"cov_d2\",cov_cubic_d2_f(r, a = a))\n",
    "                    print (\"a\",h1*h2)\n",
    "                    print (\"b\", C_0*(h1*h2/r**2) )\n",
    "                    print (\"c\", r**2)\n",
    "                    \"\"\"\n",
    "\n",
    "                    h1 = h_f(dips, direct = i)\n",
    "                    h2 = h_f(dips, direct = j)\n",
    "                    C_G_row = ((C_0*(h1*h2/r**2)*\n",
    "                              ((1/r)*cov_cubic_d1_f(r, a = a)\n",
    "                               -cov_cubic_d2_f(r, a = a))))\n",
    "               #     pdb.set_trace()\n",
    "                #    print \"2\"\n",
    "                else:\n",
    "                    h1 = h_f(dips, direct = i)\n",
    "                    h2 = h_f(dips, direct = j)\n",
    "      #              print (\"a\",h1*h2)\n",
    "                    C_G_row = np.hstack((C_G_row, (C_0*(h1*h2/r**2)*\n",
    "                              ((1/r)*cov_cubic_d1_f(r, a = a)\n",
    "                               -cov_cubic_d2_f(r, a = a)))))\n",
    "                #    pdb.set_trace()\n",
    "                 #   print \"3\"\n",
    "        if i == \"x\":\n",
    "            C_G = C_G_row\n",
    "        else:\n",
    "            C_G = np.vstack((C_G, C_G_row))\n",
    "    \n",
    "\n",
    "  #  C_G[C_G == 0] = 0.0000000000000000000001            \n",
    "    sol_CG = np.nan_to_num(C_G)\n",
    "   # sol_CG[sol_CG== 0] = C_0 \n",
    "    g,h = np.indices(np.shape(sol_CG))\n",
    "    sol_CG[g==h] = C_000\n",
    "  #  sol_CG[g+2==h] = 0.01\n",
    "  #  sol_CG[g-2==h] = 0.01\n",
    " #   sol_CG[sol_CG == 0] =  C_0\n",
    "  #  sol_CG[2,0] = -C_0\n",
    "  #  sol_CG[3,1] = -C_0\n",
    "   # print (sol_CG)\n",
    "    return  sol_CG"
   ]
  },
  {
   "cell_type": "code",
   "execution_count": 90,
   "metadata": {
    "collapsed": false,
    "scrolled": false
   },
   "outputs": [
    {
     "name": "stderr",
     "output_type": "stream",
     "text": [
      "/home/bl3/anaconda3/lib/python3.5/site-packages/ipykernel/__main__.py:32: RuntimeWarning: invalid value encountered in true_divide\n",
      "/home/bl3/anaconda3/lib/python3.5/site-packages/ipykernel/__main__.py:32: RuntimeWarning: divide by zero encountered in true_divide\n",
      "/home/bl3/anaconda3/lib/python3.5/site-packages/ipykernel/__main__.py:33: RuntimeWarning: invalid value encountered in true_divide\n",
      "/home/bl3/anaconda3/lib/python3.5/site-packages/ipykernel/__main__.py:75: RuntimeWarning: invalid value encountered in true_divide\n",
      "/home/bl3/anaconda3/lib/python3.5/site-packages/ipykernel/__main__.py:76: RuntimeWarning: divide by zero encountered in true_divide\n",
      "/home/bl3/anaconda3/lib/python3.5/site-packages/ipykernel/__main__.py:76: RuntimeWarning: invalid value encountered in multiply\n",
      "/home/bl3/anaconda3/lib/python3.5/site-packages/ipykernel/__main__.py:66: RuntimeWarning: invalid value encountered in true_divide\n",
      "/home/bl3/anaconda3/lib/python3.5/site-packages/ipykernel/__main__.py:67: RuntimeWarning: divide by zero encountered in true_divide\n",
      "/home/bl3/anaconda3/lib/python3.5/site-packages/ipykernel/__main__.py:67: RuntimeWarning: invalid value encountered in multiply\n",
      "/home/bl3/anaconda3/lib/python3.5/site-packages/ipykernel/__main__.py:51: RuntimeWarning: invalid value encountered in true_divide\n",
      "/home/bl3/anaconda3/lib/python3.5/site-packages/ipykernel/__main__.py:51: RuntimeWarning: divide by zero encountered in true_divide\n",
      "/home/bl3/anaconda3/lib/python3.5/site-packages/ipykernel/__main__.py:52: RuntimeWarning: invalid value encountered in true_divide\n"
     ]
    },
    {
     "data": {
      "text/plain": [
       "array([[-0.59, -0.11,  0.  ,  0.03],\n",
       "       [-0.11, -0.59,  0.03,  0.  ],\n",
       "       [ 0.  ,  0.03, -0.59,  0.02],\n",
       "       [ 0.03,  0.  ,  0.02, -0.59]])"
      ]
     },
     "execution_count": 90,
     "metadata": {},
     "output_type": "execute_result"
    }
   ],
   "source": [
    "C_G(dips)"
   ]
  },
  {
   "cell_type": "code",
   "execution_count": null,
   "metadata": {
    "collapsed": true
   },
   "outputs": [],
   "source": []
  },
  {
   "cell_type": "code",
   "execution_count": 52,
   "metadata": {
    "collapsed": false
   },
   "outputs": [],
   "source": [
    "#========================================\n",
    "#THE INTERACTION GRADIENTS/INTERFACES\n",
    "\n",
    "def h_f_GI(dips, layers, direct):\n",
    "    if direct == \"x\":\n",
    "        return (np.subtract.outer(dips[:,0],layers[:,0]))\n",
    "    if direct == \"y\":\n",
    "        return (np.subtract.outer(dips[:,1],layers[:,1]))\n",
    "    \n",
    "def C_GI(dips,layers,  sig_z = 1., a = 6., C_01 = 1, verbose = 0):\n",
    "    dips = np.asarray(dips)\n",
    "    layers = np.asarray(layers)\n",
    "    C_00 = C_01\n",
    "    \n",
    "    for k in range(len(layers)):\n",
    "        for i in \"xy\":\n",
    "            r = me.euclidean_distances(dips,layers[k])\n",
    "            h1 =  h_f_GI(dips,layers[k], i)\n",
    "           \n",
    "            Cov_d1 = cov_cubic_d1_f(r, a = a)\n",
    "         #   pdb.set_trace()\n",
    "            if verbose != 0:\n",
    "                print (\"dips\", dips)\n",
    "                print (\"layers\", layers)\n",
    "                print (\"h1\", h1, h1[:,0])\n",
    "                print (\"\")\n",
    "                print (\"r\", r, r[:,0])\n",
    "                print (\"\")\n",
    "                print (\"Cov_d1\", Cov_d1)\n",
    "            if i == \"x\":\n",
    "                cov_1 = C_00* h1[:,0] / r[:,0] * Cov_d1[:,0]\n",
    "                cov_j = C_00* h1[:,1:] / r[:,1:] * Cov_d1[:,1:]\n",
    "               # C_GI_row = alpha * sig_z / a**2 * h1 / r * Cov_d1\n",
    "              #  print \"cov_j, cov_1\", cov_j, cov_1.reshape(-1,1), \"h1\",h1\n",
    "               \n",
    "                C_GI_row = cov_j.transpose()-cov_1#.transpose()\n",
    "               # pdb.set_trace()\n",
    "            else:\n",
    "                cov_1 =  C_00* h1[:,0] / r[:,0] * Cov_d1[:,0]\n",
    "                cov_j =  C_00*  h1[:,1:] / r[:,1:] * Cov_d1[:,1:]\n",
    "                #C_GI_row = np.hstack((C_GI_row,\n",
    "               # alpha * sig_z / a**2 * h1 / r * Cov_d1))\n",
    "                #pdb.set_trace()\n",
    "                C_GI_row = np.hstack((C_GI_row, cov_j.transpose()-cov_1))\n",
    "              #  pdb.set_trace()\n",
    "                #.reshape(-1,1)))\n",
    "        if k==0:\n",
    "            C_GI = C_GI_row\n",
    "        else:\n",
    "            #pdb.set_trace()\n",
    "            C_GI = np.vstack((C_GI,C_GI_row))\n",
    "            \n",
    "    return C_GI"
   ]
  },
  {
   "cell_type": "code",
   "execution_count": 53,
   "metadata": {
    "collapsed": false
   },
   "outputs": [
    {
     "data": {
      "text/plain": [
       "array([[ 0.13, -0.02, -0.15,  0.09],\n",
       "       [ 0.09, -0.  , -0.2 ,  0.11],\n",
       "       [ 0.07,  0.  , -0.21,  0.  ],\n",
       "       [ 0.13, -0.14,  0.15, -0.28],\n",
       "       [ 0.07,  0.14,  0.21, -0.09]])"
      ]
     },
     "execution_count": 53,
     "metadata": {},
     "output_type": "execute_result"
    }
   ],
   "source": [
    "np.set_printoptions(precision=2)\n",
    "a = C_GI(dips,layers, verbose =0)\n",
    "a"
   ]
  },
  {
   "cell_type": "code",
   "execution_count": 54,
   "metadata": {
    "collapsed": false
   },
   "outputs": [],
   "source": [
    "#======================\n",
    "# The condition of universality\n",
    "# GRADIENTS\n",
    "def U_G(dips):\n",
    "    dips = np.asarray(dips)\n",
    "    n = len(dips)\n",
    "    # x\n",
    "    U_G = np.array([np.ones(n), #x\n",
    "                    np.zeros(n),]) #y\n",
    "     #              dips[:,0]*2, #xx\n",
    "     #               np.zeros(n), #yy\n",
    "     #               dips[:,1],])   #xy\n",
    "                    \n",
    "    # y\n",
    "    U_G = np.hstack((U_G,np.array([np.zeros(n),\n",
    "                                          np.ones(n),])))\n",
    "     #                                 np.zeros(n),\n",
    "     #                                     2*dips[:,1]\n",
    "     #                                 ,dips[:,0]])))\n",
    "    return U_G"
   ]
  },
  {
   "cell_type": "code",
   "execution_count": 55,
   "metadata": {
    "collapsed": false
   },
   "outputs": [
    {
     "data": {
      "text/plain": [
       "array([[ 1.,  1.,  0.,  0.],\n",
       "       [ 0.,  0.,  1.,  1.]])"
      ]
     },
     "execution_count": 55,
     "metadata": {},
     "output_type": "execute_result"
    }
   ],
   "source": [
    "U_G(dips)"
   ]
  },
  {
   "cell_type": "code",
   "execution_count": 56,
   "metadata": {
    "collapsed": false
   },
   "outputs": [],
   "source": [
    "#======================\n",
    "# The condition of universality\n",
    "# Interfaces\n",
    "\n",
    "def U_I(layers):\n",
    "    layers = np.asarray(layers)\n",
    "    for e,l in enumerate(layers):\n",
    "        if e == 0:\n",
    "            U_I = np.array([(l[1:,0]-l[0,0]),   # x\n",
    "                          (l[1:,1]-l[0,1]),])     # y\n",
    "                      #  np.square(l[1:,0])- np.square(l[0,0]), # xx\n",
    "                      #  np.square(l[1:,1])- np.square(l[0,1]),  # yy\n",
    "                      #(l[1:,0]* l[1:,1])-(l[0,0]*l[0,1])])  #xy\n",
    "        else:\n",
    "            U_I = np.hstack((U_I, np.array([(l[1:,0]-l[0,0]),   # x\n",
    "                          (l[1:,1]-l[0,1]),])))     # y\n",
    "                      #  np.square(l[1:,0])- np.square(l[0,0]), # xx\n",
    "                      #  np.square(l[1:,1])- np.square(l[0,1]),  # yy\n",
    "                      # (l[1:,0]* l[1:,1])-(l[0,0]*l[0,1])])))  #xy\n",
    "\n",
    "\n",
    "    return U_I"
   ]
  },
  {
   "cell_type": "code",
   "execution_count": 57,
   "metadata": {
    "collapsed": false
   },
   "outputs": [],
   "source": [
    "U_I(layers);"
   ]
  },
  {
   "cell_type": "code",
   "execution_count": 58,
   "metadata": {
    "collapsed": false
   },
   "outputs": [
    {
     "data": {
      "text/plain": [
       "array([[-0.59, -0.13,  0.  ,  0.03],\n",
       "       [-0.13, -0.59,  0.03,  0.  ],\n",
       "       [ 0.  , -0.06, -0.59, -0.1 ],\n",
       "       [ 0.03,  0.  , -0.1 , -0.59]])"
      ]
     },
     "execution_count": 58,
     "metadata": {},
     "output_type": "execute_result"
    }
   ],
   "source": [
    "theano_CG = np.array([[-0.58888888, -0.13136305,  0.        ,  0.03284076],\n",
    "       [-0.13136305, -0.58888888,  0.03284076,  0.        ],\n",
    "       [ 0.        , -0.06287594, -0.58888888, -0.10392689],\n",
    "       [ 0.03284076,  0.        , -0.10392689, -0.58888888]]\n",
    ")\n",
    "theano_CG"
   ]
  },
  {
   "cell_type": "markdown",
   "metadata": {},
   "source": [
    "## A matrix"
   ]
  },
  {
   "cell_type": "code",
   "execution_count": 79,
   "metadata": {
    "collapsed": false
   },
   "outputs": [],
   "source": [
    "def A_matrix(layers,dips, sig_z = 1., a = 6., C_0 = -14*1/6**2-0.2,\n",
    "             C_01 = 1, verbose = 0):\n",
    "    \n",
    "    #CG = theano_CG\n",
    "    CG = C_G(dips)\n",
    "    CGI = C_GI(dips,layers,a = a, C_01=C_01)\n",
    "    CI = C_I(layers, a = a)\n",
    "    UG = U_G(dips)\n",
    "    UI = U_I(layers)\n",
    "   # print np.shape(UI)[0]\n",
    "    zeros = np.zeros((np.shape(UI)[0],np.shape(UI)[0]))\n",
    "    #print CG,CGI.transpose(),UG.transpose()\n",
    "    A1 = np.hstack((-CG,CGI.transpose(),UG.transpose()))\n",
    "    A2 = np.hstack((CGI,CI,UI.transpose()))\n",
    "    A3 = np.hstack((UG,UI,zeros))\n",
    "    A = np.vstack((A1,A2,A3))\n",
    "    return A"
   ]
  },
  {
   "cell_type": "code",
   "execution_count": 80,
   "metadata": {
    "collapsed": false
   },
   "outputs": [
    {
     "name": "stderr",
     "output_type": "stream",
     "text": [
      "/home/bl3/anaconda3/lib/python3.5/site-packages/ipykernel/__main__.py:32: RuntimeWarning: invalid value encountered in true_divide\n",
      "/home/bl3/anaconda3/lib/python3.5/site-packages/ipykernel/__main__.py:32: RuntimeWarning: divide by zero encountered in true_divide\n",
      "/home/bl3/anaconda3/lib/python3.5/site-packages/ipykernel/__main__.py:33: RuntimeWarning: invalid value encountered in true_divide\n",
      "/home/bl3/anaconda3/lib/python3.5/site-packages/ipykernel/__main__.py:75: RuntimeWarning: invalid value encountered in true_divide\n",
      "/home/bl3/anaconda3/lib/python3.5/site-packages/ipykernel/__main__.py:76: RuntimeWarning: divide by zero encountered in true_divide\n",
      "/home/bl3/anaconda3/lib/python3.5/site-packages/ipykernel/__main__.py:76: RuntimeWarning: invalid value encountered in multiply\n",
      "/home/bl3/anaconda3/lib/python3.5/site-packages/ipykernel/__main__.py:66: RuntimeWarning: invalid value encountered in true_divide\n",
      "/home/bl3/anaconda3/lib/python3.5/site-packages/ipykernel/__main__.py:67: RuntimeWarning: divide by zero encountered in true_divide\n",
      "/home/bl3/anaconda3/lib/python3.5/site-packages/ipykernel/__main__.py:67: RuntimeWarning: invalid value encountered in multiply\n",
      "/home/bl3/anaconda3/lib/python3.5/site-packages/ipykernel/__main__.py:51: RuntimeWarning: invalid value encountered in true_divide\n",
      "/home/bl3/anaconda3/lib/python3.5/site-packages/ipykernel/__main__.py:51: RuntimeWarning: divide by zero encountered in true_divide\n",
      "/home/bl3/anaconda3/lib/python3.5/site-packages/ipykernel/__main__.py:52: RuntimeWarning: invalid value encountered in true_divide\n"
     ]
    },
    {
     "data": {
      "text/plain": [
       "(11, 11)"
      ]
     },
     "execution_count": 80,
     "metadata": {},
     "output_type": "execute_result"
    }
   ],
   "source": [
    "np.set_printoptions(precision = 2, linewidth= 130, suppress =  True)\n",
    "aa = A_matrix(layers, dips)\n",
    "np.shape(aa)\n",
    "#aa"
   ]
  },
  {
   "cell_type": "markdown",
   "metadata": {},
   "source": [
    "### Dual Kriging"
   ]
  },
  {
   "cell_type": "code",
   "execution_count": 81,
   "metadata": {
    "collapsed": false
   },
   "outputs": [],
   "source": [
    "def G_f(dips, dips_v):\n",
    "    a_g = np.asarray(dips)\n",
    "    b_g = np.asarray(dips_v)\n",
    "   # print  a, a[:,0]\n",
    "   # print  b,b[:,0]\n",
    "    Gx =  b_g[:,0] - a_g[:,0]       # x\n",
    "    Gy =  b_g[:,1] -a_g[:,1]        # y\n",
    "    G = np.hstack((Gx,Gy))\n",
    "   # G = np.array([-0.71,0.34,0.71,0.93])\n",
    "    return G\n",
    "\n",
    "def b(dips,dips_v,n):\n",
    "    n -= len(dips)*2 # because x and y direction \n",
    "    G = G_f(dips,dips_v)\n",
    "    b = np.hstack((G, np.zeros(n)))\n",
    "    return b"
   ]
  },
  {
   "cell_type": "markdown",
   "metadata": {},
   "source": [
    "## Estimator normal"
   ]
  },
  {
   "cell_type": "code",
   "execution_count": 82,
   "metadata": {
    "collapsed": false
   },
   "outputs": [
    {
     "name": "stdout",
     "output_type": "stream",
     "text": [
      "[ 0.    0.34  1.    0.94  0.    0.    0.    0.    0.    0.    0.  ]\n"
     ]
    },
    {
     "name": "stderr",
     "output_type": "stream",
     "text": [
      "/home/bl3/anaconda3/lib/python3.5/site-packages/ipykernel/__main__.py:32: RuntimeWarning: invalid value encountered in true_divide\n",
      "/home/bl3/anaconda3/lib/python3.5/site-packages/ipykernel/__main__.py:32: RuntimeWarning: divide by zero encountered in true_divide\n",
      "/home/bl3/anaconda3/lib/python3.5/site-packages/ipykernel/__main__.py:33: RuntimeWarning: invalid value encountered in true_divide\n",
      "/home/bl3/anaconda3/lib/python3.5/site-packages/ipykernel/__main__.py:75: RuntimeWarning: invalid value encountered in true_divide\n",
      "/home/bl3/anaconda3/lib/python3.5/site-packages/ipykernel/__main__.py:76: RuntimeWarning: divide by zero encountered in true_divide\n",
      "/home/bl3/anaconda3/lib/python3.5/site-packages/ipykernel/__main__.py:76: RuntimeWarning: invalid value encountered in multiply\n",
      "/home/bl3/anaconda3/lib/python3.5/site-packages/ipykernel/__main__.py:66: RuntimeWarning: invalid value encountered in true_divide\n",
      "/home/bl3/anaconda3/lib/python3.5/site-packages/ipykernel/__main__.py:67: RuntimeWarning: divide by zero encountered in true_divide\n",
      "/home/bl3/anaconda3/lib/python3.5/site-packages/ipykernel/__main__.py:67: RuntimeWarning: invalid value encountered in multiply\n",
      "/home/bl3/anaconda3/lib/python3.5/site-packages/ipykernel/__main__.py:51: RuntimeWarning: invalid value encountered in true_divide\n",
      "/home/bl3/anaconda3/lib/python3.5/site-packages/ipykernel/__main__.py:51: RuntimeWarning: divide by zero encountered in true_divide\n",
      "/home/bl3/anaconda3/lib/python3.5/site-packages/ipykernel/__main__.py:52: RuntimeWarning: invalid value encountered in true_divide\n"
     ]
    }
   ],
   "source": [
    "aa = A_matrix(layers, dips)\n",
    "               \n",
    "bb = b([dip_pos_1, dip_pos_2], \n",
    "       [dip_pos_1_v,dip_pos_2_v], len(aa))\n",
    "#    bb[1] = 0\n",
    "print (bb)\n",
    "sol = np.linalg.solve(aa,bb)"
   ]
  },
  {
   "cell_type": "code",
   "execution_count": 83,
   "metadata": {
    "collapsed": false
   },
   "outputs": [
    {
     "data": {
      "text/plain": [
       "array([[ 0.59,  0.11, -0.  ,  0.02,  0.13,  0.09,  0.07,  0.13,  0.07,  1.  ,  0.  ],\n",
       "       [ 0.11,  0.59,  0.02, -0.  , -0.02, -0.  ,  0.  , -0.14,  0.14,  1.  ,  0.  ],\n",
       "       [-0.  ,  0.02,  0.59,  0.02, -0.15, -0.2 , -0.21,  0.15,  0.21,  0.  ,  1.  ],\n",
       "       [ 0.02, -0.  ,  0.02,  0.59,  0.09,  0.11,  0.  , -0.28, -0.09,  0.  ,  1.  ],\n",
       "       [ 0.13, -0.02, -0.15,  0.09,  1.87,  1.78,  0.99,  0.  ,  0.  ,  4.  ,  0.  ],\n",
       "       [ 0.09, -0.  , -0.2 ,  0.11,  1.78,  1.99,  1.2 ,  0.  ,  0.  ,  5.  ,  0.  ],\n",
       "       [ 0.07,  0.  , -0.21,  0.  ,  0.99,  1.2 ,  2.  ,  0.  ,  0.  ,  8.  ,  1.  ],\n",
       "       [ 0.13, -0.14,  0.15, -0.28,  0.  ,  0.  ,  0.  ,  1.87,  1.  ,  4.  ,  0.  ],\n",
       "       [ 0.07,  0.14,  0.21, -0.09,  0.  ,  0.  ,  0.  ,  1.  ,  2.  ,  8.  ,  0.  ],\n",
       "       [ 1.  ,  1.  ,  0.  ,  0.  ,  4.  ,  5.  ,  8.  ,  4.  ,  8.  ,  0.  ,  0.  ],\n",
       "       [ 0.  ,  0.  ,  1.  ,  1.  ,  0.  ,  0.  ,  1.  ,  0.  ,  0.  ,  0.  ,  0.  ]])"
      ]
     },
     "execution_count": 83,
     "metadata": {},
     "output_type": "execute_result"
    }
   ],
   "source": [
    "aa"
   ]
  },
  {
   "cell_type": "code",
   "execution_count": 84,
   "metadata": {
    "collapsed": false
   },
   "outputs": [
    {
     "data": {
      "text/plain": [
       "array([ 0.  ,  0.34,  1.  ,  0.94,  0.  ,  0.  ,  0.  ,  0.  ,  0.  ,  0.  ,  0.  ])"
      ]
     },
     "execution_count": 84,
     "metadata": {},
     "output_type": "execute_result"
    }
   ],
   "source": [
    "bb"
   ]
  },
  {
   "cell_type": "code",
   "execution_count": 85,
   "metadata": {
    "collapsed": false
   },
   "outputs": [
    {
     "data": {
      "text/plain": [
       "array([-0.09,  0.68,  0.22,  0.22, -0.14,  0.52, -0.44,  0.14,  0.05, -0.04,  0.81])"
      ]
     },
     "execution_count": 85,
     "metadata": {},
     "output_type": "execute_result"
    }
   ],
   "source": [
    "sol"
   ]
  },
  {
   "cell_type": "code",
   "execution_count": 86,
   "metadata": {
    "collapsed": false
   },
   "outputs": [],
   "source": [
    "x = [1,1]\n",
    "def estimator(x, dips, layers, sol, sig_z = 1., a = 6., C_01 = 1, verbose = 0):\n",
    "    x = np.asarray(x).reshape(1,-1)\n",
    "    dips = np.asarray(dips)\n",
    "    layers = np.asarray(layers)\n",
    "    C_01 = C_01\n",
    "    n = 0\n",
    "    m = len(dips)\n",
    "   # print layers\n",
    " #   print x.reshape(1,-1), dips\n",
    "    r_i = me.euclidean_distances(dips,x)\n",
    "    hx = h_f_GI(dips, x, \"x\")\n",
    "    Cov_d1 = cov_cubic_d1_f(r_i, a = a)\n",
    "  \n",
    "    KzGx =  sol[:m] * np.squeeze( C_01*hx / r_i * Cov_d1)\n",
    "    hy = h_f_GI(dips, x, \"y\")\n",
    "    KzGy =  sol[m:2*m] * np.squeeze( C_01 * hy / r_i * Cov_d1)\n",
    " #   KzGx[KzGx == 0] = -0.01\n",
    " #   KzGy[KzGy == 0] = -0.01\n",
    "   # print \"KzGx\", KzGx, sol[:m]\n",
    "    for s in range(len(layers)):\n",
    "        n += len(layers[s][1:])\n",
    "        a_l = cov_cubic_layer(x, layers[s][1:], a = a)\n",
    "        b_l = cov_cubic_layer(x, layers[s][0].reshape(1,-1), a = a)\n",
    "        aux = a_l-b_l\n",
    "   #     aux[aux==0] = 0.000001\n",
    "        if s == 0:\n",
    "            L = np.array(sol[2*m:2*m+n]*(aux))\n",
    "        else:\n",
    "            L = np.hstack((L,sol[2*m+n2:2*m+n]*(aux)))\n",
    "        n2 = n  \n",
    "    L = np.squeeze(L)\n",
    "    univ = (sol[2*m+n]*x[0,0] +         # x\n",
    "            sol[2*m+n+1] * x[0,1] )     # y \n",
    "     #       + sol[2*m+n+2]* x[0,0]**2  # xx\n",
    "     #      + sol[2*m+n+3] * x[0,1]**2  # yy\n",
    "     #      + sol[2*m+n+4] * x[0,0]*x[0,1]) #xy\n",
    "    \n",
    "    if verbose != 0:\n",
    "        print (KzGx,  KzGy, L ,univ)\n",
    "        print (Cov_d1, r_i)\n",
    "        print (\"\")\n",
    "        print (hx, hx/r_i)\n",
    "        print (\"angaglkagm\",hy/r_i, sol[m:2*m])\n",
    "    z_star = np.sum(KzGx)+np.sum(KzGy)+np.sum(L)+univ\n",
    "    return z_star"
   ]
  },
  {
   "cell_type": "code",
   "execution_count": 87,
   "metadata": {
    "collapsed": false
   },
   "outputs": [
    {
     "name": "stderr",
     "output_type": "stream",
     "text": [
      "/home/bl3/anaconda3/lib/python3.5/site-packages/ipykernel/__main__.py:15: RuntimeWarning: invalid value encountered in true_divide\n",
      "/home/bl3/anaconda3/lib/python3.5/site-packages/ipykernel/__main__.py:17: RuntimeWarning: invalid value encountered in true_divide\n"
     ]
    },
    {
     "name": "stdout",
     "output_type": "stream",
     "text": [
      "[ 2.  5.] [ 6.34  3.94] [[1 7]\n",
      " [5 7]\n",
      " [6 7]\n",
      " [9 8]]\n"
     ]
    },
    {
     "data": {
      "image/png": "[encoded data removed]",
      "text/plain": [
       "<matplotlib.figure.Figure at 0x7fb05fb46a58>"
      ]
     },
     "metadata": {},
     "output_type": "display_data"
    }
   ],
   "source": [
    "pot = np.zeros((100,100))\n",
    "for i in range(100):\n",
    "    for j in range(100):\n",
    "        pot[i,j] = estimator([i/10.,j/10.],[dip_pos_1, dip_pos_2], \n",
    "                             [layer_1, layer_2]\n",
    "                             , sol, verbose = 0, C_01 = 1,\n",
    "                             a = 6.)\n",
    "\n",
    "\n",
    "plt.arrow(dip_pos_1[0],dip_pos_1[1], dip_pos_1_v[0]-dip_pos_1[0],\n",
    "          dip_pos_1_v[1]-dip_pos_1[1], head_width = 0.2)\n",
    "plt.arrow(dip_pos_2[0],dip_pos_2[1],dip_pos_2_v[0]-dip_pos_2[0], \n",
    "          dip_pos_2_v[1]-dip_pos_2[1], head_width = 0.2)\n",
    "\n",
    "plt.plot(layer_1[:,0],layer_1[:,1], \"o\")\n",
    "plt.plot(layer_2[:,0],layer_2[:,1], \"o\")\n",
    "plt.plot(layer_1[:,0],layer_1[:,1], )\n",
    "plt.plot(layer_2[:,0],layer_2[:,1], )\n",
    "plt.contour(pot.transpose(),30,extent = (0,10,0,10) )\n",
    "plt.colorbar()\n",
    "plt.xlim(0,10)\n",
    "plt.ylim(0,10)\n",
    "plt.title(\"GeoMigueller v 0.1\")\n",
    "print (dip_pos_1_v, dip_pos_2_v, layer_1)\n",
    "    "
   ]
  },
  {
   "cell_type": "code",
   "execution_count": null,
   "metadata": {
    "collapsed": true
   },
   "outputs": [],
   "source": []
  },
  {
   "cell_type": "code",
   "execution_count": null,
   "metadata": {
    "collapsed": true
   },
   "outputs": [],
   "source": []
  },
  {
   "cell_type": "markdown",
   "metadata": {},
   "source": [
    "## La Buena"
   ]
  },
  {
   "cell_type": "code",
   "execution_count": 22,
   "metadata": {
    "collapsed": true
   },
   "outputs": [],
   "source": [
    "%matplotlib inline"
   ]
  },
  {
   "cell_type": "code",
   "execution_count": 35,
   "metadata": {
    "collapsed": false
   },
   "outputs": [],
   "source": [
    "def pla(angle1,angle2, C_0 = -14*1/6**2-0.2, C_01 = 1):\n",
    "    layer_1 = np.array([[1,7],[5,6], [6,8], [9,9] ])\n",
    "    layer_2 = np.array([[1,2],[5,3], [9,7]])\n",
    "    layer_3 = np.array([[1,1],[3,2],[7,4]])\n",
    "\n",
    "    dip_pos_1 = np.array([3,4])\n",
    "    dip_angle_1 = angle1\n",
    "    dip_pos_1_v = np.array([np.cos(np.deg2rad(dip_angle_1))*1,\n",
    "                            np.sin(np.deg2rad(dip_angle_1))]) + dip_pos_1\n",
    "\n",
    "    \n",
    "    \n",
    "    dip_pos_2 = np.array([6,6])\n",
    "    dip_angle_2 = angle2\n",
    "    dip_pos_2_v = np.array([np.cos(np.deg2rad(dip_angle_2))*1, \n",
    "                            np.sin(np.deg2rad(dip_angle_2))]) + dip_pos_2\n",
    "\n",
    "    \n",
    "    dip_pos_3 = np.array([9,5])\n",
    "    dip_angle_3 = 90\n",
    "    dip_pos_3_v = np.array([np.cos(np.deg2rad(dip_angle_3))*1, \n",
    "                            np.sin(np.deg2rad(dip_angle_3))]) + dip_pos_3\n",
    "    #print b([dip_pos_1,dip_pos_2], [dip_pos_1_v,dip_pos_2_v],13)\n",
    "\n",
    "    aa = A_matrix([layer_1,layer_2, layer_3], \n",
    "                  [dip_pos_1,dip_pos_2, dip_pos_3], a = 6.,\n",
    "                  C_0= C_0,\n",
    "                  C_01 = C_01)\n",
    "    bb = b([dip_pos_1, dip_pos_2, dip_pos_3], \n",
    "           [dip_pos_1_v,dip_pos_2_v, dip_pos_3_v], len(aa))\n",
    "#    bb[1] = 0\n",
    "    print (bb)\n",
    "    sol = np.linalg.solve(aa,bb)\n",
    "\n",
    "    #sol[:-2] = 0\n",
    "    #print aa \n",
    "\n",
    "    print( sol)\n",
    "    pot = np.zeros((50,50))\n",
    "    for i in range(50):\n",
    "        for j in range(50):\n",
    "            pot[i,j] = estimator([i/5.,j/5.],[dip_pos_1, dip_pos_2, dip_pos_3], \n",
    "                                 [layer_1, layer_2, layer_3]\n",
    "                                 , sol, verbose = 0, C_01 = C_01,\n",
    "                                 a = 6.)\n",
    "\n",
    "    \n",
    "    plt.arrow(dip_pos_1[0],dip_pos_1[1], dip_pos_1_v[0]-dip_pos_1[0],\n",
    "              dip_pos_1_v[1]-dip_pos_1[1], head_width = 0.2)\n",
    "    plt.arrow(dip_pos_2[0],dip_pos_2[1],dip_pos_2_v[0]-dip_pos_2[0], \n",
    "              dip_pos_2_v[1]-dip_pos_2[1], head_width = 0.2)\n",
    "    plt.arrow(dip_pos_3[0],dip_pos_3[1],dip_pos_3_v[0]-dip_pos_3[0], \n",
    "              dip_pos_3_v[1]-dip_pos_3[1], head_width = 0.2)\n",
    "\n",
    "    plt.plot(layer_1[:,0],layer_1[:,1], \"o\")\n",
    "    plt.plot(layer_2[:,0],layer_2[:,1], \"o\")\n",
    "    plt.plot(layer_3[:,0],layer_3[:,1], \"o\")\n",
    "    plt.plot(layer_1[:,0],layer_1[:,1], )\n",
    "    plt.plot(layer_2[:,0],layer_2[:,1], )\n",
    "    plt.plot(layer_3[:,0],layer_3[:,1], )\n",
    "    plt.contour(pot.transpose(),30,extent = (0,10,0,10) )\n",
    "    plt.colorbar()\n",
    "    plt.xlim(0,10)\n",
    "    plt.ylim(0,10)\n",
    "    plt.title(\"GeoMigueller v 0.1\")\n",
    "    print (dip_pos_1_v, dip_pos_2_v, layer_1)\n",
    "    \n",
    "    return pot"
   ]
  },
  {
   "cell_type": "code",
   "execution_count": 36,
   "metadata": {
    "collapsed": false
   },
   "outputs": [
    {
     "name": "stdout",
     "output_type": "stream",
     "text": [
      "R [[ 0.        3.605551  6.082763]\n",
      " [ 3.605551  0.        3.162278]\n",
      " [ 6.082763  3.162278  0.      ]]\n",
      "hx [[ 0  3  6]\n",
      " [-3  0  3]\n",
      " [-6 -3  0]]\n",
      "hx [[ 0  3  6]\n",
      " [-3  0  3]\n",
      " [-6 -3  0]]\n",
      "hy [[ 0  2  1]\n",
      " [-2  0 -1]\n",
      " [-1  1  0]]\n",
      "hy [[ 0  2  1]\n",
      " [-2  0 -1]\n",
      " [-1  1  0]]\n",
      "hx [[ 0  3  6]\n",
      " [-3  0  3]\n",
      " [-6 -3  0]]\n",
      "hy [[ 0  2  1]\n",
      " [-2  0 -1]\n",
      " [-1  1  0]]\n",
      "[[-0.5      -0.099713  0.        0.        0.041274 -0.      ]\n",
      " [-0.099713 -0.5      -0.121062  0.041274  0.       -0.030068]\n",
      " [ 0.       -0.121062 -0.5      -0.       -0.030068  0.      ]\n",
      " [ 0.        0.041274 -0.       -0.5      -0.056754  0.      ]\n",
      " [ 0.041274  0.       -0.030068 -0.056754 -0.5      -0.044483]\n",
      " [-0.       -0.030068  0.        0.       -0.044483 -0.5     ]]\n",
      "[-0.5      -0.642788  0.        0.866025  0.766044  1.        0.        0.        0.        0.        0.        0.        0.        0.\n",
      "  0.      ]\n",
      "[-1.774062  0.157252  0.664421  0.915743  1.972454  2.263119  0.850932 -0.949148  0.841094  1.301378 -1.51487  -0.429629  0.556393\n",
      " -0.161104  0.325884]\n"
     ]
    },
    {
     "name": "stderr",
     "output_type": "stream",
     "text": [
      "/home/bl3/anaconda3/lib/python3.5/site-packages/ipykernel/__main__.py:32: RuntimeWarning: invalid value encountered in true_divide\n",
      "/home/bl3/anaconda3/lib/python3.5/site-packages/ipykernel/__main__.py:32: RuntimeWarning: divide by zero encountered in true_divide\n",
      "/home/bl3/anaconda3/lib/python3.5/site-packages/ipykernel/__main__.py:33: RuntimeWarning: invalid value encountered in true_divide\n",
      "/home/bl3/anaconda3/lib/python3.5/site-packages/ipykernel/__main__.py:56: RuntimeWarning: invalid value encountered in true_divide\n",
      "/home/bl3/anaconda3/lib/python3.5/site-packages/ipykernel/__main__.py:57: RuntimeWarning: divide by zero encountered in true_divide\n",
      "/home/bl3/anaconda3/lib/python3.5/site-packages/ipykernel/__main__.py:57: RuntimeWarning: invalid value encountered in multiply\n",
      "/home/bl3/anaconda3/lib/python3.5/site-packages/ipykernel/__main__.py:48: RuntimeWarning: invalid value encountered in true_divide\n",
      "/home/bl3/anaconda3/lib/python3.5/site-packages/ipykernel/__main__.py:49: RuntimeWarning: divide by zero encountered in true_divide\n",
      "/home/bl3/anaconda3/lib/python3.5/site-packages/ipykernel/__main__.py:49: RuntimeWarning: invalid value encountered in multiply\n",
      "/home/bl3/anaconda3/lib/python3.5/site-packages/ipykernel/__main__.py:40: RuntimeWarning: invalid value encountered in true_divide\n",
      "/home/bl3/anaconda3/lib/python3.5/site-packages/ipykernel/__main__.py:40: RuntimeWarning: divide by zero encountered in true_divide\n",
      "/home/bl3/anaconda3/lib/python3.5/site-packages/ipykernel/__main__.py:41: RuntimeWarning: invalid value encountered in true_divide\n",
      "/home/bl3/anaconda3/lib/python3.5/site-packages/ipykernel/__main__.py:15: RuntimeWarning: invalid value encountered in true_divide\n",
      "/home/bl3/anaconda3/lib/python3.5/site-packages/ipykernel/__main__.py:17: RuntimeWarning: invalid value encountered in true_divide\n"
     ]
    },
    {
     "name": "stdout",
     "output_type": "stream",
     "text": [
      "[ 2.5       4.866025] [ 5.357212  6.766044] [[1 7]\n",
      " [5 6]\n",
      " [6 8]\n",
      " [9 9]]\n"
     ]
    },
    {
     "data": {
      "image/png": "[encoded data removed]",
      "text/plain": [
       "<matplotlib.figure.Figure at 0x7f729153bef0>"
      ]
     },
     "metadata": {},
     "output_type": "display_data"
    }
   ],
   "source": [
    "jhjs2 = pla(120,130,C_0=-0.5, C_01 = 1)"
   ]
  },
  {
   "cell_type": "code",
   "execution_count": 25,
   "metadata": {
    "collapsed": true
   },
   "outputs": [],
   "source": [
    "# jhjs = pla(120,-30, C_01 = 0.9)"
   ]
  },
  {
   "cell_type": "code",
   "execution_count": 26,
   "metadata": {
    "collapsed": false
   },
   "outputs": [
    {
     "name": "stdout",
     "output_type": "stream",
     "text": [
      "R [[ 0.        3.605551  6.082763]\n",
      " [ 3.605551  0.        3.162278]\n",
      " [ 6.082763  3.162278  0.      ]]\n",
      "hx [[ 0  3  6]\n",
      " [-3  0  3]\n",
      " [-6 -3  0]]\n",
      "hx [[ 0  3  6]\n",
      " [-3  0  3]\n",
      " [-6 -3  0]]\n",
      "hy [[ 0  2  1]\n",
      " [-2  0 -1]\n",
      " [-1  1  0]]\n",
      "hy [[ 0  2  1]\n",
      " [-2  0 -1]\n",
      " [-1  1  0]]\n",
      "hx [[ 0  3  6]\n",
      " [-3  0  3]\n",
      " [-6 -3  0]]\n",
      "hy [[ 0  2  1]\n",
      " [-2  0 -1]\n",
      " [-1  1  0]]\n",
      "[[-0.588889 -0.100938  0.        0.        0.048612 -0.      ]\n",
      " [-0.100938 -0.588889 -0.121682  0.048612  0.       -0.035414]\n",
      " [ 0.       -0.121682 -0.588889 -0.       -0.035414  0.      ]\n",
      " [ 0.        0.048612 -0.       -0.588889 -0.059509  0.      ]\n",
      " [ 0.048612  0.       -0.035414 -0.059509 -0.588889 -0.050069]\n",
      " [-0.       -0.035414  0.        0.       -0.050069 -0.588889]]\n",
      "[-0.5       0.866025  0.        0.866025 -0.5       1.        0.        0.        0.        0.        0.        0.        0.        0.\n",
      "  0.      ]\n",
      "[-1.98635   2.626914 -0.543753  2.454589 -1.308389  1.95855   0.222263  0.304127  0.156125  0.970274 -0.65084   0.548595 -0.587844\n",
      " -0.029849 -0.066016]\n"
     ]
    },
    {
     "name": "stderr",
     "output_type": "stream",
     "text": [
      "/home/bl3/anaconda3/lib/python3.5/site-packages/ipykernel/__main__.py:32: RuntimeWarning: invalid value encountered in true_divide\n",
      "/home/bl3/anaconda3/lib/python3.5/site-packages/ipykernel/__main__.py:32: RuntimeWarning: divide by zero encountered in true_divide\n",
      "/home/bl3/anaconda3/lib/python3.5/site-packages/ipykernel/__main__.py:33: RuntimeWarning: invalid value encountered in true_divide\n",
      "/home/bl3/anaconda3/lib/python3.5/site-packages/ipykernel/__main__.py:56: RuntimeWarning: invalid value encountered in true_divide\n",
      "/home/bl3/anaconda3/lib/python3.5/site-packages/ipykernel/__main__.py:57: RuntimeWarning: divide by zero encountered in true_divide\n",
      "/home/bl3/anaconda3/lib/python3.5/site-packages/ipykernel/__main__.py:57: RuntimeWarning: invalid value encountered in multiply\n",
      "/home/bl3/anaconda3/lib/python3.5/site-packages/ipykernel/__main__.py:48: RuntimeWarning: invalid value encountered in true_divide\n",
      "/home/bl3/anaconda3/lib/python3.5/site-packages/ipykernel/__main__.py:49: RuntimeWarning: divide by zero encountered in true_divide\n",
      "/home/bl3/anaconda3/lib/python3.5/site-packages/ipykernel/__main__.py:49: RuntimeWarning: invalid value encountered in multiply\n",
      "/home/bl3/anaconda3/lib/python3.5/site-packages/ipykernel/__main__.py:40: RuntimeWarning: invalid value encountered in true_divide\n",
      "/home/bl3/anaconda3/lib/python3.5/site-packages/ipykernel/__main__.py:40: RuntimeWarning: divide by zero encountered in true_divide\n",
      "/home/bl3/anaconda3/lib/python3.5/site-packages/ipykernel/__main__.py:41: RuntimeWarning: invalid value encountered in true_divide\n",
      "/home/bl3/anaconda3/lib/python3.5/site-packages/ipykernel/__main__.py:15: RuntimeWarning: invalid value encountered in true_divide\n",
      "/home/bl3/anaconda3/lib/python3.5/site-packages/ipykernel/__main__.py:17: RuntimeWarning: invalid value encountered in true_divide\n"
     ]
    }
   ],
   "source": [
    "jhjs = pla(120,-30)"
   ]
  },
  {
   "cell_type": "code",
   "execution_count": 27,
   "metadata": {
    "collapsed": false
   },
   "outputs": [
    {
     "name": "stdout",
     "output_type": "stream",
     "text": [
      "R [[ 0.        3.605551  6.082763]\n",
      " [ 3.605551  0.        3.162278]\n",
      " [ 6.082763  3.162278  0.      ]]\n",
      "hx [[ 0  3  6]\n",
      " [-3  0  3]\n",
      " [-6 -3  0]]\n",
      "hx [[ 0  3  6]\n",
      " [-3  0  3]\n",
      " [-6 -3  0]]\n",
      "hy [[ 0  2  1]\n",
      " [-2  0 -1]\n",
      " [-1  1  0]]\n",
      "hy [[ 0  2  1]\n",
      " [-2  0 -1]\n",
      " [-1  1  0]]\n",
      "hx [[ 0  3  6]\n",
      " [-3  0  3]\n",
      " [-6 -3  0]]\n",
      "hy [[ 0  2  1]\n",
      " [-2  0 -1]\n",
      " [-1  1  0]]\n",
      "[[-0.588889 -0.100938  0.        0.        0.048612 -0.      ]\n",
      " [-0.100938 -0.588889 -0.121682  0.048612  0.       -0.035414]\n",
      " [ 0.       -0.121682 -0.588889 -0.       -0.035414  0.      ]\n",
      " [ 0.        0.048612 -0.       -0.588889 -0.059509  0.      ]\n",
      " [ 0.048612  0.       -0.035414 -0.059509 -0.588889 -0.050069]\n",
      " [-0.       -0.035414  0.        0.       -0.050069 -0.588889]]\n",
      "[-0.5       1.        0.        0.866025  0.        1.        0.        0.        0.        0.        0.        0.        0.        0.\n",
      "  0.      ]\n",
      "[-2.247577  3.126876 -0.640137  2.201872  0.069394  2.000452  0.637562 -0.297231  0.305559  1.237968 -0.836211  0.347865 -0.45094\n",
      " -0.02636  -0.081672]\n"
     ]
    },
    {
     "name": "stderr",
     "output_type": "stream",
     "text": [
      "/home/bl3/anaconda3/lib/python3.5/site-packages/ipykernel/__main__.py:32: RuntimeWarning: invalid value encountered in true_divide\n",
      "/home/bl3/anaconda3/lib/python3.5/site-packages/ipykernel/__main__.py:32: RuntimeWarning: divide by zero encountered in true_divide\n",
      "/home/bl3/anaconda3/lib/python3.5/site-packages/ipykernel/__main__.py:33: RuntimeWarning: invalid value encountered in true_divide\n",
      "/home/bl3/anaconda3/lib/python3.5/site-packages/ipykernel/__main__.py:56: RuntimeWarning: invalid value encountered in true_divide\n",
      "/home/bl3/anaconda3/lib/python3.5/site-packages/ipykernel/__main__.py:57: RuntimeWarning: divide by zero encountered in true_divide\n",
      "/home/bl3/anaconda3/lib/python3.5/site-packages/ipykernel/__main__.py:57: RuntimeWarning: invalid value encountered in multiply\n",
      "/home/bl3/anaconda3/lib/python3.5/site-packages/ipykernel/__main__.py:48: RuntimeWarning: invalid value encountered in true_divide\n",
      "/home/bl3/anaconda3/lib/python3.5/site-packages/ipykernel/__main__.py:49: RuntimeWarning: divide by zero encountered in true_divide\n",
      "/home/bl3/anaconda3/lib/python3.5/site-packages/ipykernel/__main__.py:49: RuntimeWarning: invalid value encountered in multiply\n",
      "/home/bl3/anaconda3/lib/python3.5/site-packages/ipykernel/__main__.py:40: RuntimeWarning: invalid value encountered in true_divide\n",
      "/home/bl3/anaconda3/lib/python3.5/site-packages/ipykernel/__main__.py:40: RuntimeWarning: divide by zero encountered in true_divide\n",
      "/home/bl3/anaconda3/lib/python3.5/site-packages/ipykernel/__main__.py:41: RuntimeWarning: invalid value encountered in true_divide\n",
      "/home/bl3/anaconda3/lib/python3.5/site-packages/ipykernel/__main__.py:15: RuntimeWarning: invalid value encountered in true_divide\n",
      "/home/bl3/anaconda3/lib/python3.5/site-packages/ipykernel/__main__.py:17: RuntimeWarning: invalid value encountered in true_divide\n"
     ]
    }
   ],
   "source": [
    "jh = pla(120,0)"
   ]
  },
  {
   "cell_type": "code",
   "execution_count": null,
   "metadata": {
    "collapsed": true
   },
   "outputs": [],
   "source": []
  },
  {
   "cell_type": "code",
   "execution_count": 28,
   "metadata": {
    "collapsed": false
   },
   "outputs": [
    {
     "name": "stdout",
     "output_type": "stream",
     "text": [
      "R [[ 0.        3.605551  6.082763]\n",
      " [ 3.605551  0.        3.162278]\n",
      " [ 6.082763  3.162278  0.      ]]\n",
      "hx [[ 0  3  6]\n",
      " [-3  0  3]\n",
      " [-6 -3  0]]\n",
      "hx [[ 0  3  6]\n",
      " [-3  0  3]\n",
      " [-6 -3  0]]\n",
      "hy [[ 0  2  1]\n",
      " [-2  0 -1]\n",
      " [-1  1  0]]\n",
      "hy [[ 0  2  1]\n",
      " [-2  0 -1]\n",
      " [-1  1  0]]\n",
      "hx [[ 0  3  6]\n",
      " [-3  0  3]\n",
      " [-6 -3  0]]\n",
      "hy [[ 0  2  1]\n",
      " [-2  0 -1]\n",
      " [-1  1  0]]\n",
      "[[-0.588889 -0.100938  0.        0.        0.048612 -0.      ]\n",
      " [-0.100938 -0.588889 -0.121682  0.048612  0.       -0.035414]\n",
      " [ 0.       -0.121682 -0.588889 -0.       -0.035414  0.      ]\n",
      " [ 0.        0.048612 -0.       -0.588889 -0.059509  0.      ]\n",
      " [ 0.048612  0.       -0.035414 -0.059509 -0.588889 -0.050069]\n",
      " [-0.       -0.035414  0.        0.       -0.050069 -0.588889]]\n",
      "[ 0.999391  1.        0.       -0.034899  0.        1.        0.        0.        0.        0.        0.        0.        0.        0.\n",
      "  0.      ]\n",
      "[ 1.745852  1.529886 -0.092427  0.181988  0.1693    1.989711  0.049389 -0.152759  0.168621 -0.2107   -0.703772  0.105986  0.382493\n",
      " -0.045037  0.032994]\n"
     ]
    },
    {
     "name": "stderr",
     "output_type": "stream",
     "text": [
      "/home/bl3/anaconda3/lib/python3.5/site-packages/ipykernel/__main__.py:32: RuntimeWarning: invalid value encountered in true_divide\n",
      "/home/bl3/anaconda3/lib/python3.5/site-packages/ipykernel/__main__.py:32: RuntimeWarning: divide by zero encountered in true_divide\n",
      "/home/bl3/anaconda3/lib/python3.5/site-packages/ipykernel/__main__.py:33: RuntimeWarning: invalid value encountered in true_divide\n",
      "/home/bl3/anaconda3/lib/python3.5/site-packages/ipykernel/__main__.py:56: RuntimeWarning: invalid value encountered in true_divide\n",
      "/home/bl3/anaconda3/lib/python3.5/site-packages/ipykernel/__main__.py:57: RuntimeWarning: divide by zero encountered in true_divide\n",
      "/home/bl3/anaconda3/lib/python3.5/site-packages/ipykernel/__main__.py:57: RuntimeWarning: invalid value encountered in multiply\n",
      "/home/bl3/anaconda3/lib/python3.5/site-packages/ipykernel/__main__.py:48: RuntimeWarning: invalid value encountered in true_divide\n",
      "/home/bl3/anaconda3/lib/python3.5/site-packages/ipykernel/__main__.py:49: RuntimeWarning: divide by zero encountered in true_divide\n",
      "/home/bl3/anaconda3/lib/python3.5/site-packages/ipykernel/__main__.py:49: RuntimeWarning: invalid value encountered in multiply\n",
      "/home/bl3/anaconda3/lib/python3.5/site-packages/ipykernel/__main__.py:40: RuntimeWarning: invalid value encountered in true_divide\n",
      "/home/bl3/anaconda3/lib/python3.5/site-packages/ipykernel/__main__.py:40: RuntimeWarning: divide by zero encountered in true_divide\n",
      "/home/bl3/anaconda3/lib/python3.5/site-packages/ipykernel/__main__.py:41: RuntimeWarning: invalid value encountered in true_divide\n",
      "/home/bl3/anaconda3/lib/python3.5/site-packages/ipykernel/__main__.py:15: RuntimeWarning: invalid value encountered in true_divide\n",
      "/home/bl3/anaconda3/lib/python3.5/site-packages/ipykernel/__main__.py:17: RuntimeWarning: invalid value encountered in true_divide\n"
     ]
    }
   ],
   "source": [
    "jhjs = pla(-2,0)"
   ]
  },
  {
   "cell_type": "code",
   "execution_count": null,
   "metadata": {
    "collapsed": true
   },
   "outputs": [],
   "source": []
  },
  {
   "cell_type": "code",
   "execution_count": 29,
   "metadata": {
    "collapsed": false
   },
   "outputs": [
    {
     "data": {
      "text/plain": [
       "(43.267331830682124, 36.088541950282064)"
      ]
     },
     "execution_count": 29,
     "metadata": {},
     "output_type": "execute_result"
    }
   ],
   "source": [
    "137.769228/3.184139677, -106.724083/-2.9572844241540727772132"
   ]
  },
  {
   "cell_type": "code",
   "execution_count": 30,
   "metadata": {
    "collapsed": false
   },
   "outputs": [
    {
     "data": {
      "text/plain": [
       "21.06666666666667"
      ]
     },
     "execution_count": 30,
     "metadata": {},
     "output_type": "execute_result"
    }
   ],
   "source": [
    "3.16/0.15"
   ]
  },
  {
   "cell_type": "code",
   "execution_count": 31,
   "metadata": {
    "collapsed": false
   },
   "outputs": [
    {
     "data": {
      "text/plain": [
       "(18.76825396825397, 22.17543859649123)"
      ]
     },
     "execution_count": 31,
     "metadata": {},
     "output_type": "execute_result"
    }
   ],
   "source": [
    "59.12/3.15, 3.16/0.1425"
   ]
  },
  {
   "cell_type": "code",
   "execution_count": 32,
   "metadata": {
    "collapsed": false
   },
   "outputs": [
    {
     "data": {
      "text/plain": [
       "(16.225259682539683, 18.732133333333334)"
      ]
     },
     "execution_count": 32,
     "metadata": {},
     "output_type": "execute_result"
    }
   ],
   "source": [
    "51.109568/3.15, 2.669329/0.1425"
   ]
  },
  {
   "cell_type": "code",
   "execution_count": 33,
   "metadata": {
    "collapsed": false
   },
   "outputs": [
    {
     "data": {
      "text/plain": [
       "(14.300934285714286, 16.083228070175437)"
      ]
     },
     "execution_count": 33,
     "metadata": {},
     "output_type": "execute_result"
    }
   ],
   "source": [
    "45.047943/3.15, 2.29186/0.1425"
   ]
  },
  {
   "cell_type": "code",
   "execution_count": null,
   "metadata": {
    "collapsed": true
   },
   "outputs": [],
   "source": []
  },
  {
   "cell_type": "code",
   "execution_count": null,
   "metadata": {
    "collapsed": true
   },
   "outputs": [],
   "source": []
  },
  {
   "cell_type": "code",
   "execution_count": null,
   "metadata": {
    "collapsed": true
   },
   "outputs": [],
   "source": []
  },
  {
   "cell_type": "code",
   "execution_count": 34,
   "metadata": {
    "collapsed": false
   },
   "outputs": [
    {
     "ename": "SyntaxError",
     "evalue": "Missing parentheses in call to 'print' (<ipython-input-34-f95248eef32c>, line 27)",
     "output_type": "error",
     "traceback": [
      "\u001b[1;36m  File \u001b[1;32m\"<ipython-input-34-f95248eef32c>\"\u001b[1;36m, line \u001b[1;32m27\u001b[0m\n\u001b[1;33m    print bb\u001b[0m\n\u001b[1;37m           ^\u001b[0m\n\u001b[1;31mSyntaxError\u001b[0m\u001b[1;31m:\u001b[0m Missing parentheses in call to 'print'\n"
     ]
    }
   ],
   "source": [
    "layer_1 = np.array([[1,7],[5,7],[6,7], [9,8], ])\n",
    "layer_2 = np.array([[1,1],[5,1],[9,1], ])\n",
    "layer_3 = np.array([[1,1],[3,2],[7,4]])\n",
    "\n",
    "dip_pos_1 = np.array([2,4])\n",
    "dip_angle_1 = 45\n",
    "dip_pos_1_v = np.array([np.cos(np.deg2rad(dip_angle_1))*1,\n",
    "                        np.sin(np.deg2rad(dip_angle_1))]) + dip_pos_1\n",
    "\n",
    "\n",
    "\n",
    "dip_pos_2 = np.array([9,7])\n",
    "dip_angle_2 = 90\n",
    "dip_pos_2_v = np.array([np.cos(np.deg2rad(dip_angle_2))*1, \n",
    "                        np.sin(np.deg2rad(dip_angle_2))]) + dip_pos_2\n",
    "\n",
    "\n",
    "dip_pos_3 = np.array([5,5])\n",
    "dip_angle_3 = 90\n",
    "dip_pos_3_v = np.array([np.cos(np.deg2rad(dip_angle_3))*1, \n",
    "                        np.sin(np.deg2rad(dip_angle_3))]) + dip_pos_3\n",
    "#print b([dip_pos_1,dip_pos_2], [dip_pos_1_v,dip_pos_2_v],13)\n",
    "\n",
    "aa = A_matrix([layer_1,layer_2], [dip_pos_1,dip_pos_2], a = 6., alpha = 14)\n",
    "bb = b([dip_pos_1,dip_pos_2], [dip_pos_1_v,dip_pos_2_v], 11)\n",
    "print bb\n",
    "sol = np.linalg.solve(aa,bb)\n",
    "\n",
    "#sol[:-2] = 0\n",
    "#print aa \n",
    "\n",
    "print sol\n",
    "pot = np.zeros((50,50))\n",
    "for i in range(50):\n",
    "    for j in range(50):\n",
    "        pot[i,j] = estimator([i/5.,j/5.],[dip_pos_1,dip_pos_2], \n",
    "                             [layer_1,layer_2], sol, verbose = 0, alpha = 14,\n",
    "                             a = 6.)\n",
    "\n",
    "        \n",
    "plt.arrow(dip_pos_1[0],dip_pos_1[1], dip_pos_1_v[0]-dip_pos_1[0],\n",
    "          dip_pos_1_v[1]-dip_pos_1[1], head_width = 0.2)\n",
    "plt.arrow(dip_pos_2[0],dip_pos_2[1],dip_pos_2_v[0]-dip_pos_2[0], \n",
    "          dip_pos_2_v[1]-dip_pos_2[1], head_width = 0.2)\n",
    "#plt.arrow(dip_pos_3[0],dip_pos_3[1],dip_pos_3_v[0]-dip_pos_3[0], \n",
    "#          dip_pos_3_v[1]-dip_pos_3[1], head_width = 0.2)\n",
    "\n",
    "plt.plot(layer_1[:,0],layer_1[:,1], \"o\")\n",
    "plt.plot(layer_2[:,0],layer_2[:,1], \"o\")\n",
    "#plt.plot(layer_3[:,0],layer_3[:,1], \"o\")\n",
    "plt.plot(layer_1[:,0],layer_1[:,1], )\n",
    "plt.plot(layer_2[:,0],layer_2[:,1], )\n",
    "plt.contour(pot.transpose(),20,extent = (0,10,0,10) )\n",
    "plt.colorbar()\n",
    "plt.xlim(0,10)\n",
    "plt.ylim(0,10)\n",
    "print dip_pos_1_v, dip_pos_2_v, layer_1"
   ]
  },
  {
   "cell_type": "code",
   "execution_count": null,
   "metadata": {
    "collapsed": false
   },
   "outputs": [],
   "source": [
    "np.cos(np.deg2rad(45))"
   ]
  },
  {
   "cell_type": "code",
   "execution_count": null,
   "metadata": {
    "collapsed": true
   },
   "outputs": [],
   "source": []
  },
  {
   "cell_type": "code",
   "execution_count": null,
   "metadata": {
    "collapsed": false
   },
   "outputs": [],
   "source": [
    "layer_1 = np.array([[1,7],[5,7],[6,7], [9,7], ])\n",
    "layer_2 = np.array([[1,1],[5,1],[9,1], ])\n",
    "layer_3 = np.array([[1,1],[3,2],[7,4]])\n",
    "\n",
    "dip_pos_1 = np.array([2,4])\n",
    "dip_angle_1 = 100\n",
    "dip_pos_1_v = np.array([np.cos(np.deg2rad(dip_angle_1))*1,\n",
    "                        np.sin(np.deg2rad(dip_angle_1))]) + dip_pos_1\n",
    "\n",
    "\n",
    "\n",
    "dip_pos_2 = np.array([8,5])\n",
    "dip_angle_2 = 70\n",
    "dip_pos_2_v = np.array([np.cos(np.deg2rad(dip_angle_2))*1, \n",
    "                        np.sin(np.deg2rad(dip_angle_2))]) + dip_pos_2\n",
    "\n",
    "\n",
    "dip_pos_3 = np.array([8,5])\n",
    "dip_angle_3 = 90\n",
    "dip_pos_3_v = np.array([np.cos(np.deg2rad(dip_angle_3))*1, \n",
    "                        np.sin(np.deg2rad(dip_angle_3))]) + dip_pos_3\n",
    "#print b([dip_pos_1,dip_pos_2], [dip_pos_1_v,dip_pos_2_v],13)\n",
    "\n",
    "aa = A_matrix([layer_1,layer_2], [dip_pos_1,dip_pos_2], a = 6., alpha = 14)\n",
    "bb = b([dip_pos_1,dip_pos_2], [dip_pos_1_v,dip_pos_2_v], 11)\n",
    "print bb\n",
    "sol = np.linalg.solve(aa,bb)\n",
    "\n",
    "#sol[:-2] = 0\n",
    "#print aa \n",
    "\n",
    "print sol\n",
    "pot = np.zeros((50,50))\n",
    "for i in range(50):\n",
    "    for j in range(50):\n",
    "        pot[i,j] = estimator([i/5.,j/5.],[dip_pos_1,dip_pos_2], \n",
    "                             [layer_1,layer_2], sol, verbose = 0, alpha = 14,\n",
    "                             a = 6.)\n",
    "\n",
    "        \n",
    "plt.arrow(dip_pos_1[0],dip_pos_1[1], dip_pos_1_v[0]-dip_pos_1[0],\n",
    "          dip_pos_1_v[1]-dip_pos_1[1], head_width = 0.2)\n",
    "plt.arrow(dip_pos_2[0],dip_pos_2[1],dip_pos_2_v[0]-dip_pos_2[0], \n",
    "          dip_pos_2_v[1]-dip_pos_2[1], head_width = 0.2)\n",
    "#plt.arrow(dip_pos_3[0],dip_pos_3[1],dip_pos_3_v[0]-dip_pos_3[0], \n",
    "#          dip_pos_3_v[1]-dip_pos_3[1], head_width = 0.2)\n",
    "\n",
    "plt.plot(layer_1[:,0],layer_1[:,1], \"o\")\n",
    "plt.plot(layer_2[:,0],layer_2[:,1], \"o\")\n",
    "#plt.plot(layer_3[:,0],layer_3[:,1], \"o\")\n",
    "plt.plot(layer_1[:,0],layer_1[:,1], )\n",
    "plt.plot(layer_2[:,0],layer_2[:,1], )\n",
    "plt.contour(pot.transpose(),20,extent = (0,10,0,10) )\n",
    "plt.colorbar()\n",
    "plt.xlim(0,10)\n",
    "plt.ylim(0,10)\n",
    "print dip_pos_1_v, dip_pos_2_v, layer_1"
   ]
  },
  {
   "cell_type": "code",
   "execution_count": null,
   "metadata": {
    "collapsed": true
   },
   "outputs": [],
   "source": []
  },
  {
   "cell_type": "code",
   "execution_count": null,
   "metadata": {
    "collapsed": true
   },
   "outputs": [],
   "source": []
  },
  {
   "cell_type": "code",
   "execution_count": null,
   "metadata": {
    "collapsed": true
   },
   "outputs": [],
   "source": [
    "%matplotlib inline"
   ]
  },
  {
   "cell_type": "code",
   "execution_count": null,
   "metadata": {
    "collapsed": false
   },
   "outputs": [],
   "source": [
    "from mpl_toolkits.mplot3d import Axes3D\n",
    "from matplotlib import cm\n",
    "from matplotlib.ticker import LinearLocator, FormatStrFormatter\n",
    "\n",
    "\n",
    "fig = plt.figure()\n",
    "ax = fig.gca(projection='3d')\n",
    "X = np.arange(0, 10, 0.1)\n",
    "Y = np.arange(0, 10, 0.1)\n",
    "X, Y = np.meshgrid(X, Y)\n",
    "Z = pot.transpose()\n",
    "surf = ax.plot_surface(X, Y, Z, rstride=1, cstride=1, cmap=cm.coolwarm,\n",
    "                       linewidth=0, antialiased=False)\n",
    "\n",
    "ax.set_xlabel(\"x\")\n",
    "ax.set_ylabel(\"y\")"
   ]
  },
  {
   "cell_type": "code",
   "execution_count": null,
   "metadata": {
    "collapsed": true
   },
   "outputs": [],
   "source": []
  },
  {
   "cell_type": "code",
   "execution_count": null,
   "metadata": {
    "collapsed": false
   },
   "outputs": [],
   "source": [
    "print \"layer1\",(pot.transpose()[1,7],pot.transpose()[3,4],pot.transpose()[8,5],\n",
    "                pot.transpose()[9,7])\n",
    "print \"layer2\",pot.transpose()[1,3],pot.transpose()[3,4]\n",
    "print \"layer3\",pot.transpose()[1,1],pot.transpose()[3,1],pot.transpose()[7,4]"
   ]
  },
  {
   "cell_type": "code",
   "execution_count": null,
   "metadata": {
    "collapsed": false
   },
   "outputs": [],
   "source": [
    "layer_1 = np.array([[5,5],[3,5]])\n",
    "layer_2 = np.array([[1,3],[5,3],[7,3],[9,3]])\n",
    "\n",
    "\n",
    "dip_pos_1 = np.array([2,4])\n",
    "dip_angle_1 = 90\n",
    "dip_pos_1_v = np.array([np.cos(np.deg2rad(dip_angle_1))*1,\n",
    "                        np.sin(np.deg2rad(dip_angle_1))]) + dip_pos_1\n",
    "\n",
    "\n",
    "\n",
    "dip_pos_2 = np.array([6,4])\n",
    "dip_angle_2 = 90\n",
    "dip_pos_2_v = np.array([np.cos(np.deg2rad(dip_angle_2))*1, \n",
    "                        np.sin(np.deg2rad(dip_angle_2))]) + dip_pos_2\n",
    "#print b([dip_pos_1,dip_pos_2], [dip_pos_1_v,dip_pos_2_v],13)\n",
    "bb = b([dip_pos_1], [dip_pos_1_v], 15 )\n",
    "sol = np.linalg.solve(aa,bb)\n",
    "print sol\n",
    "pot = np.zeros((20,20))\n",
    "for i in range(20):\n",
    "    for j in range(20):\n",
    "        pot[i,j] = estimator([i/2.,j/2.],[dip_pos_1,dip_pos_2], \n",
    "                             [layer_1,], sol, verbose = 0)\n",
    "\n",
    "        \n",
    "plt.arrow(dip_pos_1[0],dip_pos_1[1], dip_pos_1_v[0]-dip_pos_1[0],\n",
    "          dip_pos_1_v[1]-dip_pos_1[1], head_width = 0.2)\n",
    "plt.arrow(dip_pos_2[0],dip_pos_2[1],dip_pos_2_v[0]-dip_pos_2[0], \n",
    "          dip_pos_2_v[1]-dip_pos_2[1], head_width = 0.2)\n",
    "plt.plot(layer_1[:,0],layer_1[:,1], \"o\")\n",
    "plt.plot(layer_2[:,0],layer_2[:,1], \"o\")\n",
    "plt.plot(layer_1[:,0],layer_1[:,1], )\n",
    "plt.plot(layer_2[:,0],layer_2[:,1], )\n",
    "plt.contour(pot,20, extent = (0,10,0,10) )\n",
    "plt.colorbar()\n",
    "plt.xlim(0,10)\n",
    "plt.ylim(0,10)\n",
    "print dip_pos_1_v, dip_pos_2_v, layer_1"
   ]
  },
  {
   "cell_type": "code",
   "execution_count": null,
   "metadata": {
    "collapsed": true
   },
   "outputs": [],
   "source": [
    "plt.arrow?"
   ]
  },
  {
   "cell_type": "code",
   "execution_count": null,
   "metadata": {
    "collapsed": true
   },
   "outputs": [],
   "source": []
  },
  {
   "cell_type": "markdown",
   "metadata": {},
   "source": [
    "### Normal Universal cookriging"
   ]
  },
  {
   "cell_type": "code",
   "execution_count": null,
   "metadata": {
    "collapsed": false
   },
   "outputs": [],
   "source": [
    "def G_f(dips,x):\n",
    "    dips = np.asarray(dips)\n",
    "    \n",
    "    a = np.asarray(dips)\n",
    "    b = np.asarray(x)\n",
    "   # print  a, a[:,0]\n",
    "   # print  b,b[:,0]\n",
    "    Gx =  b[0] - a[:,0]\n",
    "    Gy =  b[1] -a[:,1] \n",
    "    G = np.hstack((Gx,Gy))\n",
    "    \n",
    "    return G\n",
    "\n",
    "def b(x, dips,n):\n",
    "    n -= len(dips)*2 # because x and y direction \n",
    "    G = G_f(dips,x)\n",
    "    b = np.hstack((G, np.zeros(n)))\n",
    "    return b,G"
   ]
  },
  {
   "cell_type": "code",
   "execution_count": null,
   "metadata": {
    "collapsed": false
   },
   "outputs": [],
   "source": [
    "b([1,1],[dip_pos_1,dip_pos_2],13)"
   ]
  },
  {
   "cell_type": "code",
   "execution_count": null,
   "metadata": {
    "collapsed": false
   },
   "outputs": [],
   "source": [
    "bb,g = b([1,1],[dip_pos_1,dip_pos_2],13)\n",
    "len(bb)"
   ]
  },
  {
   "cell_type": "code",
   "execution_count": null,
   "metadata": {
    "collapsed": false
   },
   "outputs": [],
   "source": [
    "sol = np.linalg.solve(aa,bb)"
   ]
  },
  {
   "cell_type": "code",
   "execution_count": null,
   "metadata": {
    "collapsed": false
   },
   "outputs": [],
   "source": [
    "sol"
   ]
  },
  {
   "cell_type": "code",
   "execution_count": null,
   "metadata": {
    "collapsed": false
   },
   "outputs": [],
   "source": [
    "dip_pos_1, dip_pos_2"
   ]
  },
  {
   "cell_type": "code",
   "execution_count": null,
   "metadata": {
    "collapsed": false
   },
   "outputs": [],
   "source": [
    "z1 = dip_pos_1_v - dip_pos_1\n",
    "z2 = dip_pos_2_v - dip_pos_2\n",
    "print z1, z2"
   ]
  },
  {
   "cell_type": "code",
   "execution_count": null,
   "metadata": {
    "collapsed": false
   },
   "outputs": [],
   "source": [
    "g"
   ]
  },
  {
   "cell_type": "code",
   "execution_count": null,
   "metadata": {
    "collapsed": true
   },
   "outputs": [],
   "source": []
  },
  {
   "cell_type": "code",
   "execution_count": null,
   "metadata": {
    "collapsed": false
   },
   "outputs": [],
   "source": [
    "#=====================\n",
    "# THE GRADIENTS\n",
    "\n",
    "def h_f(dips, direct):\n",
    "\n",
    "    if direct == \"x\":\n",
    "        return np.abs(np.subtract.outer(dips[:,0],dips[:,0]))\n",
    "    if direct == \"y\":\n",
    "        return np.abs(np.subtract.outer(dips[:,1],dips[:,1]))\n",
    "\n",
    "def C_G(dips, sig_z = 1., a = 6., nugget= 0.01):\n",
    "    dips = np.asarray(dips)\n",
    "    r = me.euclidean_distances(dips)\n",
    "    for i in \"xy\":\n",
    "        for j in \"xy\":\n",
    "            if j == \"x\":\n",
    "                h1 = h_f(dips, direct = i)\n",
    "                h2 = h_f(dips, direct = j)\n",
    "              #  print h1,h2\n",
    "                C_G_row = (sig_z*h1*h2/a**2/r**2*\n",
    "                          (1/r*cov_cubic_d1_f(r)-cov_cubic_d2_f(r)))\n",
    "               # print 1/r*cov_cubic_d1_f(r), cov_cubic_d2_f(r)\n",
    "            else:\n",
    "                h1 = h_f(dips, direct = i)\n",
    "                h2 = h_f(dips, direct = j)\n",
    "                C_G_row = np.hstack((C_G_row, (sig_z*h1*h2/a**2/r**2*\n",
    "                          (1/r*cov_cubic_d1_f(r)-cov_cubic_d2_f(r)))))\n",
    "                \n",
    "        if i == \"x\":\n",
    "            C_G = C_G_row\n",
    "        else:\n",
    "            C_G = np.vstack((C_G, C_G_row))\n",
    "    return np.nan_to_num(C_G)"
   ]
  },
  {
   "cell_type": "markdown",
   "metadata": {},
   "source": [
    "## Estimator geomodeller (maybe)"
   ]
  },
  {
   "cell_type": "code",
   "execution_count": null,
   "metadata": {
    "collapsed": true
   },
   "outputs": [],
   "source": [
    "def estimator(x, dips, layers, sol, sig_z = 1., a = 6., alpha = 1, verbose = 0):\n",
    "    x = np.asarray(x).reshape(1,-1)\n",
    "    dips = np.asarray(dips)\n",
    "    layers = np.asarray(layers)\n",
    "    n = 0\n",
    "    m = len(dips)\n",
    "   # print layers\n",
    " #   print x.reshape(1,-1), dips\n",
    "    r_i = me.euclidean_distances(dips,x)\n",
    "    hx = h_f_GI(dips, x, \"x\")\n",
    "    Cov_d1 = cov_cubic_d1_f(r_i)\n",
    "    KzGx =  sol[:m] * np.squeeze(alpha * sig_z / a**2 * hx / r_i * Cov_d1)\n",
    "    hy = h_f_GI(dips, x, \"y\")\n",
    "    KzGy =  sol[m:2*m] * np.squeeze(alpha * sig_z / a**2 * hy / r_i * Cov_d1)\n",
    "    \n",
    "    for s in range(len(layers)):\n",
    "        n += len(layers[s][1:])\n",
    "        a = cov_cubic_layer(x, layers[s][1:])\n",
    "        b = cov_cubic_layer(x, layers[s][0].reshape(1,-1))\n",
    "        # print a,b\n",
    "        if s == 0:\n",
    "            L = np.array(sol[2*m:2*m+n]*(a-b))\n",
    "        else:\n",
    "            L = np.hstack((L,sol[2*m+n2:2*m+n]*(a-b)))\n",
    "        n2 = n  \n",
    "    L = np.squeeze(L)\n",
    "   # print m,n\n",
    "    univ = (sol[2*m+n]*x[0,0]**2 + sol[2*m+n+1] * x[0,1]**2 \n",
    "            + sol[2*m+n+2]* x[0,0]*x[0,1] \n",
    "           + sol[2*m+n+3] * x[0,0]\n",
    "           + sol[2*m+n+4] * x[0,1])\n",
    "    \n",
    "    if verbose != 0:\n",
    "        print KzGx, KzGy, L, univ\n",
    "    z_star = np.sum(KzGx)+np.sum(KzGy)+np.sum(L)+univ\n",
    "    return z_star"
   ]
  },
  {
   "cell_type": "code",
   "execution_count": null,
   "metadata": {
    "collapsed": true
   },
   "outputs": [],
   "source": []
  },
  {
   "cell_type": "code",
   "execution_count": null,
   "metadata": {
    "collapsed": true
   },
   "outputs": [],
   "source": [
    "#========================================\n",
    "#THE INTERACTION GRADIENTS/INTERFACES\n",
    "\n",
    "def h_f_GI(dips, layers, direct):\n",
    "    if direct == \"x\":\n",
    "        return (np.subtract.outer(dips[:,0],layers[:,0]))\n",
    "    if direct == \"y\":\n",
    "        return (np.subtract.outer(dips[:,1],layers[:,1]))\n",
    "    \n",
    "def C_GI(dips,layers,  sig_z = 1., a = 6., alpha = 14, verbose = 0):\n",
    "    dips = np.asarray(dips)\n",
    "    layers = np.asarray(layers)\n",
    "    for k in range(len(layers)):\n",
    "        for i in \"xy\":\n",
    "            r = me.euclidean_distances(dips,layers[k])\n",
    "            h1 = h_f_GI(dips,layers[k], i)\n",
    "           \n",
    "            Cov_d1 = cov_cubic_d1_f(r)\n",
    "            if verbose != 0:\n",
    "                print \"dips\", dips\n",
    "                print \"layers\", layers\n",
    "                print \"h1\", h1, h1[:,0]\n",
    "                print \"\"\n",
    "                print \"r\", r, r[:,0]\n",
    "                print \"\"\n",
    "                print \"Cov_d1\", Cov_d1\n",
    "            if i == \"x\":\n",
    "                cov_1 = alpha * sig_z / a**2 * h1[:,0] / r[:,0] * Cov_d1[:,0]\n",
    "                cov_j = alpha * sig_z / a**2 * h1[:,1:] / r[:,1:] * Cov_d1[:,1:]\n",
    "               # C_GI_row = alpha * sig_z / a**2 * h1 / r * Cov_d1\n",
    "                #print \"cov_j, cov_1\", cov_j, cov_1.reshape(-1,1)\n",
    "             #   pdb.set_trace()\n",
    "                C_GI_row = cov_j.transpose()-cov_1#.transpose()\n",
    "            else:\n",
    "                cov_1 = alpha * sig_z / a**2 * h1[:,0] / r[:,0] * Cov_d1[:,0]\n",
    "                cov_j = alpha * sig_z / a**2 * h1[:,1:] / r[:,1:] * Cov_d1[:,1:]\n",
    "                #C_GI_row = np.hstack((C_GI_row,\n",
    "               # alpha * sig_z / a**2 * h1 / r * Cov_d1))\n",
    "                #pdb.set_trace()\n",
    "                C_GI_row = np.hstack((C_GI_row, cov_j.transpose()-cov_1))\n",
    "                #.reshape(-1,1)))\n",
    "        if k==0:\n",
    "            C_GI = C_GI_row\n",
    "        else:\n",
    "            #pdb.set_trace()\n",
    "            C_GI = np.vstack((C_GI,C_GI_row))\n",
    "            \n",
    "    return C_GI"
   ]
  }
 ],
 "metadata": {
  "anaconda-cloud": {},
  "kernelspec": {
   "display_name": "Python [Root]",
   "language": "python",
   "name": "Python [Root]"
  },
  "language_info": {
   "codemirror_mode": {
    "name": "ipython",
    "version": 3
   },
   "file_extension": ".py",
   "mimetype": "text/x-python",
   "name": "python",
   "nbconvert_exporter": "python",
   "pygments_lexer": "ipython3",
   "version": "3.5.2"
  }
 },
 "nbformat": 4,
 "nbformat_minor": 0
}
