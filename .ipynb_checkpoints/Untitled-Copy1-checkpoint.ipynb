{
 "cells": [
  {
   "cell_type": "code",
   "execution_count": 193,
   "metadata": {
    "collapsed": false
   },
   "outputs": [],
   "source": [
    "import importlib\n",
    "import theano.tensor as T\n",
    "import sys, os\n",
    "sys.path.append(\"/home/bl3/PycharmProjects/GeMpy/\")\n",
    "#importlib.reload(GeoMig)\n",
    "importlib.reload(GeoMig)\n",
    "import numpy as np"
   ]
  },
  {
   "cell_type": "code",
   "execution_count": 194,
   "metadata": {
    "collapsed": false
   },
   "outputs": [],
   "source": [
    "layer_1 = np.array([[1.,7],[5,7],[6,7], [9,8]], dtype = \"float32\")\n",
    "\n",
    "layer_2 = np.array([[1,1],[5,1],[9,1]], dtype = \"float32\")\n"
   ]
  },
  {
   "cell_type": "code",
   "execution_count": 195,
   "metadata": {
    "collapsed": false
   },
   "outputs": [
    {
     "data": {
      "text/plain": [
       "array([[ 1.,  7.],\n",
       "       [ 5.,  7.],\n",
       "       [ 6.,  7.],\n",
       "       [ 9.,  8.]], dtype=float32)"
      ]
     },
     "execution_count": 195,
     "metadata": {},
     "output_type": "execute_result"
    }
   ],
   "source": [
    "layer_1"
   ]
  },
  {
   "cell_type": "code",
   "execution_count": 174,
   "metadata": {
    "collapsed": false
   },
   "outputs": [],
   "source": [
    "test = GeoMig.GeoPyMCSim([layer_1,layer_2])"
   ]
  },
  {
   "cell_type": "code",
   "execution_count": 189,
   "metadata": {
    "collapsed": false
   },
   "outputs": [
    {
     "name": "stderr",
     "output_type": "stream",
     "text": [
      "Function profiling\n",
      "==================\n",
      "  Message: /home/bl3/PycharmProjects/GeMpy/GeoMig.py:32\n",
      "  Time in 0 calls to Function.__call__: 0.000000e+00s\n",
      "  Total compile time: 2.902853e-01s\n",
      "    Number of Apply nodes: 13\n",
      "    Theano Optimizer time: 7.398391e-02s\n",
      "       Theano validate time: 8.304119e-04s\n",
      "    Theano Linker time (includes C, CUDA code generation/compiling): 1.223779e-02s\n",
      "       Import time 0.000000e+00s\n",
      "\n",
      "Time in all call to theano.grad() 0.000000e+00s\n",
      "Time since theano import 186865.131s\n",
      "Here are tips to potentially make your code run faster\n",
      "                 (if you think of new ones, suggest them on the mailing list).\n",
      "                 Test them first, as they are not guaranteed to always provide a speedup.\n",
      "  - Try the Theano flag floatX=float32\n"
     ]
    }
   ],
   "source": [
    "test.euclidian_distances()\n",
    "test._euclidian_distances.profile.summary()"
   ]
  },
  {
   "cell_type": "code",
   "execution_count": 188,
   "metadata": {
    "collapsed": false
   },
   "outputs": [
    {
     "data": {
      "text/plain": [
       "array([[ 0.        ,  4.        ,  5.        ,  8.06225777],\n",
       "       [ 4.        ,  0.        ,  1.        ,  4.12310553],\n",
       "       [ 5.        ,  1.        ,  0.        ,  3.1622777 ],\n",
       "       [ 8.06225777,  4.12310553,  3.1622777 ,  0.        ]], dtype=float32)"
      ]
     },
     "execution_count": 188,
     "metadata": {},
     "output_type": "execute_result"
    }
   ],
   "source": [
    "test._euclidian_distances(layer_1,layer_1)"
   ]
  },
  {
   "cell_type": "code",
   "execution_count": 197,
   "metadata": {
    "collapsed": false
   },
   "outputs": [
    {
     "data": {
      "text/plain": [
       "array([[ 1.87105624,  1.77585948,  0.98731907,  0.        ,  0.        ],\n",
       "       [ 1.77585948,  1.98942794,  1.19742207,  0.        ,  0.        ],\n",
       "       [ 0.98731907,  1.19742207,  2.        ,  0.        ,  0.        ],\n",
       "       [ 0.        ,  0.        ,  0.        ,  1.87105624,  1.        ],\n",
       "       [ 0.        ,  0.        ,  0.        ,  1.        ,  2.        ]])"
      ]
     },
     "execution_count": 197,
     "metadata": {},
     "output_type": "execute_result"
    }
   ],
   "source": [
    "test.C_I()"
   ]
  },
  {
   "cell_type": "code",
   "execution_count": 200,
   "metadata": {
    "collapsed": false
   },
   "outputs": [
    {
     "data": {
      "text/plain": [
       "scratchpad{}"
      ]
     },
     "execution_count": 200,
     "metadata": {},
     "output_type": "execute_result"
    }
   ],
   "source": [
    "theano.printing."
   ]
  },
  {
   "cell_type": "code",
   "execution_count": 169,
   "metadata": {
    "collapsed": false
   },
   "outputs": [
    {
     "name": "stderr",
     "output_type": "stream",
     "text": [
      "Function profiling\n",
      "==================\n",
      "  Message: /home/bl3/PycharmProjects/GeMpy/GeoMig.py:41\n",
      "  Time in 1 calls to Function.__call__: 9.632111e-05s\n",
      "  Time in Function.fn.__call__: 1.239777e-05s (12.871%)\n",
      "  Time in thunks: 5.006790e-06s (5.198%)\n",
      "  Total compile time: 3.385048e-01s\n",
      "    Number of Apply nodes: 2\n",
      "    Theano Optimizer time: 1.388860e-01s\n",
      "       Theano validate time: 8.323193e-04s\n",
      "    Theano Linker time (includes C, CUDA code generation/compiling): 3.312349e-03s\n",
      "       Import time 0.000000e+00s\n",
      "\n",
      "Time in all call to theano.grad() 0.000000e+00s\n",
      "Time since theano import 186639.174s\n",
      "Class\n",
      "---\n",
      "<% time> <sum %> <apply time> <time per call> <type> <#call> <#apply> <Class name>\n",
      "  57.1%    57.1%       0.000s       2.86e-06s     C        1       1   theano.tensor.elemwise.Elemwise\n",
      "  42.9%   100.0%       0.000s       2.15e-06s     C        1       1   theano.tensor.elemwise.DimShuffle\n",
      "   ... (remaining 0 Classes account for   0.00%(0.00s) of the runtime)\n",
      "\n",
      "Ops\n",
      "---\n",
      "<% time> <sum %> <apply time> <time per call> <type> <#call> <#apply> <Op name>\n",
      "  57.1%    57.1%       0.000s       2.86e-06s     C        1        1   Elemwise{Composite{(LT(i0, i1) * ((i2 + (i3 * Composite{(sqr(i0) * i0)}((i0 / i1))) + (i4 * Composite{((sqr(sqr(i0)) * sqr(i0)) * i0)}((i0 / i1)))) - ((i5 * sqr((i0 / i1))) + (i6 * Composite{(sqr(sqr(i0)) * i0)}((i0 / i1))))))}}\n",
      "  42.9%   100.0%       0.000s       2.15e-06s     C        1        1   InplaceDimShuffle{x,x}\n",
      "   ... (remaining 0 Ops account for   0.00%(0.00s) of the runtime)\n",
      "\n",
      "Apply\n",
      "------\n",
      "<% time> <sum %> <apply time> <time per call> <#call> <id> <Apply name>\n",
      "  57.1%    57.1%       0.000s       2.86e-06s      1     1   Elemwise{Composite{(LT(i0, i1) * ((i2 + (i3 * Composite{(sqr(i0) * i0)}((i0 / i1))) + (i4 * Composite{((sqr(sqr(i0)) * sqr(i0)) * i0)}((i0 / i1)))) - ((i5 * sqr((i0 / i1))) + (i6 * Composite{(sqr(sqr(i0)) * i0)}((i0 / i1))))))}}(distance, InplaceDimShuffle{x,x}.0, TensorConstant{(1, 1) of 1.0}, TensorConstant{(1, 1) of 8.75}, TensorConstant{(1, 1) of 0.75}, TensorConstant{(1, 1) of 7.0}, TensorConstant{(1, 1) of 3.5})\n",
      "  42.9%   100.0%       0.000s       2.15e-06s      1     0   InplaceDimShuffle{x,x}(a)\n",
      "   ... (remaining 0 Apply instances account for 0.00%(0.00s) of the runtime)\n",
      "\n",
      "Here are tips to potentially make your code run faster\n",
      "                 (if you think of new ones, suggest them on the mailing list).\n",
      "                 Test them first, as they are not guaranteed to always provide a speedup.\n",
      "  - Try the Theano flag floatX=float32\n"
     ]
    }
   ],
   "source": [
    "test._covariance_cubic.profile.summary()"
   ]
  },
  {
   "cell_type": "code",
   "execution_count": 170,
   "metadata": {
    "collapsed": false
   },
   "outputs": [
    {
     "ename": "SyntaxError",
     "evalue": "invalid syntax (<ipython-input-170-b51e3c322bd0>, line 1)",
     "output_type": "error",
     "traceback": [
      "\u001b[1;36m  File \u001b[1;32m\"<ipython-input-170-b51e3c322bd0>\"\u001b[1;36m, line \u001b[1;32m1\u001b[0m\n\u001b[1;33m    test._euclidian_distances.\u001b[0m\n\u001b[1;37m                              ^\u001b[0m\n\u001b[1;31mSyntaxError\u001b[0m\u001b[1;31m:\u001b[0m invalid syntax\n"
     ]
    }
   ],
   "source": [
    "test._euclidian_distances.profile"
   ]
  },
  {
   "cell_type": "code",
   "execution_count": null,
   "metadata": {
    "collapsed": true
   },
   "outputs": [],
   "source": []
  }
 ],
 "metadata": {
  "anaconda-cloud": {},
  "kernelspec": {
   "display_name": "Python [Root]",
   "language": "python",
   "name": "Python [Root]"
  },
  "language_info": {
   "codemirror_mode": {
    "name": "ipython",
    "version": 3
   },
   "file_extension": ".py",
   "mimetype": "text/x-python",
   "name": "python",
   "nbconvert_exporter": "python",
   "pygments_lexer": "ipython3",
   "version": "3.5.2"
  }
 },
 "nbformat": 4,
 "nbformat_minor": 0
}
