{
 "cells": [
  {
   "cell_type": "markdown",
   "metadata": {},
   "source": [
    "# Example 2: Simple model"
   ]
  },
  {
   "cell_type": "markdown",
   "metadata": {},
   "source": [
    "This notebook is a series of independent cells showing how to create a simple model from the beginning to the end using GeMpy"
   ]
  },
  {
   "cell_type": "markdown",
   "metadata": {},
   "source": [
    "### Importing dependencies"
   ]
  },
  {
   "cell_type": "code",
   "execution_count": 1,
   "metadata": {
    "ExecuteTime": {
     "end_time": "2016-11-24T13:28:15.833872",
     "start_time": "2016-11-24T13:28:13.229585"
    },
    "code_folding": [],
    "collapsed": false,
    "hide_input": false,
    "init_cell": true
   },
   "outputs": [],
   "source": [
    "# Importing\n",
    "import importlib\n",
    "import theano.tensor as T\n",
    "import sys, os\n",
    "sys.path.append(\"/home/bl3/PycharmProjects/GeMpy/GeMpy\")\n",
    "\n",
    "import pandas as pn\n",
    "\n",
    "import GeMpy_core\n",
    "import Visualization\n",
    "import numpy as np\n",
    "importlib.reload(GeMpy_core)\n",
    "os.environ['CUDA_LAUNCH_BLOCKING'] = '1'\n",
    "np.set_printoptions(precision = 4, linewidth= 300, suppress =  True)\n",
    "\n",
    "import matplotlib.pyplot as plt\n",
    "from matplotlib import cm\n",
    "\n",
    "from IPython.display import set_matplotlib_formats\n",
    "set_matplotlib_formats('pdf', 'png')\n",
    "plt.rcParams['savefig.dpi'] = 75\n",
    "plt.rcParams['figure.autolayout'] = False\n",
    "plt.rcParams['figure.figsize'] = 10, 6\n",
    "plt.rcParams['axes.labelsize'] = 18\n",
    "plt.rcParams['axes.titlesize'] = 20\n",
    "plt.rcParams['font.size'] = 16\n",
    "plt.rcParams['lines.linewidth'] = 2.0\n",
    "plt.rcParams['lines.markersize'] = 8\n",
    "plt.rcParams['legend.fontsize'] = 14\n",
    "\n",
    "import seaborn as sns\n",
    "\n",
    "# This sets reasonable defaults for font size for\n",
    "# a figure that will go in a paper\n",
    "sns.set_context(\"paper\")\n",
    "\n",
    "# Set the font to be serif, rather than sans\n",
    "sns.set(font='Arial')\n",
    "\n",
    "# Make the background white, and specify the\n",
    "# specific font family\n",
    "sns.set_style(\"white\")\n",
    "\n",
    "import qgrid\n",
    "qgrid.nbinstall(overwrite=True)  # copies javascript dependencies to your /nbextensions folder\n",
    "\n",
    "%matplotlib inline"
   ]
  },
  {
   "cell_type": "markdown",
   "metadata": {},
   "source": [
    "## Visualize data"
   ]
  },
  {
   "cell_type": "code",
   "execution_count": 2,
   "metadata": {
    "ExecuteTime": {
     "end_time": "2016-11-24T13:28:41.317933",
     "start_time": "2016-11-24T13:28:40.968096"
    },
    "code_folding": [
     60
    ],
    "collapsed": false,
    "hide_input": true,
    "init_cell": true,
    "scrolled": false
   },
   "outputs": [
    {
     "ename": "AttributeError",
     "evalue": "'DataManagement' object has no attribute 'interfaces'",
     "output_type": "error",
     "traceback": [
      "\u001b[1;31m---------------------------------------------------------------------------\u001b[0m",
      "\u001b[1;31mAttributeError\u001b[0m                            Traceback (most recent call last)",
      "\u001b[1;32m<ipython-input-2-b6a0cdf6c1ef>\u001b[0m in \u001b[0;36m<module>\u001b[1;34m()\u001b[0m\n\u001b[0;32m    113\u001b[0m \u001b[1;33m\u001b[0m\u001b[0m\n\u001b[0;32m    114\u001b[0m \u001b[1;31m# Plot and table\u001b[0m\u001b[1;33m\u001b[0m\u001b[1;33m\u001b[0m\u001b[0m\n\u001b[1;32m--> 115\u001b[1;33m \u001b[0mtest\u001b[0m\u001b[1;33m.\u001b[0m\u001b[0mPlot\u001b[0m\u001b[1;33m.\u001b[0m\u001b[0mplot_data\u001b[0m\u001b[1;33m(\u001b[0m\u001b[1;33m)\u001b[0m\u001b[1;33m\u001b[0m\u001b[0m\n\u001b[0m\u001b[0;32m    116\u001b[0m \u001b[0mannotate_plot\u001b[0m\u001b[1;33m(\u001b[0m\u001b[0mtest\u001b[0m\u001b[1;33m.\u001b[0m\u001b[0mData\u001b[0m\u001b[1;33m.\u001b[0m\u001b[0mInterfaces\u001b[0m\u001b[1;33m,\u001b[0m \u001b[1;34m'labels'\u001b[0m\u001b[1;33m,\u001b[0m\u001b[1;34m'X'\u001b[0m\u001b[1;33m,\u001b[0m \u001b[1;34m'Z'\u001b[0m\u001b[1;33m,\u001b[0m \u001b[0msize\u001b[0m \u001b[1;33m=\u001b[0m \u001b[1;34m'x-large'\u001b[0m\u001b[1;33m)\u001b[0m\u001b[1;33m\u001b[0m\u001b[0m\n\u001b[0;32m    117\u001b[0m \u001b[0mannotate_plot\u001b[0m\u001b[1;33m(\u001b[0m\u001b[0mtest\u001b[0m\u001b[1;33m.\u001b[0m\u001b[0mData\u001b[0m\u001b[1;33m.\u001b[0m\u001b[0mFoliations\u001b[0m\u001b[1;33m,\u001b[0m \u001b[1;34m'labels'\u001b[0m\u001b[1;33m,\u001b[0m\u001b[1;34m'X'\u001b[0m\u001b[1;33m,\u001b[0m \u001b[1;34m'Z'\u001b[0m\u001b[1;33m,\u001b[0m \u001b[0msize\u001b[0m \u001b[1;33m=\u001b[0m \u001b[1;34m'x-large'\u001b[0m\u001b[1;33m)\u001b[0m\u001b[1;33m\u001b[0m\u001b[0m\n",
      "\u001b[1;32m/home/bl3/PycharmProjects/GeMpy/GeMpy/Visualization.py\u001b[0m in \u001b[0;36mplot_data\u001b[1;34m(self, direction, series, **kwargs)\u001b[0m\n\u001b[0;32m     69\u001b[0m \u001b[1;33m\u001b[0m\u001b[0m\n\u001b[0;32m     70\u001b[0m         \u001b[1;32mif\u001b[0m \u001b[0mseries\u001b[0m \u001b[1;33m==\u001b[0m \u001b[1;34m\"all\"\u001b[0m\u001b[1;33m:\u001b[0m\u001b[1;33m\u001b[0m\u001b[0m\n\u001b[1;32m---> 71\u001b[1;33m             series_to_plot_i = self._data.interfaces[self._data.interfaces[\"series\"].\n\u001b[0m\u001b[0;32m     72\u001b[0m                 isin(self._data.series.columns.values)]\n\u001b[0;32m     73\u001b[0m             series_to_plot_f = self._data.foliations[self._data.foliations[\"series\"].\n",
      "\u001b[1;31mAttributeError\u001b[0m: 'DataManagement' object has no attribute 'interfaces'"
     ]
    }
   ],
   "source": [
    "# Setting extend, grid and compile\n",
    "# Setting the extent\n",
    "test = GeMpy_core.GeMpy()\n",
    "test.import_data([0,10,0,10,0,10])\n",
    "\n",
    "# =========================\n",
    "# DATA GENERATION IN PYTHON\n",
    "# =========================\n",
    "# Layers coordinates\n",
    "layer_1 = np.array([[0.5,4,7], [2,4,6.5], [4,4,7], [5,4,6]])#-np.array([5,5,4]))/8+0.5\n",
    "layer_2 = np.array([[3,4,5], [6,4,4],[8,4,4], [7,4,3], [1,4,6]])\n",
    "layers = np.asarray([layer_1,layer_2])\n",
    "\n",
    "# Foliations coordinates\n",
    "dip_pos_1 = np.array([7,4,7])#- np.array([5,5,4]))/8+0.5\n",
    "dip_pos_2 = np.array([2.,4,4])\n",
    "\n",
    "# Dips\n",
    "dip_angle_1 = float(15)\n",
    "dip_angle_2 = float(340)\n",
    "dips_angles = np.asarray([dip_angle_1, dip_angle_2], dtype=\"float64\")\n",
    "\n",
    "# Azimuths\n",
    "azimuths = np.asarray([90,90], dtype=\"float64\")\n",
    "\n",
    "# Polarity\n",
    "polarity = np.asarray([1,1], dtype=\"float64\")\n",
    "\n",
    "# Pandas Dataframe with the interfaces data\n",
    "test.Data.Interfaces = pn.DataFrame(\n",
    "    data = {\"X\" :np.append(layer_1[:, 0],layer_2[:,0]),\n",
    "            \"Y\" :np.append(layer_1[:, 1],layer_2[:,1]),\n",
    "            \"Z\" :np.append(layer_1[:, 2],layer_2[:,2]),\n",
    "            \"formation\" : np.append(\n",
    "               np.tile(\"Layer 1\", len(layer_1)), \n",
    "               np.tile(\"Layer 2\", len(layer_2)))})\n",
    "\n",
    "# Pandas Dataframe with the Foliations data\n",
    "test.Data.Foliations =   pn.DataFrame(\n",
    "    data = {\"X\" :np.append(dip_pos_1[0],dip_pos_2[0]),\n",
    "            \"Y\" :np.append(dip_pos_1[ 1],dip_pos_2[1]),\n",
    "            \"Z\" :np.append(dip_pos_1[ 2],dip_pos_2[2]),\n",
    "            \"azimuth\" : azimuths,\n",
    "            \"dip\" : dips_angles,\n",
    "            \"polarity\" : polarity,\n",
    "            \"formation\" : [\"Layer 1\", \"Layer 2\"]})\n",
    "\n",
    "# Creation of the formations (to be deprecated)\n",
    "test.Data.formations = test.Data.Interfaces[\"formation\"].unique()\n",
    "\n",
    "# Calculation of the pola gradient from dip azimuth and polarity\n",
    "test.Data.calculate_gradient()\n",
    "\n",
    "# Set defautl series\n",
    "test.Data.set_series()\n",
    "\n",
    "# Method to be sure all objects get updated\n",
    "test.update_data()\n",
    "\n",
    "\n",
    "# The following code is for the visualization of labels of the input data (yet to be implemented)\n",
    "# ----------------------------------------------------------------------------------------------\n",
    "def annotate_plot(frame, label_col, x, y, **kwargs):\n",
    "    \"\"\"\n",
    "    Annotate the plot of a given DataFrame using one of its columns\n",
    "\n",
    "    Should be called right after a DataFrame or series plot method,\n",
    "    before telling matplotlib to show the plot.\n",
    "\n",
    "    Parameters\n",
    "    ----------\n",
    "    frame : pandas.DataFrame\n",
    "\n",
    "    plot_col : str\n",
    "        The string identifying the column of frame that was plotted\n",
    "\n",
    "    label_col : str\n",
    "        The string identifying the column of frame to be used as label\n",
    "\n",
    "    kwargs:\n",
    "        Other key-word args that should be passed to plt.annotate\n",
    "\n",
    "    Returns\n",
    "    -------\n",
    "    None\n",
    "\n",
    "    Notes\n",
    "    -----\n",
    "    After calling this function you should call plt.show() to get the\n",
    "    results. This function only adds the annotations, it doesn't show\n",
    "    them.\n",
    "    \"\"\"\n",
    "    import matplotlib.pyplot as plt  # Make sure we have pyplot as plt\n",
    "\n",
    "    for label, x, y in zip(frame[label_col], frame[x], frame[y]):\n",
    "        plt.annotate(label, xy=(x+0.2, y+0.15), **kwargs)\n",
    "        \n",
    "inter_labels =[r'${\\bf{x}}_{\\alpha \\, 0}^1$',\n",
    "               r'${\\bf{x}}_{\\alpha \\, 1}^1$',\n",
    "               r'${\\bf{x}}_{\\alpha \\, 2}^1$',\n",
    "               r'${\\bf{x}}_{\\alpha \\, 3}^1$',\n",
    "               r'${\\bf{x}}_{\\alpha \\, 0}^2$',\n",
    "               r'${\\bf{x}}_{\\alpha \\, 1}^2$',\n",
    "               r'${\\bf{x}}_{\\alpha \\, 2}^2$',\n",
    "               r'${\\bf{x}}_{\\alpha \\, 3}^2$',\n",
    "               r'${\\bf{x}}_{\\alpha \\, 4}^2$']              \n",
    "        \n",
    "foli_labels =[r'${\\bf{x}}_{\\beta \\,{0}}$',\n",
    "              r'${\\bf{x}}_{\\beta \\,{1}}$']        \n",
    "\n",
    "test.Data.Interfaces['labels'] = pn.Series(inter_labels)\n",
    "test.Data.Foliations['labels'] = pn.Series(foli_labels)\n",
    "\n",
    "# Plot and table\n",
    "test.Plot.plot_data()\n",
    "annotate_plot(test.Data.Interfaces, 'labels','X', 'Z', size = 'x-large')\n",
    "annotate_plot(test.Data.Foliations, 'labels','X', 'Z', size = 'x-large')\n",
    "\n",
    "\n",
    "test.Data.Interfaces"
   ]
  },
  {
   "cell_type": "markdown",
   "metadata": {},
   "source": [
    "### Interactive pandas Dataframe\n",
    "\n",
    "Using qgrid it is possible to modify the tables in place as following:"
   ]
  },
  {
   "cell_type": "code",
   "execution_count": 20,
   "metadata": {
    "collapsed": false
   },
   "outputs": [
    {
     "name": "stderr",
     "output_type": "stream",
     "text": [
      "Widget Javascript not detected.  It may not be installed properly. Did you enable the widgetsnbextension? If not, then run \"jupyter nbextension enable --py --sys-prefix widgetsnbextension\"\n"
     ]
    }
   ],
   "source": [
    "import qgrid\n",
    "qgrid.show_grid(test.Data.Interfaces)"
   ]
  },
  {
   "cell_type": "markdown",
   "metadata": {},
   "source": [
    "## Grid and potential field\n",
    "\n",
    "We can see the potential field generated out of the data above"
   ]
  },
  {
   "cell_type": "code",
   "execution_count": null,
   "metadata": {
    "collapsed": false,
    "hide_input": true,
    "init_cell": true
   },
   "outputs": [],
   "source": [
    "test.create_grid()\n",
    "test.set_interpolator(u_grade=0, verbose = 0)\n",
    "test.Plot.plot_potential_field(4, direction='y', colorbar = True, cmap = 'magma')\n",
    "#test.Interpolator.DK;"
   ]
  },
  {
   "cell_type": "code",
   "execution_count": null,
   "metadata": {
    "code_folding": [
     2,
     8,
     14,
     19,
     38,
     56,
     81,
     104
    ],
    "collapsed": true,
    "hide_input": false,
    "init_cell": true
   },
   "outputs": [],
   "source": [
    "from ipywidgets import widgets\n",
    "from ipywidgets import interact\n",
    "def cov_cubic_f(r,a = 6, c_o = 1):\n",
    "    if r <= a:\n",
    "        return c_o*(1-7*(r/a)**2+35/4*(r/a)**3-7/2*(r/a)**5+3/4*(r/a)**7)\n",
    "    else:\n",
    "        return 0\n",
    "    \n",
    "def cov_cubic_d1_f(r,a = 6., c_o = 1):\n",
    "    SED_dips_dips = r\n",
    "    f = c_o\n",
    "    return  (f * ((-14 /a ** 2) + 105 / 4 * SED_dips_dips / a ** 3 -\n",
    "            35 / 2 * SED_dips_dips ** 3 / a ** 5 + 21 / 4 * SED_dips_dips ** 5 / a ** 7))\n",
    "\n",
    "def cov_cubic_d2_f(r, a = 6, c_o = 1):\n",
    "    SED_dips_dips = r\n",
    "    f = c_o\n",
    "    return 7*f*(9*r**5-20*a**2*r**3+15*a**4*r-4*a**5)/(2*a**7)\n",
    "\n",
    "def plot_potential_var(a = 10, c_o = 1, nugget_effect = 0):\n",
    "    x = np.linspace(0,12,50)\n",
    "    y = [cov_cubic_f(i, a = a, c_o = c_o) for i in x]\n",
    "    \n",
    "    fig = plt.figure()\n",
    "    ax1 = fig.add_subplot(121)\n",
    "    ax1.plot(x,c_o-np.asarray(y)+nugget_effect)\n",
    "    plt.hlines(0,0,12, linestyles = \"--\")\n",
    "    plt.title(\"Variogram\")\n",
    "    plt.margins(0,0.1)\n",
    "    \n",
    "    ax2 = fig.add_subplot(122)\n",
    "    ax2.plot(x,np.asarray(y))\n",
    "    ax2.scatter(0,nugget_effect+c_o)\n",
    "    plt.title(\"Covariance Function\")\n",
    "    plt.tight_layout()\n",
    "    plt.margins(0,0.1)\n",
    "    plt.suptitle('$C_Z(r)$', y = 1.08, fontsize=15, fontweight='bold')\n",
    "\n",
    "def plot_potential_direction_var( a = 10, c_o = 1, nugget_effect = 0):\n",
    "    x = np.linspace(0,12,50)\n",
    "    y = np.asarray([cov_cubic_d1_f(i, a = a, c_o = c_o) for i in x])\n",
    "    \n",
    "    fig = plt.figure()\n",
    "    ax1 = fig.add_subplot(121)\n",
    "    ax1.plot(x,c_o-np.asarray(y)+nugget_effect)\n",
    "    plt.title(\"Variogram\")\n",
    "    plt.margins(0,0.1)\n",
    "    \n",
    "    ax2 = fig.add_subplot(122)\n",
    "    ax2.plot(x,np.asarray(y))\n",
    "    #ax2.scatter(0,c_o)\n",
    "    plt.title(\"Cross-Covariance Function\")\n",
    "    plt.tight_layout()\n",
    "    plt.margins(0,0.1)\n",
    "    plt.suptitle('$C\\'_Z / r$', y = 1.08, fontsize=15, fontweight='bold')    \n",
    "\n",
    "def plot_directionU_directionU_var(a = 10, c_o = 1, nugget_effect = 0):\n",
    "    \n",
    "    x = np.linspace(0.01,12,50)\n",
    "    d1 = np.asarray([cov_cubic_d1_f(i, a = a, c_o = c_o) for i in x])\n",
    "    d2 = np.asarray([cov_cubic_d2_f(i, a = a, c_o = c_o) for i in x])\n",
    "    \n",
    "    y = -(d2) # (0.5*x**2)/(x**2)*\n",
    "    \n",
    "    fig = plt.figure()\n",
    "    ax1 = fig.add_subplot(121)\n",
    "    ax1.plot(x,c_o-np.asarray(y)+nugget_effect)\n",
    "\n",
    "    plt.title(\"Variogram\")\n",
    "    plt.margins(0,0.1)\n",
    "    \n",
    "    ax2 = fig.add_subplot(122)\n",
    "    ax2.plot(x,np.asarray(y))\n",
    "    ax2.scatter(0,nugget_effect+y[0], s = 20)\n",
    "\n",
    "    plt.title(\"Covariance Function\")\n",
    "    plt.tight_layout()\n",
    "    plt.margins(0,0.1)\n",
    "    plt.suptitle('$C_{\\partial {Z}/ \\partial x, \\, \\partial {Z}/ \\partial x}(h_x)$'\n",
    "                 , y = 1.08, fontsize=15)\n",
    "    \n",
    "def plot_directionU_directionV_var(a = 10, c_o = 1, nugget_effect = 0):\n",
    "    x = np.linspace(0.01,12,50)\n",
    "    d1 = np.asarray([cov_cubic_d1_f(i, a = a, c_o = c_o) for i in x])\n",
    "    d2 = np.asarray([cov_cubic_d2_f(i, a = a, c_o = c_o) for i in x])\n",
    "    y = -(d2-d1) # (0.5*x**2)/(x**2)*\n",
    "    \n",
    "    fig = plt.figure()\n",
    "    ax1 = fig.add_subplot(121)\n",
    "    ax1.plot(x,c_o-np.asarray(y)+nugget_effect)\n",
    "\n",
    "    plt.title(\"Variogram\")\n",
    "    plt.margins(0,0.1)\n",
    "    \n",
    "    ax2 = fig.add_subplot(122)\n",
    "    ax2.plot(x,np.asarray(y))\n",
    "    ax2.scatter(0,nugget_effect+y[0], s = 20)\n",
    "    plt.title(\"Covariance Function\")\n",
    "    plt.tight_layout()\n",
    "    plt.margins(0,0.1)\n",
    "    plt.suptitle('$C_{\\partial {Z}/ \\partial x, \\, \\partial {Z}/ \\partial y}(h_x,h_y)$'\n",
    "                 , y = 1.08, fontsize=15)\n",
    "    \n",
    "\n",
    "def plot_all(a = 10, c_o = 1, nugget_effect = 0):\n",
    "    \n",
    "    \n",
    "    plot_potential_direction_var(a, c_o, nugget_effect)\n",
    "    plot_directionU_directionU_var(a, c_o, nugget_effect)\n",
    "    plot_directionU_directionV_var(a, c_o, nugget_effect)"
   ]
  },
  {
   "cell_type": "markdown",
   "metadata": {},
   "source": [
    "## From potential field to block"
   ]
  },
  {
   "cell_type": "markdown",
   "metadata": {},
   "source": [
    "The potential field describe the deposition form and direction of a basin. However, in most scenarios the real goal of structural modeling is the segmentation in layers of areas with significant change of properties (e.g. shales and carbonates). Since we need to provide at least one point per interface, we can easily compute the value of the potential field at the intersections between two layers. Therefore, by simple comparison between a concrete value of the potential field and the values of the interfaces it is possible to segment the domain into layers Fig X. "
   ]
  },
  {
   "cell_type": "code",
   "execution_count": null,
   "metadata": {
    "collapsed": false,
    "hide_input": true,
    "init_cell": true,
    "scrolled": true
   },
   "outputs": [],
   "source": [
    "test.Interpolator.compute_block_model()\n",
    "test.Plot.plot_block_section()"
   ]
  },
  {
   "cell_type": "markdown",
   "metadata": {},
   "source": [
    "### Combining potential fields: Depositional series"
   ]
  },
  {
   "cell_type": "markdown",
   "metadata": {},
   "source": [
    "In reality, most geological settings are formed by a concatenation of depositional phases separated clearly by unconformity bounderies. Each of these phases can be model by a potential field. In order to capture this behavior, we can classify the formations that belong to individual depositional phase into categories or series. The potential field computed for each of these series could be seen as a sort of evolution of the basin if an unconformity did not occur. Finally, sorting the temporal relation between series allow to superpose the corresponding potential field at an specific location.\n",
    "\n",
    "In the next example, we add a new serie consisting in a layer---'Layer 3'--- Fig X, which generate the potential field of Fig X and subsequently the block Figure X."
   ]
  },
  {
   "cell_type": "code",
   "execution_count": null,
   "metadata": {
    "collapsed": false,
    "hide_input": false,
    "init_cell": true
   },
   "outputs": [],
   "source": [
    "# Setting extend, grid and compile\n",
    "# Setting the extent\n",
    "two_pot = GeMpy_core.GeMpy()\n",
    "two_pot.import_data([0,10,0,10,0,10])\n",
    "\n",
    "\n",
    "# Data Generation\n",
    "layer_1 = np.array([[0.5,4,7], [2,4,6.5], [4,4,7], [5,4,6]])#-np.array([5,5,4]))/8+0.5\n",
    "layer_2 = np.array([[3,4,5], [6,4,4],[8,4,4], [7,4,3], [1,4,6]])\n",
    "layer_3 = np.array([[2,4,3], [8,4,2], [9,4,3]])\n",
    "\n",
    "dip_pos_1 = np.array([7,4,7])#- np.array([5,5,4]))/8+0.5\n",
    "dip_pos_2 = np.array([2.,4,4])\n",
    "dip_pos_3 = np.array([1,4,1])\n",
    "\n",
    "dip_angle_1 = float(15)\n",
    "dip_angle_2 = float(340)\n",
    "dip_angle_3 = float(80)\n",
    "\n",
    "dips_angles = np.asarray([dip_angle_1, dip_angle_2, dip_angle_3], dtype=\"float64\")\n",
    "layers = np.asarray([layer_1,layer_2, layer_3])\n",
    "azimuths = np.asarray([90,90, 90], dtype=\"float64\")\n",
    "polarity = np.asarray([1,1, 1], dtype=\"float64\")\n",
    "\n",
    "two_pot.Data.Interfaces = pn.DataFrame(data = {\"X\" :np.hstack((layer_1[:, 0],layer_2[:,0], layer_3[:,0])),\n",
    "                                               \"Y\" :np.hstack((layer_1[:, 1],layer_2[:,1], layer_3[:,1])),\n",
    "                                               \"Z\" :np.hstack((layer_1[:, 2],layer_2[:,2], layer_3[:,2])),\n",
    "\"formation\" : np.hstack((np.tile(\"Layer 1\", len(layer_1)), np.tile(\"Layer 2\", len(layer_2)),\n",
    "                        np.tile(\"Layer 3\", len(layer_3))))})\n",
    "two_pot.Data.Foliations =   pn.DataFrame(data = {\"X\" :np.hstack((dip_pos_1[0], dip_pos_2[0], dip_pos_3[0])),\n",
    "                                                 \"Y\" :np.hstack((dip_pos_1[ 1],dip_pos_2[1], dip_pos_3[1])),\n",
    "                                                 \"Z\" :np.hstack((dip_pos_1[ 2],dip_pos_2[2], dip_pos_3[2])),\n",
    "                                         \"azimuth\" : azimuths,\n",
    "                                         \"dip\" : dips_angles,\n",
    "                                         \"polarity\" : polarity,\n",
    "\"formation\" : [\"Layer 1\", \"Layer 2\", 'Layer 3']})\n",
    "\n",
    "inter_labels =[r'${\\bf{x}}_{\\alpha \\, 0}^1$',\n",
    "               r'${\\bf{x}}_{\\alpha \\, 1}^1$',\n",
    "               r'${\\bf{x}}_{\\alpha \\, 2}^1$',\n",
    "               r'${\\bf{x}}_{\\alpha \\, 3}^1$',\n",
    "               r'${\\bf{x}}_{\\alpha \\, 0}^2$',\n",
    "               r'${\\bf{x}}_{\\alpha \\, 1}^2$',\n",
    "               r'${\\bf{x}}_{\\alpha \\, 2}^2$',\n",
    "               r'${\\bf{x}}_{\\alpha \\, 3}^2$',\n",
    "               r'${\\bf{x}}_{\\alpha \\, 4}^2$',\n",
    "               r'${\\bf{x}}_{\\alpha \\, 0}^1$',\n",
    "               r'${\\bf{x}}_{\\alpha \\, 1}^1$',\n",
    "               r'${\\bf{x}}_{\\alpha \\, 2}^1$']              \n",
    "        \n",
    "foli_labels =[r'${\\bf{x}}_{\\beta \\,{0}}$',\n",
    "              r'${\\bf{x}}_{\\beta \\,{1}}$',\n",
    "              r'${\\bf{x}}_{\\beta \\,{0}}$']\n",
    "\n",
    "two_pot.Data.Interfaces['labels'] = pn.Series(inter_labels)\n",
    "two_pot.Data.Foliations['labels'] = pn.Series(foli_labels)\n",
    "\n",
    "two_pot.Data.formations = two_pot.Data.Interfaces[\"formation\"].unique()\n",
    "two_pot.Data.calculate_gradient()\n",
    "two_pot.Data.set_series({'younger': ('Layer 1', 'Layer 2'),\n",
    "                         'older': 'Layer 3'}, order = ['younger', 'older'])\n",
    "two_pot.update_data()\n",
    "\n",
    "\n",
    "def annotate_plot(frame, label_col, x, y, **kwargs):\n",
    "    \"\"\"\n",
    "    Annotate the plot of a given DataFrame using one of its columns\n",
    "\n",
    "    Should be called right after a DataFrame or series plot method,\n",
    "    before telling matplotlib to show the plot.\n",
    "\n",
    "    Parameters\n",
    "    ----------\n",
    "    frame : pandas.DataFrame\n",
    "\n",
    "    plot_col : str\n",
    "        The string identifying the column of frame that was plotted\n",
    "\n",
    "    label_col : str\n",
    "        The string identifying the column of frame to be used as label\n",
    "\n",
    "    kwargs:\n",
    "        Other key-word args that should be passed to plt.annotate\n",
    "\n",
    "    Returns\n",
    "    -------\n",
    "    None\n",
    "\n",
    "    Notes\n",
    "    -----\n",
    "    After calling this function you should call plt.show() to get the\n",
    "    results. This function only adds the annotations, it doesn't show\n",
    "    them.\n",
    "    \"\"\"\n",
    "    import matplotlib.pyplot as plt  # Make sure we have pyplot as plt\n",
    "\n",
    "    for label, x, y in zip(frame[label_col], frame[x], frame[y]):\n",
    "        plt.annotate(label, xy=(x+0.2, y+0.15), **kwargs)\n",
    "\n",
    "        \n",
    "serie_to_plot = 'older'        \n",
    "two_pot.Plot.plot_data(series = serie_to_plot)\n",
    "annotate_plot(two_pot.Data.Interfaces[two_pot.Data.Interfaces['series'] == serie_to_plot]\n",
    "              , 'labels','X', 'Z', size = 'x-large')\n",
    "annotate_plot(two_pot.Data.Foliations[two_pot.Data.Foliations['series'] == serie_to_plot],\n",
    "              'labels','X', 'Z', size = 'x-large')\n",
    "\n",
    "two_pot.create_grid()\n",
    "two_pot.set_interpolator(u_grade=0, verbose = 0)"
   ]
  },
  {
   "cell_type": "markdown",
   "metadata": {},
   "source": [
    "This potential field gives the following block"
   ]
  },
  {
   "cell_type": "code",
   "execution_count": null,
   "metadata": {
    "collapsed": false,
    "hide_input": false,
    "init_cell": true
   },
   "outputs": [],
   "source": [
    "two_pot.Plot.plot_potential_field(4, n_pf=1, direction='y', colorbar = True, cmap = 'magma')"
   ]
  },
  {
   "cell_type": "code",
   "execution_count": 15,
   "metadata": {
    "collapsed": false
   },
   "outputs": [
    {
     "data": {
      "image/png": "[encoded data removed]",
      "text/plain": [
       "<matplotlib.figure.Figure at 0x7f2cb8020978>"
      ]
     },
     "metadata": {},
     "output_type": "display_data"
    }
   ],
   "source": [
    "# Reset the block\n",
    "two_pot.Interpolator.block.set_value(np.zeros_like(two_pot.Grid.grid[:,0]))\n",
    "\n",
    "two_pot.Interpolator.compute_block_model(series_number=[1])\n",
    "two_pot.Plot.plot_block_section()"
   ]
  },
  {
   "cell_type": "markdown",
   "metadata": {},
   "source": [
    "Combining both potential field where the first potential field is younger than the second we can obtain the following structure."
   ]
  },
  {
   "cell_type": "code",
   "execution_count": 16,
   "metadata": {
    "collapsed": false
   },
   "outputs": [
    {
     "data": {
      "image/png": "[encoded data removed]",
      "text/plain": [
       "<matplotlib.figure.Figure at 0x7f2cb80cf940>"
      ]
     },
     "metadata": {},
     "output_type": "display_data"
    }
   ],
   "source": [
    "# Reset the block\n",
    "two_pot.Interpolator.block.set_value(np.zeros_like(two_pot.Grid.grid[:,0]))\n",
    "\n",
    "two_pot.Interpolator.compute_block_model(series_number=[0,1])\n",
    "two_pot.Plot.plot_block_section()"
   ]
  },
  {
   "cell_type": "markdown",
   "metadata": {},
   "source": [
    "## Side note: Example of covariances involved in the cokriging system"
   ]
  },
  {
   "cell_type": "code",
   "execution_count": 21,
   "metadata": {
    "collapsed": false,
    "hide_input": true
   },
   "outputs": [
    {
     "data": {
      "image/png": "[encoded data removed]",
      "text/plain": [
       "<matplotlib.figure.Figure at 0x7f2cb3f45b70>"
      ]
     },
     "metadata": {},
     "output_type": "display_data"
    },
    {
     "data": {
      "image/png": "[encoded data removed]",
      "text/plain": [
       "<matplotlib.figure.Figure at 0x7f2cb3f453c8>"
      ]
     },
     "metadata": {},
     "output_type": "display_data"
    },
    {
     "data": {
      "image/png": "[encoded data removed]",
      "text/plain": [
       "<matplotlib.figure.Figure at 0x7f2c9e6f1ac8>"
      ]
     },
     "metadata": {},
     "output_type": "display_data"
    },
    {
     "data": {
      "image/png": "[encoded data removed]",
      "text/plain": [
       "<matplotlib.figure.Figure at 0x7f2c9e383ef0>"
      ]
     },
     "metadata": {},
     "output_type": "display_data"
    }
   ],
   "source": [
    "plot_potential_var(10,10**2 / 14 / 3  , 0.01)\n",
    "\n",
    "plot_all(10,10**2 / 14 / 3  , 0.01) # 0**2 /14/3"
   ]
  }
 ],
 "metadata": {
  "anaconda-cloud": {},
  "kernelspec": {
   "display_name": "Python [Root]",
   "language": "python",
   "name": "Python [Root]"
  },
  "language_info": {
   "codemirror_mode": {
    "name": "ipython",
    "version": 3
   },
   "file_extension": ".py",
   "mimetype": "text/x-python",
   "name": "python",
   "nbconvert_exporter": "python",
   "pygments_lexer": "ipython3",
   "version": "3.5.2"
  },
  "latex_envs": {
   "bibliofile": "biblio.bib",
   "cite_by": "number",
   "current_citInitial": 1,
   "eqLabelWithNumbers": true,
   "eqNumInitial": 0
  },
  "nav_menu": {},
  "toc": {
   "navigate_menu": true,
   "number_sections": false,
   "sideBar": true,
   "threshold": 6,
   "toc_cell": false,
   "toc_section_display": "block",
   "toc_window_display": true
  }
 },
 "nbformat": 4,
 "nbformat_minor": 0
}
