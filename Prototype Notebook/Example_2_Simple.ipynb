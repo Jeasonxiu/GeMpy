{
 "cells": [
  {
   "cell_type": "markdown",
   "metadata": {},
   "source": [
    "# Example 2: Simple model"
   ]
  },
  {
   "cell_type": "markdown",
   "metadata": {},
   "source": [
    "This notebook is a series of independent cells showing how to create a simple model from the beginning to the end using GeMpy"
   ]
  },
  {
   "cell_type": "markdown",
   "metadata": {},
   "source": [
    "### Importing dependencies"
   ]
  },
  {
   "cell_type": "code",
   "execution_count": 1,
   "metadata": {
    "ExecuteTime": {
     "end_time": "2016-11-24T13:28:15.833872",
     "start_time": "2016-11-24T13:28:13.229585"
    },
    "code_folding": [],
    "collapsed": false,
    "hide_input": false,
    "init_cell": true
   },
   "outputs": [],
   "source": [
    "# Importing\n",
    "import importlib\n",
    "import theano.tensor as T\n",
    "import sys, os\n",
    "sys.path.append(\"/home/bl3/PycharmProjects/GeMpy/GeMpy\")\n",
    "\n",
    "import pandas as pn\n",
    "\n",
    "import GeMpy_core\n",
    "import Visualization\n",
    "import numpy as np\n",
    "importlib.reload(GeMpy_core)\n",
    "os.environ['CUDA_LAUNCH_BLOCKING'] = '1'\n",
    "np.set_printoptions(precision = 4, linewidth= 300, suppress =  True)\n",
    "\n",
    "import matplotlib.pyplot as plt\n",
    "from matplotlib import cm\n",
    "\n",
    "from IPython.display import set_matplotlib_formats\n",
    "set_matplotlib_formats('pdf', 'png')\n",
    "plt.rcParams['savefig.dpi'] = 75\n",
    "plt.rcParams['figure.autolayout'] = False\n",
    "plt.rcParams['figure.figsize'] = 10, 6\n",
    "plt.rcParams['axes.labelsize'] = 18\n",
    "plt.rcParams['axes.titlesize'] = 20\n",
    "plt.rcParams['font.size'] = 16\n",
    "plt.rcParams['lines.linewidth'] = 2.0\n",
    "plt.rcParams['lines.markersize'] = 8\n",
    "plt.rcParams['legend.fontsize'] = 14\n",
    "\n",
    "import seaborn as sns\n",
    "\n",
    "# This sets reasonable defaults for font size for\n",
    "# a figure that will go in a paper\n",
    "sns.set_context(\"paper\")\n",
    "\n",
    "# Set the font to be serif, rather than sans\n",
    "sns.set(font='Arial')\n",
    "\n",
    "# Make the background white, and specify the\n",
    "# specific font family\n",
    "sns.set_style(\"white\")\n",
    "\n",
    "import qgrid\n",
    "qgrid.nbinstall(overwrite=True)  # copies javascript dependencies to your /nbextensions folder\n",
    "\n",
    "%matplotlib inline"
   ]
  },
  {
   "cell_type": "code",
   "execution_count": 7,
   "metadata": {
    "collapsed": true
   },
   "outputs": [],
   "source": [
    "# Importing\n",
    "import theano.tensor as T\n",
    "import sys, os\n",
    "sys.path.append(\"../GeMpy\")\n",
    "\n",
    "# Importing GeMpy modules\n",
    "import GeMpy\n",
    "\n",
    "# Reloading (only for development purposes)\n",
    "import importlib\n",
    "importlib.reload(GeMpy)\n",
    "\n",
    "# Usuful packages\n",
    "import numpy as np\n",
    "import pandas as pn\n",
    "\n",
    "import matplotlib.pyplot as plt\n",
    "\n",
    "# This was to choose the gpu\n",
    "os.environ['CUDA_LAUNCH_BLOCKING'] = '1'\n",
    "\n",
    "# Default options of printin\n",
    "np.set_printoptions(precision = 6, linewidth= 130, suppress =  True)\n",
    "\n",
    "%matplotlib inline\n",
    "#%matplotlib notebook"
   ]
  },
  {
   "cell_type": "markdown",
   "metadata": {},
   "source": [
    "## Visualize data"
   ]
  },
  {
   "cell_type": "code",
   "execution_count": 8,
   "metadata": {
    "collapsed": false
   },
   "outputs": [
    {
     "data": {
      "text/html": [
       "<div>\n",
       "<table border=\"1\" class=\"dataframe\">\n",
       "  <thead>\n",
       "    <tr style=\"text-align: right;\">\n",
       "      <th></th>\n",
       "      <th></th>\n",
       "      <th>G_x</th>\n",
       "      <th>G_y</th>\n",
       "      <th>G_z</th>\n",
       "      <th>X</th>\n",
       "      <th>Y</th>\n",
       "      <th>Z</th>\n",
       "      <th>azimuth</th>\n",
       "      <th>dip</th>\n",
       "      <th>formation</th>\n",
       "      <th>polarity</th>\n",
       "      <th>series</th>\n",
       "    </tr>\n",
       "  </thead>\n",
       "  <tbody>\n",
       "  </tbody>\n",
       "</table>\n",
       "</div>"
      ],
      "text/plain": [
       "Empty DataFrame\n",
       "Columns: [G_x, G_y, G_z, X, Y, Z, azimuth, dip, formation, polarity, series]\n",
       "Index: []"
      ]
     },
     "execution_count": 8,
     "metadata": {},
     "output_type": "execute_result"
    }
   ],
   "source": [
    "# Setting the extent\n",
    "geo_data = GeMpy.import_data([0,10,0,10,0,10])\n",
    "GeMpy.get_raw_data(geo_data)"
   ]
  },
  {
   "cell_type": "code",
   "execution_count": 9,
   "metadata": {
    "collapsed": true
   },
   "outputs": [],
   "source": [
    "# =========================\n",
    "# DATA GENERATION IN PYTHON\n",
    "# =========================\n",
    "# Layers coordinates\n",
    "layer_1 = np.array([[0.5,4,7], [2,4,6.5], [4,4,7], [5,4,6]])#-np.array([5,5,4]))/8+0.5\n",
    "layer_2 = np.array([[3,4,5], [6,4,4],[8,4,4], [7,4,3], [1,4,6]])\n",
    "layers = np.asarray([layer_1,layer_2])\n",
    "\n",
    "# Foliations coordinates\n",
    "dip_pos_1 = np.array([7,4,7])#- np.array([5,5,4]))/8+0.5\n",
    "dip_pos_2 = np.array([2.,4,4])\n",
    "\n",
    "# Dips\n",
    "dip_angle_1 = float(15)\n",
    "dip_angle_2 = float(340)\n",
    "dips_angles = np.asarray([dip_angle_1, dip_angle_2], dtype=\"float64\")\n",
    "\n",
    "# Azimuths\n",
    "azimuths = np.asarray([90,90], dtype=\"float64\")\n",
    "\n",
    "# Polarity\n",
    "polarity = np.asarray([1,1], dtype=\"float64\")"
   ]
  },
  {
   "cell_type": "code",
   "execution_count": 10,
   "metadata": {
    "collapsed": false
   },
   "outputs": [
    {
     "data": {
      "text/html": [
       "<div>\n",
       "<table border=\"1\" class=\"dataframe\">\n",
       "  <thead>\n",
       "    <tr style=\"text-align: right;\">\n",
       "      <th></th>\n",
       "      <th></th>\n",
       "      <th>G_x</th>\n",
       "      <th>G_y</th>\n",
       "      <th>G_z</th>\n",
       "      <th>X</th>\n",
       "      <th>Y</th>\n",
       "      <th>Z</th>\n",
       "      <th>azimuth</th>\n",
       "      <th>dip</th>\n",
       "      <th>formation</th>\n",
       "      <th>labels</th>\n",
       "      <th>polarity</th>\n",
       "      <th>series</th>\n",
       "    </tr>\n",
       "  </thead>\n",
       "  <tbody>\n",
       "    <tr>\n",
       "      <th rowspan=\"9\" valign=\"top\">interfaces</th>\n",
       "      <th>0</th>\n",
       "      <td>NaN</td>\n",
       "      <td>NaN</td>\n",
       "      <td>NaN</td>\n",
       "      <td>0.5</td>\n",
       "      <td>4.0</td>\n",
       "      <td>7.0</td>\n",
       "      <td>NaN</td>\n",
       "      <td>NaN</td>\n",
       "      <td>Layer 1</td>\n",
       "      <td>${\\bf{x}}_{\\alpha \\, 0}^1$</td>\n",
       "      <td>NaN</td>\n",
       "      <td>Default serie</td>\n",
       "    </tr>\n",
       "    <tr>\n",
       "      <th>1</th>\n",
       "      <td>NaN</td>\n",
       "      <td>NaN</td>\n",
       "      <td>NaN</td>\n",
       "      <td>2.0</td>\n",
       "      <td>4.0</td>\n",
       "      <td>6.5</td>\n",
       "      <td>NaN</td>\n",
       "      <td>NaN</td>\n",
       "      <td>Layer 1</td>\n",
       "      <td>${\\bf{x}}_{\\alpha \\, 1}^1$</td>\n",
       "      <td>NaN</td>\n",
       "      <td>Default serie</td>\n",
       "    </tr>\n",
       "    <tr>\n",
       "      <th>2</th>\n",
       "      <td>NaN</td>\n",
       "      <td>NaN</td>\n",
       "      <td>NaN</td>\n",
       "      <td>4.0</td>\n",
       "      <td>4.0</td>\n",
       "      <td>7.0</td>\n",
       "      <td>NaN</td>\n",
       "      <td>NaN</td>\n",
       "      <td>Layer 1</td>\n",
       "      <td>${\\bf{x}}_{\\alpha \\, 2}^1$</td>\n",
       "      <td>NaN</td>\n",
       "      <td>Default serie</td>\n",
       "    </tr>\n",
       "    <tr>\n",
       "      <th>3</th>\n",
       "      <td>NaN</td>\n",
       "      <td>NaN</td>\n",
       "      <td>NaN</td>\n",
       "      <td>5.0</td>\n",
       "      <td>4.0</td>\n",
       "      <td>6.0</td>\n",
       "      <td>NaN</td>\n",
       "      <td>NaN</td>\n",
       "      <td>Layer 1</td>\n",
       "      <td>${\\bf{x}}_{\\alpha \\, 3}^1$</td>\n",
       "      <td>NaN</td>\n",
       "      <td>Default serie</td>\n",
       "    </tr>\n",
       "    <tr>\n",
       "      <th>4</th>\n",
       "      <td>NaN</td>\n",
       "      <td>NaN</td>\n",
       "      <td>NaN</td>\n",
       "      <td>3.0</td>\n",
       "      <td>4.0</td>\n",
       "      <td>5.0</td>\n",
       "      <td>NaN</td>\n",
       "      <td>NaN</td>\n",
       "      <td>Layer 2</td>\n",
       "      <td>${\\bf{x}}_{\\alpha \\, 0}^2$</td>\n",
       "      <td>NaN</td>\n",
       "      <td>Default serie</td>\n",
       "    </tr>\n",
       "    <tr>\n",
       "      <th>5</th>\n",
       "      <td>NaN</td>\n",
       "      <td>NaN</td>\n",
       "      <td>NaN</td>\n",
       "      <td>6.0</td>\n",
       "      <td>4.0</td>\n",
       "      <td>4.0</td>\n",
       "      <td>NaN</td>\n",
       "      <td>NaN</td>\n",
       "      <td>Layer 2</td>\n",
       "      <td>${\\bf{x}}_{\\alpha \\, 1}^2$</td>\n",
       "      <td>NaN</td>\n",
       "      <td>Default serie</td>\n",
       "    </tr>\n",
       "    <tr>\n",
       "      <th>6</th>\n",
       "      <td>NaN</td>\n",
       "      <td>NaN</td>\n",
       "      <td>NaN</td>\n",
       "      <td>8.0</td>\n",
       "      <td>4.0</td>\n",
       "      <td>4.0</td>\n",
       "      <td>NaN</td>\n",
       "      <td>NaN</td>\n",
       "      <td>Layer 2</td>\n",
       "      <td>${\\bf{x}}_{\\alpha \\, 2}^2$</td>\n",
       "      <td>NaN</td>\n",
       "      <td>Default serie</td>\n",
       "    </tr>\n",
       "    <tr>\n",
       "      <th>7</th>\n",
       "      <td>NaN</td>\n",
       "      <td>NaN</td>\n",
       "      <td>NaN</td>\n",
       "      <td>7.0</td>\n",
       "      <td>4.0</td>\n",
       "      <td>3.0</td>\n",
       "      <td>NaN</td>\n",
       "      <td>NaN</td>\n",
       "      <td>Layer 2</td>\n",
       "      <td>${\\bf{x}}_{\\alpha \\, 3}^2$</td>\n",
       "      <td>NaN</td>\n",
       "      <td>Default serie</td>\n",
       "    </tr>\n",
       "    <tr>\n",
       "      <th>8</th>\n",
       "      <td>NaN</td>\n",
       "      <td>NaN</td>\n",
       "      <td>NaN</td>\n",
       "      <td>1.0</td>\n",
       "      <td>4.0</td>\n",
       "      <td>6.0</td>\n",
       "      <td>NaN</td>\n",
       "      <td>NaN</td>\n",
       "      <td>Layer 2</td>\n",
       "      <td>${\\bf{x}}_{\\alpha \\, 4}^2$</td>\n",
       "      <td>NaN</td>\n",
       "      <td>Default serie</td>\n",
       "    </tr>\n",
       "    <tr>\n",
       "      <th rowspan=\"2\" valign=\"top\">foliations</th>\n",
       "      <th>0</th>\n",
       "      <td>0.258819</td>\n",
       "      <td>1.584810e-17</td>\n",
       "      <td>0.965926</td>\n",
       "      <td>7.0</td>\n",
       "      <td>4.0</td>\n",
       "      <td>7.0</td>\n",
       "      <td>90.0</td>\n",
       "      <td>15.0</td>\n",
       "      <td>Layer 1</td>\n",
       "      <td>${\\bf{x}}_{\\beta \\,{0}}$</td>\n",
       "      <td>1.0</td>\n",
       "      <td>Default serie</td>\n",
       "    </tr>\n",
       "    <tr>\n",
       "      <th>1</th>\n",
       "      <td>-0.342020</td>\n",
       "      <td>-2.094269e-17</td>\n",
       "      <td>0.939693</td>\n",
       "      <td>2.0</td>\n",
       "      <td>4.0</td>\n",
       "      <td>4.0</td>\n",
       "      <td>90.0</td>\n",
       "      <td>340.0</td>\n",
       "      <td>Layer 2</td>\n",
       "      <td>${\\bf{x}}_{\\beta \\,{1}}$</td>\n",
       "      <td>1.0</td>\n",
       "      <td>Default serie</td>\n",
       "    </tr>\n",
       "  </tbody>\n",
       "</table>\n",
       "</div>"
      ],
      "text/plain": [
       "                   G_x           G_y       G_z    X    Y    Z  azimuth    dip  \\\n",
       "interfaces 0       NaN           NaN       NaN  0.5  4.0  7.0      NaN    NaN   \n",
       "           1       NaN           NaN       NaN  2.0  4.0  6.5      NaN    NaN   \n",
       "           2       NaN           NaN       NaN  4.0  4.0  7.0      NaN    NaN   \n",
       "           3       NaN           NaN       NaN  5.0  4.0  6.0      NaN    NaN   \n",
       "           4       NaN           NaN       NaN  3.0  4.0  5.0      NaN    NaN   \n",
       "           5       NaN           NaN       NaN  6.0  4.0  4.0      NaN    NaN   \n",
       "           6       NaN           NaN       NaN  8.0  4.0  4.0      NaN    NaN   \n",
       "           7       NaN           NaN       NaN  7.0  4.0  3.0      NaN    NaN   \n",
       "           8       NaN           NaN       NaN  1.0  4.0  6.0      NaN    NaN   \n",
       "foliations 0  0.258819  1.584810e-17  0.965926  7.0  4.0  7.0     90.0   15.0   \n",
       "           1 -0.342020 -2.094269e-17  0.939693  2.0  4.0  4.0     90.0  340.0   \n",
       "\n",
       "             formation                      labels  polarity         series  \n",
       "interfaces 0   Layer 1  ${\\bf{x}}_{\\alpha \\, 0}^1$       NaN  Default serie  \n",
       "           1   Layer 1  ${\\bf{x}}_{\\alpha \\, 1}^1$       NaN  Default serie  \n",
       "           2   Layer 1  ${\\bf{x}}_{\\alpha \\, 2}^1$       NaN  Default serie  \n",
       "           3   Layer 1  ${\\bf{x}}_{\\alpha \\, 3}^1$       NaN  Default serie  \n",
       "           4   Layer 2  ${\\bf{x}}_{\\alpha \\, 0}^2$       NaN  Default serie  \n",
       "           5   Layer 2  ${\\bf{x}}_{\\alpha \\, 1}^2$       NaN  Default serie  \n",
       "           6   Layer 2  ${\\bf{x}}_{\\alpha \\, 2}^2$       NaN  Default serie  \n",
       "           7   Layer 2  ${\\bf{x}}_{\\alpha \\, 3}^2$       NaN  Default serie  \n",
       "           8   Layer 2  ${\\bf{x}}_{\\alpha \\, 4}^2$       NaN  Default serie  \n",
       "foliations 0   Layer 1    ${\\bf{x}}_{\\beta \\,{0}}$       1.0  Default serie  \n",
       "           1   Layer 2    ${\\bf{x}}_{\\beta \\,{1}}$       1.0  Default serie  "
      ]
     },
     "execution_count": 10,
     "metadata": {},
     "output_type": "execute_result"
    }
   ],
   "source": [
    "# Setting foliations and interfaces values\n",
    "GeMpy.set_interfaces(geo_data, pn.DataFrame(\n",
    "    data = {\"X\" :np.append(layer_1[:, 0],layer_2[:,0]),\n",
    "            \"Y\" :np.append(layer_1[:, 1],layer_2[:,1]),\n",
    "            \"Z\" :np.append(layer_1[:, 2],layer_2[:,2]),\n",
    "            \"formation\" : np.append(\n",
    "               np.tile(\"Layer 1\", len(layer_1)), \n",
    "               np.tile(\"Layer 2\", len(layer_2))),\n",
    "            \"labels\" : [r'${\\bf{x}}_{\\alpha \\, 0}^1$',\n",
    "               r'${\\bf{x}}_{\\alpha \\, 1}^1$',\n",
    "               r'${\\bf{x}}_{\\alpha \\, 2}^1$',\n",
    "               r'${\\bf{x}}_{\\alpha \\, 3}^1$',\n",
    "               r'${\\bf{x}}_{\\alpha \\, 0}^2$',\n",
    "               r'${\\bf{x}}_{\\alpha \\, 1}^2$',\n",
    "               r'${\\bf{x}}_{\\alpha \\, 2}^2$',\n",
    "               r'${\\bf{x}}_{\\alpha \\, 3}^2$',\n",
    "               r'${\\bf{x}}_{\\alpha \\, 4}^2$'] }))\n",
    "\n",
    "GeMpy.set_foliations(geo_data,  pn.DataFrame(\n",
    "    data = {\"X\" :np.append(dip_pos_1[0],dip_pos_2[0]),\n",
    "            \"Y\" :np.append(dip_pos_1[ 1],dip_pos_2[1]),\n",
    "            \"Z\" :np.append(dip_pos_1[ 2],dip_pos_2[2]),\n",
    "            \"azimuth\" : azimuths,\n",
    "            \"dip\" : dips_angles,\n",
    "            \"polarity\" : polarity,\n",
    "            \"formation\" : [\"Layer 1\", \"Layer 2\"],\n",
    "            \"labels\" : [r'${\\bf{x}}_{\\beta \\,{0}}$',\n",
    "              r'${\\bf{x}}_{\\beta \\,{1}}$'] })) \n",
    "\n",
    "GeMpy.get_raw_data(geo_data)"
   ]
  },
  {
   "cell_type": "code",
   "execution_count": 11,
   "metadata": {
    "collapsed": false
   },
   "outputs": [
    {
     "data": {
      "image/png": "[encoded data removed]",
      "text/plain": [
       "<matplotlib.figure.Figure at 0x7feeb68984a8>"
      ]
     },
     "metadata": {},
     "output_type": "display_data"
    }
   ],
   "source": [
    "# Plotting data\n",
    "GeMpy.plot_data(geo_data)\n",
    "GeMpy.PlotData.annotate_plot(GeMpy.get_raw_data(geo_data),\n",
    "                             'labels','X', 'Z', size = 'x-large')"
   ]
  },
  {
   "cell_type": "markdown",
   "metadata": {},
   "source": [
    "### Interactive pandas Dataframe\n",
    "\n",
    "Using qgrid it is possible to modify the tables in place as following:"
   ]
  },
  {
   "cell_type": "code",
   "execution_count": 12,
   "metadata": {
    "collapsed": false
   },
   "outputs": [],
   "source": [
    "GeMpy.i_set_data(geo_data)"
   ]
  },
  {
   "cell_type": "markdown",
   "metadata": {},
   "source": [
    "## Grid and potential field\n",
    "\n",
    "We can see the potential field generated out of the data above"
   ]
  },
  {
   "cell_type": "code",
   "execution_count": 13,
   "metadata": {
    "collapsed": false
   },
   "outputs": [
    {
     "data": {
      "image/png": "[encoded data removed]",
      "text/plain": [
       "<matplotlib.figure.Figure at 0x7feea98ca080>"
      ]
     },
     "metadata": {},
     "output_type": "display_data"
    }
   ],
   "source": [
    "GeMpy.set_interpolator(geo_data, u_grade=0)\n",
    "GeMpy.plot_potential_field(geo_data, 4, direction='y', colorbar = True, cmap = 'magma')"
   ]
  },
  {
   "cell_type": "code",
   "execution_count": 14,
   "metadata": {
    "code_folding": [
     2,
     8,
     14,
     19,
     38,
     56,
     81,
     104
    ],
    "collapsed": true,
    "hide_input": false,
    "init_cell": true
   },
   "outputs": [],
   "source": [
    "from ipywidgets import widgets\n",
    "from ipywidgets import interact\n",
    "def cov_cubic_f(r,a = 6, c_o = 1):\n",
    "    if r <= a:\n",
    "        return c_o*(1-7*(r/a)**2+35/4*(r/a)**3-7/2*(r/a)**5+3/4*(r/a)**7)\n",
    "    else:\n",
    "        return 0\n",
    "    \n",
    "def cov_cubic_d1_f(r,a = 6., c_o = 1):\n",
    "    SED_dips_dips = r\n",
    "    f = c_o\n",
    "    return  (f * ((-14 /a ** 2) + 105 / 4 * SED_dips_dips / a ** 3 -\n",
    "            35 / 2 * SED_dips_dips ** 3 / a ** 5 + 21 / 4 * SED_dips_dips ** 5 / a ** 7))\n",
    "\n",
    "def cov_cubic_d2_f(r, a = 6, c_o = 1):\n",
    "    SED_dips_dips = r\n",
    "    f = c_o\n",
    "    return 7*f*(9*r**5-20*a**2*r**3+15*a**4*r-4*a**5)/(2*a**7)\n",
    "\n",
    "def plot_potential_var(a = 10, c_o = 1, nugget_effect = 0):\n",
    "    x = np.linspace(0,12,50)\n",
    "    y = [cov_cubic_f(i, a = a, c_o = c_o) for i in x]\n",
    "    \n",
    "    fig = plt.figure()\n",
    "    ax1 = fig.add_subplot(121)\n",
    "    ax1.plot(x,c_o-np.asarray(y)+nugget_effect)\n",
    "    plt.hlines(0,0,12, linestyles = \"--\")\n",
    "    plt.title(\"Variogram\")\n",
    "    plt.margins(0,0.1)\n",
    "    \n",
    "    ax2 = fig.add_subplot(122)\n",
    "    ax2.plot(x,np.asarray(y))\n",
    "    ax2.scatter(0,nugget_effect+c_o)\n",
    "    plt.title(\"Covariance Function\")\n",
    "    plt.tight_layout()\n",
    "    plt.margins(0,0.1)\n",
    "    plt.suptitle('$C_Z(r)$', y = 1.08, fontsize=15, fontweight='bold')\n",
    "\n",
    "def plot_potential_direction_var( a = 10, c_o = 1, nugget_effect = 0):\n",
    "    x = np.linspace(0,12,50)\n",
    "    y = np.asarray([cov_cubic_d1_f(i, a = a, c_o = c_o) for i in x])\n",
    "    \n",
    "    fig = plt.figure()\n",
    "    ax1 = fig.add_subplot(121)\n",
    "    ax1.plot(x,c_o-np.asarray(y)+nugget_effect)\n",
    "    plt.title(\"Variogram\")\n",
    "    plt.margins(0,0.1)\n",
    "    \n",
    "    ax2 = fig.add_subplot(122)\n",
    "    ax2.plot(x,np.asarray(y))\n",
    "    #ax2.scatter(0,c_o)\n",
    "    plt.title(\"Cross-Covariance Function\")\n",
    "    plt.tight_layout()\n",
    "    plt.margins(0,0.1)\n",
    "    plt.suptitle('$C\\'_Z / r$', y = 1.08, fontsize=15, fontweight='bold')    \n",
    "\n",
    "def plot_directionU_directionU_var(a = 10, c_o = 1, nugget_effect = 0):\n",
    "    \n",
    "    x = np.linspace(0.01,12,50)\n",
    "    d1 = np.asarray([cov_cubic_d1_f(i, a = a, c_o = c_o) for i in x])\n",
    "    d2 = np.asarray([cov_cubic_d2_f(i, a = a, c_o = c_o) for i in x])\n",
    "    \n",
    "    y = -(d2) # (0.5*x**2)/(x**2)*\n",
    "    \n",
    "    fig = plt.figure()\n",
    "    ax1 = fig.add_subplot(121)\n",
    "    ax1.plot(x,c_o-np.asarray(y)+nugget_effect)\n",
    "\n",
    "    plt.title(\"Variogram\")\n",
    "    plt.margins(0,0.1)\n",
    "    \n",
    "    ax2 = fig.add_subplot(122)\n",
    "    ax2.plot(x,np.asarray(y))\n",
    "    ax2.scatter(0,nugget_effect+y[0], s = 20)\n",
    "\n",
    "    plt.title(\"Covariance Function\")\n",
    "    plt.tight_layout()\n",
    "    plt.margins(0,0.1)\n",
    "    plt.suptitle('$C_{\\partial {Z}/ \\partial x, \\, \\partial {Z}/ \\partial x}(h_x)$'\n",
    "                 , y = 1.08, fontsize=15)\n",
    "    \n",
    "def plot_directionU_directionV_var(a = 10, c_o = 1, nugget_effect = 0):\n",
    "    x = np.linspace(0.01,12,50)\n",
    "    d1 = np.asarray([cov_cubic_d1_f(i, a = a, c_o = c_o) for i in x])\n",
    "    d2 = np.asarray([cov_cubic_d2_f(i, a = a, c_o = c_o) for i in x])\n",
    "    y = -(d2-d1) # (0.5*x**2)/(x**2)*\n",
    "    \n",
    "    fig = plt.figure()\n",
    "    ax1 = fig.add_subplot(121)\n",
    "    ax1.plot(x,c_o-np.asarray(y)+nugget_effect)\n",
    "\n",
    "    plt.title(\"Variogram\")\n",
    "    plt.margins(0,0.1)\n",
    "    \n",
    "    ax2 = fig.add_subplot(122)\n",
    "    ax2.plot(x,np.asarray(y))\n",
    "    ax2.scatter(0,nugget_effect+y[0], s = 20)\n",
    "    plt.title(\"Covariance Function\")\n",
    "    plt.tight_layout()\n",
    "    plt.margins(0,0.1)\n",
    "    plt.suptitle('$C_{\\partial {Z}/ \\partial x, \\, \\partial {Z}/ \\partial y}(h_x,h_y)$'\n",
    "                 , y = 1.08, fontsize=15)\n",
    "    \n",
    "\n",
    "def plot_all(a = 10, c_o = 1, nugget_effect = 0):\n",
    "    \n",
    "    \n",
    "    plot_potential_direction_var(a, c_o, nugget_effect)\n",
    "    plot_directionU_directionU_var(a, c_o, nugget_effect)\n",
    "    plot_directionU_directionV_var(a, c_o, nugget_effect)"
   ]
  },
  {
   "cell_type": "markdown",
   "metadata": {},
   "source": [
    "## From potential field to block"
   ]
  },
  {
   "cell_type": "markdown",
   "metadata": {},
   "source": [
    "The potential field describe the deposition form and direction of a basin. However, in most scenarios the real goal of structural modeling is the segmentation in layers of areas with significant change of properties (e.g. shales and carbonates). Since we need to provide at least one point per interface, we can easily compute the value of the potential field at the intersections between two layers. Therefore, by simple comparison between a concrete value of the potential field and the values of the interfaces it is possible to segment the domain into layers Fig X. "
   ]
  },
  {
   "cell_type": "code",
   "execution_count": 15,
   "metadata": {
    "collapsed": false,
    "hide_input": false,
    "init_cell": true,
    "scrolled": true
   },
   "outputs": [
    {
     "data": {
      "text/plain": [
       "<Visualization.PlotData at 0x7feeb3eb81d0>"
      ]
     },
     "execution_count": 15,
     "metadata": {},
     "output_type": "execute_result"
    },
    {
     "data": {
      "image/png": "[encoded data removed]",
      "text/plain": [
       "<matplotlib.figure.Figure at 0x7feeb3eb87f0>"
      ]
     },
     "metadata": {},
     "output_type": "display_data"
    }
   ],
   "source": [
    "GeMpy.compute_block_model(geo_data)\n",
    "GeMpy.plot_section(geo_data, 13)"
   ]
  },
  {
   "cell_type": "markdown",
   "metadata": {},
   "source": [
    "### Combining potential fields: Depositional series"
   ]
  },
  {
   "cell_type": "markdown",
   "metadata": {},
   "source": [
    "In reality, most geological settings are formed by a concatenation of depositional phases separated clearly by unconformity bounderies. Each of these phases can be model by a potential field. In order to capture this behavior, we can classify the formations that belong to individual depositional phase into categories or series. The potential field computed for each of these series could be seen as a sort of evolution of the basin if an unconformity did not occur. Finally, sorting the temporal relation between series allow to superpose the corresponding potential field at an specific location.\n",
    "\n",
    "In the next example, we add a new serie consisting in a layer---'Layer 3'--- Fig X, which generate the potential field of Fig X and subsequently the block Figure X."
   ]
  },
  {
   "cell_type": "code",
   "execution_count": 16,
   "metadata": {
    "collapsed": false
   },
   "outputs": [
    {
     "name": "stdout",
     "output_type": "stream",
     "text": [
      "I am here\n"
     ]
    },
    {
     "data": {
      "text/html": [
       "<div>\n",
       "<table border=\"1\" class=\"dataframe\">\n",
       "  <thead>\n",
       "    <tr style=\"text-align: right;\">\n",
       "      <th></th>\n",
       "      <th>X</th>\n",
       "      <th>Y</th>\n",
       "      <th>Z</th>\n",
       "      <th>formation</th>\n",
       "      <th>labels</th>\n",
       "      <th>series</th>\n",
       "    </tr>\n",
       "  </thead>\n",
       "  <tbody>\n",
       "    <tr>\n",
       "      <th>0</th>\n",
       "      <td>0.5</td>\n",
       "      <td>4.0</td>\n",
       "      <td>7.0</td>\n",
       "      <td>Layer 1</td>\n",
       "      <td>${\\bf{x}}_{\\alpha \\, 0}^1$</td>\n",
       "      <td>Default serie</td>\n",
       "    </tr>\n",
       "    <tr>\n",
       "      <th>1</th>\n",
       "      <td>2.0</td>\n",
       "      <td>4.0</td>\n",
       "      <td>6.5</td>\n",
       "      <td>Layer 1</td>\n",
       "      <td>${\\bf{x}}_{\\alpha \\, 1}^1$</td>\n",
       "      <td>Default serie</td>\n",
       "    </tr>\n",
       "    <tr>\n",
       "      <th>2</th>\n",
       "      <td>4.0</td>\n",
       "      <td>4.0</td>\n",
       "      <td>7.0</td>\n",
       "      <td>Layer 1</td>\n",
       "      <td>${\\bf{x}}_{\\alpha \\, 2}^1$</td>\n",
       "      <td>Default serie</td>\n",
       "    </tr>\n",
       "    <tr>\n",
       "      <th>3</th>\n",
       "      <td>5.0</td>\n",
       "      <td>4.0</td>\n",
       "      <td>6.0</td>\n",
       "      <td>Layer 1</td>\n",
       "      <td>${\\bf{x}}_{\\alpha \\, 3}^1$</td>\n",
       "      <td>Default serie</td>\n",
       "    </tr>\n",
       "    <tr>\n",
       "      <th>4</th>\n",
       "      <td>3.0</td>\n",
       "      <td>4.0</td>\n",
       "      <td>5.0</td>\n",
       "      <td>Layer 2</td>\n",
       "      <td>${\\bf{x}}_{\\alpha \\, 0}^2$</td>\n",
       "      <td>Default serie</td>\n",
       "    </tr>\n",
       "    <tr>\n",
       "      <th>5</th>\n",
       "      <td>6.0</td>\n",
       "      <td>4.0</td>\n",
       "      <td>4.0</td>\n",
       "      <td>Layer 2</td>\n",
       "      <td>${\\bf{x}}_{\\alpha \\, 1}^2$</td>\n",
       "      <td>Default serie</td>\n",
       "    </tr>\n",
       "    <tr>\n",
       "      <th>6</th>\n",
       "      <td>8.0</td>\n",
       "      <td>4.0</td>\n",
       "      <td>4.0</td>\n",
       "      <td>Layer 2</td>\n",
       "      <td>${\\bf{x}}_{\\alpha \\, 2}^2$</td>\n",
       "      <td>Default serie</td>\n",
       "    </tr>\n",
       "    <tr>\n",
       "      <th>7</th>\n",
       "      <td>7.0</td>\n",
       "      <td>4.0</td>\n",
       "      <td>3.0</td>\n",
       "      <td>Layer 2</td>\n",
       "      <td>${\\bf{x}}_{\\alpha \\, 3}^2$</td>\n",
       "      <td>Default serie</td>\n",
       "    </tr>\n",
       "    <tr>\n",
       "      <th>8</th>\n",
       "      <td>1.0</td>\n",
       "      <td>4.0</td>\n",
       "      <td>6.0</td>\n",
       "      <td>Layer 2</td>\n",
       "      <td>${\\bf{x}}_{\\alpha \\, 4}^2$</td>\n",
       "      <td>Default serie</td>\n",
       "    </tr>\n",
       "    <tr>\n",
       "      <th>0</th>\n",
       "      <td>2.0</td>\n",
       "      <td>4.0</td>\n",
       "      <td>3.0</td>\n",
       "      <td>Layer 3</td>\n",
       "      <td>${\\bf{x}}_{\\alpha \\, 0}^3$</td>\n",
       "      <td>Default serie</td>\n",
       "    </tr>\n",
       "    <tr>\n",
       "      <th>1</th>\n",
       "      <td>8.0</td>\n",
       "      <td>4.0</td>\n",
       "      <td>2.0</td>\n",
       "      <td>Layer 3</td>\n",
       "      <td>${\\bf{x}}_{\\alpha \\, 1}^3$</td>\n",
       "      <td>Default serie</td>\n",
       "    </tr>\n",
       "    <tr>\n",
       "      <th>2</th>\n",
       "      <td>9.0</td>\n",
       "      <td>4.0</td>\n",
       "      <td>3.0</td>\n",
       "      <td>Layer 3</td>\n",
       "      <td>${\\bf{x}}_{\\alpha \\, 2}^3$</td>\n",
       "      <td>Default serie</td>\n",
       "    </tr>\n",
       "  </tbody>\n",
       "</table>\n",
       "</div>"
      ],
      "text/plain": [
       "     X    Y    Z formation                      labels         series\n",
       "0  0.5  4.0  7.0   Layer 1  ${\\bf{x}}_{\\alpha \\, 0}^1$  Default serie\n",
       "1  2.0  4.0  6.5   Layer 1  ${\\bf{x}}_{\\alpha \\, 1}^1$  Default serie\n",
       "2  4.0  4.0  7.0   Layer 1  ${\\bf{x}}_{\\alpha \\, 2}^1$  Default serie\n",
       "3  5.0  4.0  6.0   Layer 1  ${\\bf{x}}_{\\alpha \\, 3}^1$  Default serie\n",
       "4  3.0  4.0  5.0   Layer 2  ${\\bf{x}}_{\\alpha \\, 0}^2$  Default serie\n",
       "5  6.0  4.0  4.0   Layer 2  ${\\bf{x}}_{\\alpha \\, 1}^2$  Default serie\n",
       "6  8.0  4.0  4.0   Layer 2  ${\\bf{x}}_{\\alpha \\, 2}^2$  Default serie\n",
       "7  7.0  4.0  3.0   Layer 2  ${\\bf{x}}_{\\alpha \\, 3}^2$  Default serie\n",
       "8  1.0  4.0  6.0   Layer 2  ${\\bf{x}}_{\\alpha \\, 4}^2$  Default serie\n",
       "0  2.0  4.0  3.0   Layer 3  ${\\bf{x}}_{\\alpha \\, 0}^3$  Default serie\n",
       "1  8.0  4.0  2.0   Layer 3  ${\\bf{x}}_{\\alpha \\, 1}^3$  Default serie\n",
       "2  9.0  4.0  3.0   Layer 3  ${\\bf{x}}_{\\alpha \\, 2}^3$  Default serie"
      ]
     },
     "execution_count": 16,
     "metadata": {},
     "output_type": "execute_result"
    }
   ],
   "source": [
    "layer_3 = np.array([[2,4,3], [8,4,2], [9,4,3]])\n",
    "dip_pos_3 = np.array([1,4,1])\n",
    "dip_angle_3 = float(80)\n",
    "azimuth_3 = 90\n",
    "polarity_3 = 1\n",
    "\n",
    "\n",
    "\n",
    "GeMpy.set_interfaces(geo_data, pn.DataFrame(\n",
    "    data = {\"X\" :layer_3[:, 0],\n",
    "            \"Y\" :layer_3[:, 1],\n",
    "            \"Z\" :layer_3[:, 2],\n",
    "            \"formation\" : np.tile(\"Layer 3\", len(layer_3)), \n",
    "            \"labels\" : [  r'${\\bf{x}}_{\\alpha \\, 0}^3$',\n",
    "                           r'${\\bf{x}}_{\\alpha \\, 1}^3$',\n",
    "                           r'${\\bf{x}}_{\\alpha \\, 2}^3$'] }), append = True)\n",
    "GeMpy.get_raw_data(geo_data,\"interfaces\")"
   ]
  },
  {
   "cell_type": "code",
   "execution_count": 18,
   "metadata": {
    "collapsed": false
   },
   "outputs": [
    {
     "data": {
      "text/html": [
       "<div>\n",
       "<table border=\"1\" class=\"dataframe\">\n",
       "  <thead>\n",
       "    <tr style=\"text-align: right;\">\n",
       "      <th></th>\n",
       "      <th>G_x</th>\n",
       "      <th>G_y</th>\n",
       "      <th>G_z</th>\n",
       "      <th>X</th>\n",
       "      <th>Y</th>\n",
       "      <th>Z</th>\n",
       "      <th>azimuth</th>\n",
       "      <th>dip</th>\n",
       "      <th>formation</th>\n",
       "      <th>labels</th>\n",
       "      <th>polarity</th>\n",
       "      <th>series</th>\n",
       "    </tr>\n",
       "  </thead>\n",
       "  <tbody>\n",
       "    <tr>\n",
       "      <th>0</th>\n",
       "      <td>0.258819</td>\n",
       "      <td>1.584810e-17</td>\n",
       "      <td>0.965926</td>\n",
       "      <td>7.0</td>\n",
       "      <td>4.0</td>\n",
       "      <td>7.0</td>\n",
       "      <td>90.0</td>\n",
       "      <td>15.0</td>\n",
       "      <td>Layer 1</td>\n",
       "      <td>${\\bf{x}}_{\\beta \\,{0}}$</td>\n",
       "      <td>1.0</td>\n",
       "      <td>Default serie</td>\n",
       "    </tr>\n",
       "    <tr>\n",
       "      <th>1</th>\n",
       "      <td>-0.342020</td>\n",
       "      <td>-2.094269e-17</td>\n",
       "      <td>0.939693</td>\n",
       "      <td>2.0</td>\n",
       "      <td>4.0</td>\n",
       "      <td>4.0</td>\n",
       "      <td>90.0</td>\n",
       "      <td>340.0</td>\n",
       "      <td>Layer 2</td>\n",
       "      <td>${\\bf{x}}_{\\beta \\,{1}}$</td>\n",
       "      <td>1.0</td>\n",
       "      <td>Default serie</td>\n",
       "    </tr>\n",
       "    <tr>\n",
       "      <th>0</th>\n",
       "      <td>0.984808</td>\n",
       "      <td>6.030208e-17</td>\n",
       "      <td>0.173648</td>\n",
       "      <td>1.0</td>\n",
       "      <td>4.0</td>\n",
       "      <td>1.0</td>\n",
       "      <td>90.0</td>\n",
       "      <td>80.0</td>\n",
       "      <td>Layer 3</td>\n",
       "      <td>${\\bf{x}}_{\\beta \\,{3}}$</td>\n",
       "      <td>1.0</td>\n",
       "      <td>Default serie</td>\n",
       "    </tr>\n",
       "    <tr>\n",
       "      <th>0</th>\n",
       "      <td>0.984808</td>\n",
       "      <td>6.030208e-17</td>\n",
       "      <td>0.173648</td>\n",
       "      <td>1.0</td>\n",
       "      <td>4.0</td>\n",
       "      <td>1.0</td>\n",
       "      <td>90.0</td>\n",
       "      <td>80.0</td>\n",
       "      <td>Layer 3</td>\n",
       "      <td>${\\bf{x}}_{\\beta \\,{3}}$</td>\n",
       "      <td>1.0</td>\n",
       "      <td>Default serie</td>\n",
       "    </tr>\n",
       "  </tbody>\n",
       "</table>\n",
       "</div>"
      ],
      "text/plain": [
       "        G_x           G_y       G_z    X    Y    Z  azimuth    dip formation  \\\n",
       "0  0.258819  1.584810e-17  0.965926  7.0  4.0  7.0     90.0   15.0   Layer 1   \n",
       "1 -0.342020 -2.094269e-17  0.939693  2.0  4.0  4.0     90.0  340.0   Layer 2   \n",
       "0  0.984808  6.030208e-17  0.173648  1.0  4.0  1.0     90.0   80.0   Layer 3   \n",
       "0  0.984808  6.030208e-17  0.173648  1.0  4.0  1.0     90.0   80.0   Layer 3   \n",
       "\n",
       "                     labels  polarity         series  \n",
       "0  ${\\bf{x}}_{\\beta \\,{0}}$       1.0  Default serie  \n",
       "1  ${\\bf{x}}_{\\beta \\,{1}}$       1.0  Default serie  \n",
       "0  ${\\bf{x}}_{\\beta \\,{3}}$       1.0  Default serie  \n",
       "0  ${\\bf{x}}_{\\beta \\,{3}}$       1.0  Default serie  "
      ]
     },
     "execution_count": 18,
     "metadata": {},
     "output_type": "execute_result"
    }
   ],
   "source": [
    " \n",
    "GeMpy.set_foliations(geo_data, pn.DataFrame(data = {\n",
    "                     \"X\" : dip_pos_3[0],\n",
    "                     \"Y\" : dip_pos_3[1],\n",
    "                     \"Z\" : dip_pos_3[2],\n",
    "                     \"azimuth\" : azimuth_3,\n",
    "                     \"dip\" : dip_angle_3,\n",
    "                     \"polarity\" : polarity_3,\n",
    "                     \"formation\" : [ 'Layer 3'],\n",
    "                     \"labels\" : r'${\\bf{x}}_{\\beta \\,{3}}$'}), append = True)\n",
    "GeMpy.get_raw_data(geo_data, 'foliations')"
   ]
  },
  {
   "cell_type": "code",
   "execution_count": 19,
   "metadata": {
    "collapsed": false
   },
   "outputs": [],
   "source": [
    "GeMpy.set_data_series(geo_data, {'younger': ('Layer 1', 'Layer 2'),\n",
    "                      'older': 'Layer 3'}, order_series = ['younger', 'older'])"
   ]
  },
  {
   "cell_type": "code",
   "execution_count": 20,
   "metadata": {
    "collapsed": false
   },
   "outputs": [
    {
     "data": {
      "text/plain": [
       "<Visualization.PlotData at 0x7feeb35f63c8>"
      ]
     },
     "execution_count": 20,
     "metadata": {},
     "output_type": "execute_result"
    },
    {
     "data": {
      "image/png": "[encoded data removed]",
      "text/plain": [
       "<matplotlib.figure.Figure at 0x7feeb3552320>"
      ]
     },
     "metadata": {},
     "output_type": "display_data"
    }
   ],
   "source": [
    "GeMpy.plot_data(geo_data)"
   ]
  },
  {
   "cell_type": "markdown",
   "metadata": {},
   "source": [
    "This potential field gives the following block"
   ]
  },
  {
   "cell_type": "code",
   "execution_count": 22,
   "metadata": {
    "collapsed": false
   },
   "outputs": [
    {
     "data": {
      "image/png": "[encoded data removed]",
      "text/plain": [
       "<matplotlib.figure.Figure at 0x7feeb33dec50>"
      ]
     },
     "metadata": {},
     "output_type": "display_data"
    }
   ],
   "source": [
    "GeMpy.plot_potential_field(geo_data,4, n_pf=1, direction='y', \n",
    "                           colorbar = True, cmap = 'magma' )\n"
   ]
  },
  {
   "cell_type": "code",
   "execution_count": 41,
   "metadata": {
    "collapsed": false
   },
   "outputs": [
    {
     "data": {
      "text/html": [
       "<div>\n",
       "<table border=\"1\" class=\"dataframe\">\n",
       "  <thead>\n",
       "    <tr style=\"text-align: right;\">\n",
       "      <th></th>\n",
       "      <th></th>\n",
       "      <th>G_x</th>\n",
       "      <th>G_y</th>\n",
       "      <th>G_z</th>\n",
       "      <th>X</th>\n",
       "      <th>Y</th>\n",
       "      <th>Z</th>\n",
       "      <th>azimuth</th>\n",
       "      <th>dip</th>\n",
       "      <th>formation</th>\n",
       "      <th>labels</th>\n",
       "      <th>polarity</th>\n",
       "      <th>series</th>\n",
       "    </tr>\n",
       "  </thead>\n",
       "  <tbody>\n",
       "    <tr>\n",
       "      <th rowspan=\"12\" valign=\"top\">interfaces</th>\n",
       "      <th>0</th>\n",
       "      <td>NaN</td>\n",
       "      <td>NaN</td>\n",
       "      <td>NaN</td>\n",
       "      <td>0.5</td>\n",
       "      <td>4.0</td>\n",
       "      <td>7.0</td>\n",
       "      <td>NaN</td>\n",
       "      <td>NaN</td>\n",
       "      <td>Layer 1</td>\n",
       "      <td>${\\bf{x}}_{\\alpha \\, 0}^1$</td>\n",
       "      <td>NaN</td>\n",
       "      <td>younger</td>\n",
       "    </tr>\n",
       "    <tr>\n",
       "      <th>1</th>\n",
       "      <td>NaN</td>\n",
       "      <td>NaN</td>\n",
       "      <td>NaN</td>\n",
       "      <td>2.0</td>\n",
       "      <td>4.0</td>\n",
       "      <td>6.5</td>\n",
       "      <td>NaN</td>\n",
       "      <td>NaN</td>\n",
       "      <td>Layer 1</td>\n",
       "      <td>${\\bf{x}}_{\\alpha \\, 1}^1$</td>\n",
       "      <td>NaN</td>\n",
       "      <td>younger</td>\n",
       "    </tr>\n",
       "    <tr>\n",
       "      <th>2</th>\n",
       "      <td>NaN</td>\n",
       "      <td>NaN</td>\n",
       "      <td>NaN</td>\n",
       "      <td>4.0</td>\n",
       "      <td>4.0</td>\n",
       "      <td>7.0</td>\n",
       "      <td>NaN</td>\n",
       "      <td>NaN</td>\n",
       "      <td>Layer 1</td>\n",
       "      <td>${\\bf{x}}_{\\alpha \\, 2}^1$</td>\n",
       "      <td>NaN</td>\n",
       "      <td>younger</td>\n",
       "    </tr>\n",
       "    <tr>\n",
       "      <th>3</th>\n",
       "      <td>NaN</td>\n",
       "      <td>NaN</td>\n",
       "      <td>NaN</td>\n",
       "      <td>5.0</td>\n",
       "      <td>4.0</td>\n",
       "      <td>6.0</td>\n",
       "      <td>NaN</td>\n",
       "      <td>NaN</td>\n",
       "      <td>Layer 1</td>\n",
       "      <td>${\\bf{x}}_{\\alpha \\, 3}^1$</td>\n",
       "      <td>NaN</td>\n",
       "      <td>younger</td>\n",
       "    </tr>\n",
       "    <tr>\n",
       "      <th>4</th>\n",
       "      <td>NaN</td>\n",
       "      <td>NaN</td>\n",
       "      <td>NaN</td>\n",
       "      <td>3.0</td>\n",
       "      <td>4.0</td>\n",
       "      <td>5.0</td>\n",
       "      <td>NaN</td>\n",
       "      <td>NaN</td>\n",
       "      <td>Layer 2</td>\n",
       "      <td>${\\bf{x}}_{\\alpha \\, 0}^2$</td>\n",
       "      <td>NaN</td>\n",
       "      <td>younger</td>\n",
       "    </tr>\n",
       "    <tr>\n",
       "      <th>5</th>\n",
       "      <td>NaN</td>\n",
       "      <td>NaN</td>\n",
       "      <td>NaN</td>\n",
       "      <td>6.0</td>\n",
       "      <td>4.0</td>\n",
       "      <td>4.0</td>\n",
       "      <td>NaN</td>\n",
       "      <td>NaN</td>\n",
       "      <td>Layer 2</td>\n",
       "      <td>${\\bf{x}}_{\\alpha \\, 1}^2$</td>\n",
       "      <td>NaN</td>\n",
       "      <td>younger</td>\n",
       "    </tr>\n",
       "    <tr>\n",
       "      <th>6</th>\n",
       "      <td>NaN</td>\n",
       "      <td>NaN</td>\n",
       "      <td>NaN</td>\n",
       "      <td>8.0</td>\n",
       "      <td>4.0</td>\n",
       "      <td>4.0</td>\n",
       "      <td>NaN</td>\n",
       "      <td>NaN</td>\n",
       "      <td>Layer 2</td>\n",
       "      <td>${\\bf{x}}_{\\alpha \\, 2}^2$</td>\n",
       "      <td>NaN</td>\n",
       "      <td>younger</td>\n",
       "    </tr>\n",
       "    <tr>\n",
       "      <th>7</th>\n",
       "      <td>NaN</td>\n",
       "      <td>NaN</td>\n",
       "      <td>NaN</td>\n",
       "      <td>7.0</td>\n",
       "      <td>4.0</td>\n",
       "      <td>3.0</td>\n",
       "      <td>NaN</td>\n",
       "      <td>NaN</td>\n",
       "      <td>Layer 2</td>\n",
       "      <td>${\\bf{x}}_{\\alpha \\, 3}^2$</td>\n",
       "      <td>NaN</td>\n",
       "      <td>younger</td>\n",
       "    </tr>\n",
       "    <tr>\n",
       "      <th>8</th>\n",
       "      <td>NaN</td>\n",
       "      <td>NaN</td>\n",
       "      <td>NaN</td>\n",
       "      <td>1.0</td>\n",
       "      <td>4.0</td>\n",
       "      <td>6.0</td>\n",
       "      <td>NaN</td>\n",
       "      <td>NaN</td>\n",
       "      <td>Layer 2</td>\n",
       "      <td>${\\bf{x}}_{\\alpha \\, 4}^2$</td>\n",
       "      <td>NaN</td>\n",
       "      <td>younger</td>\n",
       "    </tr>\n",
       "    <tr>\n",
       "      <th>0</th>\n",
       "      <td>NaN</td>\n",
       "      <td>NaN</td>\n",
       "      <td>NaN</td>\n",
       "      <td>2.0</td>\n",
       "      <td>4.0</td>\n",
       "      <td>3.0</td>\n",
       "      <td>NaN</td>\n",
       "      <td>NaN</td>\n",
       "      <td>Layer 3</td>\n",
       "      <td>${\\bf{x}}_{\\alpha \\, 0}^3$</td>\n",
       "      <td>NaN</td>\n",
       "      <td>older</td>\n",
       "    </tr>\n",
       "    <tr>\n",
       "      <th>1</th>\n",
       "      <td>NaN</td>\n",
       "      <td>NaN</td>\n",
       "      <td>NaN</td>\n",
       "      <td>8.0</td>\n",
       "      <td>4.0</td>\n",
       "      <td>2.0</td>\n",
       "      <td>NaN</td>\n",
       "      <td>NaN</td>\n",
       "      <td>Layer 3</td>\n",
       "      <td>${\\bf{x}}_{\\alpha \\, 1}^3$</td>\n",
       "      <td>NaN</td>\n",
       "      <td>older</td>\n",
       "    </tr>\n",
       "    <tr>\n",
       "      <th>2</th>\n",
       "      <td>NaN</td>\n",
       "      <td>NaN</td>\n",
       "      <td>NaN</td>\n",
       "      <td>9.0</td>\n",
       "      <td>4.0</td>\n",
       "      <td>3.0</td>\n",
       "      <td>NaN</td>\n",
       "      <td>NaN</td>\n",
       "      <td>Layer 3</td>\n",
       "      <td>${\\bf{x}}_{\\alpha \\, 2}^3$</td>\n",
       "      <td>NaN</td>\n",
       "      <td>older</td>\n",
       "    </tr>\n",
       "    <tr>\n",
       "      <th rowspan=\"4\" valign=\"top\">foliations</th>\n",
       "      <th>0</th>\n",
       "      <td>0.258819</td>\n",
       "      <td>1.584810e-17</td>\n",
       "      <td>0.965926</td>\n",
       "      <td>7.0</td>\n",
       "      <td>4.0</td>\n",
       "      <td>7.0</td>\n",
       "      <td>90.0</td>\n",
       "      <td>15.0</td>\n",
       "      <td>Layer 1</td>\n",
       "      <td>${\\bf{x}}_{\\beta \\,{0}}$</td>\n",
       "      <td>1.0</td>\n",
       "      <td>younger</td>\n",
       "    </tr>\n",
       "    <tr>\n",
       "      <th>1</th>\n",
       "      <td>-0.342020</td>\n",
       "      <td>-2.094269e-17</td>\n",
       "      <td>0.939693</td>\n",
       "      <td>2.0</td>\n",
       "      <td>4.0</td>\n",
       "      <td>4.0</td>\n",
       "      <td>90.0</td>\n",
       "      <td>340.0</td>\n",
       "      <td>Layer 2</td>\n",
       "      <td>${\\bf{x}}_{\\beta \\,{1}}$</td>\n",
       "      <td>1.0</td>\n",
       "      <td>younger</td>\n",
       "    </tr>\n",
       "    <tr>\n",
       "      <th>0</th>\n",
       "      <td>0.984808</td>\n",
       "      <td>6.030208e-17</td>\n",
       "      <td>0.173648</td>\n",
       "      <td>1.0</td>\n",
       "      <td>4.0</td>\n",
       "      <td>1.0</td>\n",
       "      <td>90.0</td>\n",
       "      <td>80.0</td>\n",
       "      <td>Layer 3</td>\n",
       "      <td>${\\bf{x}}_{\\beta \\,{3}}$</td>\n",
       "      <td>1.0</td>\n",
       "      <td>older</td>\n",
       "    </tr>\n",
       "    <tr>\n",
       "      <th>0</th>\n",
       "      <td>0.984808</td>\n",
       "      <td>6.030208e-17</td>\n",
       "      <td>0.173648</td>\n",
       "      <td>1.0</td>\n",
       "      <td>4.0</td>\n",
       "      <td>1.0</td>\n",
       "      <td>90.0</td>\n",
       "      <td>80.0</td>\n",
       "      <td>Layer 3</td>\n",
       "      <td>${\\bf{x}}_{\\beta \\,{3}}$</td>\n",
       "      <td>1.0</td>\n",
       "      <td>older</td>\n",
       "    </tr>\n",
       "  </tbody>\n",
       "</table>\n",
       "</div>"
      ],
      "text/plain": [
       "                   G_x           G_y       G_z    X    Y    Z  azimuth    dip  \\\n",
       "interfaces 0       NaN           NaN       NaN  0.5  4.0  7.0      NaN    NaN   \n",
       "           1       NaN           NaN       NaN  2.0  4.0  6.5      NaN    NaN   \n",
       "           2       NaN           NaN       NaN  4.0  4.0  7.0      NaN    NaN   \n",
       "           3       NaN           NaN       NaN  5.0  4.0  6.0      NaN    NaN   \n",
       "           4       NaN           NaN       NaN  3.0  4.0  5.0      NaN    NaN   \n",
       "           5       NaN           NaN       NaN  6.0  4.0  4.0      NaN    NaN   \n",
       "           6       NaN           NaN       NaN  8.0  4.0  4.0      NaN    NaN   \n",
       "           7       NaN           NaN       NaN  7.0  4.0  3.0      NaN    NaN   \n",
       "           8       NaN           NaN       NaN  1.0  4.0  6.0      NaN    NaN   \n",
       "           0       NaN           NaN       NaN  2.0  4.0  3.0      NaN    NaN   \n",
       "           1       NaN           NaN       NaN  8.0  4.0  2.0      NaN    NaN   \n",
       "           2       NaN           NaN       NaN  9.0  4.0  3.0      NaN    NaN   \n",
       "foliations 0  0.258819  1.584810e-17  0.965926  7.0  4.0  7.0     90.0   15.0   \n",
       "           1 -0.342020 -2.094269e-17  0.939693  2.0  4.0  4.0     90.0  340.0   \n",
       "           0  0.984808  6.030208e-17  0.173648  1.0  4.0  1.0     90.0   80.0   \n",
       "           0  0.984808  6.030208e-17  0.173648  1.0  4.0  1.0     90.0   80.0   \n",
       "\n",
       "             formation                      labels  polarity   series  \n",
       "interfaces 0   Layer 1  ${\\bf{x}}_{\\alpha \\, 0}^1$       NaN  younger  \n",
       "           1   Layer 1  ${\\bf{x}}_{\\alpha \\, 1}^1$       NaN  younger  \n",
       "           2   Layer 1  ${\\bf{x}}_{\\alpha \\, 2}^1$       NaN  younger  \n",
       "           3   Layer 1  ${\\bf{x}}_{\\alpha \\, 3}^1$       NaN  younger  \n",
       "           4   Layer 2  ${\\bf{x}}_{\\alpha \\, 0}^2$       NaN  younger  \n",
       "           5   Layer 2  ${\\bf{x}}_{\\alpha \\, 1}^2$       NaN  younger  \n",
       "           6   Layer 2  ${\\bf{x}}_{\\alpha \\, 2}^2$       NaN  younger  \n",
       "           7   Layer 2  ${\\bf{x}}_{\\alpha \\, 3}^2$       NaN  younger  \n",
       "           8   Layer 2  ${\\bf{x}}_{\\alpha \\, 4}^2$       NaN  younger  \n",
       "           0   Layer 3  ${\\bf{x}}_{\\alpha \\, 0}^3$       NaN    older  \n",
       "           1   Layer 3  ${\\bf{x}}_{\\alpha \\, 1}^3$       NaN    older  \n",
       "           2   Layer 3  ${\\bf{x}}_{\\alpha \\, 2}^3$       NaN    older  \n",
       "foliations 0   Layer 1    ${\\bf{x}}_{\\beta \\,{0}}$       1.0  younger  \n",
       "           1   Layer 2    ${\\bf{x}}_{\\beta \\,{1}}$       1.0  younger  \n",
       "           0   Layer 3    ${\\bf{x}}_{\\beta \\,{3}}$       1.0    older  \n",
       "           0   Layer 3    ${\\bf{x}}_{\\beta \\,{3}}$       1.0    older  "
      ]
     },
     "execution_count": 41,
     "metadata": {},
     "output_type": "execute_result"
    }
   ],
   "source": [
    "GeMpy.get_raw_data(geo_data)"
   ]
  },
  {
   "cell_type": "code",
   "execution_count": 39,
   "metadata": {
    "collapsed": false
   },
   "outputs": [
    {
     "data": {
      "text/plain": [
       "array(['Layer 1', 'Layer 2', 'Layer 3'], dtype=object)"
      ]
     },
     "execution_count": 39,
     "metadata": {},
     "output_type": "execute_result"
    }
   ],
   "source": [
    "geo_data.interpolator._data.formations"
   ]
  },
  {
   "cell_type": "code",
   "execution_count": 40,
   "metadata": {
    "collapsed": false
   },
   "outputs": [
    {
     "data": {
      "text/plain": [
       "0"
      ]
     },
     "execution_count": 40,
     "metadata": {},
     "output_type": "execute_result"
    }
   ],
   "source": [
    "GeMpy.compute_block_model(geo_data, )\n"
   ]
  },
  {
   "cell_type": "code",
   "execution_count": 31,
   "metadata": {
    "collapsed": false
   },
   "outputs": [
    {
     "data": {
      "text/plain": [
       "<Visualization.PlotData at 0x7feeb316a390>"
      ]
     },
     "execution_count": 31,
     "metadata": {},
     "output_type": "execute_result"
    },
    {
     "data": {
      "image/png": "[encoded data removed]",
      "text/plain": [
       "<matplotlib.figure.Figure at 0x7feeb316a208>"
      ]
     },
     "metadata": {},
     "output_type": "display_data"
    }
   ],
   "source": [
    "GeMpy.compute_block_model(geo_data)\n",
    "GeMpy.plot_section(geo_data, 10)"
   ]
  },
  {
   "cell_type": "code",
   "execution_count": 15,
   "metadata": {
    "collapsed": false
   },
   "outputs": [
    {
     "data": {
      "image/png": "[encoded data removed]",
      "text/plain": [
       "<matplotlib.figure.Figure at 0x7f2cb8020978>"
      ]
     },
     "metadata": {},
     "output_type": "display_data"
    }
   ],
   "source": [
    "# Reset the block\n",
    "two_pot.Interpolator.block.set_value(np.zeros_like(two_pot.Grid.grid[:,0]))\n",
    "\n",
    "two_pot.Interpolator.compute_block_model(series_number=[1])\n",
    "two_pot.Plot.plot_block_section()"
   ]
  },
  {
   "cell_type": "markdown",
   "metadata": {},
   "source": [
    "Combining both potential field where the first potential field is younger than the second we can obtain the following structure."
   ]
  },
  {
   "cell_type": "code",
   "execution_count": 16,
   "metadata": {
    "collapsed": false
   },
   "outputs": [
    {
     "data": {
      "image/png": "[encoded data removed]",
      "text/plain": [
       "<matplotlib.figure.Figure at 0x7f2cb80cf940>"
      ]
     },
     "metadata": {},
     "output_type": "display_data"
    }
   ],
   "source": [
    "# Reset the block\n",
    "two_pot.Interpolator.block.set_value(np.zeros_like(two_pot.Grid.grid[:,0]))\n",
    "\n",
    "two_pot.Interpolator.compute_block_model(series_number=[0,1])\n",
    "two_pot.Plot.plot_block_section()"
   ]
  },
  {
   "cell_type": "markdown",
   "metadata": {},
   "source": [
    "## Side note: Example of covariances involved in the cokriging system"
   ]
  },
  {
   "cell_type": "code",
   "execution_count": 21,
   "metadata": {
    "collapsed": false,
    "hide_input": true
   },
   "outputs": [
    {
     "data": {
      "image/png": "[encoded data removed]",
      "text/plain": [
       "<matplotlib.figure.Figure at 0x7f2cb3f45b70>"
      ]
     },
     "metadata": {},
     "output_type": "display_data"
    },
    {
     "data": {
      "image/png": "[encoded data removed]",
      "text/plain": [
       "<matplotlib.figure.Figure at 0x7f2cb3f453c8>"
      ]
     },
     "metadata": {},
     "output_type": "display_data"
    },
    {
     "data": {
      "image/png": "[encoded data removed]",
      "text/plain": [
       "<matplotlib.figure.Figure at 0x7f2c9e6f1ac8>"
      ]
     },
     "metadata": {},
     "output_type": "display_data"
    },
    {
     "data": {
      "image/png": "[encoded data removed]",
      "text/plain": [
       "<matplotlib.figure.Figure at 0x7f2c9e383ef0>"
      ]
     },
     "metadata": {},
     "output_type": "display_data"
    }
   ],
   "source": [
    "plot_potential_var(10,10**2 / 14 / 3  , 0.01)\n",
    "\n",
    "plot_all(10,10**2 / 14 / 3  , 0.01) # 0**2 /14/3"
   ]
  }
 ],
 "metadata": {
  "anaconda-cloud": {},
  "kernelspec": {
   "display_name": "Python [Root]",
   "language": "python",
   "name": "Python [Root]"
  },
  "language_info": {
   "codemirror_mode": {
    "name": "ipython",
    "version": 3
   },
   "file_extension": ".py",
   "mimetype": "text/x-python",
   "name": "python",
   "nbconvert_exporter": "python",
   "pygments_lexer": "ipython3",
   "version": "3.5.2"
  },
  "latex_envs": {
   "bibliofile": "biblio.bib",
   "cite_by": "number",
   "current_citInitial": 1,
   "eqLabelWithNumbers": true,
   "eqNumInitial": 0
  },
  "nav_menu": {},
  "toc": {
   "navigate_menu": true,
   "number_sections": false,
   "sideBar": true,
   "threshold": 6,
   "toc_cell": false,
   "toc_section_display": "block",
   "toc_window_display": false
  },
  "widgets": {
   "state": {
    "1ee5022b4f9f45e483ae7ccf03ca3c3e": {
     "views": [
      {
       "cell_index": 11
      }
     ]
    },
    "22ef791234f342b4a94e09526102191b": {
     "views": [
      {
       "cell_index": 11
      }
     ]
    },
    "343cd8362c4143a1afe3641610de199f": {
     "views": [
      {
       "cell_index": 11
      }
     ]
    },
    "3f96bde8c8f848b69d230d0ea8e64e41": {
     "views": [
      {
       "cell_index": 11
      }
     ]
    },
    "4d55b2f1c133408aad02162a52851834": {
     "views": [
      {
       "cell_index": 11
      }
     ]
    },
    "683673c088a24c7db014170ba8547feb": {
     "views": [
      {
       "cell_index": 11
      }
     ]
    },
    "837cd7218c8c486f8994f1f3022b4ddd": {
     "views": [
      {
       "cell_index": 11
      }
     ]
    },
    "85442168898b459fb20b2659cc5eb132": {
     "views": [
      {
       "cell_index": 11
      }
     ]
    },
    "8d9a443f1bb141b59051dd38fa39b9ef": {
     "views": [
      {
       "cell_index": 11
      }
     ]
    },
    "bb3fcd1487374b31b92bbecaa14c2b1a": {
     "views": [
      {
       "cell_index": 11
      }
     ]
    },
    "be5cd8606ac44e08831fc566208d8b94": {
     "views": [
      {
       "cell_index": 11
      }
     ]
    }
   },
   "version": "1.2.0"
  }
 },
 "nbformat": 4,
 "nbformat_minor": 0
}
