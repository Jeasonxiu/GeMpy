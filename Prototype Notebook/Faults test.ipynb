{
 "cells": [
  {
   "cell_type": "code",
   "execution_count": 1,
   "metadata": {
    "collapsed": false
   },
   "outputs": [],
   "source": [
    "# Importing\n",
    "import theano.tensor as T\n",
    "import sys, os\n",
    "sys.path.append(\"../GeMpy\")\n",
    "\n",
    "# Importing GeMpy modules\n",
    "import GeMpy\n",
    "\n",
    "# Reloading (only for development purposes)\n",
    "import importlib\n",
    "importlib.reload(GeMpy)\n",
    "\n",
    "# Usuful packages\n",
    "import numpy as np\n",
    "import pandas as pn\n",
    "\n",
    "import matplotlib.pyplot as plt\n",
    "\n",
    "# This was to choose the gpu\n",
    "os.environ['CUDA_LAUNCH_BLOCKING'] = '1'\n",
    "\n",
    "# Default options of printin\n",
    "np.set_printoptions(precision = 6, linewidth= 130, suppress =  True)\n",
    "\n",
    "%matplotlib inline\n",
    "#%matplotlib notebook"
   ]
  },
  {
   "cell_type": "code",
   "execution_count": 2,
   "metadata": {
    "collapsed": true
   },
   "outputs": [],
   "source": [
    "geo_data = GeMpy.import_data([0,10,0,10,0,10])"
   ]
  },
  {
   "cell_type": "code",
   "execution_count": 3,
   "metadata": {
    "collapsed": false
   },
   "outputs": [
    {
     "data": {
      "text/html": [
       "<div>\n",
       "<table border=\"1\" class=\"dataframe\">\n",
       "  <thead>\n",
       "    <tr style=\"text-align: right;\">\n",
       "      <th></th>\n",
       "      <th></th>\n",
       "      <th>G_x</th>\n",
       "      <th>G_y</th>\n",
       "      <th>G_z</th>\n",
       "      <th>X</th>\n",
       "      <th>Y</th>\n",
       "      <th>Z</th>\n",
       "      <th>azimuth</th>\n",
       "      <th>dip</th>\n",
       "      <th>formation</th>\n",
       "      <th>polarity</th>\n",
       "      <th>series</th>\n",
       "    </tr>\n",
       "  </thead>\n",
       "  <tbody>\n",
       "    <tr>\n",
       "      <th rowspan=\"6\" valign=\"top\">interfaces</th>\n",
       "      <th>0</th>\n",
       "      <td>NaN</td>\n",
       "      <td>NaN</td>\n",
       "      <td>NaN</td>\n",
       "      <td>3.0</td>\n",
       "      <td>4.0</td>\n",
       "      <td>7.0</td>\n",
       "      <td>NaN</td>\n",
       "      <td>NaN</td>\n",
       "      <td>Layer 1</td>\n",
       "      <td>NaN</td>\n",
       "      <td>Default serie</td>\n",
       "    </tr>\n",
       "    <tr>\n",
       "      <th>1</th>\n",
       "      <td>NaN</td>\n",
       "      <td>NaN</td>\n",
       "      <td>NaN</td>\n",
       "      <td>4.0</td>\n",
       "      <td>5.0</td>\n",
       "      <td>7.0</td>\n",
       "      <td>NaN</td>\n",
       "      <td>NaN</td>\n",
       "      <td>Layer 1</td>\n",
       "      <td>NaN</td>\n",
       "      <td>Default serie</td>\n",
       "    </tr>\n",
       "    <tr>\n",
       "      <th>2</th>\n",
       "      <td>NaN</td>\n",
       "      <td>NaN</td>\n",
       "      <td>NaN</td>\n",
       "      <td>6.5</td>\n",
       "      <td>4.0</td>\n",
       "      <td>5.0</td>\n",
       "      <td>NaN</td>\n",
       "      <td>NaN</td>\n",
       "      <td>Layer 1</td>\n",
       "      <td>NaN</td>\n",
       "      <td>Default serie</td>\n",
       "    </tr>\n",
       "    <tr>\n",
       "      <th>3</th>\n",
       "      <td>NaN</td>\n",
       "      <td>NaN</td>\n",
       "      <td>NaN</td>\n",
       "      <td>3.0</td>\n",
       "      <td>4.0</td>\n",
       "      <td>4.0</td>\n",
       "      <td>NaN</td>\n",
       "      <td>NaN</td>\n",
       "      <td>Layer 2</td>\n",
       "      <td>NaN</td>\n",
       "      <td>Default serie</td>\n",
       "    </tr>\n",
       "    <tr>\n",
       "      <th>4</th>\n",
       "      <td>NaN</td>\n",
       "      <td>NaN</td>\n",
       "      <td>NaN</td>\n",
       "      <td>4.0</td>\n",
       "      <td>5.0</td>\n",
       "      <td>4.0</td>\n",
       "      <td>NaN</td>\n",
       "      <td>NaN</td>\n",
       "      <td>Layer 2</td>\n",
       "      <td>NaN</td>\n",
       "      <td>Default serie</td>\n",
       "    </tr>\n",
       "    <tr>\n",
       "      <th>5</th>\n",
       "      <td>NaN</td>\n",
       "      <td>NaN</td>\n",
       "      <td>NaN</td>\n",
       "      <td>8.0</td>\n",
       "      <td>4.0</td>\n",
       "      <td>2.0</td>\n",
       "      <td>NaN</td>\n",
       "      <td>NaN</td>\n",
       "      <td>Layer 2</td>\n",
       "      <td>NaN</td>\n",
       "      <td>Default serie</td>\n",
       "    </tr>\n",
       "    <tr>\n",
       "      <th rowspan=\"2\" valign=\"top\">foliations</th>\n",
       "      <th>0</th>\n",
       "      <td>0.0</td>\n",
       "      <td>0.0</td>\n",
       "      <td>1.0</td>\n",
       "      <td>7.0</td>\n",
       "      <td>4.0</td>\n",
       "      <td>7.0</td>\n",
       "      <td>90.0</td>\n",
       "      <td>0.0</td>\n",
       "      <td>Layer 1</td>\n",
       "      <td>1.0</td>\n",
       "      <td>Default serie</td>\n",
       "    </tr>\n",
       "    <tr>\n",
       "      <th>1</th>\n",
       "      <td>0.0</td>\n",
       "      <td>0.0</td>\n",
       "      <td>1.0</td>\n",
       "      <td>2.0</td>\n",
       "      <td>5.0</td>\n",
       "      <td>4.0</td>\n",
       "      <td>90.0</td>\n",
       "      <td>0.0</td>\n",
       "      <td>Layer 2</td>\n",
       "      <td>1.0</td>\n",
       "      <td>Default serie</td>\n",
       "    </tr>\n",
       "  </tbody>\n",
       "</table>\n",
       "</div>"
      ],
      "text/plain": [
       "              G_x  G_y  G_z    X    Y    Z  azimuth  dip formation  polarity  \\\n",
       "interfaces 0  NaN  NaN  NaN  3.0  4.0  7.0      NaN  NaN   Layer 1       NaN   \n",
       "           1  NaN  NaN  NaN  4.0  5.0  7.0      NaN  NaN   Layer 1       NaN   \n",
       "           2  NaN  NaN  NaN  6.5  4.0  5.0      NaN  NaN   Layer 1       NaN   \n",
       "           3  NaN  NaN  NaN  3.0  4.0  4.0      NaN  NaN   Layer 2       NaN   \n",
       "           4  NaN  NaN  NaN  4.0  5.0  4.0      NaN  NaN   Layer 2       NaN   \n",
       "           5  NaN  NaN  NaN  8.0  4.0  2.0      NaN  NaN   Layer 2       NaN   \n",
       "foliations 0  0.0  0.0  1.0  7.0  4.0  7.0     90.0  0.0   Layer 1       1.0   \n",
       "           1  0.0  0.0  1.0  2.0  5.0  4.0     90.0  0.0   Layer 2       1.0   \n",
       "\n",
       "                     series  \n",
       "interfaces 0  Default serie  \n",
       "           1  Default serie  \n",
       "           2  Default serie  \n",
       "           3  Default serie  \n",
       "           4  Default serie  \n",
       "           5  Default serie  \n",
       "foliations 0  Default serie  \n",
       "           1  Default serie  "
      ]
     },
     "execution_count": 3,
     "metadata": {},
     "output_type": "execute_result"
    }
   ],
   "source": [
    "# =========================\n",
    "# DATA GENERATION IN PYTHON\n",
    "# =========================\n",
    "# Layers coordinates\n",
    "layer_1 = np.array([[3,4,7], [4,5,7], [6.5,4,5]])#-np.array([5,5,4]))/8+0.5\n",
    "layer_2 = np.array([[3,4,4], [4,5,4],[8,4,2]])\n",
    "layers = np.asarray([layer_1,layer_2])\n",
    "\n",
    "# Foliations coordinates\n",
    "dip_pos_1 = np.array([7,4,7])#- np.array([5,5,4]))/8+0.5\n",
    "dip_pos_2 = np.array([2.,5,4])\n",
    "\n",
    "# Dips\n",
    "dip_angle_1 = float(0)\n",
    "dip_angle_2 = float(0)\n",
    "dips_angles = np.asarray([dip_angle_1, dip_angle_2], dtype=\"float64\")\n",
    "\n",
    "# Azimuths\n",
    "azimuths = np.asarray([90,90], dtype=\"float64\")\n",
    "\n",
    "# Polarity\n",
    "polarity = np.asarray([1,1], dtype=\"float64\")\n",
    "\n",
    "GeMpy.set_interfaces(geo_data, pn.DataFrame(\n",
    "    data = {\"X\" :np.append(layer_1[:, 0],layer_2[:,0]),\n",
    "            \"Y\" :np.append(layer_1[:, 1],layer_2[:,1]),\n",
    "            \"Z\" :np.append(layer_1[:, 2],layer_2[:,2]),\n",
    "            \"formation\" : np.append(\n",
    "               np.tile(\"Layer 1\", len(layer_1)), \n",
    "               np.tile(\"Layer 2\", len(layer_2))),}))\n",
    "\n",
    "GeMpy.set_foliations(geo_data,  pn.DataFrame(\n",
    "    data = {\"X\" :np.append(dip_pos_1[0],dip_pos_2[0]),\n",
    "            \"Y\" :np.append(dip_pos_1[ 1],dip_pos_2[1]),\n",
    "            \"Z\" :np.append(dip_pos_1[ 2],dip_pos_2[2]),\n",
    "            \"azimuth\" : azimuths,\n",
    "            \"dip\" : dips_angles,\n",
    "            \"polarity\" : polarity,\n",
    "            \"formation\" : [\"Layer 1\", \"Layer 2\"],\n",
    "             })) \n",
    "geo_data.calculate_gradient()\n",
    "GeMpy.get_raw_data(geo_data)"
   ]
  },
  {
   "cell_type": "code",
   "execution_count": 4,
   "metadata": {
    "collapsed": false
   },
   "outputs": [
    {
     "data": {
      "text/plain": [
       "<Visualization.PlotData at 0x7f9c76157908>"
      ]
     },
     "execution_count": 4,
     "metadata": {},
     "output_type": "execute_result"
    },
    {
     "data": {
      "image/png": "[encoded data removed]",
      "text/plain": [
       "<matplotlib.figure.Figure at 0x7f9c76157cc0>"
      ]
     },
     "metadata": {},
     "output_type": "display_data"
    }
   ],
   "source": [
    "GeMpy.plot_data(geo_data)"
   ]
  },
  {
   "cell_type": "code",
   "execution_count": 5,
   "metadata": {
    "collapsed": false,
    "scrolled": false
   },
   "outputs": [
    {
     "data": {
      "image/png": "[encoded data removed]",
      "text/plain": [
       "<matplotlib.figure.Figure at 0x7f9c62b7efd0>"
      ]
     },
     "metadata": {},
     "output_type": "display_data"
    }
   ],
   "source": [
    "GeMpy.set_interpolator(geo_data, u_grade = 1)\n",
    "GeMpy.plot_potential_field(geo_data, 5)\n"
   ]
  },
  {
   "cell_type": "code",
   "execution_count": 11,
   "metadata": {
    "collapsed": false
   },
   "outputs": [
    {
     "data": {
      "text/plain": [
       "array([  0.,   0.,   0., ...,  10.,  10.,  10.], dtype=float32)"
      ]
     },
     "execution_count": 11,
     "metadata": {},
     "output_type": "execute_result"
    }
   ],
   "source": [
    "geo_data.interpolator.universal_matrix_T.get_value()[0,:]"
   ]
  },
  {
   "cell_type": "code",
   "execution_count": 6,
   "metadata": {
    "collapsed": false
   },
   "outputs": [
    {
     "data": {
      "text/plain": [
       "<Visualization.PlotData at 0x7f9c62b872e8>"
      ]
     },
     "execution_count": 6,
     "metadata": {},
     "output_type": "execute_result"
    },
    {
     "data": {
      "image/png": "[encoded data removed]",
      "text/plain": [
       "<matplotlib.figure.Figure at 0x7f9c76157898>"
      ]
     },
     "metadata": {},
     "output_type": "display_data"
    }
   ],
   "source": [
    "GeMpy.compute_block_model(geo_data)\n",
    "GeMpy.plot_section(geo_data, 5)"
   ]
  },
  {
   "cell_type": "code",
   "execution_count": 7,
   "metadata": {
    "collapsed": false
   },
   "outputs": [
    {
     "data": {
      "text/plain": [
       "array([[ 0.343333,  0.016898,  0.      ,  0.023796,  0.      , -0.071388, -0.018496, -0.107727, -0.017176, -0.135072,  1.      ,\n",
       "         0.      ,  0.      ,  0.      ],\n",
       "       [ 0.016898,  0.343333,  0.023796,  0.      , -0.071388,  0.      , -0.032888, -0.092423, -0.04018 , -0.075381,  1.      ,\n",
       "         0.      ,  0.      ,  0.      ],\n",
       "       [ 0.      ,  0.023796,  0.343333,  0.131119,  0.      ,  0.014278, -0.036956,  0.      , -0.030427,  0.      ,  0.      ,\n",
       "         1.      ,  0.      ,  0.      ],\n",
       "       [ 0.023796,  0.      ,  0.131119,  0.343333,  0.014278,  0.      , -0.036091, -0.007533, -0.047088, -0.026677,  0.      ,\n",
       "         1.      ,  0.      ,  0.      ],\n",
       "       [ 0.      , -0.071388,  0.      ,  0.014278,  0.343333,  0.093045,  0.      ,  0.086548,  0.009938,  0.051735,  0.      ,\n",
       "         0.      ,  1.      ,  0.      ],\n",
       "       [-0.071388,  0.      ,  0.014278,  0.      ,  0.093045,  0.343333,  0.004805,  0.079715,  0.      ,  0.040823,  0.      ,\n",
       "         0.      ,  1.      ,  0.      ],\n",
       "       [-0.018496, -0.032888, -0.036956, -0.036091,  0.      ,  0.004805,  0.016634,  0.022467,  0.012321,  0.018667, -0.166667,\n",
       "        -0.166667, -0.      ,  0.833333],\n",
       "       [-0.107727, -0.092423,  0.      , -0.007533,  0.086548,  0.079715,  0.022467,  0.107627,  0.021307,  0.094041, -0.583333,\n",
       "        -0.      ,  0.333333, -0.833333],\n",
       "       [-0.017176, -0.04018 , -0.030427, -0.047088,  0.009938,  0.      ,  0.012321,  0.021307,  0.016634,  0.026417, -0.166667,\n",
       "        -0.166667, -0.      ,  0.833333],\n",
       "       [-0.135072, -0.075381,  0.      , -0.026677,  0.051735,  0.040823,  0.018667,  0.094041,  0.026417,  0.168113, -0.833333,\n",
       "        -0.      ,  0.333333, -0.833333],\n",
       "       [ 1.      ,  1.      ,  0.      ,  0.      ,  0.      ,  0.      , -0.166667, -0.583333, -0.166667, -0.833333,  0.      ,\n",
       "         0.      ,  0.      ,  0.      ],\n",
       "       [ 0.      ,  0.      ,  1.      ,  1.      ,  0.      ,  0.      , -0.166667, -0.      , -0.166667, -0.      ,  0.      ,\n",
       "         0.      ,  0.      ,  0.      ],\n",
       "       [ 0.      ,  0.      ,  0.      ,  0.      ,  1.      ,  1.      , -0.      ,  0.333333, -0.      ,  0.333333,  0.      ,\n",
       "         0.      ,  0.      ,  0.      ],\n",
       "       [ 0.      ,  0.      ,  0.      ,  0.      ,  0.      ,  0.      ,  0.833333, -0.833333,  0.833333, -0.833333,  0.      ,\n",
       "         0.      ,  0.      ,  0.      ]])"
      ]
     },
     "execution_count": 7,
     "metadata": {},
     "output_type": "execute_result"
    }
   ],
   "source": [
    "geo_data.interpolator.C"
   ]
  },
  {
   "cell_type": "code",
   "execution_count": 10,
   "metadata": {
    "collapsed": false
   },
   "outputs": [],
   "source": [
    "import theano\n",
    "theano.printing?#+s+ers"
   ]
  },
  {
   "cell_type": "code",
   "execution_count": 61,
   "metadata": {
    "collapsed": false
   },
   "outputs": [
    {
     "data": {
      "image/png": "[encoded data removed]",
      "text/plain": [
       "<matplotlib.figure.Figure at 0x7f9b83f04160>"
      ]
     },
     "metadata": {},
     "output_type": "display_data"
    }
   ],
   "source": [
    "GeMpy.plot_potential_field(geo_data, 5)"
   ]
  },
  {
   "cell_type": "code",
   "execution_count": 11,
   "metadata": {
    "collapsed": false
   },
   "outputs": [
    {
     "name": "stdout",
     "output_type": "stream",
     "text": [
      "> \u001b[1;32m/home/bl3/anaconda3/lib/python3.5/site-packages/theano/compile/function_module.py\u001b[0m(871)\u001b[0;36m__call__\u001b[1;34m()\u001b[0m\n",
      "\u001b[1;32m    869 \u001b[1;33m                    \u001b[0mnode\u001b[0m\u001b[1;33m=\u001b[0m\u001b[0mself\u001b[0m\u001b[1;33m.\u001b[0m\u001b[0mfn\u001b[0m\u001b[1;33m.\u001b[0m\u001b[0mnodes\u001b[0m\u001b[1;33m[\u001b[0m\u001b[0mself\u001b[0m\u001b[1;33m.\u001b[0m\u001b[0mfn\u001b[0m\u001b[1;33m.\u001b[0m\u001b[0mposition_of_error\u001b[0m\u001b[1;33m]\u001b[0m\u001b[1;33m,\u001b[0m\u001b[1;33m\u001b[0m\u001b[0m\n",
      "\u001b[0m\u001b[1;32m    870 \u001b[1;33m                    \u001b[0mthunk\u001b[0m\u001b[1;33m=\u001b[0m\u001b[0mthunk\u001b[0m\u001b[1;33m,\u001b[0m\u001b[1;33m\u001b[0m\u001b[0m\n",
      "\u001b[0m\u001b[1;32m--> 871 \u001b[1;33m                    storage_map=getattr(self.fn, 'storage_map', None))\n",
      "\u001b[0m\u001b[1;32m    872 \u001b[1;33m            \u001b[1;32melse\u001b[0m\u001b[1;33m:\u001b[0m\u001b[1;33m\u001b[0m\u001b[0m\n",
      "\u001b[0m\u001b[1;32m    873 \u001b[1;33m                \u001b[1;31m# old-style linkers raise their own exceptions\u001b[0m\u001b[1;33m\u001b[0m\u001b[1;33m\u001b[0m\u001b[0m\n",
      "\u001b[0m\n",
      "\u0001\u0002ipdb> \u0001\u0002u\n",
      "> \u001b[1;32m/home/bl3/PycharmProjects/GeMpy/GeMpy/DataManagement.py\u001b[0m(562)\u001b[0;36m_aux_computations_potential_field\u001b[1;34m()\u001b[0m\n",
      "\u001b[1;32m    560 \u001b[1;33m            self.Z_x, G_x, G_y, G_z, self.potential_interfaces, self.C, self.DK = self._interpolate(\n",
      "\u001b[0m\u001b[1;32m    561 \u001b[1;33m                \u001b[0mdips_position\u001b[0m\u001b[1;33m,\u001b[0m \u001b[0mdip_angles\u001b[0m\u001b[1;33m,\u001b[0m \u001b[0mazimuth\u001b[0m\u001b[1;33m,\u001b[0m \u001b[0mpolarity\u001b[0m\u001b[1;33m,\u001b[0m\u001b[1;33m\u001b[0m\u001b[0m\n",
      "\u001b[0m\u001b[1;32m--> 562 \u001b[1;33m                rest_layer_points, ref_layer_points)[:]\n",
      "\u001b[0m\u001b[1;32m    563 \u001b[1;33m\u001b[1;33m\u001b[0m\u001b[0m\n",
      "\u001b[0m\u001b[1;32m    564 \u001b[1;33m            \u001b[0mpotential_field\u001b[0m \u001b[1;33m=\u001b[0m \u001b[0mself\u001b[0m\u001b[1;33m.\u001b[0m\u001b[0mZ_x\u001b[0m\u001b[1;33m.\u001b[0m\u001b[0mreshape\u001b[0m\u001b[1;33m(\u001b[0m\u001b[0mself\u001b[0m\u001b[1;33m.\u001b[0m\u001b[0m_data\u001b[0m\u001b[1;33m.\u001b[0m\u001b[0mnx\u001b[0m\u001b[1;33m,\u001b[0m \u001b[0mself\u001b[0m\u001b[1;33m.\u001b[0m\u001b[0m_data\u001b[0m\u001b[1;33m.\u001b[0m\u001b[0mny\u001b[0m\u001b[1;33m,\u001b[0m \u001b[0mself\u001b[0m\u001b[1;33m.\u001b[0m\u001b[0m_data\u001b[0m\u001b[1;33m.\u001b[0m\u001b[0mnz\u001b[0m\u001b[1;33m)\u001b[0m\u001b[1;33m\u001b[0m\u001b[0m\n",
      "\u001b[0m\n",
      "\u0001\u0002ipdb> \u0001\u0002universal_matrix\n",
      "*** NameError: name 'universal_matrix' is not defined\n",
      "\u0001\u0002ipdb> \u0001\u0002d\n",
      "> \u001b[1;32m/home/bl3/anaconda3/lib/python3.5/site-packages/theano/compile/function_module.py\u001b[0m(871)\u001b[0;36m__call__\u001b[1;34m()\u001b[0m\n",
      "\u001b[1;32m    869 \u001b[1;33m                    \u001b[0mnode\u001b[0m\u001b[1;33m=\u001b[0m\u001b[0mself\u001b[0m\u001b[1;33m.\u001b[0m\u001b[0mfn\u001b[0m\u001b[1;33m.\u001b[0m\u001b[0mnodes\u001b[0m\u001b[1;33m[\u001b[0m\u001b[0mself\u001b[0m\u001b[1;33m.\u001b[0m\u001b[0mfn\u001b[0m\u001b[1;33m.\u001b[0m\u001b[0mposition_of_error\u001b[0m\u001b[1;33m]\u001b[0m\u001b[1;33m,\u001b[0m\u001b[1;33m\u001b[0m\u001b[0m\n",
      "\u001b[0m\u001b[1;32m    870 \u001b[1;33m                    \u001b[0mthunk\u001b[0m\u001b[1;33m=\u001b[0m\u001b[0mthunk\u001b[0m\u001b[1;33m,\u001b[0m\u001b[1;33m\u001b[0m\u001b[0m\n",
      "\u001b[0m\u001b[1;32m--> 871 \u001b[1;33m                    storage_map=getattr(self.fn, 'storage_map', None))\n",
      "\u001b[0m\u001b[1;32m    872 \u001b[1;33m            \u001b[1;32melse\u001b[0m\u001b[1;33m:\u001b[0m\u001b[1;33m\u001b[0m\u001b[0m\n",
      "\u001b[0m\u001b[1;32m    873 \u001b[1;33m                \u001b[1;31m# old-style linkers raise their own exceptions\u001b[0m\u001b[1;33m\u001b[0m\u001b[1;33m\u001b[0m\u001b[0m\n",
      "\u001b[0m\n",
      "\u0001\u0002ipdb> \u0001\u0002universal_matrix\n",
      "*** NameError: name 'universal_matrix' is not defined\n",
      "\u0001\u0002ipdb> \u0001\u0002u\n",
      "> \u001b[1;32m/home/bl3/PycharmProjects/GeMpy/GeMpy/DataManagement.py\u001b[0m(562)\u001b[0;36m_aux_computations_potential_field\u001b[1;34m()\u001b[0m\n",
      "\u001b[1;32m    560 \u001b[1;33m            self.Z_x, G_x, G_y, G_z, self.potential_interfaces, self.C, self.DK = self._interpolate(\n",
      "\u001b[0m\u001b[1;32m    561 \u001b[1;33m                \u001b[0mdips_position\u001b[0m\u001b[1;33m,\u001b[0m \u001b[0mdip_angles\u001b[0m\u001b[1;33m,\u001b[0m \u001b[0mazimuth\u001b[0m\u001b[1;33m,\u001b[0m \u001b[0mpolarity\u001b[0m\u001b[1;33m,\u001b[0m\u001b[1;33m\u001b[0m\u001b[0m\n",
      "\u001b[0m\u001b[1;32m--> 562 \u001b[1;33m                rest_layer_points, ref_layer_points)[:]\n",
      "\u001b[0m\u001b[1;32m    563 \u001b[1;33m\u001b[1;33m\u001b[0m\u001b[0m\n",
      "\u001b[0m\u001b[1;32m    564 \u001b[1;33m            \u001b[0mpotential_field\u001b[0m \u001b[1;33m=\u001b[0m \u001b[0mself\u001b[0m\u001b[1;33m.\u001b[0m\u001b[0mZ_x\u001b[0m\u001b[1;33m.\u001b[0m\u001b[0mreshape\u001b[0m\u001b[1;33m(\u001b[0m\u001b[0mself\u001b[0m\u001b[1;33m.\u001b[0m\u001b[0m_data\u001b[0m\u001b[1;33m.\u001b[0m\u001b[0mnx\u001b[0m\u001b[1;33m,\u001b[0m \u001b[0mself\u001b[0m\u001b[1;33m.\u001b[0m\u001b[0m_data\u001b[0m\u001b[1;33m.\u001b[0m\u001b[0mny\u001b[0m\u001b[1;33m,\u001b[0m \u001b[0mself\u001b[0m\u001b[1;33m.\u001b[0m\u001b[0m_data\u001b[0m\u001b[1;33m.\u001b[0m\u001b[0mnz\u001b[0m\u001b[1;33m)\u001b[0m\u001b[1;33m\u001b[0m\u001b[0m\n",
      "\u001b[0m\n",
      "\u0001\u0002ipdb> \u0001\u0002u\n",
      "> \u001b[1;32m/home/bl3/PycharmProjects/GeMpy/GeMpy/DataManagement.py\u001b[0m(438)\u001b[0;36mcompute_potential_field\u001b[1;34m()\u001b[0m\n",
      "\u001b[1;32m    436 \u001b[1;33m            \u001b[1;32massert\u001b[0m \u001b[0mseries_name\u001b[0m \u001b[1;32mis\u001b[0m \u001b[1;32mnot\u001b[0m \u001b[1;34m\"all\"\u001b[0m\u001b[1;33m,\u001b[0m \u001b[1;34m\"Compute potential field only returns one potential field at the time\"\u001b[0m\u001b[1;33m\u001b[0m\u001b[0m\n",
      "\u001b[0m\u001b[1;32m    437 \u001b[1;33m            \u001b[0mformations_in_serie\u001b[0m \u001b[1;33m=\u001b[0m \u001b[0mself\u001b[0m\u001b[1;33m.\u001b[0m\u001b[0m_select_serie\u001b[0m\u001b[1;33m(\u001b[0m\u001b[0mseries_name\u001b[0m\u001b[1;33m)\u001b[0m\u001b[1;33m\u001b[0m\u001b[0m\n",
      "\u001b[0m\u001b[1;32m--> 438 \u001b[1;33m            \u001b[1;32mreturn\u001b[0m \u001b[0mself\u001b[0m\u001b[1;33m.\u001b[0m\u001b[0m_aux_computations_potential_field\u001b[0m\u001b[1;33m(\u001b[0m\u001b[0mformations_in_serie\u001b[0m\u001b[1;33m,\u001b[0m \u001b[0mverbose\u001b[0m\u001b[1;33m=\u001b[0m\u001b[0mverbose\u001b[0m\u001b[1;33m)\u001b[0m\u001b[1;33m\u001b[0m\u001b[0m\n",
      "\u001b[0m\u001b[1;32m    439 \u001b[1;33m\u001b[1;33m\u001b[0m\u001b[0m\n",
      "\u001b[0m\u001b[1;32m    440 \u001b[1;33m        \u001b[1;32mdef\u001b[0m \u001b[0m_aux_computations_block_model\u001b[0m\u001b[1;33m(\u001b[0m\u001b[0mself\u001b[0m\u001b[1;33m,\u001b[0m \u001b[0mfor_in_ser\u001b[0m\u001b[1;33m,\u001b[0m \u001b[0mn_formation\u001b[0m\u001b[1;33m,\u001b[0m \u001b[0mverbose\u001b[0m\u001b[1;33m=\u001b[0m\u001b[1;36m0\u001b[0m\u001b[1;33m)\u001b[0m\u001b[1;33m:\u001b[0m\u001b[1;33m\u001b[0m\u001b[0m\n",
      "\u001b[0m\n",
      "\u0001\u0002ipdb> \u0001\u0002u\n",
      "> \u001b[1;32m/home/bl3/PycharmProjects/GeMpy/GeMpy/DataManagement.py\u001b[0m(316)\u001b[0;36m<listcomp>\u001b[1;34m()\u001b[0m\n",
      "\u001b[1;32m    314 \u001b[1;33m            \u001b[1;31m# -------------------------\u001b[0m\u001b[1;33m\u001b[0m\u001b[1;33m\u001b[0m\u001b[0m\n",
      "\u001b[0m\u001b[1;32m    315 \u001b[1;33m            self.potential_fields = [self.compute_potential_field(i, verbose=verbose)\n",
      "\u001b[0m\u001b[1;32m--> 316 \u001b[1;33m                                     for i in np.arange(len(self._data.series.columns))]\n",
      "\u001b[0m\u001b[1;32m    317 \u001b[1;33m\u001b[1;33m\u001b[0m\u001b[0m\n",
      "\u001b[0m\u001b[1;32m    318 \u001b[1;33m        \u001b[1;32mdef\u001b[0m \u001b[0mupdate_potential_fields\u001b[0m\u001b[1;33m(\u001b[0m\u001b[0mself\u001b[0m\u001b[1;33m,\u001b[0m \u001b[0mverbose\u001b[0m\u001b[1;33m=\u001b[0m\u001b[1;36m0\u001b[0m\u001b[1;33m)\u001b[0m\u001b[1;33m:\u001b[0m\u001b[1;33m\u001b[0m\u001b[0m\n",
      "\u001b[0m\n",
      "\u0001\u0002ipdb> \u0001\u0002u\n",
      "> \u001b[1;32m/home/bl3/PycharmProjects/GeMpy/GeMpy/DataManagement.py\u001b[0m(316)\u001b[0;36m__init__\u001b[1;34m()\u001b[0m\n",
      "\u001b[1;32m    314 \u001b[1;33m            \u001b[1;31m# -------------------------\u001b[0m\u001b[1;33m\u001b[0m\u001b[1;33m\u001b[0m\u001b[0m\n",
      "\u001b[0m\u001b[1;32m    315 \u001b[1;33m            self.potential_fields = [self.compute_potential_field(i, verbose=verbose)\n",
      "\u001b[0m\u001b[1;32m--> 316 \u001b[1;33m                                     for i in np.arange(len(self._data.series.columns))]\n",
      "\u001b[0m\u001b[1;32m    317 \u001b[1;33m\u001b[1;33m\u001b[0m\u001b[0m\n",
      "\u001b[0m\u001b[1;32m    318 \u001b[1;33m        \u001b[1;32mdef\u001b[0m \u001b[0mupdate_potential_fields\u001b[0m\u001b[1;33m(\u001b[0m\u001b[0mself\u001b[0m\u001b[1;33m,\u001b[0m \u001b[0mverbose\u001b[0m\u001b[1;33m=\u001b[0m\u001b[1;36m0\u001b[0m\u001b[1;33m)\u001b[0m\u001b[1;33m:\u001b[0m\u001b[1;33m\u001b[0m\u001b[0m\n",
      "\u001b[0m\n",
      "\u0001\u0002ipdb> \u0001\u0002exit\n"
     ]
    }
   ],
   "source": [
    "%debug"
   ]
  },
  {
   "cell_type": "code",
   "execution_count": 30,
   "metadata": {
    "collapsed": false
   },
   "outputs": [
    {
     "data": {
      "text/html": [
       "<div>\n",
       "<table border=\"1\" class=\"dataframe\">\n",
       "  <thead>\n",
       "    <tr style=\"text-align: right;\">\n",
       "      <th></th>\n",
       "      <th></th>\n",
       "      <th>G_x</th>\n",
       "      <th>G_y</th>\n",
       "      <th>G_z</th>\n",
       "      <th>X</th>\n",
       "      <th>Y</th>\n",
       "      <th>Z</th>\n",
       "      <th>azimuth</th>\n",
       "      <th>dip</th>\n",
       "      <th>formation</th>\n",
       "      <th>polarity</th>\n",
       "      <th>series</th>\n",
       "    </tr>\n",
       "  </thead>\n",
       "  <tbody>\n",
       "    <tr>\n",
       "      <th>interfaces</th>\n",
       "      <th>0</th>\n",
       "      <td>NaN</td>\n",
       "      <td>NaN</td>\n",
       "      <td>NaN</td>\n",
       "      <td>2</td>\n",
       "      <td>4</td>\n",
       "      <td>3</td>\n",
       "      <td>NaN</td>\n",
       "      <td>NaN</td>\n",
       "      <td>fault</td>\n",
       "      <td>NaN</td>\n",
       "      <td>Default serie</td>\n",
       "    </tr>\n",
       "    <tr>\n",
       "      <th>foliations</th>\n",
       "      <th>0</th>\n",
       "      <td>1.0</td>\n",
       "      <td>6.123234e-17</td>\n",
       "      <td>6.123234e-17</td>\n",
       "      <td>3</td>\n",
       "      <td>4</td>\n",
       "      <td>3</td>\n",
       "      <td>90.0</td>\n",
       "      <td>90.0</td>\n",
       "      <td>fault</td>\n",
       "      <td>1.0</td>\n",
       "      <td>Default serie</td>\n",
       "    </tr>\n",
       "  </tbody>\n",
       "</table>\n",
       "</div>"
      ],
      "text/plain": [
       "              G_x           G_y           G_z  X  Y  Z  azimuth   dip  \\\n",
       "interfaces 0  NaN           NaN           NaN  2  4  3      NaN   NaN   \n",
       "foliations 0  1.0  6.123234e-17  6.123234e-17  3  4  3     90.0  90.0   \n",
       "\n",
       "             formation  polarity         series  \n",
       "interfaces 0     fault       NaN  Default serie  \n",
       "foliations 0     fault       1.0  Default serie  "
      ]
     },
     "execution_count": 30,
     "metadata": {},
     "output_type": "execute_result"
    }
   ],
   "source": [
    "fault = GeMpy.import_data([0,10,0,10,0,10])\n",
    "GeMpy.set_interfaces(fault, pn.DataFrame(\n",
    "      data = {\"X\" : [2],\n",
    "            \"Y\" :[4],\n",
    "            \"Z\" :[3],\n",
    "            \"formation\" : ['fault']}) )\n",
    "GeMpy.set_foliations(fault, pn.DataFrame(\n",
    "      data = {\"X\" : [3],\n",
    "             \"Y\" :[4],\n",
    "             \"Z\" :[3],\n",
    "              \"azimuth\" : 90,\n",
    "              \"dip\" : 90,\n",
    "              'polarity': 1, \n",
    "            \"formation\" : ['fault']}) )\n",
    "fault.calculate_gradient()\n",
    "GeMpy.get_raw_data(fault)"
   ]
  },
  {
   "cell_type": "code",
   "execution_count": 31,
   "metadata": {
    "collapsed": false
   },
   "outputs": [
    {
     "data": {
      "text/plain": [
       "<Visualization.PlotData at 0x7f9b7abf5fd0>"
      ]
     },
     "execution_count": 31,
     "metadata": {},
     "output_type": "execute_result"
    },
    {
     "data": {
      "image/png": "[encoded data removed]",
      "text/plain": [
       "<matplotlib.figure.Figure at 0x7f9b7ae1cc18>"
      ]
     },
     "metadata": {},
     "output_type": "display_data"
    }
   ],
   "source": [
    "GeMpy.plot_data(fault)"
   ]
  },
  {
   "cell_type": "code",
   "execution_count": 33,
   "metadata": {
    "collapsed": false
   },
   "outputs": [
    {
     "ename": "ValueError",
     "evalue": "total size of new array must be unchanged",
     "output_type": "error",
     "traceback": [
      "\u001b[1;31m---------------------------------------------------------------------------\u001b[0m",
      "\u001b[1;31mValueError\u001b[0m                                Traceback (most recent call last)",
      "\u001b[1;32m<ipython-input-33-fa91f2cc53fb>\u001b[0m in \u001b[0;36m<module>\u001b[1;34m()\u001b[0m\n\u001b[1;32m----> 1\u001b[1;33m \u001b[0mGeMpy\u001b[0m\u001b[1;33m.\u001b[0m\u001b[0mset_interpolator\u001b[0m\u001b[1;33m(\u001b[0m\u001b[0mfault\u001b[0m\u001b[1;33m,\u001b[0m \u001b[0mu_grade\u001b[0m \u001b[1;33m=\u001b[0m \u001b[1;36m0\u001b[0m\u001b[1;33m)\u001b[0m\u001b[1;33m\u001b[0m\u001b[0m\n\u001b[0m",
      "\u001b[1;32m/home/bl3/PycharmProjects/GeMpy/GeMpy/GeMpy.py\u001b[0m in \u001b[0;36mset_interpolator\u001b[1;34m(geo_data, compile_theano, *args, **kwargs)\u001b[0m\n\u001b[0;32m    171\u001b[0m     \u001b[1;32mif\u001b[0m \u001b[1;32mnot\u001b[0m \u001b[0mgetattr\u001b[0m\u001b[1;33m(\u001b[0m\u001b[0mgeo_data\u001b[0m\u001b[1;33m,\u001b[0m \u001b[1;34m'interpolator'\u001b[0m\u001b[1;33m,\u001b[0m \u001b[1;32mNone\u001b[0m\u001b[1;33m)\u001b[0m \u001b[1;32mor\u001b[0m \u001b[0mcompile_theano\u001b[0m\u001b[1;33m:\u001b[0m\u001b[1;33m\u001b[0m\u001b[0m\n\u001b[0;32m    172\u001b[0m         geo_data.interpolator = geo_data.InterpolatorClass(geo_data, geo_data.grid, compile_theano=True,\n\u001b[1;32m--> 173\u001b[1;33m                                                            *args, **kwargs)\n\u001b[0m\u001b[0;32m    174\u001b[0m     \u001b[1;32melse\u001b[0m\u001b[1;33m:\u001b[0m\u001b[1;33m\u001b[0m\u001b[0m\n\u001b[0;32m    175\u001b[0m         \u001b[0mgeo_data\u001b[0m\u001b[1;33m.\u001b[0m\u001b[0minterpolator\u001b[0m\u001b[1;33m.\u001b[0m\u001b[0m_data\u001b[0m \u001b[1;33m=\u001b[0m \u001b[0mgeo_data\u001b[0m\u001b[1;33m\u001b[0m\u001b[0m\n",
      "\u001b[1;32m/home/bl3/PycharmProjects/GeMpy/GeMpy/DataManagement.py\u001b[0m in \u001b[0;36m__init__\u001b[1;34m(self, _data, _grid, *args, **kwargs)\u001b[0m\n\u001b[0;32m    314\u001b[0m             \u001b[1;31m# -------------------------\u001b[0m\u001b[1;33m\u001b[0m\u001b[1;33m\u001b[0m\u001b[0m\n\u001b[0;32m    315\u001b[0m             self.potential_fields = [self.compute_potential_field(i, verbose=verbose)\n\u001b[1;32m--> 316\u001b[1;33m                                      for i in np.arange(len(self._data.series.columns))]\n\u001b[0m\u001b[0;32m    317\u001b[0m \u001b[1;33m\u001b[0m\u001b[0m\n\u001b[0;32m    318\u001b[0m         \u001b[1;32mdef\u001b[0m \u001b[0mupdate_potential_fields\u001b[0m\u001b[1;33m(\u001b[0m\u001b[0mself\u001b[0m\u001b[1;33m,\u001b[0m \u001b[0mverbose\u001b[0m\u001b[1;33m=\u001b[0m\u001b[1;36m0\u001b[0m\u001b[1;33m)\u001b[0m\u001b[1;33m:\u001b[0m\u001b[1;33m\u001b[0m\u001b[0m\n",
      "\u001b[1;32m/home/bl3/PycharmProjects/GeMpy/GeMpy/DataManagement.py\u001b[0m in \u001b[0;36m<listcomp>\u001b[1;34m(.0)\u001b[0m\n\u001b[0;32m    314\u001b[0m             \u001b[1;31m# -------------------------\u001b[0m\u001b[1;33m\u001b[0m\u001b[1;33m\u001b[0m\u001b[0m\n\u001b[0;32m    315\u001b[0m             self.potential_fields = [self.compute_potential_field(i, verbose=verbose)\n\u001b[1;32m--> 316\u001b[1;33m                                      for i in np.arange(len(self._data.series.columns))]\n\u001b[0m\u001b[0;32m    317\u001b[0m \u001b[1;33m\u001b[0m\u001b[0m\n\u001b[0;32m    318\u001b[0m         \u001b[1;32mdef\u001b[0m \u001b[0mupdate_potential_fields\u001b[0m\u001b[1;33m(\u001b[0m\u001b[0mself\u001b[0m\u001b[1;33m,\u001b[0m \u001b[0mverbose\u001b[0m\u001b[1;33m=\u001b[0m\u001b[1;36m0\u001b[0m\u001b[1;33m)\u001b[0m\u001b[1;33m:\u001b[0m\u001b[1;33m\u001b[0m\u001b[0m\n",
      "\u001b[1;32m/home/bl3/PycharmProjects/GeMpy/GeMpy/DataManagement.py\u001b[0m in \u001b[0;36mcompute_potential_field\u001b[1;34m(self, series_name, verbose)\u001b[0m\n\u001b[0;32m    436\u001b[0m             \u001b[1;32massert\u001b[0m \u001b[0mseries_name\u001b[0m \u001b[1;32mis\u001b[0m \u001b[1;32mnot\u001b[0m \u001b[1;34m\"all\"\u001b[0m\u001b[1;33m,\u001b[0m \u001b[1;34m\"Compute potential field only returns one potential field at the time\"\u001b[0m\u001b[1;33m\u001b[0m\u001b[0m\n\u001b[0;32m    437\u001b[0m             \u001b[0mformations_in_serie\u001b[0m \u001b[1;33m=\u001b[0m \u001b[0mself\u001b[0m\u001b[1;33m.\u001b[0m\u001b[0m_select_serie\u001b[0m\u001b[1;33m(\u001b[0m\u001b[0mseries_name\u001b[0m\u001b[1;33m)\u001b[0m\u001b[1;33m\u001b[0m\u001b[0m\n\u001b[1;32m--> 438\u001b[1;33m             \u001b[1;32mreturn\u001b[0m \u001b[0mself\u001b[0m\u001b[1;33m.\u001b[0m\u001b[0m_aux_computations_potential_field\u001b[0m\u001b[1;33m(\u001b[0m\u001b[0mformations_in_serie\u001b[0m\u001b[1;33m,\u001b[0m \u001b[0mverbose\u001b[0m\u001b[1;33m=\u001b[0m\u001b[0mverbose\u001b[0m\u001b[1;33m)\u001b[0m\u001b[1;33m\u001b[0m\u001b[0m\n\u001b[0m\u001b[0;32m    439\u001b[0m \u001b[1;33m\u001b[0m\u001b[0m\n\u001b[0;32m    440\u001b[0m         \u001b[1;32mdef\u001b[0m \u001b[0m_aux_computations_block_model\u001b[0m\u001b[1;33m(\u001b[0m\u001b[0mself\u001b[0m\u001b[1;33m,\u001b[0m \u001b[0mfor_in_ser\u001b[0m\u001b[1;33m,\u001b[0m \u001b[0mn_formation\u001b[0m\u001b[1;33m,\u001b[0m \u001b[0mverbose\u001b[0m\u001b[1;33m=\u001b[0m\u001b[1;36m0\u001b[0m\u001b[1;33m)\u001b[0m\u001b[1;33m:\u001b[0m\u001b[1;33m\u001b[0m\u001b[0m\n",
      "\u001b[1;32m/home/bl3/PycharmProjects/GeMpy/GeMpy/DataManagement.py\u001b[0m in \u001b[0;36m_aux_computations_potential_field\u001b[1;34m(self, for_in_ser, verbose)\u001b[0m\n\u001b[0;32m    562\u001b[0m                 rest_layer_points, ref_layer_points)[:]\n\u001b[0;32m    563\u001b[0m \u001b[1;33m\u001b[0m\u001b[0m\n\u001b[1;32m--> 564\u001b[1;33m             \u001b[0mpotential_field\u001b[0m \u001b[1;33m=\u001b[0m \u001b[0mself\u001b[0m\u001b[1;33m.\u001b[0m\u001b[0mZ_x\u001b[0m\u001b[1;33m.\u001b[0m\u001b[0mreshape\u001b[0m\u001b[1;33m(\u001b[0m\u001b[0mself\u001b[0m\u001b[1;33m.\u001b[0m\u001b[0m_data\u001b[0m\u001b[1;33m.\u001b[0m\u001b[0mnx\u001b[0m\u001b[1;33m,\u001b[0m \u001b[0mself\u001b[0m\u001b[1;33m.\u001b[0m\u001b[0m_data\u001b[0m\u001b[1;33m.\u001b[0m\u001b[0mny\u001b[0m\u001b[1;33m,\u001b[0m \u001b[0mself\u001b[0m\u001b[1;33m.\u001b[0m\u001b[0m_data\u001b[0m\u001b[1;33m.\u001b[0m\u001b[0mnz\u001b[0m\u001b[1;33m)\u001b[0m\u001b[1;33m\u001b[0m\u001b[0m\n\u001b[0m\u001b[0;32m    565\u001b[0m \u001b[1;33m\u001b[0m\u001b[0m\n\u001b[0;32m    566\u001b[0m             \u001b[1;32mif\u001b[0m \u001b[0mverbose\u001b[0m \u001b[1;33m>\u001b[0m \u001b[1;36m2\u001b[0m\u001b[1;33m:\u001b[0m\u001b[1;33m\u001b[0m\u001b[0m\n",
      "\u001b[1;31mValueError\u001b[0m: total size of new array must be unchanged"
     ]
    }
   ],
   "source": [
    "GeMpy.set_interpolator(fault, u_grade = 0)"
   ]
  },
  {
   "cell_type": "code",
   "execution_count": 36,
   "metadata": {
    "collapsed": false
   },
   "outputs": [],
   "source": [
    "a = geo_data.grid.grid"
   ]
  },
  {
   "cell_type": "code",
   "execution_count": 44,
   "metadata": {
    "collapsed": false
   },
   "outputs": [
    {
     "ename": "ValueError",
     "evalue": "operands could not be broadcast together with shapes (125000,3) (1,375000) ",
     "output_type": "error",
     "traceback": [
      "\u001b[1;31m---------------------------------------------------------------------------\u001b[0m",
      "\u001b[1;31mValueError\u001b[0m                                Traceback (most recent call last)",
      "\u001b[1;32m<ipython-input-44-db2d0727e0b6>\u001b[0m in \u001b[0;36m<module>\u001b[1;34m()\u001b[0m\n\u001b[1;32m----> 1\u001b[1;33m \u001b[0ma\u001b[0m \u001b[1;33m*\u001b[0m \u001b[0mnp\u001b[0m\u001b[1;33m.\u001b[0m\u001b[0mtile\u001b[0m\u001b[1;33m(\u001b[0m\u001b[1;33m(\u001b[0m\u001b[0ma\u001b[0m\u001b[1;33m[\u001b[0m\u001b[1;33m:\u001b[0m\u001b[1;33m,\u001b[0m\u001b[1;36m0\u001b[0m\u001b[1;33m]\u001b[0m \u001b[1;33m>\u001b[0m \u001b[1;36m5\u001b[0m\u001b[1;33m)\u001b[0m\u001b[1;33m,\u001b[0m \u001b[1;33m(\u001b[0m\u001b[1;36m1\u001b[0m\u001b[1;33m,\u001b[0m\u001b[1;36m3\u001b[0m\u001b[1;33m)\u001b[0m\u001b[1;33m)\u001b[0m\u001b[1;33m\u001b[0m\u001b[0m\n\u001b[0m",
      "\u001b[1;31mValueError\u001b[0m: operands could not be broadcast together with shapes (125000,3) (1,375000) "
     ]
    }
   ],
   "source": [
    "a * "
   ]
  },
  {
   "cell_type": "code",
   "execution_count": 50,
   "metadata": {
    "collapsed": false
   },
   "outputs": [
    {
     "data": {
      "text/plain": [
       "array([[False, False, False],\n",
       "       [False, False, False],\n",
       "       [False, False, False],\n",
       "       ..., \n",
       "       [ True,  True,  True],\n",
       "       [ True,  True,  True],\n",
       "       [ True,  True,  True]], dtype=bool)"
      ]
     },
     "execution_count": 50,
     "metadata": {},
     "output_type": "execute_result"
    }
   ],
   "source": [
    "np.tile((a[:,0] > 5), (3,1)).T "
   ]
  },
  {
   "cell_type": "code",
   "execution_count": 7,
   "metadata": {
    "collapsed": true
   },
   "outputs": [],
   "source": [
    "import theano.tensor as T"
   ]
  },
  {
   "cell_type": "code",
   "execution_count": 20,
   "metadata": {
    "collapsed": false
   },
   "outputs": [
    {
     "data": {
      "text/plain": [
       "array([     3, 125000])"
      ]
     },
     "execution_count": 20,
     "metadata": {},
     "output_type": "execute_result"
    }
   ],
   "source": [
    "g = T.matrix()\n",
    "g[:].T.shape.eval({g : geo_data.grid.grid})"
   ]
  },
  {
   "cell_type": "code",
   "execution_count": 24,
   "metadata": {
    "collapsed": false
   },
   "outputs": [
    {
     "ename": "AsTensorError",
     "evalue": "('Cannot convert 1 to TensorType', <class 'int'>)",
     "output_type": "error",
     "traceback": [
      "\u001b[1;31m---------------------------------------------------------------------------\u001b[0m",
      "\u001b[1;31mTypeError\u001b[0m                                 Traceback (most recent call last)",
      "\u001b[1;32m/home/bl3/anaconda3/lib/python3.5/site-packages/theano/tensor/basic.py\u001b[0m in \u001b[0;36mconstant_or_value\u001b[1;34m(x, rtype, name, ndim, dtype)\u001b[0m\n\u001b[0;32m    409\u001b[0m                 \u001b[0mx_\u001b[0m\u001b[1;33m.\u001b[0m\u001b[0mcopy\u001b[0m\u001b[1;33m(\u001b[0m\u001b[1;33m)\u001b[0m\u001b[1;33m,\u001b[0m\u001b[1;33m\u001b[0m\u001b[0m\n\u001b[1;32m--> 410\u001b[1;33m                 name=name)\n\u001b[0m\u001b[0;32m    411\u001b[0m             \u001b[1;32mreturn\u001b[0m \u001b[0mrval\u001b[0m\u001b[1;33m\u001b[0m\u001b[0m\n",
      "\u001b[1;32m/home/bl3/anaconda3/lib/python3.5/site-packages/theano/tensor/var.py\u001b[0m in \u001b[0;36m__init__\u001b[1;34m(self, type, data, name)\u001b[0m\n\u001b[0;32m    867\u001b[0m     \u001b[1;32mdef\u001b[0m \u001b[0m__init__\u001b[0m\u001b[1;33m(\u001b[0m\u001b[0mself\u001b[0m\u001b[1;33m,\u001b[0m \u001b[0mtype\u001b[0m\u001b[1;33m,\u001b[0m \u001b[0mdata\u001b[0m\u001b[1;33m,\u001b[0m \u001b[0mname\u001b[0m\u001b[1;33m=\u001b[0m\u001b[1;32mNone\u001b[0m\u001b[1;33m)\u001b[0m\u001b[1;33m:\u001b[0m\u001b[1;33m\u001b[0m\u001b[0m\n\u001b[1;32m--> 868\u001b[1;33m         \u001b[0mConstant\u001b[0m\u001b[1;33m.\u001b[0m\u001b[0m__init__\u001b[0m\u001b[1;33m(\u001b[0m\u001b[0mself\u001b[0m\u001b[1;33m,\u001b[0m \u001b[0mtype\u001b[0m\u001b[1;33m,\u001b[0m \u001b[0mdata\u001b[0m\u001b[1;33m,\u001b[0m \u001b[0mname\u001b[0m\u001b[1;33m)\u001b[0m\u001b[1;33m\u001b[0m\u001b[0m\n\u001b[0m\u001b[0;32m    869\u001b[0m         \u001b[0mself\u001b[0m\u001b[1;33m.\u001b[0m\u001b[0mtag\u001b[0m\u001b[1;33m.\u001b[0m\u001b[0munique_value\u001b[0m \u001b[1;33m=\u001b[0m \u001b[1;32mNone\u001b[0m\u001b[1;33m\u001b[0m\u001b[0m\n",
      "\u001b[1;32m/home/bl3/anaconda3/lib/python3.5/site-packages/theano/gof/graph.py\u001b[0m in \u001b[0;36m__init__\u001b[1;34m(self, type, data, name)\u001b[0m\n\u001b[0;32m    552\u001b[0m         \u001b[0mVariable\u001b[0m\u001b[1;33m.\u001b[0m\u001b[0m__init__\u001b[0m\u001b[1;33m(\u001b[0m\u001b[0mself\u001b[0m\u001b[1;33m,\u001b[0m \u001b[0mtype\u001b[0m\u001b[1;33m,\u001b[0m \u001b[1;32mNone\u001b[0m\u001b[1;33m,\u001b[0m \u001b[1;32mNone\u001b[0m\u001b[1;33m,\u001b[0m \u001b[0mname\u001b[0m\u001b[1;33m)\u001b[0m\u001b[1;33m\u001b[0m\u001b[0m\n\u001b[1;32m--> 553\u001b[1;33m         \u001b[0mself\u001b[0m\u001b[1;33m.\u001b[0m\u001b[0mdata\u001b[0m \u001b[1;33m=\u001b[0m \u001b[0mtype\u001b[0m\u001b[1;33m.\u001b[0m\u001b[0mfilter\u001b[0m\u001b[1;33m(\u001b[0m\u001b[0mdata\u001b[0m\u001b[1;33m)\u001b[0m\u001b[1;33m\u001b[0m\u001b[0m\n\u001b[0m\u001b[0;32m    554\u001b[0m \u001b[1;33m\u001b[0m\u001b[0m\n",
      "\u001b[1;32m/home/bl3/anaconda3/lib/python3.5/site-packages/theano/tensor/type.py\u001b[0m in \u001b[0;36mfilter\u001b[1;34m(self, data, strict, allow_downcast)\u001b[0m\n\u001b[0;32m    176\u001b[0m                             \" got %s with shape %s.\" % (self.ndim, data.ndim,\n\u001b[1;32m--> 177\u001b[1;33m                                                         data.shape))\n\u001b[0m\u001b[0;32m    178\u001b[0m         \u001b[1;32mif\u001b[0m \u001b[1;32mnot\u001b[0m \u001b[0mdata\u001b[0m\u001b[1;33m.\u001b[0m\u001b[0mflags\u001b[0m\u001b[1;33m.\u001b[0m\u001b[0maligned\u001b[0m\u001b[1;33m:\u001b[0m\u001b[1;33m\u001b[0m\u001b[0m\n",
      "\u001b[1;31mTypeError\u001b[0m: Wrong number of dimensions: expected 1, got 0 with shape ().",
      "\nDuring handling of the above exception, another exception occurred:\n",
      "\u001b[1;31mTypeError\u001b[0m                                 Traceback (most recent call last)",
      "\u001b[1;32m/home/bl3/anaconda3/lib/python3.5/site-packages/theano/tensor/basic.py\u001b[0m in \u001b[0;36mas_tensor_variable\u001b[1;34m(x, name, ndim)\u001b[0m\n\u001b[0;32m    201\u001b[0m     \u001b[1;32mtry\u001b[0m\u001b[1;33m:\u001b[0m\u001b[1;33m\u001b[0m\u001b[0m\n\u001b[1;32m--> 202\u001b[1;33m         \u001b[1;32mreturn\u001b[0m \u001b[0mconstant\u001b[0m\u001b[1;33m(\u001b[0m\u001b[0mx\u001b[0m\u001b[1;33m,\u001b[0m \u001b[0mname\u001b[0m\u001b[1;33m=\u001b[0m\u001b[0mname\u001b[0m\u001b[1;33m,\u001b[0m \u001b[0mndim\u001b[0m\u001b[1;33m=\u001b[0m\u001b[0mndim\u001b[0m\u001b[1;33m)\u001b[0m\u001b[1;33m\u001b[0m\u001b[0m\n\u001b[0m\u001b[0;32m    203\u001b[0m     \u001b[1;32mexcept\u001b[0m \u001b[0mTypeError\u001b[0m\u001b[1;33m:\u001b[0m\u001b[1;33m\u001b[0m\u001b[0m\n",
      "\u001b[1;32m/home/bl3/anaconda3/lib/python3.5/site-packages/theano/tensor/basic.py\u001b[0m in \u001b[0;36mconstant\u001b[1;34m(x, name, ndim, dtype)\u001b[0m\n\u001b[0;32m    421\u001b[0m     ret = constant_or_value(x, rtype=TensorConstant, name=name, ndim=ndim,\n\u001b[1;32m--> 422\u001b[1;33m                             dtype=dtype)\n\u001b[0m\u001b[0;32m    423\u001b[0m \u001b[1;33m\u001b[0m\u001b[0m\n",
      "\u001b[1;32m/home/bl3/anaconda3/lib/python3.5/site-packages/theano/tensor/basic.py\u001b[0m in \u001b[0;36mconstant_or_value\u001b[1;34m(x, rtype, name, ndim, dtype)\u001b[0m\n\u001b[0;32m    416\u001b[0m     \u001b[1;32mexcept\u001b[0m \u001b[0mException\u001b[0m\u001b[1;33m:\u001b[0m\u001b[1;33m\u001b[0m\u001b[0m\n\u001b[1;32m--> 417\u001b[1;33m         \u001b[1;32mraise\u001b[0m \u001b[0mTypeError\u001b[0m\u001b[1;33m(\u001b[0m\u001b[1;34m\"Could not convert %s to TensorType\"\u001b[0m \u001b[1;33m%\u001b[0m \u001b[0mx\u001b[0m\u001b[1;33m,\u001b[0m \u001b[0mtype\u001b[0m\u001b[1;33m(\u001b[0m\u001b[0mx\u001b[0m\u001b[1;33m)\u001b[0m\u001b[1;33m)\u001b[0m\u001b[1;33m\u001b[0m\u001b[0m\n\u001b[0m\u001b[0;32m    418\u001b[0m \u001b[1;33m\u001b[0m\u001b[0m\n",
      "\u001b[1;31mTypeError\u001b[0m: ('Could not convert 1 to TensorType', <class 'int'>)",
      "\nDuring handling of the above exception, another exception occurred:\n",
      "\u001b[1;31mAsTensorError\u001b[0m                             Traceback (most recent call last)",
      "\u001b[1;32m<ipython-input-24-8421da50d39d>\u001b[0m in \u001b[0;36m<module>\u001b[1;34m()\u001b[0m\n\u001b[1;32m----> 1\u001b[1;33m \u001b[0mT\u001b[0m\u001b[1;33m.\u001b[0m\u001b[0mlt\u001b[0m\u001b[1;33m(\u001b[0m\u001b[0mg\u001b[0m\u001b[1;33m[\u001b[0m\u001b[1;33m:\u001b[0m\u001b[1;33m,\u001b[0m\u001b[1;36m0\u001b[0m\u001b[1;33m]\u001b[0m\u001b[1;33m,\u001b[0m \u001b[1;36m5\u001b[0m\u001b[1;33m)\u001b[0m\u001b[1;33m.\u001b[0m\u001b[0mreshape\u001b[0m\u001b[1;33m(\u001b[0m\u001b[1;36m1\u001b[0m\u001b[1;33m,\u001b[0m\u001b[1;36m3\u001b[0m\u001b[1;33m)\u001b[0m\u001b[1;33m.\u001b[0m\u001b[0mshape\u001b[0m\u001b[1;33m.\u001b[0m\u001b[0meval\u001b[0m\u001b[1;33m(\u001b[0m\u001b[1;33m{\u001b[0m\u001b[0mg\u001b[0m \u001b[1;33m:\u001b[0m  \u001b[0mgeo_data\u001b[0m\u001b[1;33m.\u001b[0m\u001b[0mgrid\u001b[0m\u001b[1;33m.\u001b[0m\u001b[0mgrid\u001b[0m\u001b[1;33m}\u001b[0m\u001b[1;33m)\u001b[0m\u001b[1;33m\u001b[0m\u001b[0m\n\u001b[0m",
      "\u001b[1;32m/home/bl3/anaconda3/lib/python3.5/site-packages/theano/tensor/var.py\u001b[0m in \u001b[0;36mreshape\u001b[1;34m(self, shape, ndim)\u001b[0m\n\u001b[0;32m    325\u001b[0m                                  str(type(ndim)))\n\u001b[0;32m    326\u001b[0m \u001b[1;33m\u001b[0m\u001b[0m\n\u001b[1;32m--> 327\u001b[1;33m         \u001b[1;32mreturn\u001b[0m \u001b[0mtheano\u001b[0m\u001b[1;33m.\u001b[0m\u001b[0mtensor\u001b[0m\u001b[1;33m.\u001b[0m\u001b[0mbasic\u001b[0m\u001b[1;33m.\u001b[0m\u001b[0mreshape\u001b[0m\u001b[1;33m(\u001b[0m\u001b[0mself\u001b[0m\u001b[1;33m,\u001b[0m \u001b[0mshape\u001b[0m\u001b[1;33m,\u001b[0m \u001b[0mndim\u001b[0m\u001b[1;33m=\u001b[0m\u001b[0mndim\u001b[0m\u001b[1;33m)\u001b[0m\u001b[1;33m\u001b[0m\u001b[0m\n\u001b[0m\u001b[0;32m    328\u001b[0m \u001b[1;33m\u001b[0m\u001b[0m\n\u001b[0;32m    329\u001b[0m     \u001b[1;32mdef\u001b[0m \u001b[0mdimshuffle\u001b[0m\u001b[1;33m(\u001b[0m\u001b[0mself\u001b[0m\u001b[1;33m,\u001b[0m \u001b[1;33m*\u001b[0m\u001b[0mpattern\u001b[0m\u001b[1;33m)\u001b[0m\u001b[1;33m:\u001b[0m\u001b[1;33m\u001b[0m\u001b[0m\n",
      "\u001b[1;32m/home/bl3/anaconda3/lib/python3.5/site-packages/theano/tensor/basic.py\u001b[0m in \u001b[0;36mreshape\u001b[1;34m(x, newshape, ndim, name)\u001b[0m\n\u001b[0;32m   4539\u001b[0m                 \"argument to 'reshape' to avoid this problem.\" % newshape)\n\u001b[0;32m   4540\u001b[0m     \u001b[0mop\u001b[0m \u001b[1;33m=\u001b[0m \u001b[0mReshape\u001b[0m\u001b[1;33m(\u001b[0m\u001b[0mndim\u001b[0m\u001b[1;33m,\u001b[0m \u001b[0mname\u001b[0m\u001b[1;33m)\u001b[0m\u001b[1;33m\u001b[0m\u001b[0m\n\u001b[1;32m-> 4541\u001b[1;33m     \u001b[0mrval\u001b[0m \u001b[1;33m=\u001b[0m \u001b[0mop\u001b[0m\u001b[1;33m(\u001b[0m\u001b[0mx\u001b[0m\u001b[1;33m,\u001b[0m \u001b[0mnewshape\u001b[0m\u001b[1;33m)\u001b[0m\u001b[1;33m\u001b[0m\u001b[0m\n\u001b[0m\u001b[0;32m   4542\u001b[0m     \u001b[1;32mreturn\u001b[0m \u001b[0mrval\u001b[0m\u001b[1;33m\u001b[0m\u001b[0m\n\u001b[0;32m   4543\u001b[0m \u001b[1;33m\u001b[0m\u001b[0m\n",
      "\u001b[1;32m/home/bl3/anaconda3/lib/python3.5/site-packages/theano/gof/op.py\u001b[0m in \u001b[0;36m__call__\u001b[1;34m(self, *inputs, **kwargs)\u001b[0m\n\u001b[0;32m    609\u001b[0m         \"\"\"\n\u001b[0;32m    610\u001b[0m         \u001b[0mreturn_list\u001b[0m \u001b[1;33m=\u001b[0m \u001b[0mkwargs\u001b[0m\u001b[1;33m.\u001b[0m\u001b[0mpop\u001b[0m\u001b[1;33m(\u001b[0m\u001b[1;34m'return_list'\u001b[0m\u001b[1;33m,\u001b[0m \u001b[1;32mFalse\u001b[0m\u001b[1;33m)\u001b[0m\u001b[1;33m\u001b[0m\u001b[0m\n\u001b[1;32m--> 611\u001b[1;33m         \u001b[0mnode\u001b[0m \u001b[1;33m=\u001b[0m \u001b[0mself\u001b[0m\u001b[1;33m.\u001b[0m\u001b[0mmake_node\u001b[0m\u001b[1;33m(\u001b[0m\u001b[1;33m*\u001b[0m\u001b[0minputs\u001b[0m\u001b[1;33m,\u001b[0m \u001b[1;33m**\u001b[0m\u001b[0mkwargs\u001b[0m\u001b[1;33m)\u001b[0m\u001b[1;33m\u001b[0m\u001b[0m\n\u001b[0m\u001b[0;32m    612\u001b[0m \u001b[1;33m\u001b[0m\u001b[0m\n\u001b[0;32m    613\u001b[0m         \u001b[1;32mif\u001b[0m \u001b[0mconfig\u001b[0m\u001b[1;33m.\u001b[0m\u001b[0mcompute_test_value\u001b[0m \u001b[1;33m!=\u001b[0m \u001b[1;34m'off'\u001b[0m\u001b[1;33m:\u001b[0m\u001b[1;33m\u001b[0m\u001b[0m\n",
      "\u001b[1;32m/home/bl3/anaconda3/lib/python3.5/site-packages/theano/tensor/basic.py\u001b[0m in \u001b[0;36mmake_node\u001b[1;34m(self, x, shp)\u001b[0m\n\u001b[0;32m   4355\u001b[0m         \u001b[0mx\u001b[0m \u001b[1;33m=\u001b[0m \u001b[0mas_tensor_variable\u001b[0m\u001b[1;33m(\u001b[0m\u001b[0mx\u001b[0m\u001b[1;33m)\u001b[0m\u001b[1;33m\u001b[0m\u001b[0m\n\u001b[0;32m   4356\u001b[0m         \u001b[0mshp_orig\u001b[0m \u001b[1;33m=\u001b[0m \u001b[0mshp\u001b[0m\u001b[1;33m\u001b[0m\u001b[0m\n\u001b[1;32m-> 4357\u001b[1;33m         \u001b[0mshp\u001b[0m \u001b[1;33m=\u001b[0m \u001b[0mas_tensor_variable\u001b[0m\u001b[1;33m(\u001b[0m\u001b[0mshp\u001b[0m\u001b[1;33m,\u001b[0m \u001b[0mndim\u001b[0m\u001b[1;33m=\u001b[0m\u001b[1;36m1\u001b[0m\u001b[1;33m)\u001b[0m\u001b[1;33m\u001b[0m\u001b[0m\n\u001b[0m\u001b[0;32m   4358\u001b[0m         if not (shp.dtype.startswith('int') or\n\u001b[0;32m   4359\u001b[0m                 (isinstance(shp, TensorConstant) and shp.data.size == 0)):\n",
      "\u001b[1;32m/home/bl3/anaconda3/lib/python3.5/site-packages/theano/tensor/basic.py\u001b[0m in \u001b[0;36mas_tensor_variable\u001b[1;34m(x, name, ndim)\u001b[0m\n\u001b[0;32m    206\u001b[0m         \u001b[1;32mexcept\u001b[0m \u001b[0mException\u001b[0m\u001b[1;33m:\u001b[0m\u001b[1;33m\u001b[0m\u001b[0m\n\u001b[0;32m    207\u001b[0m             \u001b[0mstr_x\u001b[0m \u001b[1;33m=\u001b[0m \u001b[0mrepr\u001b[0m\u001b[1;33m(\u001b[0m\u001b[0mx\u001b[0m\u001b[1;33m)\u001b[0m\u001b[1;33m\u001b[0m\u001b[0m\n\u001b[1;32m--> 208\u001b[1;33m         \u001b[1;32mraise\u001b[0m \u001b[0mAsTensorError\u001b[0m\u001b[1;33m(\u001b[0m\u001b[1;34m\"Cannot convert %s to TensorType\"\u001b[0m \u001b[1;33m%\u001b[0m \u001b[0mstr_x\u001b[0m\u001b[1;33m,\u001b[0m \u001b[0mtype\u001b[0m\u001b[1;33m(\u001b[0m\u001b[0mx\u001b[0m\u001b[1;33m)\u001b[0m\u001b[1;33m)\u001b[0m\u001b[1;33m\u001b[0m\u001b[0m\n\u001b[0m\u001b[0;32m    209\u001b[0m \u001b[1;33m\u001b[0m\u001b[0m\n\u001b[0;32m    210\u001b[0m \u001b[1;31m# this has a different name, because _as_tensor_variable is the\u001b[0m\u001b[1;33m\u001b[0m\u001b[1;33m\u001b[0m\u001b[0m\n",
      "\u001b[1;31mAsTensorError\u001b[0m: ('Cannot convert 1 to TensorType', <class 'int'>)"
     ]
    }
   ],
   "source": [
    "T.lt(g[:,0], 5).reshape(1,3).shape.eval({g :  geo_data.grid.grid})"
   ]
  },
  {
   "cell_type": "code",
   "execution_count": 37,
   "metadata": {
    "collapsed": false
   },
   "outputs": [
    {
     "data": {
      "text/plain": [
       "array([     3, 125000])"
      ]
     },
     "execution_count": 37,
     "metadata": {},
     "output_type": "execute_result"
    }
   ],
   "source": [
    "g.T.shape.eval({g:geo_data.grid.grid})"
   ]
  },
  {
   "cell_type": "code",
   "execution_count": 36,
   "metadata": {
    "collapsed": false
   },
   "outputs": [
    {
     "data": {
      "text/plain": [
       "array([     1, 125000])"
      ]
     },
     "execution_count": 36,
     "metadata": {},
     "output_type": "execute_result"
    }
   ],
   "source": [
    "T.stack( T.lt(g[:,0], 5)).shape.eval({g:geo_data.grid.grid})"
   ]
  },
  {
   "cell_type": "code",
   "execution_count": 46,
   "metadata": {
    "collapsed": false
   },
   "outputs": [
    {
     "data": {
      "text/plain": [
       "array([[  0.      ,   0.      ,   0.      , ...,  10.      ,  10.      ,  10.      ],\n",
       "       [  0.      ,   0.      ,   0.      , ...,  10.      ,  10.      ,  10.      ],\n",
       "       [  0.      ,   0.204082,   0.408163, ...,   9.591837,   9.795918,  10.      ],\n",
       "       [  1.      ,   1.      ,   1.      , ...,   0.      ,   0.      ,   0.      ]])"
      ]
     },
     "execution_count": 46,
     "metadata": {},
     "output_type": "execute_result"
    }
   ],
   "source": [
    "T.vertical_stack(g.T, T.stack( T.lt(g[:,0], 5))).eval({g:geo_data.grid.grid})"
   ]
  },
  {
   "cell_type": "code",
   "execution_count": null,
   "metadata": {
    "collapsed": true
   },
   "outputs": [],
   "source": []
  }
 ],
 "metadata": {
  "anaconda-cloud": {},
  "kernelspec": {
   "display_name": "Python [Root]",
   "language": "python",
   "name": "Python [Root]"
  },
  "language_info": {
   "codemirror_mode": {
    "name": "ipython",
    "version": 3
   },
   "file_extension": ".py",
   "mimetype": "text/x-python",
   "name": "python",
   "nbconvert_exporter": "python",
   "pygments_lexer": "ipython3",
   "version": "3.5.2"
  },
  "latex_envs": {
   "bibliofile": "biblio.bib",
   "cite_by": "apalike",
   "current_citInitial": 1,
   "eqLabelWithNumbers": true,
   "eqNumInitial": 0
  },
  "nav_menu": {},
  "toc": {
   "navigate_menu": true,
   "number_sections": true,
   "sideBar": true,
   "threshold": 6,
   "toc_cell": false,
   "toc_section_display": "block",
   "toc_window_display": false
  },
  "widgets": {
   "state": {
    "49020be1059642b29367047cb985d1c6": {
     "views": [
      {
       "cell_index": 5
      }
     ]
    },
    "8da9c1b0c0f440229c7923be557b898a": {
     "views": [
      {
       "cell_index": 2
      }
     ]
    }
   },
   "version": "1.2.0"
  }
 },
 "nbformat": 4,
 "nbformat_minor": 0
}
