{
 "cells": [
  {
   "cell_type": "code",
   "execution_count": 1,
   "metadata": {
    "collapsed": false
   },
   "outputs": [
    {
     "name": "stderr",
     "output_type": "stream",
     "text": [
      "Using gpu device 0: GeForce GTX 970 (CNMeM is disabled, cuDNN not available)\n"
     ]
    }
   ],
   "source": [
    "import importlib\n",
    "import theano.tensor as T\n",
    "import sys, os\n",
    "sys.path.append(\"/home/bl3/PycharmProjects/GeMpy/\")\n",
    "sys.path.append(\"/home/bl3/PycharmProjects/pygeomod/pygeomod\")\n",
    "import GeoMig\n",
    "#import geogrid\n",
    "#importlib.reload(GeoMig)\n",
    "importlib.reload(GeoMig)\n",
    "import numpy as np\n",
    "\n",
    "os.environ['CUDA_LAUNCH_BLOCKING'] = '1'\n",
    "np.set_printoptions(precision = 15, linewidth= 300, suppress =  True)\n",
    "from mpl_toolkits.mplot3d import axes3d\n",
    "import matplotlib.pyplot as plt\n",
    "from matplotlib import cm\n",
    "%matplotlib qt4"
   ]
  },
  {
   "cell_type": "code",
   "execution_count": 3,
   "metadata": {
    "collapsed": false
   },
   "outputs": [
    {
     "name": "stderr",
     "output_type": "stream",
     "text": [
      "/home/miguel/anaconda3/lib/python3.5/site-packages/ipykernel/__main__.py:4: DeprecationWarning: stack(*tensors) interface is deprecated, use stack(tensors, axis=0) instead.\n"
     ]
    }
   ],
   "source": [
    "test = GeoMig.GeoMigSim_pro2(c_o = np.float32(-0.1),range = 17)\n",
    "\n",
    "test.create_regular_grid_3D(0,10,0,10,0,10,20,20,20)\n",
    "test.theano_set_3D_nugget()"
   ]
  },
  {
   "cell_type": "code",
   "execution_count": 4,
   "metadata": {
    "collapsed": false
   },
   "outputs": [
    {
     "data": {
      "text/plain": [
       "numpy.ndarray"
      ]
     },
     "execution_count": 4,
     "metadata": {},
     "output_type": "execute_result"
    }
   ],
   "source": [
    "layer_1 = np.array([[1,5,7], [9,5,6.8]], dtype = \"float32\")\n",
    "\n",
    "layer_2 = np.array([[2,5,1],[7,5,2], [9,5,2]], dtype = \"float32\")\n",
    "\n",
    "dip_pos_1 = np.array([2,5,6], dtype = \"float32\")\n",
    "dip_pos_2 = np.array([6.,4,6], dtype = \"float32\")\n",
    "dip_pos_3 = np.array([8,4,5], dtype = \"float32\")\n",
    "dip_angle_1 = float(-45)\n",
    "dip_angle_2 = float(45)\n",
    "\n",
    "\n",
    "layers = np.asarray([layer_1,layer_2])\n",
    "dips = np.asarray([dip_pos_1,dip_pos_2])#, dip_pos_3])\n",
    "dips_angles = np.asarray([dip_angle_1, dip_angle_2], dtype=\"float32\")\n",
    "azimuths = np.asarray([2, 20], dtype=\"float32\")\n",
    "polarity = np.asarray([1, 1], dtype=\"float32\")\n",
    "#print (dips_angles)\n",
    "rest = np.vstack((i[1:] for i in layers))\n",
    "ref = np.vstack((np.tile(i[0],(np.shape(i)[0]-1,1)) for i in layers))\n",
    "dips_angles.dtype\n",
    "rest = rest.astype(\"float32\")\n",
    "ref = ref.astype(\"float32\")\n",
    "dips = dips.astype(\"float32\")\n",
    "dips_angles = dips_angles.astype(\"float32\")\n",
    "type(dips_angles)"
   ]
  },
  {
   "cell_type": "code",
   "execution_count": 5,
   "metadata": {
    "collapsed": false
   },
   "outputs": [
    {
     "data": {
      "text/plain": [
       "(array([-0.024677669629455,  0.241844743490219], dtype=float32),\n",
       " array([-0.706676006317139,  0.664462983608246], dtype=float32),\n",
       " array([ 0.70710676908493,  0.70710676908493], dtype=float32))"
      ]
     },
     "execution_count": 5,
     "metadata": {},
     "output_type": "execute_result"
    }
   ],
   "source": [
    "G_x = np.sin(np.deg2rad(dips_angles)) * np.sin(np.deg2rad(azimuths)) * polarity\n",
    "G_y = np.sin(np.deg2rad(dips_angles)) * np.cos(np.deg2rad(azimuths)) * polarity\n",
    "G_z = np.cos(np.deg2rad(dips_angles)) * polarity\n",
    "\n",
    "G_x, G_y, G_z"
   ]
  },
  {
   "cell_type": "code",
   "execution_count": 6,
   "metadata": {
    "collapsed": true
   },
   "outputs": [
    {
     "ename": "TypeError",
     "evalue": "Missing required input: <TensorType(float32, scalar)>",
     "output_type": "error",
     "traceback": [
      "\u001b[1;31m---------------------------------------------------------------------------\u001b[0m",
      "\u001b[1;31mTypeError\u001b[0m                                 Traceback (most recent call last)",
      "\u001b[1;32m<ipython-input-6-b0d904439e51>\u001b[0m in \u001b[0;36m<module>\u001b[1;34m()\u001b[0m\n\u001b[1;32m----> 1\u001b[1;33m \u001b[0mtest\u001b[0m\u001b[1;33m.\u001b[0m\u001b[0mgeoMigueller\u001b[0m\u001b[1;33m(\u001b[0m\u001b[0mdips\u001b[0m\u001b[1;33m,\u001b[0m\u001b[0mdips_angles\u001b[0m\u001b[1;33m,\u001b[0m\u001b[0mazimuths\u001b[0m\u001b[1;33m,\u001b[0m\u001b[0mpolarity\u001b[0m\u001b[1;33m,\u001b[0m \u001b[0mrest\u001b[0m\u001b[1;33m,\u001b[0m \u001b[0mref\u001b[0m\u001b[1;33m)\u001b[0m\u001b[1;33m[\u001b[0m\u001b[1;36m0\u001b[0m\u001b[1;33m]\u001b[0m\u001b[1;33m\u001b[0m\u001b[0m\n\u001b[0m",
      "\u001b[1;32m/home/miguel/anaconda3/lib/python3.5/site-packages/theano/compile/function_module.py\u001b[0m in \u001b[0;36m__call__\u001b[1;34m(self, *args, **kwargs)\u001b[0m\n\u001b[0;32m    843\u001b[0m                     raise TypeError(\"Missing required input: %s\" %\n\u001b[0;32m    844\u001b[0m                                     getattr(self.inv_finder[c], 'variable',\n\u001b[1;32m--> 845\u001b[1;33m                                             self.inv_finder[c]))\n\u001b[0m\u001b[0;32m    846\u001b[0m                 \u001b[1;32mif\u001b[0m \u001b[0mc\u001b[0m\u001b[1;33m.\u001b[0m\u001b[0mprovided\u001b[0m \u001b[1;33m>\u001b[0m \u001b[1;36m1\u001b[0m\u001b[1;33m:\u001b[0m\u001b[1;33m\u001b[0m\u001b[0m\n\u001b[0;32m    847\u001b[0m                     raise TypeError(\"Multiple values for input: %s\" %\n",
      "\u001b[1;31mTypeError\u001b[0m: Missing required input: <TensorType(float32, scalar)>"
     ]
    }
   ],
   "source": [
    "test.geoMigueller(dips,dips_angles,azimuths,polarity, rest, ref)[0]"
   ]
  },
  {
   "cell_type": "code",
   "execution_count": 37,
   "metadata": {
    "collapsed": false
   },
   "outputs": [],
   "source": [
    "_,h1 = np.argmin((abs(test.grid - ref[0])).sum(1)), test.geoMigueller(dips,dips_angles,azimuths,polarity, rest, ref)[0][np.argmin((abs(test.grid - ref[0])).sum(1))]\n",
    "_, h2 =np.argmin((abs(test.grid - ref[1])).sum(1)), test.geoMigueller(dips,dips_angles,azimuths,polarity, rest, ref)[0][np.argmin((abs(test.grid - ref[1])).sum(1))]"
   ]
  },
  {
   "cell_type": "code",
   "execution_count": 38,
   "metadata": {
    "collapsed": false
   },
   "outputs": [
    {
     "name": "stdout",
     "output_type": "stream",
     "text": [
      "28.1950340271\n",
      "28.237165451\n",
      "25.3232555389\n",
      "25.3343315125\n"
     ]
    }
   ],
   "source": [
    "print(test.geoMigueller(dips,dips_angles,azimuths,polarity, rest, ref)[0][np.argmin((abs(test.grid - ref[0])).sum(1))])\n",
    "for i in range(rest.shape[0]):\n",
    "    print(test.geoMigueller(dips,dips_angles,azimuths,polarity, rest, ref)[0][np.argmin((abs(test.grid - rest[i])).sum(1))])"
   ]
  },
  {
   "cell_type": "code",
   "execution_count": 39,
   "metadata": {
    "collapsed": false
   },
   "outputs": [
    {
     "data": {
      "text/plain": [
       "28.237165451049805"
      ]
     },
     "execution_count": 39,
     "metadata": {},
     "output_type": "execute_result"
    }
   ],
   "source": [
    "test.geoMigueller(dips,dips_angles,azimuths,polarity, rest, ref)[0][np.argmin((abs(test.grid - rest[0])).sum(1))]"
   ]
  },
  {
   "cell_type": "code",
   "execution_count": 40,
   "metadata": {
    "collapsed": false
   },
   "outputs": [
    {
     "data": {
      "text/plain": [
       "array([[ 9. ,  5. ,  6.8],\n",
       "       [ 7. ,  5. ,  2. ],\n",
       "       [ 9. ,  5. ,  2. ]], dtype=float32)"
      ]
     },
     "execution_count": 40,
     "metadata": {},
     "output_type": "execute_result"
    }
   ],
   "source": [
    "rest"
   ]
  },
  {
   "cell_type": "code",
   "execution_count": 41,
   "metadata": {
    "collapsed": false
   },
   "outputs": [],
   "source": [
    "sol = test.geoMigueller(dips,dips_angles,azimuths,polarity, rest, ref)[0].reshape(200,200,200, order = \"C\")[:,:,::-1].transpose()\n",
    "#sol = np.swapaxes(sol,0,1)"
   ]
  },
  {
   "cell_type": "code",
   "execution_count": 42,
   "metadata": {
    "collapsed": false
   },
   "outputs": [
    {
     "data": {
      "text/plain": [
       "(array([-0.02,  0.24], dtype=float32),\n",
       " array([-0.71,  0.66], dtype=float32),\n",
       " array([ 0.71,  0.71], dtype=float32))"
      ]
     },
     "execution_count": 42,
     "metadata": {},
     "output_type": "execute_result"
    }
   ],
   "source": [
    "G_x, G_y, G_z = test.geoMigueller(dips,dips_angles,azimuths,polarity, rest, ref)[-3:]\n",
    "G_x, G_y, G_z"
   ]
  },
  {
   "cell_type": "code",
   "execution_count": 43,
   "metadata": {
    "collapsed": false
   },
   "outputs": [
    {
     "data": {
      "text/plain": [
       "(0, 10)"
      ]
     },
     "execution_count": 43,
     "metadata": {},
     "output_type": "execute_result"
    }
   ],
   "source": [
    "import numpy as np\n",
    "from mpl_toolkits.mplot3d import Axes3D\n",
    "import matplotlib.pyplot as plt\n",
    "import matplotlib\n",
    "import matplotlib.cm as cmx\n",
    "\n",
    "fig = plt.figure()\n",
    "ax = fig.add_subplot(111, projection='3d')\n",
    "h =  np.array([h1,h2])\n",
    "cm = plt.get_cmap(\"jet\")\n",
    "cNorm = matplotlib.colors.Normalize(vmin=h.min(), vmax=h.max())\n",
    "scalarMap = cmx.ScalarMappable(norm=cNorm, cmap=cm)\n",
    "\n",
    "\n",
    "sol = test.geoMigueller(dips,dips_angles,azimuths,polarity, rest, ref)[0].reshape(200,200,200,\n",
    "    order = \"C\")[:,:,:]\n",
    "#sol = np.swapaxes(sol,0,1)\n",
    "\n",
    "\n",
    "from skimage import measure\n",
    "isolines = np.linspace(h1,h2,2)\n",
    "#vertices = measure.marching_cubes(sol, isolines[0], spacing = (0.2,0.2,0.2),\n",
    "#    gradient_direction = \"descent\")[0]\n",
    "for i in isolines[0:10]:\n",
    "    vertices = measure.marching_cubes(sol, i, spacing = (0.05,0.05,0.05),\n",
    "    gradient_direction = \"ascent\")[0]\n",
    "\n",
    "    ax.scatter(vertices[::40,0],vertices[::40,1],vertices[::40,2],color=scalarMap.to_rgba(i),\n",
    "     alpha = 0.2) #color=scalarMap.to_rgba(vertices[::10,2])\n",
    "ax.scatter(layers[0][:,0],layers[0][:,1],layers[0][:,2], s = 50, c = \"r\" )\n",
    "ax.scatter(layers[1][:,0],layers[1][:,1],layers[1][:,2], s = 50, c = \"g\" )\n",
    "ax.quiver3D(dips[:,0],dips[:,1],dips[:,2], G_x,G_y,G_z, pivot = \"tail\", linewidths = 2)\n",
    "ax.set_xlabel(\"x\")\n",
    "ax.set_ylabel(\"y\")\n",
    "ax.set_zlabel(\"z\")\n",
    "ax.set_xlim(0,10)\n",
    "ax.set_ylim(0,10)\n",
    "ax.set_zlim(0,10)\n",
    "#ax.scatter(simplices[:,0],simplices[:,1],simplices[:,2])"
   ]
  },
  {
   "cell_type": "code",
   "execution_count": 13,
   "metadata": {
    "collapsed": false
   },
   "outputs": [
    {
     "data": {
      "text/plain": [
       "array(-0.5600000023841858, dtype=float32)"
      ]
     },
     "execution_count": 13,
     "metadata": {},
     "output_type": "execute_result"
    }
   ],
   "source": [
    "test.c_o.set_value(-0.56)\n",
    "test.c_o.get_value()"
   ]
  },
  {
   "cell_type": "code",
   "execution_count": 7,
   "metadata": {
    "collapsed": false
   },
   "outputs": [
    {
     "data": {
      "text/plain": [
       "array([  0.               ,   0.               ,   0.               ,  -0.               ,  -0.               ,   0.               ,  -0.               ,   0.               ,   0.               ,   0.979540228843689,  10.698935508728027,  -0.213920593261719,   0.005893711932003,  -1.124314785003662,\n",
       "         0.055647421628237,  -0.219372630119324,   0.011511720716953,   0.046046912670135], dtype=float32)"
      ]
     },
     "execution_count": 7,
     "metadata": {},
     "output_type": "execute_result"
    }
   ],
   "source": [
    "test.geoMigueller(dips,dips_angles,azimuths,polarity, rest, ref,1,1,1,1,1,1)[1]"
   ]
  },
  {
   "cell_type": "code",
   "execution_count": 13,
   "metadata": {
    "collapsed": false
   },
   "outputs": [],
   "source": [
    "c_sol = np.array(([-7.2386541205560206435620784759521484375E-14],\n",
    "            [-1.5265566588595902430824935436248779296875E-14],\n",
    "            [-1.154631945610162802040576934814453125E-14],\n",
    "            [6.21724893790087662637233734130859375E-15],\n",
    "            \n",
    "            [-5.9952043329758453182876110076904296875E-15],\n",
    "            [7.99360577730112709105014801025390625E-15],\n",
    "            \n",
    "            [2.220446049250313080847263336181640625E-15],\n",
    "            [-3.641531520770513452589511871337890625E-14],\n",
    "            [8.0380146982861333526670932769775390625E-14],\n",
    "            \n",
    "            \n",
    "            [0.8816416857576581111999303175252862274646759033203125],\n",
    "            [9.355249580684368737593104015104472637176513671875],\n",
    "            [-0.1793850547262900996248191631821100600063800811767578125],\n",
    "        \n",
    "            [0.047149729032205163481439313954979297704994678497314453125],\n",
    "            [-8.994519501910499315044944523833692073822021484375],\n",
    "           [ 0.4451793036427798000431721447966992855072021484375],\n",
    "            \n",
    "            [-1.7549816402777651536126768405665643513202667236328125],\n",
    "            [0.0920938443689063301889063950511626899242401123046875],\n",
    "            [0.36837537747562587586713789278292097151279449462890625])).squeeze()"
   ]
  },
  {
   "cell_type": "code",
   "execution_count": 71,
   "metadata": {
    "collapsed": false
   },
   "outputs": [
    {
     "data": {
      "text/plain": [
       "array([-0.000000000000072, -0.000000000000015, -0.000000000000012,  0.000000000000006, -0.000000000000006,  0.000000000000008,  0.000000000000002, -0.000000000000036,  0.00000000000008 ,  0.881641685757658,  9.355249580684369, -0.17938505472629 ,  0.047149729032205, -8.994519501910499,\n",
       "        0.44517930364278 , -1.754981640277765,  0.092093844368906,  0.368375377475626])"
      ]
     },
     "execution_count": 71,
     "metadata": {},
     "output_type": "execute_result"
    }
   ],
   "source": [
    "c_sol.squeeze()"
   ]
  },
  {
   "cell_type": "code",
   "execution_count": 8,
   "metadata": {
    "collapsed": false
   },
   "outputs": [],
   "source": [
    "import pymc as pm"
   ]
  },
  {
   "cell_type": "code",
   "execution_count": 108,
   "metadata": {
    "collapsed": false
   },
   "outputs": [],
   "source": [
    "a = pm.Uniform('a', lower=-1.1, upper=1.1, )\n",
    "b = pm.Uniform('b', lower=-1.1, upper=1.1, )\n",
    "c = pm.Uniform('c', lower=-1.1, upper=1.1, )\n",
    "d = pm.Uniform('d', lower=-1.1, upper=1.1, )\n",
    "e = pm.Uniform('e', lower=-1.1, upper=1.1, )\n",
    "f = pm.Uniform('f', lower=-1.1, upper=1.1, )\n",
    "\n",
    "@pm.deterministic\n",
    "def this(value = 0, a = a ,b = b,c = c,d = d,e= e,f =f, c_sol = c_sol):\n",
    "    sol = test.geoMigueller(dips,dips_angles,azimuths,polarity, rest, ref,\n",
    "                                 a,b,c,d,e,f)[1]\n",
    "\n",
    "    \n",
    "    #error = abs(sol-c_sol)\n",
    "    #print (error)\n",
    "    return sol\n",
    "  \n",
    "like= pm.Normal(\"likelihood\", this, 1./np.square(0.00000000000001),\n",
    "                value = c_sol, observed = True, size = len(c_sol)\n",
    ")\n",
    "model = pm.Model([a,b,c,d,e,f, like])    \n",
    "\n"
   ]
  },
  {
   "cell_type": "code",
   "execution_count": 109,
   "metadata": {
    "collapsed": true
   },
   "outputs": [],
   "source": [
    "M = pm.MAP(model)\n",
    "M.fit()"
   ]
  },
  {
   "cell_type": "code",
   "execution_count": 113,
   "metadata": {
    "collapsed": false
   },
   "outputs": [
    {
     "name": "stdout",
     "output_type": "stream",
     "text": [
      " [-----------------100%-----------------] 10000 of 10000 complete in 189.2 sec"
     ]
    }
   ],
   "source": [
    "N = pm.MCMC(model)\n",
    "N.sample(10000, burn = 1000)"
   ]
  },
  {
   "cell_type": "code",
   "execution_count": 115,
   "metadata": {
    "collapsed": false
   },
   "outputs": [
    {
     "name": "stdout",
     "output_type": "stream",
     "text": [
      "Plotting b\n",
      "Plotting a\n",
      "Plotting c\n",
      "Plotting d\n",
      "Plotting f\n",
      "Plotting e\n"
     ]
    }
   ],
   "source": [
    "pm.Matplot.plot(N)"
   ]
  },
  {
   "cell_type": "code",
   "execution_count": 110,
   "metadata": {
    "collapsed": false
   },
   "outputs": [
    {
     "data": {
      "text/plain": [
       "(array(-0.9430088797578566), array(-0.07238324557340177))"
      ]
     },
     "execution_count": 110,
     "metadata": {},
     "output_type": "execute_result"
    }
   ],
   "source": [
    "a.value, b.value"
   ]
  },
  {
   "cell_type": "code",
   "execution_count": 116,
   "metadata": {
    "collapsed": false
   },
   "outputs": [
    {
     "data": {
      "text/plain": [
       "array([  0.               ,  -0.               ,   0.               ,  -0.               ,   0.000000000000001,  -0.000000000000001,   0.               ,  -0.               ,   0.               ,   0.979540228843689,  10.698935508728027,  -0.213920593261719,   0.005893711932003,  -1.124314785003662,\n",
       "         0.055647421628237,  -0.219372630119324,   0.011511720716953,   0.046046912670135], dtype=float32)"
      ]
     },
     "execution_count": 116,
     "metadata": {},
     "output_type": "execute_result"
    }
   ],
   "source": [
    "this.value"
   ]
  },
  {
   "cell_type": "code",
   "execution_count": 112,
   "metadata": {
    "collapsed": false
   },
   "outputs": [
    {
     "data": {
      "text/plain": [
       "array([-0.000000000000072, -0.000000000000015, -0.000000000000012,  0.000000000000006, -0.000000000000006,  0.000000000000008,  0.000000000000002, -0.000000000000036,  0.00000000000008 ,  0.881641685757658,  9.355249580684369, -0.17938505472629 ,  0.047149729032205, -8.994519501910499,\n",
       "        0.44517930364278 , -1.754981640277765,  0.092093844368906,  0.368375377475626])"
      ]
     },
     "execution_count": 112,
     "metadata": {},
     "output_type": "execute_result"
    }
   ],
   "source": [
    "c_sol"
   ]
  },
  {
   "cell_type": "code",
   "execution_count": 48,
   "metadata": {
    "collapsed": true
   },
   "outputs": [],
   "source": []
  },
  {
   "cell_type": "code",
   "execution_count": 1,
   "metadata": {
    "collapsed": false
   },
   "outputs": [],
   "source": [
    "import matplotlib.pyplot as plt\n",
    "\n",
    "def plot_this_crap(direction):\n",
    "    fig = plt.figure()\n",
    "    ax = fig.add_subplot(111)\n",
    "    dip_pos_1_v = np.array([G_x[0], G_y[0],\n",
    "                           G_z[0]]) + dip_pos_1\n",
    "\n",
    "    dip_pos_2_v = np.array([G_x[1], G_y[1],\n",
    "                           G_z[1]]) + dip_pos_2\n",
    "    if direction == \"x\":\n",
    "\n",
    "        plt.arrow(dip_pos_1[1],dip_pos_1[2], dip_pos_1_v[1]-dip_pos_1[1],\n",
    "                  dip_pos_1_v[2]-dip_pos_1[2], head_width = 0.2)\n",
    "        plt.arrow(dip_pos_2[1],dip_pos_2[2],dip_pos_2_v[1]-dip_pos_2[1], \n",
    "                  dip_pos_2_v[2]-dip_pos_2[2], head_width = 0.2)\n",
    "\n",
    "        plt.plot(layer_1[:,1],layer_1[:,2], \"o\")\n",
    "        plt.plot(layer_2[:,1],layer_2[:,2], \"o\")\n",
    "\n",
    "        plt.plot(layer_1[:,1],layer_1[:,2], )\n",
    "        plt.plot(layer_2[:,1],layer_2[:,2], )\n",
    "        plt.contour( sol[25,:,:] ,30,extent = (0,10,0,10) )\n",
    "\n",
    "    if direction == \"y\":\n",
    "\n",
    "        plt.arrow(dip_pos_1[0],dip_pos_1[2], dip_pos_1_v[0]-dip_pos_1[0],\n",
    "                  dip_pos_1_v[2]-dip_pos_1[2], head_width = 0.2)\n",
    "        plt.arrow(dip_pos_2[0],dip_pos_2[2],dip_pos_2_v[0]-dip_pos_2[0], \n",
    "                  dip_pos_2_v[2]-dip_pos_2[2], head_width = 0.2)\n",
    "\n",
    "        plt.plot(layer_1[:,0],layer_1[:,2], \"o\")\n",
    "        plt.plot(layer_2[:,0],layer_2[:,2], \"o\")\n",
    "\n",
    "        plt.plot(layer_1[:,0],layer_1[:,2], )\n",
    "        plt.plot(layer_2[:,0],layer_2[:,2], )\n",
    "        plt.contour( sol[:,25,:].T ,30,extent = (0,10,0,10) )\n",
    "\n",
    "    if direction == \"z\":\n",
    "\n",
    "        plt.arrow(dip_pos_1[0],dip_pos_1[1], dip_pos_1_v[0]-dip_pos_1[0],\n",
    "                  dip_pos_1_v[1]-dip_pos_1[1], head_width = 0.2)\n",
    "        plt.arrow(dip_pos_2[0],dip_pos_2[1],dip_pos_2_v[0]-dip_pos_2[0], \n",
    "                  dip_pos_2_v[1]-dip_pos_2[1], head_width = 0.2)\n",
    "\n",
    "        plt.plot(layer_1[:,0],layer_1[:,1], \"o\")\n",
    "        plt.plot(layer_2[:,0],layer_2[:,1], \"o\")\n",
    "\n",
    "        plt.plot(layer_1[:,0],layer_1[:,1], )\n",
    "        plt.plot(layer_2[:,0],layer_2[:,1], )\n",
    "        plt.contour( sol[:,:,25] ,30,extent = (0,10,0,10) )\n",
    "    \n",
    "    \n",
    "    \n",
    "#plt.colorbar()\n",
    "#plt.xlim(0,10)\n",
    "#plt.ylim(0,10)\n",
    "    plt.colorbar()\n",
    "    plt.title(\"GeoBulleter v 0.1\")"
   ]
  },
  {
   "cell_type": "code",
   "execution_count": 2,
   "metadata": {
    "collapsed": false
   },
   "outputs": [
    {
     "ename": "NameError",
     "evalue": "name 'np' is not defined",
     "output_type": "error",
     "traceback": [
      "\u001b[1;31m---------------------------------------------------------------------------\u001b[0m",
      "\u001b[1;31mNameError\u001b[0m                                 Traceback (most recent call last)",
      "\u001b[1;32m<ipython-input-2-dffc2f32c2eb>\u001b[0m in \u001b[0;36m<module>\u001b[1;34m()\u001b[0m\n\u001b[1;32m----> 1\u001b[1;33m \u001b[0mplot_this_crap\u001b[0m\u001b[1;33m(\u001b[0m\u001b[1;34m\"z\"\u001b[0m\u001b[1;33m)\u001b[0m\u001b[1;33m\u001b[0m\u001b[0m\n\u001b[0m",
      "\u001b[1;32m<ipython-input-1-c30961e9a7a2>\u001b[0m in \u001b[0;36mplot_this_crap\u001b[1;34m(direction)\u001b[0m\n\u001b[0;32m      4\u001b[0m     \u001b[0mfig\u001b[0m \u001b[1;33m=\u001b[0m \u001b[0mplt\u001b[0m\u001b[1;33m.\u001b[0m\u001b[0mfigure\u001b[0m\u001b[1;33m(\u001b[0m\u001b[1;33m)\u001b[0m\u001b[1;33m\u001b[0m\u001b[0m\n\u001b[0;32m      5\u001b[0m     \u001b[0max\u001b[0m \u001b[1;33m=\u001b[0m \u001b[0mfig\u001b[0m\u001b[1;33m.\u001b[0m\u001b[0madd_subplot\u001b[0m\u001b[1;33m(\u001b[0m\u001b[1;36m111\u001b[0m\u001b[1;33m)\u001b[0m\u001b[1;33m\u001b[0m\u001b[0m\n\u001b[1;32m----> 6\u001b[1;33m     dip_pos_1_v = np.array([G_x[0], G_y[0],\n\u001b[0m\u001b[0;32m      7\u001b[0m                            G_z[0]]) + dip_pos_1\n\u001b[0;32m      8\u001b[0m \u001b[1;33m\u001b[0m\u001b[0m\n",
      "\u001b[1;31mNameError\u001b[0m: name 'np' is not defined"
     ]
    }
   ],
   "source": [
    "plot_this_crap(\"z\")"
   ]
  },
  {
   "cell_type": "code",
   "execution_count": null,
   "metadata": {
    "collapsed": true
   },
   "outputs": [],
   "source": []
  },
  {
   "cell_type": "code",
   "execution_count": null,
   "metadata": {
    "collapsed": true
   },
   "outputs": [],
   "source": []
  },
  {
   "cell_type": "code",
   "execution_count": null,
   "metadata": {
    "collapsed": true
   },
   "outputs": [],
   "source": []
  },
  {
   "cell_type": "code",
   "execution_count": null,
   "metadata": {
    "collapsed": true
   },
   "outputs": [],
   "source": []
  },
  {
   "cell_type": "code",
   "execution_count": null,
   "metadata": {
    "collapsed": true
   },
   "outputs": [],
   "source": []
  },
  {
   "cell_type": "code",
   "execution_count": null,
   "metadata": {
    "collapsed": true
   },
   "outputs": [],
   "source": []
  },
  {
   "cell_type": "code",
   "execution_count": null,
   "metadata": {
    "collapsed": true
   },
   "outputs": [],
   "source": []
  },
  {
   "cell_type": "code",
   "execution_count": 50,
   "metadata": {
    "collapsed": false
   },
   "outputs": [
    {
     "name": "stdout",
     "output_type": "stream",
     "text": [
      "6.05973 3.17981 2.4532 0.29113\n",
      "6.14472 3.30846 0.500162\n"
     ]
    }
   ],
   "source": [
    "h,j,k =sol[5,10,35], sol[25,5,5], sol[30,15,-25]\n",
    "layer_1 = np.array([[1,5,7],[5,5,7],[6,5,7], [9,5,7]], dtype = \"float32\")\n",
    "\n",
    "layer_2 = np.array([[1,5,1],[5,5,1],[9,5,1]], dtype = \"float32\")\n",
    "\n",
    "print(sol[5,25,35], sol[25,25,35],  sol[30,25,35],  sol[45,25,35]) \n",
    "print(sol[5,25,5], sol[25,25,5],  sol[45,25,5])"
   ]
  },
  {
   "cell_type": "code",
   "execution_count": 51,
   "metadata": {
    "collapsed": false
   },
   "outputs": [
    {
     "data": {
      "text/plain": [
       "[5.0, 25.0, 35.0]"
      ]
     },
     "execution_count": 51,
     "metadata": {},
     "output_type": "execute_result"
    }
   ],
   "source": [
    "list(layer_1[0]*5)"
   ]
  },
  {
   "cell_type": "code",
   "execution_count": 52,
   "metadata": {
    "collapsed": false
   },
   "outputs": [
    {
     "data": {
      "text/plain": [
       "(5.2851176, 2.330806, 0.50016159)"
      ]
     },
     "execution_count": 52,
     "metadata": {},
     "output_type": "execute_result"
    }
   ],
   "source": [
    "interfaces_aux = test.geoMigueller(dips,dips_angles,azimuths,polarity,\n",
    "                rest, ref)[0]\n",
    "\n",
    "\n",
    "h = sol[10,20,30]# interfaces_aux[np.argmin(abs((test.grid - ref[0]).sum(1)))]\n",
    "k = sol[30,15,25]# interfaces_aux[np.argmin(abs((test.grid - dips[0]).sum(1)))]\n",
    "j = sol[45,25,5]#interfaces_aux[np.argmin(abs((test.grid - dips[-1]).sum(1)))]\n",
    "h,k,j"
   ]
  },
  {
   "cell_type": "code",
   "execution_count": 53,
   "metadata": {
    "collapsed": false
   },
   "outputs": [
    {
     "data": {
      "text/plain": [
       "(array([ 6.,  3.,  5.], dtype=float32), array([ 1.,  5.,  7.], dtype=float32))"
      ]
     },
     "execution_count": 53,
     "metadata": {},
     "output_type": "execute_result"
    }
   ],
   "source": [
    "dips[-1], ref[0]"
   ]
  },
  {
   "cell_type": "code",
   "execution_count": 54,
   "metadata": {
    "collapsed": false
   },
   "outputs": [
    {
     "data": {
      "text/plain": [
       "(2.330806, 2.330806)"
      ]
     },
     "execution_count": 54,
     "metadata": {},
     "output_type": "execute_result"
    }
   ],
   "source": [
    "sol[30,15,25], sol[30,15,25]"
   ]
  },
  {
   "cell_type": "code",
   "execution_count": 59,
   "metadata": {
    "collapsed": false
   },
   "outputs": [
    {
     "data": {
      "text/plain": [
       "<matplotlib.contour.QuadContourSet at 0x7fa0222424e0>"
      ]
     },
     "execution_count": 59,
     "metadata": {},
     "output_type": "execute_result"
    },
    {
     "data": {
      "image/png": "[encoded data removed]",
      "text/plain": [
       "<matplotlib.figure.Figure at 0x7fa0222b9438>"
      ]
     },
     "metadata": {},
     "output_type": "display_data"
    }
   ],
   "source": [
    "sol = test.geoMigueller(dips,dips_angles,azimuths,polarity, rest, ref)[0].reshape(50,50,50, order = \"C\")\n",
    "sol = np.swapaxes(sol,0,1)\n",
    "plt.contour(sol[:,25,:].transpose())"
   ]
  },
  {
   "cell_type": "code",
   "execution_count": null,
   "metadata": {
    "collapsed": true
   },
   "outputs": [],
   "source": []
  },
  {
   "cell_type": "code",
   "execution_count": null,
   "metadata": {
    "collapsed": true
   },
   "outputs": [],
   "source": []
  },
  {
   "cell_type": "code",
   "execution_count": null,
   "metadata": {
    "collapsed": true
   },
   "outputs": [],
   "source": []
  },
  {
   "cell_type": "code",
   "execution_count": null,
   "metadata": {
    "collapsed": true
   },
   "outputs": [],
   "source": []
  },
  {
   "cell_type": "code",
   "execution_count": null,
   "metadata": {
    "collapsed": true
   },
   "outputs": [],
   "source": []
  },
  {
   "cell_type": "code",
   "execution_count": null,
   "metadata": {
    "collapsed": true
   },
   "outputs": [],
   "source": []
  },
  {
   "cell_type": "code",
   "execution_count": null,
   "metadata": {
    "collapsed": true
   },
   "outputs": [],
   "source": []
  },
  {
   "cell_type": "code",
   "execution_count": null,
   "metadata": {
    "collapsed": true
   },
   "outputs": [],
   "source": []
  },
  {
   "cell_type": "code",
   "execution_count": null,
   "metadata": {
    "collapsed": true
   },
   "outputs": [],
   "source": []
  },
  {
   "cell_type": "code",
   "execution_count": null,
   "metadata": {
    "collapsed": true
   },
   "outputs": [],
   "source": []
  },
  {
   "cell_type": "code",
   "execution_count": 121,
   "metadata": {
    "collapsed": false
   },
   "outputs": [
    {
     "ename": "ImportError",
     "evalue": "No module named 'pyevtk'",
     "output_type": "error",
     "traceback": [
      "\u001b[1;31m---------------------------------------------------------------------------\u001b[0m",
      "\u001b[1;31mImportError\u001b[0m                               Traceback (most recent call last)",
      "\u001b[1;32m<ipython-input-121-8308869b7d0c>\u001b[0m in \u001b[0;36m<module>\u001b[1;34m()\u001b[0m\n\u001b[0;32m     19\u001b[0m \u001b[0mdely\u001b[0m \u001b[1;33m=\u001b[0m \u001b[1;36m0.2\u001b[0m\u001b[1;33m\u001b[0m\u001b[0m\n\u001b[0;32m     20\u001b[0m \u001b[0mdelz\u001b[0m \u001b[1;33m=\u001b[0m \u001b[1;36m0.2\u001b[0m\u001b[1;33m\u001b[0m\u001b[0m\n\u001b[1;32m---> 21\u001b[1;33m \u001b[1;32mfrom\u001b[0m \u001b[0mpyevtk\u001b[0m\u001b[1;33m.\u001b[0m\u001b[0mhl\u001b[0m \u001b[1;32mimport\u001b[0m \u001b[0mgridToVTK\u001b[0m\u001b[1;33m\u001b[0m\u001b[0m\n\u001b[0m\u001b[0;32m     22\u001b[0m \u001b[1;31m# Coordinates\u001b[0m\u001b[1;33m\u001b[0m\u001b[1;33m\u001b[0m\u001b[0m\n\u001b[0;32m     23\u001b[0m \u001b[0mx\u001b[0m \u001b[1;33m=\u001b[0m \u001b[0mnp\u001b[0m\u001b[1;33m.\u001b[0m\u001b[0marange\u001b[0m\u001b[1;33m(\u001b[0m\u001b[1;36m0\u001b[0m\u001b[1;33m,\u001b[0m \u001b[0mextent_x\u001b[0m \u001b[1;33m+\u001b[0m \u001b[1;36m0.1\u001b[0m\u001b[1;33m*\u001b[0m\u001b[0mdelx\u001b[0m\u001b[1;33m,\u001b[0m \u001b[0mdelx\u001b[0m\u001b[1;33m,\u001b[0m \u001b[0mdtype\u001b[0m\u001b[1;33m=\u001b[0m\u001b[1;34m'float64'\u001b[0m\u001b[1;33m)\u001b[0m\u001b[1;33m\u001b[0m\u001b[0m\n",
      "\u001b[1;31mImportError\u001b[0m: No module named 'pyevtk'"
     ]
    }
   ],
   "source": [
    "\"\"\"Export model to VTK\n",
    "\n",
    "Export the geology blocks to VTK for visualisation of the entire 3-D model in an\n",
    "external VTK viewer, e.g. Paraview.\n",
    "\n",
    "..Note:: Requires pyevtk, available for free on: https://github.com/firedrakeproject/firedrake/tree/master/python/evtk\n",
    "\n",
    "**Optional keywords**:\n",
    "    - *vtk_filename* = string : filename of VTK file (default: output_name)\n",
    "    - *data* = np.array : data array to export to VKT (default: entire block model)\n",
    "\"\"\"\n",
    "vtk_filename = \"noddyFunct2\"\n",
    "\n",
    "extent_x = 10\n",
    "extent_y = 10\n",
    "extent_z = 10\n",
    "\n",
    "delx = 0.2\n",
    "dely = 0.2\n",
    "delz = 0.2\n",
    "from pyevtk.hl import gridToVTK\n",
    "# Coordinates\n",
    "x = np.arange(0, extent_x + 0.1*delx, delx, dtype='float64')\n",
    "y = np.arange(0, extent_y + 0.1*dely, dely, dtype='float64')\n",
    "z = np.arange(0, extent_z + 0.1*delz, delz, dtype='float64')\n",
    "\n",
    "# self.block = np.swapaxes(self.block, 0, 2)\n",
    "\n",
    "\n",
    "gridToVTK(vtk_filename, x, y, z, cellData = {\"geology\" : sol})"
   ]
  },
  {
   "cell_type": "code",
   "execution_count": 201,
   "metadata": {
    "collapsed": false
   },
   "outputs": [
    {
     "data": {
      "text/plain": [
       "51"
      ]
     },
     "execution_count": 201,
     "metadata": {},
     "output_type": "execute_result"
    }
   ],
   "source": [
    "len(x)"
   ]
  },
  {
   "cell_type": "code",
   "execution_count": 202,
   "metadata": {
    "collapsed": false
   },
   "outputs": [
    {
     "data": {
      "text/plain": [
       "-63.0"
      ]
     },
     "execution_count": 202,
     "metadata": {},
     "output_type": "execute_result"
    }
   ],
   "source": [
    "surf_eq.min()"
   ]
  },
  {
   "cell_type": "code",
   "execution_count": 203,
   "metadata": {
    "collapsed": false
   },
   "outputs": [
    {
     "data": {
      "text/plain": [
       "0.0"
      ]
     },
     "execution_count": 203,
     "metadata": {},
     "output_type": "execute_result"
    }
   ],
   "source": [
    "np.min(z)"
   ]
  },
  {
   "cell_type": "code",
   "execution_count": 204,
   "metadata": {
    "collapsed": false
   },
   "outputs": [
    {
     "data": {
      "text/plain": [
       "array([ 1.,  5.,  6.,  9.], dtype=float32)"
      ]
     },
     "execution_count": 204,
     "metadata": {},
     "output_type": "execute_result"
    }
   ],
   "source": [
    "layers[0][:,0]"
   ]
  },
  {
   "cell_type": "code",
   "execution_count": null,
   "metadata": {
    "collapsed": true
   },
   "outputs": [],
   "source": []
  },
  {
   "cell_type": "code",
   "execution_count": null,
   "metadata": {
    "collapsed": true
   },
   "outputs": [],
   "source": []
  },
  {
   "cell_type": "code",
   "execution_count": null,
   "metadata": {
    "collapsed": true
   },
   "outputs": [],
   "source": []
  },
  {
   "cell_type": "code",
   "execution_count": 168,
   "metadata": {
    "collapsed": true
   },
   "outputs": [],
   "source": [
    "G_x = np.sin(np.deg2rad(dips_angles)) * np.sin(np.deg2rad(azimuths)) * polarity\n",
    "G_y = np.sin(np.deg2rad(dips_angles)) * np.cos(np.deg2rad(azimuths)) * polarity\n",
    "G_z = np.cos(np.deg2rad(dips_angles)) * polarity"
   ]
  },
  {
   "cell_type": "code",
   "execution_count": 183,
   "metadata": {
    "collapsed": false
   },
   "outputs": [
    {
     "data": {
      "text/plain": [
       "array([[ 2.  ,  6.  ],\n",
       "       [ 2.03,  6.15]], dtype=float32)"
      ]
     },
     "execution_count": 183,
     "metadata": {},
     "output_type": "execute_result"
    }
   ],
   "source": [
    "a"
   ]
  },
  {
   "cell_type": "code",
   "execution_count": null,
   "metadata": {
    "collapsed": true
   },
   "outputs": [],
   "source": [
    "data = [trace1, trace2]\n",
    "layout = go.Layout(\n",
    "    xaxis=dict(\n",
    "        range=[2, 5]\n",
    "    ),\n",
    "    yaxis=dict(\n",
    "        range=[2, 5]\n",
    "    )\n",
    ")\n",
    "fig = go.Figure(data=data, layout=layout)"
   ]
  },
  {
   "cell_type": "code",
   "execution_count": null,
   "metadata": {
    "collapsed": true
   },
   "outputs": [],
   "source": []
  },
  {
   "cell_type": "code",
   "execution_count": 53,
   "metadata": {
    "collapsed": false
   },
   "outputs": [],
   "source": []
  },
  {
   "cell_type": "code",
   "execution_count": null,
   "metadata": {
    "collapsed": false
   },
   "outputs": [],
   "source": [
    "import lxml\n",
    "lxml??"
   ]
  },
  {
   "cell_type": "code",
   "execution_count": 11,
   "metadata": {
    "collapsed": false,
    "scrolled": true
   },
   "outputs": [],
   "source": [
    "# Random Box\n",
    "\n",
    "#layers = [np.random.uniform(0,10,(10,2)) for i in range(100)]\n",
    "#dips = np.random.uniform(0,10, (60,2))\n",
    "#dips_angles = np.random.normal(90,10, 60)\n",
    "#rest = (np.vstack((i[1:] for i in layers)))\n",
    "#ref = np.vstack((np.tile(i[0],(np.shape(i)[0]-1,1)) for i in layers))\n",
    "#rest;"
   ]
  },
  {
   "cell_type": "code",
   "execution_count": null,
   "metadata": {
    "collapsed": true
   },
   "outputs": [],
   "source": []
  },
  {
   "cell_type": "code",
   "execution_count": 63,
   "metadata": {
    "collapsed": false
   },
   "outputs": [
    {
     "name": "stdout",
     "output_type": "stream",
     "text": [
      "[[-30.  -29.5 -29.  ...,  28.5  29.   29.5]\n",
      " [-30.  -29.5 -29.  ...,  28.5  29.   29.5]\n",
      " [-30.  -29.5 -29.  ...,  28.5  29.   29.5]\n",
      " ..., \n",
      " [-30.  -29.5 -29.  ...,  28.5  29.   29.5]\n",
      " [-30.  -29.5 -29.  ...,  28.5  29.   29.5]\n",
      " [-30.  -29.5 -29.  ...,  28.5  29.   29.5]]\n"
     ]
    },
    {
     "data": {
      "image/png": "[encoded data removed]",
      "text/plain": [
       "<matplotlib.figure.Figure at 0x7f2e5b217e48>"
      ]
     },
     "metadata": {},
     "output_type": "display_data"
    }
   ],
   "source": [
    "fig = plt.figure()\n",
    "ax = fig.add_subplot(111, projection='3d')\n",
    "X, Y, Z = axes3d.get_test_data(0.05)\n",
    "cset = ax.contour(X, Y, Z, cmap=cm.coolwarm)\n",
    "ax.clabel(cset, fontsize=9, inline=1)\n",
    "print(X)\n",
    "plt.show()"
   ]
  },
  {
   "cell_type": "code",
   "execution_count": 11,
   "metadata": {
    "collapsed": false
   },
   "outputs": [
    {
     "data": {
      "text/plain": [
       "<matplotlib.contour.QuadContourSet at 0x7ff55335e7f0>"
      ]
     },
     "execution_count": 11,
     "metadata": {},
     "output_type": "execute_result"
    },
    {
     "data": {
      "image/png": "[encoded data removed]",
      "text/plain": [
       "<matplotlib.figure.Figure at 0x7ff554792748>"
      ]
     },
     "metadata": {},
     "output_type": "display_data"
    }
   ],
   "source": [
    "import matplotlib.pyplot as plt\n",
    "% matplotlib inline\n",
    "plt.contour( sol.reshape(100,100) ,30,extent = (0,10,0,10) )"
   ]
  },
  {
   "cell_type": "code",
   "execution_count": 131,
   "metadata": {
    "collapsed": false
   },
   "outputs": [
    {
     "name": "stdout",
     "output_type": "stream",
     "text": [
      "[ 2.  5.] [ 6.34  3.94] [[ 1.  7.]\n",
      " [ 5.  7.]\n",
      " [ 6.  7.]\n",
      " [ 9.  8.]]\n"
     ]
    },
    {
     "data": {
      "image/png": "[encoded data removed]",
      "text/plain": [
       "<matplotlib.figure.Figure at 0x7f95a1673f98>"
      ]
     },
     "metadata": {},
     "output_type": "display_data"
    }
   ],
   "source": [
    "import matplotlib.pyplot as plt\n",
    "% matplotlib inline\n",
    "dip_pos_1_v = np.array([np.cos(np.deg2rad(dip_angle_1))*1,\n",
    "                        np.sin(np.deg2rad(dip_angle_1))]) + dip_pos_1\n",
    "\n",
    "dip_pos_2_v = np.array([np.cos(np.deg2rad(dip_angle_2))*1, \n",
    "                        np.sin(np.deg2rad(dip_angle_2))]) + dip_pos_2\n",
    "\n",
    "plt.arrow(dip_pos_1[0],dip_pos_1[1], dip_pos_1_v[0]-dip_pos_1[0],\n",
    "          dip_pos_1_v[1]-dip_pos_1[1], head_width = 0.2)\n",
    "plt.arrow(dip_pos_2[0],dip_pos_2[1],dip_pos_2_v[0]-dip_pos_2[0], \n",
    "          dip_pos_2_v[1]-dip_pos_2[1], head_width = 0.2)\n",
    "\n",
    "plt.plot(layer_1[:,0],layer_1[:,1], \"o\")\n",
    "plt.plot(layer_2[:,0],layer_2[:,1], \"o\")\n",
    "\n",
    "plt.plot(layer_1[:,0],layer_1[:,1], )\n",
    "plt.plot(layer_2[:,0],layer_2[:,1], )\n",
    "\n",
    "plt.contour( sol.reshape(100,100) ,30,extent = (0,10,0,10) )\n",
    "#plt.colorbar()\n",
    "#plt.xlim(0,10)\n",
    "#plt.ylim(0,10)\n",
    "plt.title(\"GeoBulleter v 0.1\")\n",
    "print (dip_pos_1_v, dip_pos_2_v, layer_1)"
   ]
  },
  {
   "cell_type": "markdown",
   "metadata": {},
   "source": [
    "# CPU"
   ]
  },
  {
   "cell_type": "code",
   "execution_count": 17,
   "metadata": {
    "collapsed": false
   },
   "outputs": [
    {
     "name": "stdout",
     "output_type": "stream",
     "text": [
      "1 loop, best of 3: 5.81 s per loop\n"
     ]
    }
   ],
   "source": [
    "%%timeit\n",
    "sol = test.geoMigueller(dips,dips_angles,rest, ref)[0]"
   ]
  },
  {
   "cell_type": "code",
   "execution_count": 18,
   "metadata": {
    "collapsed": false
   },
   "outputs": [
    {
     "name": "stderr",
     "output_type": "stream",
     "text": [
      "Function profiling\n",
      "==================\n",
      "  Message: /home/miguel/PycharmProjects/GeMpy/GeoMig.py:562\n",
      "  Time in 5 calls to Function.__call__: 2.937774e+01s\n",
      "  Time in Function.fn.__call__: 2.937736e+01s (99.999%)\n",
      "  Time in thunks: 2.934835e+01s (99.900%)\n",
      "  Total compile time: 1.559712e+00s\n",
      "    Number of Apply nodes: 171\n",
      "    Theano Optimizer time: 1.410723e+00s\n",
      "       Theano validate time: 4.508591e-02s\n",
      "    Theano Linker time (includes C, CUDA code generation/compiling): 9.198022e-02s\n",
      "       Import time 0.000000e+00s\n",
      "\n",
      "Time in all call to theano.grad() 0.000000e+00s\n",
      "Time since theano import 132.105s\n",
      "Class\n",
      "---\n",
      "<% time> <sum %> <apply time> <time per call> <type> <#call> <#apply> <Class name>\n",
      "  83.6%    83.6%      24.529s       1.29e-01s     C      190      38   theano.tensor.elemwise.Elemwise\n",
      "   6.4%    90.0%       1.889s       5.40e-02s     C       35       7   theano.tensor.elemwise.Sum\n",
      "   5.1%    95.1%       1.496s       2.99e-02s     C       50      10   theano.tensor.blas.Dot22Scalar\n",
      "   2.5%    97.6%       0.743s       1.86e-02s     C       40       8   theano.tensor.basic.Alloc\n",
      "   2.3%   100.0%       0.682s       2.27e-02s     C       30       6   theano.tensor.basic.Join\n",
      "   0.0%   100.0%       0.008s       1.55e-03s     Py       5       1   theano.tensor.nlinalg.MatrixInverse\n",
      "   0.0%   100.0%       0.000s       2.76e-06s     C       95      19   theano.tensor.basic.Reshape\n",
      "   0.0%   100.0%       0.000s       2.37e-06s     C       65      13   theano.tensor.subtensor.IncSubtensor\n",
      "   0.0%   100.0%       0.000s       9.48e-07s     C      155      31   theano.tensor.elemwise.DimShuffle\n",
      "   0.0%   100.0%       0.000s       2.77e-05s     Py       5       1   theano.tensor.extra_ops.FillDiagonal\n",
      "   0.0%   100.0%       0.000s       2.34e-06s     C       55      11   theano.tensor.subtensor.Subtensor\n",
      "   0.0%   100.0%       0.000s       1.37e-06s     C       60      12   theano.tensor.opt.MakeVector\n",
      "   0.0%   100.0%       0.000s       1.14e-06s     C       30       6   theano.compile.ops.Shape_i\n",
      "   0.0%   100.0%       0.000s       5.77e-06s     C        5       1   theano.tensor.blas_c.CGemv\n",
      "   0.0%   100.0%       0.000s       7.71e-07s     C       30       6   theano.tensor.basic.ScalarFromTensor\n",
      "   0.0%   100.0%       0.000s       1.19e-06s     C        5       1   theano.tensor.basic.AllocEmpty\n",
      "   ... (remaining 0 Classes account for   0.00%(0.00s) of the runtime)\n",
      "\n",
      "Ops\n",
      "---\n",
      "<% time> <sum %> <apply time> <time per call> <type> <#call> <#apply> <Op name>\n",
      "  47.3%    47.3%      13.894s       2.78e+00s     C        5        1   Elemwise{Composite{(i0 * i1 * LT(Composite{sqrt(((i0 + i1) - i2))}(i2, i3, i4), i5) * Composite{(sqr(i0) * i0)}((i5 - Composite{sqrt(((i0 + i1) - i2))}(i2, i3, i4))) * ((i6 * sqr(Composite{sqrt(((i0 + i1) - i2))}(i2, i3, i4))) + i7 + (i8 * i5 * Composite{sqrt(((i0 + i1) - i2))}(i2, i3, i4))))}}[(0, 1)]\n",
      "  28.1%    75.5%       8.253s       1.65e+00s     C        5        1   Elemwise{Composite{(i0 * ((LT(Composite{sqrt(((i0 + i1) - i2))}(i1, i2, i3), i4) * ((i5 + (i6 * Composite{(sqr(i0) * i0)}((Composite{sqrt(((i0 + i1) - i2))}(i1, i2, i3) / i4))) + (i7 * Composite{((sqr(sqr(i0)) * sqr(i0)) * i0)}((Composite{sqrt(((i0 + i1) - i2))}(i1, i2, i3) / i4)))) - ((i8 * sqr((Composite{sqrt(((i0 + i1) - i2))}(i1, i2, i3) / i4))) + (i9 * Composite{(sqr(sqr(i0)) * i0)}((Composite{sqrt(((i0 + i1) - i2))}(i1, i2, i3) / i4\n",
      "   6.1%    81.6%       1.799s       1.20e-01s     C       15        3   Sum{axis=[0], acc_dtype=float64}\n",
      "   5.1%    86.7%       1.496s       2.99e-02s     C       50       10   Dot22Scalar\n",
      "   3.6%    90.3%       1.054s       2.11e-01s     C        5        1   Elemwise{Composite{sqrt(((i0 + i1) - i2))}}[(0, 2)]\n",
      "   2.8%    93.0%       0.810s       1.62e-02s     C       50       10   Elemwise{sub,no_inplace}\n",
      "   2.5%    95.6%       0.743s       1.86e-02s     C       40        8   Alloc\n",
      "   2.3%    97.9%       0.682s       2.27e-02s     C       30        6   Join\n",
      "   1.5%    99.4%       0.431s       2.87e-02s     C       15        3   Elemwise{mul,no_inplace}\n",
      "   0.3%    99.7%       0.090s       4.51e-03s     C       20        4   Sum{axis=[1], acc_dtype=float64}\n",
      "   0.2%    99.9%       0.054s       1.09e-02s     C        5        1   Elemwise{Composite{(i0 + ((i1 * i2) / i3) + i4)}}[(0, 0)]\n",
      "   0.1%   100.0%       0.034s       1.70e-03s     C       20        4   Elemwise{sqr,no_inplace}\n",
      "   0.0%   100.0%       0.008s       1.55e-03s     Py       5        1   MatrixInverse\n",
      "   0.0%   100.0%       0.000s       2.76e-06s     C       95       19   Reshape{2}\n",
      "   0.0%   100.0%       0.000s       2.77e-05s     Py       5        1   FillDiagonal\n",
      "   0.0%   100.0%       0.000s       2.18e-05s     C        5        1   Elemwise{Composite{Switch(EQ(Composite{sqrt(((i0 + i1) - i2))}(i0, i1, i2), i3), i3, ((i4 * (((i5 * i6 * i7 * LT(Composite{sqrt(((i0 + i1) - i2))}(i0, i1, i2), i8) * Composite{(sqr((i0 - i1)) * (i0 - i1))}(i8, Composite{sqrt(((i0 + i1) - i2))}(i0, i1, i2)) * Composite{((i0 * i1) + i2 + (i3 * i4 * i5))}(i9, sqr(Composite{sqrt(((i0 + i1) - i2))}(i0, i1, i2)), i10, i11, i8, Composite{sqrt(((i0 + i1) - i2))}(i0, i1, i2))) / (sqr(Composite{sqr\n",
      "   0.0%   100.0%       0.000s       1.37e-06s     C       60       12   MakeVector{dtype='int64'}\n",
      "   0.0%   100.0%       0.000s       1.54e-05s     C        5        1   Elemwise{Composite{((((LT(Composite{sqrt(((i0 + i1) - i2))}(i0, i1, i2), i3) * ((i4 + (i5 * Composite{(sqr(i0) * i0)}((Composite{sqrt(((i0 + i1) - i2))}(i0, i1, i2) / i3))) + (i6 * Composite{((sqr(sqr(i0)) * sqr(i0)) * i0)}((Composite{sqrt(((i0 + i1) - i2))}(i0, i1, i2) / i3)))) - ((i7 * sqr((Composite{sqrt(((i0 + i1) - i2))}(i0, i1, i2) / i3))) + (i8 * Composite{(sqr(sqr(i0)) * i0)}((Composite{sqrt(((i0 + i1) - i2))}(i0, i1, i2) / i3))))\n",
      "   0.0%   100.0%       0.000s       1.73e-06s     C       40        8   Subtensor{::, int64}\n",
      "   0.0%   100.0%       0.000s       2.33e-06s     C       25        5   IncSubtensor{InplaceSet;int64:int64:, int64:int64:}\n",
      "   ... (remaining 37 Ops account for   0.00%(0.00s) of the runtime)\n",
      "\n",
      "Apply\n",
      "------\n",
      "<% time> <sum %> <apply time> <time per call> <#call> <id> <Apply name>\n",
      "  47.3%    47.3%      13.894s       2.78e+00s      5   165   Elemwise{Composite{(i0 * i1 * LT(Composite{sqrt(((i0 + i1) - i2))}(i2, i3, i4), i5) * Composite{(sqr(i0) * i0)}((i5 - Composite{sqrt(((i0 + i1) - i2))}(i2, i3, i4))) * ((i6 * sqr(Composite{sqrt(((i0 + i1) - i2))}(i2, i3, i4))) + i7 + (i8 * i5 * Composite{sqrt(((i0 + i1) - i2))}(i2, i3, i4))))}}[(0, 1)](Subtensor{:int64:}.0, Join.0, Reshape{2}.0, Reshape{2}.0, Dot22Scalar.0, InplaceDimShuffle{x,x}.0, TensorConstant{(1, 1) of 3.0}, Elemwise{mul,no_inp\n",
      "  28.1%    75.5%       8.253s       1.65e+00s      5   164   Elemwise{Composite{(i0 * ((LT(Composite{sqrt(((i0 + i1) - i2))}(i1, i2, i3), i4) * ((i5 + (i6 * Composite{(sqr(i0) * i0)}((Composite{sqrt(((i0 + i1) - i2))}(i1, i2, i3) / i4))) + (i7 * Composite{((sqr(sqr(i0)) * sqr(i0)) * i0)}((Composite{sqrt(((i0 + i1) - i2))}(i1, i2, i3) / i4)))) - ((i8 * sqr((Composite{sqrt(((i0 + i1) - i2))}(i1, i2, i3) / i4))) + (i9 * Composite{(sqr(sqr(i0)) * i0)}((Composite{sqrt(((i0 + i1) - i2))}(i1, i2, i3) / i4)))))) - (L\n",
      "   4.6%    80.0%       1.346s       2.69e-01s      5   168   Sum{axis=[0], acc_dtype=float64}(Elemwise{Composite{(i0 * i1 * LT(Composite{sqrt(((i0 + i1) - i2))}(i2, i3, i4), i5) * Composite{(sqr(i0) * i0)}((i5 - Composite{sqrt(((i0 + i1) - i2))}(i2, i3, i4))) * ((i6 * sqr(Composite{sqrt(((i0 + i1) - i2))}(i2, i3, i4))) + i7 + (i8 * i5 * Composite{sqrt(((i0 + i1) - i2))}(i2, i3, i4))))}}[(0, 1)].0)\n",
      "   3.6%    83.6%       1.054s       2.11e-01s      5    98   Elemwise{Composite{sqrt(((i0 + i1) - i2))}}[(0, 2)](Reshape{2}.0, Reshape{2}.0, Dot22Scalar.0)\n",
      "   2.7%    86.3%       0.780s       1.56e-01s      5   105   Dot22Scalar(Reshape{2}.0, Positions of the points to interpolate.T, TensorConstant{2.0})\n",
      "   2.5%    88.8%       0.742s       1.48e-01s      5   157   Alloc(CGemv{inplace}.0, Shape_i{0}.0, TensorConstant{1}, TensorConstant{1}, Elemwise{Add}[(0, 1)].0)\n",
      "   2.3%    91.1%       0.682s       1.36e-01s      5   121   Join(TensorConstant{0}, Elemwise{sub,no_inplace}.0, Elemwise{sub,no_inplace}.0)\n",
      "   1.5%    92.6%       0.430s       8.61e-02s      5   166   Elemwise{mul,no_inplace}(Subtensor{int64::}.0, Positions of the points to interpolate.T)\n",
      "   1.4%    94.0%       0.410s       8.19e-02s      5   109   Elemwise{sub,no_inplace}(InplaceDimShuffle{0,x}.0, InplaceDimShuffle{1,0}.0)\n",
      "   1.4%    95.4%       0.400s       8.00e-02s      5   108   Elemwise{sub,no_inplace}(InplaceDimShuffle{0,x}.0, InplaceDimShuffle{1,0}.0)\n",
      "   1.2%    96.6%       0.361s       7.22e-02s      5    43   Dot22Scalar(Reference points for every layer, Positions of the points to interpolate.T, TensorConstant{2.0})\n",
      "   1.2%    97.8%       0.360s       7.20e-02s      5   167   Sum{axis=[0], acc_dtype=float64}(Elemwise{Composite{(i0 * ((LT(Composite{sqrt(((i0 + i1) - i2))}(i1, i2, i3), i4) * ((i5 + (i6 * Composite{(sqr(i0) * i0)}((Composite{sqrt(((i0 + i1) - i2))}(i1, i2, i3) / i4))) + (i7 * Composite{((sqr(sqr(i0)) * sqr(i0)) * i0)}((Composite{sqrt(((i0 + i1) - i2))}(i1, i2, i3) / i4)))) - ((i8 * sqr((Composite{sqrt(((i0 + i1) - i2))}(i1, i2, i3) / i4))) + (i9 * Composite{(sqr(sqr(i0)) * i0)}((Composite{sqrt(((i0 + i1) - \n",
      "   1.2%    99.0%       0.355s       7.10e-02s      5    44   Dot22Scalar(Rest of the points of the layers, Positions of the points to interpolate.T, TensorConstant{2.0})\n",
      "   0.3%    99.4%       0.094s       1.87e-02s      5   169   Sum{axis=[0], acc_dtype=float64}(Elemwise{mul,no_inplace}.0)\n",
      "   0.3%    99.7%       0.090s       1.80e-02s      5    45   Sum{axis=[1], acc_dtype=float64}(Elemwise{sqr,no_inplace}.0)\n",
      "   0.2%    99.8%       0.054s       1.09e-02s      5   170   Elemwise{Composite{(i0 + ((i1 * i2) / i3) + i4)}}[(0, 0)](Sum{axis=[0], acc_dtype=float64}.0, TensorConstant{(1,) of -1.75}, Sum{axis=[0], acc_dtype=float64}.0, InplaceDimShuffle{x}.0, Sum{axis=[0], acc_dtype=float64}.0)\n",
      "   0.1%   100.0%       0.034s       6.79e-03s      5    11   Elemwise{sqr,no_inplace}(Positions of the points to interpolate)\n",
      "   0.0%   100.0%       0.008s       1.55e-03s      5   155   MatrixInverse(IncSubtensor{InplaceSet;int64::, int64:int64:}.0)\n",
      "   0.0%   100.0%       0.000s       9.94e-05s      5   134   Sum{axis=[1], acc_dtype=float64}(Elemwise{Sqr}[(0, 0)].0)\n",
      "   0.0%   100.0%       0.000s       9.12e-05s      5   100   Alloc(Elemwise{sub,no_inplace}.0, TensorConstant{1}, TensorConstant{2}, Elemwise{Composite{Switch(EQ(i0, i1), (i0 // (-i0)), i0)}}.0, Shape_i{0}.0)\n",
      "   ... (remaining 151 Apply instances account for 0.01%(0.00s) of the runtime)\n",
      "\n",
      "Here are tips to potentially make your code run faster\n",
      "                 (if you think of new ones, suggest them on the mailing list).\n",
      "                 Test them first, as they are not guaranteed to always provide a speedup.\n",
      "We don't know if amdlibm will accelerate this scalar op. deg2rad\n",
      "  - Try installing amdlibm and set the Theano flag lib.amdlibm=True. This speeds up only some Elemwise operation.\n"
     ]
    }
   ],
   "source": [
    "test.geoMigueller.profile.summary()"
   ]
  },
  {
   "cell_type": "code",
   "execution_count": null,
   "metadata": {
    "collapsed": true
   },
   "outputs": [],
   "source": []
  },
  {
   "cell_type": "code",
   "execution_count": 23,
   "metadata": {
    "collapsed": false,
    "scrolled": true
   },
   "outputs": [
    {
     "name": "stdout",
     "output_type": "stream",
     "text": [
      "51 [ 1.   1.2  1.2  1.2  1.2  1.2  1.2  1.2  1.2  1.2  1.2  1.2  1.2  1.2  1.2  1.2  1.2  1.2  1.2  1.2  1.2  1.2  1.2  1.2  1.2  1.2\n",
      "  1.2  1.2  1.2  1.2  1.2  1.2  1.2  1.2  1.2  1.2  1.2  1.2  1.2  1.2  1.2  1.2  1.2  1.2  1.2  1.2  1.2  1.2  1.2  1.2  1.2]\n"
     ]
    },
    {
     "data": {
      "text/plain": [
       "'/home/bl3/PycharmProjects/GeMpy/GeoMigueller.vtr'"
      ]
     },
     "execution_count": 23,
     "metadata": {},
     "output_type": "execute_result"
    }
   ],
   "source": [
    "sys.path.append(\"/home/bl3/anaconda3/lib/python3.5/site-packages/PyEVTK-1.0.0-py3.5.egg_FILES/pyevtk\")\n",
    "nx = 50\n",
    "ny = 50\n",
    "nz = 50\n",
    "\n",
    "xmin = 1\n",
    "ymin = 1\n",
    "zmin = 1\n",
    "grid =  sol\n",
    "var_name = \"Geology\"\n",
    "#from evtk.hl import gridToVTK\n",
    "import pyevtk\n",
    "from pyevtk.hl import gridToVTK\n",
    "\n",
    "# define coordinates\n",
    "x = np.zeros(nx + 1)\n",
    "y = np.zeros(ny + 1)\n",
    "z = np.zeros(nz + 1)\n",
    "x[1:] = np.cumsum(delx)\n",
    "y[1:] = np.cumsum(dely)\n",
    "z[1:] = np.cumsum(delz)\n",
    "\n",
    "\n",
    "\n",
    "# plot in coordinates\n",
    "x += xmin\n",
    "y += ymin\n",
    "z += zmin\n",
    "\n",
    "print (len(x), x)\n",
    "gridToVTK(\"GeoMigueller\", x, y, z,\n",
    "          cellData = {var_name: grid})"
   ]
  },
  {
   "cell_type": "markdown",
   "metadata": {},
   "source": [
    "## GPU"
   ]
  },
  {
   "cell_type": "code",
   "execution_count": 32,
   "metadata": {
    "collapsed": false
   },
   "outputs": [
    {
     "name": "stdout",
     "output_type": "stream",
     "text": [
      "10 loops, best of 3: 19.3 ms per loop\n"
     ]
    }
   ],
   "source": [
    "%%timeit\n",
    "sol = test.geoMigueller(dips,dips_angles,azimuths,polarity, rest, ref);"
   ]
  },
  {
   "cell_type": "code",
   "execution_count": 33,
   "metadata": {
    "collapsed": false
   },
   "outputs": [
    {
     "name": "stderr",
     "output_type": "stream",
     "text": [
      "Function profiling\n",
      "==================\n",
      "  Message: /home/miguel/PycharmProjects/GeMpy/GeoMig.py:1346\n",
      "  Time in 48 calls to Function.__call__: 1.300695e+00s\n",
      "  Time in Function.fn.__call__: 1.296489e+00s (99.677%)\n",
      "  Time in thunks: 1.084233e+00s (83.358%)\n",
      "  Total compile time: 2.702078e+00s\n",
      "    Number of Apply nodes: 295\n",
      "    Theano Optimizer time: 2.239654e+00s\n",
      "       Theano validate time: 1.687617e-01s\n",
      "    Theano Linker time (includes C, CUDA code generation/compiling): 3.944879e-01s\n",
      "       Import time 6.902671e-02s\n",
      "\n",
      "Time in all call to theano.grad() 0.000000e+00s\n",
      "Time since theano import 533.471s\n",
      "Class\n",
      "---\n",
      "<% time> <sum %> <apply time> <time per call> <type> <#call> <#apply> <Class name>\n",
      "  37.5%    37.5%       0.407s       3.14e-04s     C     1296      27   theano.tensor.elemwise.Elemwise\n",
      "  26.3%    63.8%       0.285s       5.93e-04s     C      480      10   theano.tensor.blas.Dot22Scalar\n",
      "   9.7%    73.5%       0.105s       9.96e-05s     C     1056      22   theano.sandbox.cuda.basic_ops.GpuFromHost\n",
      "   9.0%    82.5%       0.098s       2.84e-05s     C     3456      72   theano.sandbox.cuda.basic_ops.GpuElemwise\n",
      "   3.4%    85.9%       0.037s       1.10e-04s     C      336       7   theano.sandbox.cuda.basic_ops.GpuAlloc\n",
      "   3.3%    89.2%       0.035s       5.26e-05s     C      672      14   theano.sandbox.cuda.basic_ops.HostFromGpu\n",
      "   2.5%    91.6%       0.027s       3.72e-05s     C      720      15   theano.sandbox.cuda.basic_ops.GpuIncSubtensor\n",
      "   2.3%    93.9%       0.025s       3.03e-05s     C      816      17   theano.sandbox.cuda.basic_ops.GpuReshape\n",
      "   2.2%    96.1%       0.024s       1.26e-04s     C      192       4   theano.tensor.elemwise.Sum\n",
      "   1.4%    97.5%       0.015s       5.22e-05s     C      288       6   theano.sandbox.cuda.basic_ops.GpuJoin\n",
      "   1.0%    98.5%       0.011s       7.33e-05s     C      144       3   theano.sandbox.cuda.basic_ops.GpuCAReduce\n",
      "   0.6%    99.1%       0.007s       1.39e-04s     Py      48       1   theano.tensor.nlinalg.MatrixInverse\n",
      "   0.1%    99.3%       0.002s       3.30e-05s     Py      48       1   theano.tensor.extra_ops.FillDiagonal\n",
      "   0.1%    99.4%       0.002s       9.38e-07s     C     1680      35   theano.sandbox.cuda.basic_ops.GpuDimShuffle\n",
      "   0.1%    99.5%       0.001s       2.91e-05s     C       48       1   theano.sandbox.cuda.basic_ops.GpuAllocEmpty\n",
      "   0.1%    99.7%       0.001s       1.70e-06s     C      720      15   theano.sandbox.cuda.basic_ops.GpuSubtensor\n",
      "   0.1%    99.7%       0.001s       2.79e-06s     C      288       6   theano.tensor.subtensor.IncSubtensor\n",
      "   0.1%    99.8%       0.001s       1.03e-06s     C      624      13   theano.tensor.opt.MakeVector\n",
      "   0.0%    99.8%       0.000s       2.53e-06s     C      192       4   theano.tensor.elemwise.DimShuffle\n",
      "   0.0%    99.9%       0.000s       4.54e-06s     C       96       2   theano.tensor.basic.Alloc\n",
      "   ... (remaining 5 Classes account for   0.13%(0.00s) of the runtime)\n",
      "\n",
      "Ops\n",
      "---\n",
      "<% time> <sum %> <apply time> <time per call> <type> <#call> <#apply> <Op name>\n",
      "  32.6%    32.6%       0.353s       7.36e-04s     C      480       10   Elemwise{Composite{Cast{float32}(sqrt(((i0 + i1) - i2)))}}\n",
      "  26.3%    58.9%       0.285s       5.93e-04s     C      480       10   Dot22Scalar\n",
      "   9.7%    68.6%       0.105s       9.96e-05s     C     1056       22   GpuFromHost\n",
      "   3.4%    72.0%       0.037s       1.94e-04s     C      192        4   Elemwise{Cast{float64}}\n",
      "   3.3%    75.3%       0.035s       5.26e-05s     C      672       14   HostFromGpu\n",
      "   2.8%    78.0%       0.030s       1.26e-04s     C      240        5   GpuAlloc\n",
      "   2.3%    80.3%       0.025s       3.03e-05s     C      816       17   GpuReshape{2}\n",
      "   2.2%    82.5%       0.024s       1.26e-04s     C      192        4   Sum{axis=[1], acc_dtype=float64}\n",
      "   2.1%    84.7%       0.023s       5.97e-05s     C      384        8   GpuElemwise{Composite{(i0 * (i1 ** i2))},no_inplace}\n",
      "   2.0%    86.7%       0.022s       4.60e-05s     C      480       10   GpuElemwise{Composite{Cast{float32}(LT(i0, i1))},no_inplace}\n",
      "   1.9%    88.6%       0.021s       3.12e-05s     C      672       14   GpuElemwise{sub,no_inplace}\n",
      "   1.4%    90.0%       0.015s       7.92e-05s     C      192        4   Elemwise{Sqr}[(0, 0)]\n",
      "   1.4%    91.4%       0.015s       4.51e-05s     C      336        7   GpuIncSubtensor{InplaceSet;int64:int64:, int64:int64:}\n",
      "   1.4%    92.8%       0.015s       5.22e-05s     C      288        6   GpuJoin\n",
      "   1.0%    93.8%       0.011s       7.33e-05s     C      144        3   GpuCAReduce{add}{1,0}\n",
      "   0.8%    94.6%       0.009s       9.44e-05s     C       96        2   GpuElemwise{Composite{(i0 * sqr(i1))},no_inplace}\n",
      "   0.6%    95.3%       0.007s       1.43e-04s     C       48        1   GpuElemwise{Composite{(i0 * i1 * i2 * ((i3 - i4) ** i5) * ((i6 + (i7 * i3 * i4)) + (i5 * sqr(i4))))}}[(0, 1)]\n",
      "   0.6%    95.9%       0.007s       6.98e-05s     C       96        2   GpuAlloc{memset_0=True}\n",
      "   0.6%    96.5%       0.007s       1.39e-04s     Py      48        1   MatrixInverse\n",
      "   0.4%    96.9%       0.004s       4.11e-05s     C       96        2   GpuIncSubtensor{InplaceSet;int64:int64:, int64::}\n",
      "   ... (remaining 67 Ops account for   3.14%(0.03s) of the runtime)\n",
      "\n",
      "Apply\n",
      "------\n",
      "<% time> <sum %> <apply time> <time per call> <#call> <id> <Apply name>\n",
      "  20.5%    20.5%       0.223s       4.64e-03s     48   207   Elemwise{Composite{Cast{float32}(sqrt(((i0 + i1) - i2)))}}(Reshape{2}.0, Reshape{2}.0, Dot22Scalar.0)\n",
      "  12.6%    33.1%       0.137s       2.85e-03s     48   160   Dot22Scalar(Elemwise{Cast{float64}}.0, InplaceDimShuffle{1,0}.0, TensorConstant{2.0})\n",
      "   7.0%    40.1%       0.076s       1.57e-03s     48   108   Dot22Scalar(Elemwise{Cast{float64}}.0, InplaceDimShuffle{1,0}.0, TensorConstant{2.0})\n",
      "   6.6%    46.7%       0.071s       1.48e-03s     48   199   Elemwise{Composite{Cast{float32}(sqrt(((i0 + i1) - i2)))}}(Reshape{2}.0, Reshape{2}.0, Dot22Scalar.0)\n",
      "   6.1%    52.8%       0.066s       1.38e-03s     48   107   Dot22Scalar(Elemwise{Cast{float64}}.0, InplaceDimShuffle{1,0}.0, TensorConstant{2.0})\n",
      "   5.4%    58.2%       0.059s       1.23e-03s     48   203   Elemwise{Composite{Cast{float32}(sqrt(((i0 + i1) - i2)))}}(Reshape{2}.0, Reshape{2}.0, Dot22Scalar.0)\n",
      "   3.9%    62.1%       0.042s       8.76e-04s     48   217   GpuFromHost(Elemwise{Composite{Cast{float32}(sqrt(((i0 + i1) - i2)))}}.0)\n",
      "   3.4%    65.5%       0.037s       7.70e-04s     48    38   Elemwise{Cast{float64}}(HostFromGpu.0)\n",
      "   2.2%    67.7%       0.024s       4.98e-04s     48   179   Sum{axis=[1], acc_dtype=float64}(Elemwise{Sqr}[(0, 0)].0)\n",
      "   2.0%    69.7%       0.021s       4.46e-04s     48   280   GpuAlloc(GpuGemv{inplace}.0, Shape_i{0}.0, TensorConstant{1}, TensorConstant{1}, Elemwise{add,no_inplace}.0)\n",
      "   1.8%    71.5%       0.020s       4.08e-04s     48   213   GpuFromHost(Elemwise{Composite{Cast{float32}(sqrt(((i0 + i1) - i2)))}}.0)\n",
      "   1.8%    73.2%       0.019s       3.98e-04s     48    10   HostFromGpu(Positions of the points to interpolate)\n",
      "   1.4%    74.7%       0.015s       3.18e-04s     48     9   GpuFromHost(Position of the dips)\n",
      "   1.4%    76.0%       0.015s       3.14e-04s     48   168   Elemwise{Sqr}[(0, 0)](Elemwise{Cast{float64}}.0)\n",
      "   1.2%    77.2%       0.013s       2.68e-04s     48   209   GpuFromHost(Elemwise{Composite{Cast{float32}(sqrt(((i0 + i1) - i2)))}}.0)\n",
      "   0.7%    77.9%       0.007s       1.48e-04s     48   235   GpuElemwise{Composite{Cast{float32}(LT(i0, i1))},no_inplace}(GpuFromHost.0, GpuDimShuffle{x,x}.0)\n",
      "   0.6%    78.5%       0.007s       1.43e-04s     48   287   GpuElemwise{Composite{(i0 * i1 * i2 * ((i3 - i4) ** i5) * ((i6 + (i7 * i3 * i4)) + (i5 * sqr(i4))))}}[(0, 1)](GpuSubtensor{:int64:}.0, GpuJoin.0, GpuElemwise{Composite{Cast{float32}(LT(i0, i1))},no_inplace}.0, GpuDimShuffle{x,x}.0, GpuFromHost.0, CudaNdarrayConstant{[[ 3.]]}, GpuElemwise{Mul}[(0, 1)].0, CudaNdarrayConstant{[[ 9.]]})\n",
      "   0.6%    79.1%       0.007s       1.42e-04s     48   247   GpuElemwise{Composite{(i0 * (i1 ** i2))},no_inplace}(CudaNdarrayConstant{[[ 0.75]]}, GpuElemwise{TrueDiv}[(0, 0)].0, CudaNdarrayConstant{[[ 7.]]})\n",
      "   0.6%    79.8%       0.007s       1.39e-04s     48   276   MatrixInverse(HostFromGpu.0)\n",
      "   0.5%    80.3%       0.006s       1.21e-04s     48   294   HostFromGpu(GpuElemwise{Composite{((((i0 * i1) / i2) + i3) + i4)}}[(0, 1)].0)\n",
      "   ... (remaining 275 Apply instances account for 19.71%(0.21s) of the runtime)\n",
      "\n",
      "Here are tips to potentially make your code run faster\n",
      "                 (if you think of new ones, suggest them on the mailing list).\n",
      "                 Test them first, as they are not guaranteed to always provide a speedup.\n",
      "  - Try installing amdlibm and set the Theano flag lib.amdlibm=True. This speeds up only some Elemwise operation.\n"
     ]
    }
   ],
   "source": [
    "test.geoMigueller.profile.summary()"
   ]
  },
  {
   "cell_type": "code",
   "execution_count": 30,
   "metadata": {
    "collapsed": false
   },
   "outputs": [],
   "source": [
    "importlib.reload(GeoMig)\n",
    "test = GeoMig.GeoMigSim_pro2()"
   ]
  },
  {
   "cell_type": "code",
   "execution_count": 42,
   "metadata": {
    "collapsed": false
   },
   "outputs": [
    {
     "data": {
      "text/plain": [
       "array([[ -5.88888884e-01,  -0.00000000e+00,  -0.00000000e+00, ...,\n",
       "          0.00000000e+00,   1.00000000e+00,   0.00000000e+00],\n",
       "       [ -0.00000000e+00,  -5.88888884e-01,   4.42373231e-02, ...,\n",
       "          0.00000000e+00,   1.00000000e+00,   0.00000000e+00],\n",
       "       [ -0.00000000e+00,   2.12696299e-01,  -5.88888884e-01, ...,\n",
       "          0.00000000e+00,   1.00000000e+00,   0.00000000e+00],\n",
       "       ..., \n",
       "       [  0.00000000e+00,   0.00000000e+00,   0.00000000e+00, ...,\n",
       "          2.00000000e+00,  -6.06459351e+02,  -6.13501053e+01],\n",
       "       [  1.00000000e+00,   1.00000000e+00,   1.00000000e+00, ...,\n",
       "         -6.06459351e+02,   0.00000000e+00,   0.00000000e+00],\n",
       "       [  0.00000000e+00,   0.00000000e+00,   0.00000000e+00, ...,\n",
       "         -6.13501053e+01,   0.00000000e+00,   0.00000000e+00]], dtype=float32)"
      ]
     },
     "execution_count": 42,
     "metadata": {},
     "output_type": "execute_result"
    }
   ],
   "source": []
  },
  {
   "cell_type": "code",
   "execution_count": 17,
   "metadata": {
    "collapsed": false
   },
   "outputs": [
    {
     "ename": "Exception",
     "evalue": "Can't change the value of this config parameter after initialization!",
     "output_type": "error",
     "traceback": [
      "\u001b[1;31m---------------------------------------------------------------------------\u001b[0m",
      "\u001b[1;31mException\u001b[0m                                 Traceback (most recent call last)",
      "\u001b[1;32m<ipython-input-17-b0516f7436af>\u001b[0m in \u001b[0;36m<module>\u001b[1;34m()\u001b[0m\n\u001b[1;32m----> 1\u001b[1;33m \u001b[0mtheano\u001b[0m\u001b[1;33m.\u001b[0m\u001b[0mconfig\u001b[0m\u001b[1;33m.\u001b[0m\u001b[0mdevice\u001b[0m\u001b[1;33m=\u001b[0m\u001b[1;34m\"cpu\"\u001b[0m\u001b[1;33m\u001b[0m\u001b[0m\n\u001b[0m",
      "\u001b[1;32m/home/miguel/anaconda3/lib/python3.5/site-packages/theano/configparser.py\u001b[0m in \u001b[0;36m__set__\u001b[1;34m(self, cls, val)\u001b[0m\n\u001b[0;32m    329\u001b[0m         \u001b[1;32mif\u001b[0m \u001b[1;32mnot\u001b[0m \u001b[0mself\u001b[0m\u001b[1;33m.\u001b[0m\u001b[0mallow_override\u001b[0m \u001b[1;32mand\u001b[0m \u001b[0mhasattr\u001b[0m\u001b[1;33m(\u001b[0m\u001b[0mself\u001b[0m\u001b[1;33m,\u001b[0m \u001b[1;34m'val'\u001b[0m\u001b[1;33m)\u001b[0m\u001b[1;33m:\u001b[0m\u001b[1;33m\u001b[0m\u001b[0m\n\u001b[0;32m    330\u001b[0m             raise Exception(\n\u001b[1;32m--> 331\u001b[1;33m                 \u001b[1;34m\"Can't change the value of this config parameter \"\u001b[0m\u001b[1;33m\u001b[0m\u001b[0m\n\u001b[0m\u001b[0;32m    332\u001b[0m                 \"after initialization!\")\n\u001b[0;32m    333\u001b[0m         \u001b[1;31m# print \"SETTING PARAM\", self.fullname,(cls), val\u001b[0m\u001b[1;33m\u001b[0m\u001b[1;33m\u001b[0m\u001b[0m\n",
      "\u001b[1;31mException\u001b[0m: Can't change the value of this config parameter after initialization!"
     ]
    }
   ],
   "source": []
  },
  {
   "cell_type": "code",
   "execution_count": 1,
   "metadata": {
    "collapsed": false
   },
   "outputs": [
    {
     "name": "stdout",
     "output_type": "stream",
     "text": [
      "[Elemwise{exp,no_inplace}(<TensorType(float32, vector)>)]\n",
      "Looping 1000 times took 2.271379 seconds\n",
      "Result is [ 1.23178029  1.61879337  1.52278066 ...,  2.20771813  2.29967761\n",
      "  1.62323284]\n",
      "Used the cpu\n"
     ]
    }
   ],
   "source": [
    "from theano import function, config, shared, sandbox\n",
    "import theano.tensor as T\n",
    "import numpy\n",
    "import time\n",
    "\n",
    "vlen = 10 * 30 * 768  # 10 x #cores x # threads per core\n",
    "iters = 1000\n",
    "\n",
    "rng = numpy.random.RandomState(22)\n",
    "x = shared(numpy.asarray(rng.rand(vlen), config.floatX))\n",
    "f = function([], T.exp(x))\n",
    "print(f.maker.fgraph.toposort())\n",
    "t0 = time.time()\n",
    "for i in range(iters):\n",
    "    r = f()\n",
    "t1 = time.time()\n",
    "print(\"Looping %d times took %f seconds\" % (iters, t1 - t0))\n",
    "print(\"Result is %s\" % (r,))\n",
    "if numpy.any([isinstance(x.op, T.Elemwise) for x in f.maker.fgraph.toposort()]):\n",
    "    print('Used the cpu')\n",
    "else:\n",
    "    print('Used the gpu')"
   ]
  },
  {
   "cell_type": "code",
   "execution_count": 1,
   "metadata": {
    "collapsed": false
   },
   "outputs": [
    {
     "name": "stderr",
     "output_type": "stream",
     "text": [
      "Using gpu device 0: GeForce GTX 970 (CNMeM is disabled, cuDNN not available)\n"
     ]
    },
    {
     "name": "stdout",
     "output_type": "stream",
     "text": [
      "[GpuElemwise{exp,no_inplace}(<CudaNdarrayType(float32, vector)>), HostFromGpu(GpuElemwise{exp,no_inplace}.0)]\n",
      "Looping 1000 times took 0.353415 seconds\n",
      "Result is [ 1.23178029  1.61879349  1.52278066 ...,  2.20771813  2.29967761\n",
      "  1.62323296]\n",
      "Used the gpu\n"
     ]
    }
   ],
   "source": [
    "from theano import function, config, shared, sandbox\n",
    "import theano.tensor as T\n",
    "import numpy\n",
    "import time\n",
    "\n",
    "vlen = 10 * 30 * 768  # 10 x #cores x # threads per core\n",
    "iters = 1000\n",
    "\n",
    "rng = numpy.random.RandomState(22)\n",
    "x = shared(numpy.asarray(rng.rand(vlen), config.floatX))\n",
    "f = function([], T.exp(x))\n",
    "print(f.maker.fgraph.toposort())\n",
    "t0 = time.time()\n",
    "for i in range(iters):\n",
    "    r = f()\n",
    "t1 = time.time()\n",
    "print(\"Looping %d times took %f seconds\" % (iters, t1 - t0))\n",
    "print(\"Result is %s\" % (r,))\n",
    "if numpy.any([isinstance(x.op, T.Elemwise) for x in f.maker.fgraph.toposort()]):\n",
    "    print('Used the cpu')\n",
    "else:\n",
    "    print('Used the gpu')"
   ]
  },
  {
   "cell_type": "code",
   "execution_count": 18,
   "metadata": {
    "collapsed": false
   },
   "outputs": [
    {
     "name": "stdout",
     "output_type": "stream",
     "text": [
      "[Elemwise{exp,no_inplace}(<TensorType(float32, vector)>)]\n",
      "Looping 1000 times took 2.291412 seconds\n",
      "Result is [ 1.23178029  1.61879337  1.52278066 ...,  2.20771813  2.29967761\n",
      "  1.62323284]\n",
      "Used the cpu\n"
     ]
    }
   ],
   "source": [
    "from theano import function, config, shared, sandbox\n",
    "import theano.tensor as T\n",
    "import numpy\n",
    "import time\n",
    "\n",
    "vlen = 10 * 30 * 768  # 10 x #cores x # threads per core\n",
    "iters = 1000\n",
    "\n",
    "rng = numpy.random.RandomState(22)\n",
    "x = shared(numpy.asarray(rng.rand(vlen), config.floatX))\n",
    "f = function([], T.exp(x))\n",
    "print(f.maker.fgraph.toposort())\n",
    "t0 = time.time()\n",
    "for i in range(iters):\n",
    "    r = f()\n",
    "t1 = time.time()\n",
    "print(\"Looping %d times took %f seconds\" % (iters, t1 - t0))\n",
    "print(\"Result is %s\" % (r,))\n",
    "if numpy.any([isinstance(x.op, T.Elemwise) for x in f.maker.fgraph.toposort()]):\n",
    "    print('Used the cpu')\n",
    "else:\n",
    "    print('Used the gpu')"
   ]
  },
  {
   "cell_type": "code",
   "execution_count": null,
   "metadata": {
    "collapsed": true
   },
   "outputs": [],
   "source": []
  },
  {
   "cell_type": "code",
   "execution_count": 759,
   "metadata": {
    "collapsed": false
   },
   "outputs": [
    {
     "data": {
      "text/plain": [
       "array([[-0.59,  0.08,  0.  ,  0.07],\n",
       "       [ 0.08, -0.59,  0.07,  0.  ],\n",
       "       [ 0.  ,  0.12, -0.59,  0.13],\n",
       "       [ 0.07,  0.  ,  0.13, -0.59]])"
      ]
     },
     "execution_count": 759,
     "metadata": {},
     "output_type": "execute_result"
    }
   ],
   "source": [
    "np.set_printoptions(precision=2)\n",
    "test.geoMigueller(dips,dips_angles,rest, ref)[1]"
   ]
  },
  {
   "cell_type": "code",
   "execution_count": 751,
   "metadata": {
    "collapsed": false
   },
   "outputs": [],
   "source": [
    "T.fill_diagonal?"
   ]
  },
  {
   "cell_type": "code",
   "execution_count": 758,
   "metadata": {
    "collapsed": false,
    "scrolled": true
   },
   "outputs": [
    {
     "name": "stdout",
     "output_type": "stream",
     "text": [
      "[ 2.5   4.87] [ 6.34  3.94] [[ 1.  7.]\n",
      " [ 5.  7.]\n",
      " [ 6.  7.]\n",
      " [ 9.  8.]]\n"
     ]
    },
    {
     "data": {
      "image/png": "[encoded data removed]",
      "text/plain": [
       "<matplotlib.figure.Figure at 0x7f1cc4711198>"
      ]
     },
     "metadata": {},
     "output_type": "display_data"
    }
   ],
   "source": [
    "import matplotlib.pyplot as plt\n",
    "% matplotlib inline\n",
    "dip_pos_1_v = np.array([np.cos(np.deg2rad(dip_angle_1))*1,\n",
    "                        np.sin(np.deg2rad(dip_angle_1))]) + dip_pos_1\n",
    "\n",
    "dip_pos_2_v = np.array([np.cos(np.deg2rad(dip_angle_2))*1, \n",
    "                        np.sin(np.deg2rad(dip_angle_2))]) + dip_pos_2\n",
    "\n",
    "plt.arrow(dip_pos_1[0],dip_pos_1[1], dip_pos_1_v[0]-dip_pos_1[0],\n",
    "          dip_pos_1_v[1]-dip_pos_1[1], head_width = 0.2)\n",
    "plt.arrow(dip_pos_2[0],dip_pos_2[1],dip_pos_2_v[0]-dip_pos_2[0], \n",
    "          dip_pos_2_v[1]-dip_pos_2[1], head_width = 0.2)\n",
    "\n",
    "plt.plot(layer_1[:,0],layer_1[:,1], \"o\")\n",
    "plt.plot(layer_2[:,0],layer_2[:,1], \"o\")\n",
    "\n",
    "plt.plot(layer_1[:,0],layer_1[:,1], )\n",
    "plt.plot(layer_2[:,0],layer_2[:,1], )\n",
    "\n",
    "plt.contour( sol.reshape(50,50) ,30,extent = (0,10,0,10) )\n",
    "#plt.colorbar()\n",
    "#plt.xlim(0,10)\n",
    "#plt.ylim(0,10)\n",
    "plt.title(\"GeoBulleter v 0.1\")\n",
    "print (dip_pos_1_v, dip_pos_2_v, layer_1)"
   ]
  },
  {
   "cell_type": "code",
   "execution_count": 443,
   "metadata": {
    "collapsed": false
   },
   "outputs": [
    {
     "name": "stdout",
     "output_type": "stream",
     "text": [
      "[ 0.  0.  0.  0.  0.  0.  0.  0.  0.  0.]\n"
     ]
    }
   ],
   "source": [
    "n = 10\n",
    "#a = T.horizontal_stack(T.vertical_stack(T.ones(n),T.zeros(n)), T.vertical_stack(T.zeros(n), T.ones(n)))\n",
    "a = T.zeros(n)\n",
    "\n",
    "print (a.eval())\n",
    "#U_G = T.horizontal_stack(([T.ones(n),T.zeros(n)],[T.zeros(n),T.ones(n)]))"
   ]
  },
  {
   "cell_type": "code",
   "execution_count": 6,
   "metadata": {
    "collapsed": true
   },
   "outputs": [],
   "source": [
    "T.stack?ö+aeg"
   ]
  },
  {
   "cell_type": "code",
   "execution_count": 13,
   "metadata": {
    "collapsed": false
   },
   "outputs": [
    {
     "data": {
      "text/plain": [
       "array([[  0.,   0.,   0.],\n",
       "       [  0.,   0.,  10.],\n",
       "       [  0.,  10.,   0.],\n",
       "       [  0.,  10.,  10.],\n",
       "       [ 10.,   0.,   0.],\n",
       "       [ 10.,   0.,  10.],\n",
       "       [ 10.,  10.,   0.],\n",
       "       [ 10.,  10.,  10.]], dtype=float32)"
      ]
     },
     "execution_count": 13,
     "metadata": {},
     "output_type": "execute_result"
    }
   ],
   "source": [
    "x_min = 0\n",
    "x_max = 10\n",
    "y_min = 0\n",
    "y_max = 10\n",
    "z_min = 0\n",
    "z_max = 10\n",
    "nx = 2\n",
    "ny = 2\n",
    "nz = 2\n",
    "\n",
    "g = np.meshgrid(\n",
    "    np.linspace(x_min, x_max, nx, dtype=\"float32\"),\n",
    "    np.linspace(y_min, y_max, ny, dtype=\"float32\"),\n",
    "    np.linspace(z_min, z_max, nz, dtype=\"float32\"), indexing=\"ij\"\n",
    ")\n",
    "\n",
    "np.vstack(map(np.ravel, g)).T.astype(\"float32\")"
   ]
  },
  {
   "cell_type": "code",
   "execution_count": 18,
   "metadata": {
    "collapsed": false
   },
   "outputs": [
    {
     "data": {
      "text/plain": [
       "<map at 0x7fa0265314e0>"
      ]
     },
     "execution_count": 18,
     "metadata": {},
     "output_type": "execute_result"
    }
   ],
   "source": [
    "map(np.ravel, g)"
   ]
  },
  {
   "cell_type": "code",
   "execution_count": 22,
   "metadata": {
    "collapsed": false
   },
   "outputs": [
    {
     "data": {
      "text/plain": [
       "array([  0.,   0.,   0.,  10.,   0.,   0.,   0.,  10.,   0.,  10.,  10.,   0.,   0.,   0.,  10.,  10.,   0.,  10.,   0.,  10.,\n",
       "        10.,  10.,  10.,  10.])"
      ]
     },
     "execution_count": 22,
     "metadata": {},
     "output_type": "execute_result"
    }
   ],
   "source": [
    "np.ravel(g, order = \"F\")"
   ]
  },
  {
   "cell_type": "code",
   "execution_count": 23,
   "metadata": {
    "collapsed": false
   },
   "outputs": [
    {
     "data": {
      "text/plain": [
       "[array([[[  0.,   0.],\n",
       "         [  0.,   0.]],\n",
       " \n",
       "        [[ 10.,  10.],\n",
       "         [ 10.,  10.]]]), array([[[  0.,   0.],\n",
       "         [ 10.,  10.]],\n",
       " \n",
       "        [[  0.,   0.],\n",
       "         [ 10.,  10.]]]), array([[[  0.,  10.],\n",
       "         [  0.,  10.]],\n",
       " \n",
       "        [[  0.,  10.],\n",
       "         [  0.,  10.]]])]"
      ]
     },
     "execution_count": 23,
     "metadata": {},
     "output_type": "execute_result"
    }
   ],
   "source": [
    "g"
   ]
  },
  {
   "cell_type": "code",
   "execution_count": 25,
   "metadata": {
    "collapsed": false
   },
   "outputs": [],
   "source": [
    "np.transpose?"
   ]
  },
  {
   "cell_type": "code",
   "execution_count": null,
   "metadata": {
    "collapsed": true
   },
   "outputs": [],
   "source": []
  }
 ],
 "metadata": {
  "anaconda-cloud": {},
  "kernelspec": {
   "display_name": "Python [Root]",
   "language": "python",
   "name": "Python [Root]"
  },
  "language_info": {
   "codemirror_mode": {
    "name": "ipython",
    "version": 3
   },
   "file_extension": ".py",
   "mimetype": "text/x-python",
   "name": "python",
   "nbconvert_exporter": "python",
   "pygments_lexer": "ipython3",
   "version": "3.5.2"
  },
  "latex_envs": {
   "bibliofile": "biblio.bib",
   "cite_by": "apalike",
   "current_citInitial": 1,
   "eqLabelWithNumbers": true,
   "eqNumInitial": 0
  },
  "nav_menu": {},
  "toc": {
   "navigate_menu": true,
   "number_sections": true,
   "sideBar": true,
   "threshold": 6,
   "toc_cell": false,
   "toc_section_display": "block",
   "toc_window_display": false
  }
 },
 "nbformat": 4,
 "nbformat_minor": 0
}
