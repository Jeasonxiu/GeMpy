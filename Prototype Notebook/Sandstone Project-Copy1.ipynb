{
 "cells": [
  {
   "cell_type": "code",
   "execution_count": 3,
   "metadata": {
    "ExecuteTime": {
     "end_time": "2016-10-27T09:43:03.916992",
     "start_time": "2016-10-27T09:43:03.474370"
    },
    "collapsed": false
   },
   "outputs": [],
   "source": [
    "import importlib\n",
    "import theano.tensor as T\n",
    "import sys, os\n",
    "sys.path.append(\"/home/bl3/PycharmProjects/GeMpy/GeMpy\")\n",
    "sys.path.append(\"/home/bl3/PycharmProjects/pygeomod/pygeomod\")\n",
    "sys.path.append(\"/home/miguel/PycharmProjects/GeMpy/GeMpy\")\n",
    "import GeoMig\n",
    "#import geogrid\n",
    "#importlib.reload(GeoMig)\n",
    "importlib.reload(GeoMig)\n",
    "import numpy as np\n",
    "\n",
    "from mpl_toolkits.mplot3d import Axes3D\n",
    "import matplotlib.pyplot as plt\n",
    "import matplotlib\n",
    "import matplotlib.cm as cmx\n",
    "from skimage import measure\n",
    "\n",
    "os.environ['CUDA_LAUNCH_BLOCKING'] = '1'\n",
    "np.set_printoptions(precision = 2, linewidth= 130, suppress =  True)\n",
    "from mpl_toolkits.mplot3d import axes3d\n",
    "import matplotlib.pyplot as plt\n",
    "from matplotlib import cm\n",
    "%matplotlib qt4"
   ]
  },
  {
   "cell_type": "code",
   "execution_count": 4,
   "metadata": {
    "ExecuteTime": {
     "end_time": "2016-10-27T09:43:39.580105",
     "start_time": "2016-10-27T09:43:05.030084"
    },
    "collapsed": false
   },
   "outputs": [
    {
     "name": "stderr",
     "output_type": "stream",
     "text": [
      "/home/bl3/anaconda3/lib/python3.5/site-packages/ipykernel/__main__.py:9: DeprecationWarning: stack(*tensors) interface is deprecated, use stack(tensors, axis=0) instead.\n",
      "/home/bl3/anaconda3/lib/python3.5/site-packages/ipykernel/__main__.py:9: DeprecationWarning: stack(*tensors) interface is deprecated, use stack(tensors, axis=0) instead.\n"
     ]
    }
   ],
   "source": [
    "sandstone = GeoMig.Interpolator(range_var = np.float32(110000)\n",
    "                               ) # Range used in geomodeller\n",
    "\n",
    "# Setting the extent and resolution of the grid\n",
    "sandstone.set_extent(696000,747000,6863000,6950000,-20000, 2000)\n",
    "sandstone.set_resolutions(40,10,40)\n",
    "sandstone.create_regular_grid_3D()\n",
    "\n",
    "sandstone.theano_compilation_3D()"
   ]
  },
  {
   "cell_type": "code",
   "execution_count": 7,
   "metadata": {
    "collapsed": false
   },
   "outputs": [
    {
     "data": {
      "text/plain": [
       "103218.21544669333"
      ]
     },
     "execution_count": 7,
     "metadata": {},
     "output_type": "execute_result"
    }
   ],
   "source": [
    "np.sqrt((sandstone.xmax-sandstone.xmin)**2+\n",
    "        (sandstone.ymax-sandstone.ymin)**2+\n",
    "        (sandstone.zmax-sandstone.zmin)**2)"
   ]
  },
  {
   "cell_type": "markdown",
   "metadata": {
    "collapsed": true
   },
   "source": [
    "### Defining Input data"
   ]
  },
  {
   "cell_type": "code",
   "execution_count": 135,
   "metadata": {
    "ExecuteTime": {
     "end_time": "2016-10-27T14:42:56.866798",
     "start_time": "2016-10-27T14:42:56.826316"
    },
    "collapsed": false
   },
   "outputs": [
    {
     "data": {
      "text/plain": [
       "(X    48265.4\n",
       " Y    48561.5\n",
       " Z    9013.63\n",
       " dtype: object, 48561.5)"
      ]
     },
     "execution_count": 135,
     "metadata": {},
     "output_type": "execute_result"
    }
   ],
   "source": [
    "import pandas as pn\n",
    "Foliations = pn.read_csv(os.pardir+\"/input_data/a_Foliations.csv\")\n",
    "Interfaces = pn.read_csv(os.pardir+\"/input_data/a_Points.csv\")\n",
    "# Foliations[Foliations[\"formation\"] == \"EarlyGranite\"]\n",
    "a = Foliations[Foliations[\"formation\"] == Foliations[\"formation\"].unique()[0]]\n",
    "\n",
    "a = pn.concat([Foliations, Interfaces])\n",
    "(a.max()[:3] - a.min()[:3]), np.max((a.max()[:3] - a.min()[:3]))"
   ]
  },
  {
   "cell_type": "code",
   "execution_count": 42,
   "metadata": {
    "ExecuteTime": {
     "end_time": "2016-10-27T10:51:13.281039",
     "start_time": "2016-10-27T10:51:13.245016"
    },
    "collapsed": false
   },
   "outputs": [
    {
     "data": {
      "text/html": [
       "<div>\n",
       "<table border=\"1\" class=\"dataframe\">\n",
       "  <thead>\n",
       "    <tr style=\"text-align: right;\">\n",
       "      <th></th>\n",
       "      <th>X</th>\n",
       "      <th>Y</th>\n",
       "      <th>Z</th>\n",
       "      <th>formation</th>\n",
       "    </tr>\n",
       "  </thead>\n",
       "  <tbody>\n",
       "    <tr>\n",
       "      <th>0</th>\n",
       "      <td>735484.817806</td>\n",
       "      <td>6.891936e+06</td>\n",
       "      <td>-1819.319309</td>\n",
       "      <td>SimpleMafic2</td>\n",
       "    </tr>\n",
       "    <tr>\n",
       "      <th>1</th>\n",
       "      <td>729854.915982</td>\n",
       "      <td>6.891938e+06</td>\n",
       "      <td>-1432.263309</td>\n",
       "      <td>SimpleMafic2</td>\n",
       "    </tr>\n",
       "    <tr>\n",
       "      <th>2</th>\n",
       "      <td>724084.267161</td>\n",
       "      <td>6.891939e+06</td>\n",
       "      <td>-4739.830309</td>\n",
       "      <td>SimpleMafic2</td>\n",
       "    </tr>\n",
       "    <tr>\n",
       "      <th>3</th>\n",
       "      <td>733521.625000</td>\n",
       "      <td>6.895282e+06</td>\n",
       "      <td>521.555240</td>\n",
       "      <td>SimpleMafic2</td>\n",
       "    </tr>\n",
       "    <tr>\n",
       "      <th>4</th>\n",
       "      <td>721933.375000</td>\n",
       "      <td>6.884592e+06</td>\n",
       "      <td>496.669295</td>\n",
       "      <td>SimpleMafic2</td>\n",
       "    </tr>\n",
       "    <tr>\n",
       "      <th>5</th>\n",
       "      <td>724251.000000</td>\n",
       "      <td>6.886909e+06</td>\n",
       "      <td>484.550926</td>\n",
       "      <td>SimpleMafic2</td>\n",
       "    </tr>\n",
       "    <tr>\n",
       "      <th>6</th>\n",
       "      <td>727316.313000</td>\n",
       "      <td>6.886460e+06</td>\n",
       "      <td>478.254423</td>\n",
       "      <td>SimpleMafic2</td>\n",
       "    </tr>\n",
       "    <tr>\n",
       "      <th>7</th>\n",
       "      <td>729858.250000</td>\n",
       "      <td>6.887134e+06</td>\n",
       "      <td>484.259574</td>\n",
       "      <td>SimpleMafic2</td>\n",
       "    </tr>\n",
       "    <tr>\n",
       "      <th>8</th>\n",
       "      <td>732699.250000</td>\n",
       "      <td>6.885040e+06</td>\n",
       "      <td>494.526481</td>\n",
       "      <td>SimpleMafic2</td>\n",
       "    </tr>\n",
       "    <tr>\n",
       "      <th>9</th>\n",
       "      <td>716849.500000</td>\n",
       "      <td>6.887358e+06</td>\n",
       "      <td>508.981894</td>\n",
       "      <td>SimpleMafic2</td>\n",
       "    </tr>\n",
       "    <tr>\n",
       "      <th>10</th>\n",
       "      <td>719017.625000</td>\n",
       "      <td>6.892218e+06</td>\n",
       "      <td>508.179387</td>\n",
       "      <td>SimpleMafic2</td>\n",
       "    </tr>\n",
       "    <tr>\n",
       "      <th>11</th>\n",
       "      <td>739179.440691</td>\n",
       "      <td>6.891936e+06</td>\n",
       "      <td>-552.591309</td>\n",
       "      <td>SimpleBIF</td>\n",
       "    </tr>\n",
       "    <tr>\n",
       "      <th>12</th>\n",
       "      <td>735564.599804</td>\n",
       "      <td>6.891936e+06</td>\n",
       "      <td>-2652.196309</td>\n",
       "      <td>SimpleBIF</td>\n",
       "    </tr>\n",
       "    <tr>\n",
       "      <th>13</th>\n",
       "      <td>730009.009977</td>\n",
       "      <td>6.891938e+06</td>\n",
       "      <td>-2088.409309</td>\n",
       "      <td>SimpleBIF</td>\n",
       "    </tr>\n",
       "    <tr>\n",
       "      <th>14</th>\n",
       "      <td>718795.791326</td>\n",
       "      <td>6.891941e+06</td>\n",
       "      <td>-2773.169309</td>\n",
       "      <td>SimpleBIF</td>\n",
       "    </tr>\n",
       "    <tr>\n",
       "      <th>15</th>\n",
       "      <td>724143.386160</td>\n",
       "      <td>6.891939e+06</td>\n",
       "      <td>-5569.907309</td>\n",
       "      <td>SimpleBIF</td>\n",
       "    </tr>\n",
       "    <tr>\n",
       "      <th>16</th>\n",
       "      <td>723877.188000</td>\n",
       "      <td>6.899768e+06</td>\n",
       "      <td>529.152169</td>\n",
       "      <td>SimpleBIF</td>\n",
       "    </tr>\n",
       "    <tr>\n",
       "      <th>17</th>\n",
       "      <td>732998.313000</td>\n",
       "      <td>6.898049e+06</td>\n",
       "      <td>521.619609</td>\n",
       "      <td>SimpleBIF</td>\n",
       "    </tr>\n",
       "    <tr>\n",
       "      <th>18</th>\n",
       "      <td>743689.438000</td>\n",
       "      <td>6.891769e+06</td>\n",
       "      <td>512.811278</td>\n",
       "      <td>SimpleBIF</td>\n",
       "    </tr>\n",
       "    <tr>\n",
       "      <th>19</th>\n",
       "      <td>712961.813000</td>\n",
       "      <td>6.882722e+06</td>\n",
       "      <td>547.826016</td>\n",
       "      <td>SimpleBIF</td>\n",
       "    </tr>\n",
       "    <tr>\n",
       "      <th>20</th>\n",
       "      <td>716284.875000</td>\n",
       "      <td>6.891346e+06</td>\n",
       "      <td>515.586860</td>\n",
       "      <td>SimpleBIF</td>\n",
       "    </tr>\n",
       "    <tr>\n",
       "      <th>21</th>\n",
       "      <td>718942.875000</td>\n",
       "      <td>6.897600e+06</td>\n",
       "      <td>538.490136</td>\n",
       "      <td>SimpleBIF</td>\n",
       "    </tr>\n",
       "    <tr>\n",
       "      <th>22</th>\n",
       "      <td>722157.625000</td>\n",
       "      <td>6.882947e+06</td>\n",
       "      <td>481.747055</td>\n",
       "      <td>SimpleBIF</td>\n",
       "    </tr>\n",
       "    <tr>\n",
       "      <th>23</th>\n",
       "      <td>723952.000000</td>\n",
       "      <td>6.885488e+06</td>\n",
       "      <td>480.122832</td>\n",
       "      <td>SimpleBIF</td>\n",
       "    </tr>\n",
       "    <tr>\n",
       "      <th>24</th>\n",
       "      <td>728736.813000</td>\n",
       "      <td>6.885488e+06</td>\n",
       "      <td>477.929009</td>\n",
       "      <td>SimpleBIF</td>\n",
       "    </tr>\n",
       "    <tr>\n",
       "      <th>25</th>\n",
       "      <td>738829.813000</td>\n",
       "      <td>6.878087e+06</td>\n",
       "      <td>470.081431</td>\n",
       "      <td>SimpleBIF</td>\n",
       "    </tr>\n",
       "    <tr>\n",
       "      <th>26</th>\n",
       "      <td>715522.708428</td>\n",
       "      <td>6.891941e+06</td>\n",
       "      <td>-2810.185309</td>\n",
       "      <td>SimpleMafic</td>\n",
       "    </tr>\n",
       "    <tr>\n",
       "      <th>27</th>\n",
       "      <td>722100.017223</td>\n",
       "      <td>6.891940e+06</td>\n",
       "      <td>-5640.110309</td>\n",
       "      <td>SimpleMafic</td>\n",
       "    </tr>\n",
       "    <tr>\n",
       "      <th>28</th>\n",
       "      <td>728133.723035</td>\n",
       "      <td>6.891938e+06</td>\n",
       "      <td>-8458.173309</td>\n",
       "      <td>SimpleMafic</td>\n",
       "    </tr>\n",
       "    <tr>\n",
       "      <th>29</th>\n",
       "      <td>733022.378883</td>\n",
       "      <td>6.891937e+06</td>\n",
       "      <td>-7358.592309</td>\n",
       "      <td>SimpleMafic</td>\n",
       "    </tr>\n",
       "    <tr>\n",
       "      <th>...</th>\n",
       "      <td>...</td>\n",
       "      <td>...</td>\n",
       "      <td>...</td>\n",
       "      <td>...</td>\n",
       "    </tr>\n",
       "    <tr>\n",
       "      <th>40</th>\n",
       "      <td>738924.813000</td>\n",
       "      <td>6.900194e+06</td>\n",
       "      <td>551.633725</td>\n",
       "      <td>SimpleMafic</td>\n",
       "    </tr>\n",
       "    <tr>\n",
       "      <th>41</th>\n",
       "      <td>729430.813000</td>\n",
       "      <td>6.908718e+06</td>\n",
       "      <td>517.178069</td>\n",
       "      <td>SimpleMafic</td>\n",
       "    </tr>\n",
       "    <tr>\n",
       "      <th>42</th>\n",
       "      <td>726929.750000</td>\n",
       "      <td>6.916017e+06</td>\n",
       "      <td>502.161614</td>\n",
       "      <td>SimpleMafic</td>\n",
       "    </tr>\n",
       "    <tr>\n",
       "      <th>43</th>\n",
       "      <td>745312.750000</td>\n",
       "      <td>6.878221e+06</td>\n",
       "      <td>452.733051</td>\n",
       "      <td>EarlyGranite</td>\n",
       "    </tr>\n",
       "    <tr>\n",
       "      <th>44</th>\n",
       "      <td>741494.625000</td>\n",
       "      <td>6.877536e+06</td>\n",
       "      <td>460.202350</td>\n",
       "      <td>EarlyGranite</td>\n",
       "    </tr>\n",
       "    <tr>\n",
       "      <th>45</th>\n",
       "      <td>735914.188000</td>\n",
       "      <td>6.876556e+06</td>\n",
       "      <td>456.482389</td>\n",
       "      <td>EarlyGranite</td>\n",
       "    </tr>\n",
       "    <tr>\n",
       "      <th>46</th>\n",
       "      <td>734739.375000</td>\n",
       "      <td>6.874011e+06</td>\n",
       "      <td>446.031913</td>\n",
       "      <td>EarlyGranite</td>\n",
       "    </tr>\n",
       "    <tr>\n",
       "      <th>47</th>\n",
       "      <td>733564.563000</td>\n",
       "      <td>6.874598e+06</td>\n",
       "      <td>452.620638</td>\n",
       "      <td>EarlyGranite</td>\n",
       "    </tr>\n",
       "    <tr>\n",
       "      <th>48</th>\n",
       "      <td>734837.313000</td>\n",
       "      <td>6.876850e+06</td>\n",
       "      <td>469.895650</td>\n",
       "      <td>EarlyGranite</td>\n",
       "    </tr>\n",
       "    <tr>\n",
       "      <th>49</th>\n",
       "      <td>735326.813000</td>\n",
       "      <td>6.881354e+06</td>\n",
       "      <td>492.347775</td>\n",
       "      <td>EarlyGranite</td>\n",
       "    </tr>\n",
       "    <tr>\n",
       "      <th>50</th>\n",
       "      <td>733858.313000</td>\n",
       "      <td>6.882724e+06</td>\n",
       "      <td>486.360734</td>\n",
       "      <td>EarlyGranite</td>\n",
       "    </tr>\n",
       "    <tr>\n",
       "      <th>51</th>\n",
       "      <td>731508.625000</td>\n",
       "      <td>6.881941e+06</td>\n",
       "      <td>476.162317</td>\n",
       "      <td>EarlyGranite</td>\n",
       "    </tr>\n",
       "    <tr>\n",
       "      <th>52</th>\n",
       "      <td>729746.438000</td>\n",
       "      <td>6.879004e+06</td>\n",
       "      <td>468.440123</td>\n",
       "      <td>EarlyGranite</td>\n",
       "    </tr>\n",
       "    <tr>\n",
       "      <th>53</th>\n",
       "      <td>727788.375000</td>\n",
       "      <td>6.878514e+06</td>\n",
       "      <td>465.162276</td>\n",
       "      <td>EarlyGranite</td>\n",
       "    </tr>\n",
       "    <tr>\n",
       "      <th>54</th>\n",
       "      <td>729354.813000</td>\n",
       "      <td>6.881354e+06</td>\n",
       "      <td>469.466421</td>\n",
       "      <td>EarlyGranite</td>\n",
       "    </tr>\n",
       "    <tr>\n",
       "      <th>55</th>\n",
       "      <td>729159.000000</td>\n",
       "      <td>6.884095e+06</td>\n",
       "      <td>480.639992</td>\n",
       "      <td>EarlyGranite</td>\n",
       "    </tr>\n",
       "    <tr>\n",
       "      <th>56</th>\n",
       "      <td>726319.875000</td>\n",
       "      <td>6.884389e+06</td>\n",
       "      <td>472.411447</td>\n",
       "      <td>EarlyGranite</td>\n",
       "    </tr>\n",
       "    <tr>\n",
       "      <th>57</th>\n",
       "      <td>723284.938000</td>\n",
       "      <td>6.882235e+06</td>\n",
       "      <td>475.413461</td>\n",
       "      <td>EarlyGranite</td>\n",
       "    </tr>\n",
       "    <tr>\n",
       "      <th>58</th>\n",
       "      <td>721522.688000</td>\n",
       "      <td>6.879592e+06</td>\n",
       "      <td>471.253042</td>\n",
       "      <td>EarlyGranite</td>\n",
       "    </tr>\n",
       "    <tr>\n",
       "      <th>59</th>\n",
       "      <td>720935.313000</td>\n",
       "      <td>6.881941e+06</td>\n",
       "      <td>492.156175</td>\n",
       "      <td>EarlyGranite</td>\n",
       "    </tr>\n",
       "    <tr>\n",
       "      <th>60</th>\n",
       "      <td>720445.813000</td>\n",
       "      <td>6.883704e+06</td>\n",
       "      <td>498.308040</td>\n",
       "      <td>EarlyGranite</td>\n",
       "    </tr>\n",
       "    <tr>\n",
       "      <th>61</th>\n",
       "      <td>717410.875000</td>\n",
       "      <td>6.883508e+06</td>\n",
       "      <td>507.584619</td>\n",
       "      <td>EarlyGranite</td>\n",
       "    </tr>\n",
       "    <tr>\n",
       "      <th>62</th>\n",
       "      <td>714571.688000</td>\n",
       "      <td>6.882039e+06</td>\n",
       "      <td>506.534612</td>\n",
       "      <td>EarlyGranite</td>\n",
       "    </tr>\n",
       "    <tr>\n",
       "      <th>63</th>\n",
       "      <td>711243.063000</td>\n",
       "      <td>6.879494e+06</td>\n",
       "      <td>505.437117</td>\n",
       "      <td>EarlyGranite</td>\n",
       "    </tr>\n",
       "    <tr>\n",
       "      <th>64</th>\n",
       "      <td>709676.625000</td>\n",
       "      <td>6.881550e+06</td>\n",
       "      <td>515.202397</td>\n",
       "      <td>EarlyGranite</td>\n",
       "    </tr>\n",
       "    <tr>\n",
       "      <th>65</th>\n",
       "      <td>710264.063000</td>\n",
       "      <td>6.883900e+06</td>\n",
       "      <td>524.055665</td>\n",
       "      <td>EarlyGranite</td>\n",
       "    </tr>\n",
       "    <tr>\n",
       "      <th>66</th>\n",
       "      <td>707914.438000</td>\n",
       "      <td>6.882724e+06</td>\n",
       "      <td>507.245636</td>\n",
       "      <td>EarlyGranite</td>\n",
       "    </tr>\n",
       "    <tr>\n",
       "      <th>67</th>\n",
       "      <td>703802.563000</td>\n",
       "      <td>6.877340e+06</td>\n",
       "      <td>483.052807</td>\n",
       "      <td>EarlyGranite</td>\n",
       "    </tr>\n",
       "    <tr>\n",
       "      <th>68</th>\n",
       "      <td>699886.500000</td>\n",
       "      <td>6.872934e+06</td>\n",
       "      <td>470.146586</td>\n",
       "      <td>EarlyGranite</td>\n",
       "    </tr>\n",
       "    <tr>\n",
       "      <th>69</th>\n",
       "      <td>697047.375000</td>\n",
       "      <td>6.869214e+06</td>\n",
       "      <td>456.299059</td>\n",
       "      <td>EarlyGranite</td>\n",
       "    </tr>\n",
       "  </tbody>\n",
       "</table>\n",
       "<p>70 rows × 4 columns</p>\n",
       "</div>"
      ],
      "text/plain": [
       "                X             Y            Z     formation\n",
       "0   735484.817806  6.891936e+06 -1819.319309  SimpleMafic2\n",
       "1   729854.915982  6.891938e+06 -1432.263309  SimpleMafic2\n",
       "2   724084.267161  6.891939e+06 -4739.830309  SimpleMafic2\n",
       "3   733521.625000  6.895282e+06   521.555240  SimpleMafic2\n",
       "4   721933.375000  6.884592e+06   496.669295  SimpleMafic2\n",
       "5   724251.000000  6.886909e+06   484.550926  SimpleMafic2\n",
       "6   727316.313000  6.886460e+06   478.254423  SimpleMafic2\n",
       "7   729858.250000  6.887134e+06   484.259574  SimpleMafic2\n",
       "8   732699.250000  6.885040e+06   494.526481  SimpleMafic2\n",
       "9   716849.500000  6.887358e+06   508.981894  SimpleMafic2\n",
       "10  719017.625000  6.892218e+06   508.179387  SimpleMafic2\n",
       "11  739179.440691  6.891936e+06  -552.591309     SimpleBIF\n",
       "12  735564.599804  6.891936e+06 -2652.196309     SimpleBIF\n",
       "13  730009.009977  6.891938e+06 -2088.409309     SimpleBIF\n",
       "14  718795.791326  6.891941e+06 -2773.169309     SimpleBIF\n",
       "15  724143.386160  6.891939e+06 -5569.907309     SimpleBIF\n",
       "16  723877.188000  6.899768e+06   529.152169     SimpleBIF\n",
       "17  732998.313000  6.898049e+06   521.619609     SimpleBIF\n",
       "18  743689.438000  6.891769e+06   512.811278     SimpleBIF\n",
       "19  712961.813000  6.882722e+06   547.826016     SimpleBIF\n",
       "20  716284.875000  6.891346e+06   515.586860     SimpleBIF\n",
       "21  718942.875000  6.897600e+06   538.490136     SimpleBIF\n",
       "22  722157.625000  6.882947e+06   481.747055     SimpleBIF\n",
       "23  723952.000000  6.885488e+06   480.122832     SimpleBIF\n",
       "24  728736.813000  6.885488e+06   477.929009     SimpleBIF\n",
       "25  738829.813000  6.878087e+06   470.081431     SimpleBIF\n",
       "26  715522.708428  6.891941e+06 -2810.185309   SimpleMafic\n",
       "27  722100.017223  6.891940e+06 -5640.110309   SimpleMafic\n",
       "28  728133.723035  6.891938e+06 -8458.173309   SimpleMafic\n",
       "29  733022.378883  6.891937e+06 -7358.592309   SimpleMafic\n",
       "..            ...           ...          ...           ...\n",
       "40  738924.813000  6.900194e+06   551.633725   SimpleMafic\n",
       "41  729430.813000  6.908718e+06   517.178069   SimpleMafic\n",
       "42  726929.750000  6.916017e+06   502.161614   SimpleMafic\n",
       "43  745312.750000  6.878221e+06   452.733051  EarlyGranite\n",
       "44  741494.625000  6.877536e+06   460.202350  EarlyGranite\n",
       "45  735914.188000  6.876556e+06   456.482389  EarlyGranite\n",
       "46  734739.375000  6.874011e+06   446.031913  EarlyGranite\n",
       "47  733564.563000  6.874598e+06   452.620638  EarlyGranite\n",
       "48  734837.313000  6.876850e+06   469.895650  EarlyGranite\n",
       "49  735326.813000  6.881354e+06   492.347775  EarlyGranite\n",
       "50  733858.313000  6.882724e+06   486.360734  EarlyGranite\n",
       "51  731508.625000  6.881941e+06   476.162317  EarlyGranite\n",
       "52  729746.438000  6.879004e+06   468.440123  EarlyGranite\n",
       "53  727788.375000  6.878514e+06   465.162276  EarlyGranite\n",
       "54  729354.813000  6.881354e+06   469.466421  EarlyGranite\n",
       "55  729159.000000  6.884095e+06   480.639992  EarlyGranite\n",
       "56  726319.875000  6.884389e+06   472.411447  EarlyGranite\n",
       "57  723284.938000  6.882235e+06   475.413461  EarlyGranite\n",
       "58  721522.688000  6.879592e+06   471.253042  EarlyGranite\n",
       "59  720935.313000  6.881941e+06   492.156175  EarlyGranite\n",
       "60  720445.813000  6.883704e+06   498.308040  EarlyGranite\n",
       "61  717410.875000  6.883508e+06   507.584619  EarlyGranite\n",
       "62  714571.688000  6.882039e+06   506.534612  EarlyGranite\n",
       "63  711243.063000  6.879494e+06   505.437117  EarlyGranite\n",
       "64  709676.625000  6.881550e+06   515.202397  EarlyGranite\n",
       "65  710264.063000  6.883900e+06   524.055665  EarlyGranite\n",
       "66  707914.438000  6.882724e+06   507.245636  EarlyGranite\n",
       "67  703802.563000  6.877340e+06   483.052807  EarlyGranite\n",
       "68  699886.500000  6.872934e+06   470.146586  EarlyGranite\n",
       "69  697047.375000  6.869214e+06   456.299059  EarlyGranite\n",
       "\n",
       "[70 rows x 4 columns]"
      ]
     },
     "execution_count": 42,
     "metadata": {},
     "output_type": "execute_result"
    }
   ],
   "source": [
    "Interfaces"
   ]
  },
  {
   "cell_type": "markdown",
   "metadata": {},
   "source": [
    "So there is four series, 3 of one single layer and 1 with 2. Therefore we need 4 potential fields, so lets begin."
   ]
  },
  {
   "cell_type": "markdown",
   "metadata": {},
   "source": [
    "### Early Granite\n",
    "#### Points"
   ]
  },
  {
   "cell_type": "code",
   "execution_count": 43,
   "metadata": {
    "ExecuteTime": {
     "end_time": "2016-10-27T10:58:25.494967",
     "start_time": "2016-10-27T10:58:25.471305"
    },
    "collapsed": false,
    "scrolled": true
   },
   "outputs": [
    {
     "data": {
      "text/plain": [
       "array([[  745312.75,  6878221.  ,      452.73],\n",
       "       [  741494.62,  6877535.5 ,      460.2 ],\n",
       "       [  735914.19,  6876556.5 ,      456.48],\n",
       "       [  734739.38,  6874011.  ,      446.03],\n",
       "       [  733564.56,  6874598.5 ,      452.62],\n",
       "       [  734837.31,  6876850.5 ,      469.9 ],\n",
       "       [  735326.81,  6881354.  ,      492.35],\n",
       "       [  733858.31,  6882724.5 ,      486.36],\n",
       "       [  731508.62,  6881941.  ,      476.16],\n",
       "       [  729746.44,  6879004.  ,      468.44],\n",
       "       [  727788.38,  6878514.5 ,      465.16],\n",
       "       [  729354.81,  6881354.  ,      469.47],\n",
       "       [  729159.  ,  6884095.  ,      480.64],\n",
       "       [  726319.88,  6884389.  ,      472.41],\n",
       "       [  723284.94,  6882235.  ,      475.41],\n",
       "       [  721522.69,  6879591.5 ,      471.25],\n",
       "       [  720935.31,  6881941.  ,      492.16],\n",
       "       [  720445.81,  6883703.5 ,      498.31],\n",
       "       [  717410.88,  6883507.5 ,      507.58],\n",
       "       [  714571.69,  6882039.  ,      506.53],\n",
       "       [  711243.06,  6879493.5 ,      505.44],\n",
       "       [  709676.62,  6881549.5 ,      515.2 ],\n",
       "       [  710264.06,  6883899.5 ,      524.06],\n",
       "       [  707914.44,  6882724.5 ,      507.25],\n",
       "       [  703802.56,  6877340.  ,      483.05],\n",
       "       [  699886.5 ,  6872934.5 ,      470.15],\n",
       "       [  697047.38,  6869214.  ,      456.3 ]], dtype=float32)"
      ]
     },
     "execution_count": 43,
     "metadata": {},
     "output_type": "execute_result"
    }
   ],
   "source": [
    "# We extract the points of the formations and we make a numpy array float 32 out of it\n",
    "layers = Points[Points[\"formation\"] == \"EarlyGranite\"].as_matrix()[:,:-1].astype(\"float32\")\n",
    "layers\n",
    "# The code for rest and ref has to change a bit according to the number of layer per formation\n",
    "rest = layers[1:]\n",
    "ref = np.tile(layers[0],(np.shape(layers)[0]-1,1))\n",
    "layers"
   ]
  },
  {
   "cell_type": "code",
   "execution_count": 50,
   "metadata": {
    "ExecuteTime": {
     "end_time": "2016-10-27T11:04:37.557562",
     "start_time": "2016-10-27T11:04:37.516114"
    },
    "collapsed": false
   },
   "outputs": [
    {
     "data": {
      "text/html": [
       "<div>\n",
       "<table border=\"1\" class=\"dataframe\">\n",
       "  <thead>\n",
       "    <tr style=\"text-align: right;\">\n",
       "      <th></th>\n",
       "      <th>X</th>\n",
       "      <th>Y</th>\n",
       "      <th>Z</th>\n",
       "      <th>azimuth</th>\n",
       "      <th>dip</th>\n",
       "      <th>polarity</th>\n",
       "      <th>formation</th>\n",
       "    </tr>\n",
       "  </thead>\n",
       "  <tbody>\n",
       "    <tr>\n",
       "      <th>0</th>\n",
       "      <td>739426.627684</td>\n",
       "      <td>6.891935e+06</td>\n",
       "      <td>75.422691</td>\n",
       "      <td>220.000000</td>\n",
       "      <td>70.000</td>\n",
       "      <td>1</td>\n",
       "      <td>SimpleBIF</td>\n",
       "    </tr>\n",
       "    <tr>\n",
       "      <th>1</th>\n",
       "      <td>717311.112372</td>\n",
       "      <td>6.891941e+06</td>\n",
       "      <td>-1497.488309</td>\n",
       "      <td>90.000000</td>\n",
       "      <td>60.000</td>\n",
       "      <td>1</td>\n",
       "      <td>SimpleBIF</td>\n",
       "    </tr>\n",
       "    <tr>\n",
       "      <th>2</th>\n",
       "      <td>723415.321182</td>\n",
       "      <td>6.891939e+06</td>\n",
       "      <td>-5298.154309</td>\n",
       "      <td>10.000000</td>\n",
       "      <td>20.000</td>\n",
       "      <td>1</td>\n",
       "      <td>SimpleMafic</td>\n",
       "    </tr>\n",
       "    <tr>\n",
       "      <th>3</th>\n",
       "      <td>742907.686575</td>\n",
       "      <td>6.891935e+06</td>\n",
       "      <td>-2786.869309</td>\n",
       "      <td>250.000000</td>\n",
       "      <td>60.000</td>\n",
       "      <td>1</td>\n",
       "      <td>SimpleMafic</td>\n",
       "    </tr>\n",
       "    <tr>\n",
       "      <th>4</th>\n",
       "      <td>712584.536312</td>\n",
       "      <td>6.891942e+06</td>\n",
       "      <td>-582.769334</td>\n",
       "      <td>90.014000</td>\n",
       "      <td>60.000</td>\n",
       "      <td>1</td>\n",
       "      <td>SimpleMafic</td>\n",
       "    </tr>\n",
       "    <tr>\n",
       "      <th>5</th>\n",
       "      <td>724309.279198</td>\n",
       "      <td>6.905712e+06</td>\n",
       "      <td>-3763.862995</td>\n",
       "      <td>90.000000</td>\n",
       "      <td>50.000</td>\n",
       "      <td>1</td>\n",
       "      <td>SimpleMafic</td>\n",
       "    </tr>\n",
       "    <tr>\n",
       "      <th>6</th>\n",
       "      <td>728653.933257</td>\n",
       "      <td>6.905715e+06</td>\n",
       "      <td>-4196.807995</td>\n",
       "      <td>269.962000</td>\n",
       "      <td>9.090</td>\n",
       "      <td>1</td>\n",
       "      <td>SimpleMafic</td>\n",
       "    </tr>\n",
       "    <tr>\n",
       "      <th>7</th>\n",
       "      <td>732788.182361</td>\n",
       "      <td>6.905718e+06</td>\n",
       "      <td>-1680.306995</td>\n",
       "      <td>269.962000</td>\n",
       "      <td>60.000</td>\n",
       "      <td>1</td>\n",
       "      <td>SimpleMafic</td>\n",
       "    </tr>\n",
       "    <tr>\n",
       "      <th>8</th>\n",
       "      <td>727261.874621</td>\n",
       "      <td>6.877214e+06</td>\n",
       "      <td>-5666.992176</td>\n",
       "      <td>360.000000</td>\n",
       "      <td>20.000</td>\n",
       "      <td>1</td>\n",
       "      <td>SimpleMafic</td>\n",
       "    </tr>\n",
       "    <tr>\n",
       "      <th>9</th>\n",
       "      <td>718902.531298</td>\n",
       "      <td>6.900479e+06</td>\n",
       "      <td>-1882.895297</td>\n",
       "      <td>83.123000</td>\n",
       "      <td>20.726</td>\n",
       "      <td>1</td>\n",
       "      <td>SimpleMafic</td>\n",
       "    </tr>\n",
       "    <tr>\n",
       "      <th>10</th>\n",
       "      <td>733335.732778</td>\n",
       "      <td>6.903151e+06</td>\n",
       "      <td>-1538.629297</td>\n",
       "      <td>255.407000</td>\n",
       "      <td>51.633</td>\n",
       "      <td>1</td>\n",
       "      <td>SimpleMafic</td>\n",
       "    </tr>\n",
       "    <tr>\n",
       "      <th>11</th>\n",
       "      <td>730820.452963</td>\n",
       "      <td>6.902599e+06</td>\n",
       "      <td>-3825.776297</td>\n",
       "      <td>258.709000</td>\n",
       "      <td>21.801</td>\n",
       "      <td>1</td>\n",
       "      <td>SimpleMafic</td>\n",
       "    </tr>\n",
       "    <tr>\n",
       "      <th>12</th>\n",
       "      <td>725461.656000</td>\n",
       "      <td>6.915002e+06</td>\n",
       "      <td>510.686328</td>\n",
       "      <td>103.095000</td>\n",
       "      <td>60.000</td>\n",
       "      <td>1</td>\n",
       "      <td>SimpleMafic</td>\n",
       "    </tr>\n",
       "    <tr>\n",
       "      <th>13</th>\n",
       "      <td>726102.312000</td>\n",
       "      <td>6.917776e+06</td>\n",
       "      <td>499.040304</td>\n",
       "      <td>0.000000</td>\n",
       "      <td>-60.000</td>\n",
       "      <td>1</td>\n",
       "      <td>SimpleMafic</td>\n",
       "    </tr>\n",
       "    <tr>\n",
       "      <th>14</th>\n",
       "      <td>727390.156000</td>\n",
       "      <td>6.913487e+06</td>\n",
       "      <td>517.569243</td>\n",
       "      <td>71.561000</td>\n",
       "      <td>-60.000</td>\n",
       "      <td>1</td>\n",
       "      <td>SimpleMafic</td>\n",
       "    </tr>\n",
       "    <tr>\n",
       "      <th>15</th>\n",
       "      <td>743403.687500</td>\n",
       "      <td>6.877878e+06</td>\n",
       "      <td>454.749952</td>\n",
       "      <td>169.802194</td>\n",
       "      <td>80.000</td>\n",
       "      <td>1</td>\n",
       "      <td>EarlyGranite</td>\n",
       "    </tr>\n",
       "    <tr>\n",
       "      <th>16</th>\n",
       "      <td>738704.406500</td>\n",
       "      <td>6.877046e+06</td>\n",
       "      <td>458.148740</td>\n",
       "      <td>170.056246</td>\n",
       "      <td>80.000</td>\n",
       "      <td>1</td>\n",
       "      <td>EarlyGranite</td>\n",
       "    </tr>\n",
       "    <tr>\n",
       "      <th>17</th>\n",
       "      <td>735326.781500</td>\n",
       "      <td>6.875284e+06</td>\n",
       "      <td>452.966456</td>\n",
       "      <td>114.812185</td>\n",
       "      <td>80.000</td>\n",
       "      <td>1</td>\n",
       "      <td>EarlyGranite</td>\n",
       "    </tr>\n",
       "    <tr>\n",
       "      <th>18</th>\n",
       "      <td>734151.969000</td>\n",
       "      <td>6.874305e+06</td>\n",
       "      <td>448.179887</td>\n",
       "      <td>206.518042</td>\n",
       "      <td>80.000</td>\n",
       "      <td>1</td>\n",
       "      <td>EarlyGranite</td>\n",
       "    </tr>\n",
       "    <tr>\n",
       "      <th>19</th>\n",
       "      <td>734200.938000</td>\n",
       "      <td>6.875724e+06</td>\n",
       "      <td>461.985804</td>\n",
       "      <td>299.406115</td>\n",
       "      <td>80.000</td>\n",
       "      <td>1</td>\n",
       "      <td>EarlyGranite</td>\n",
       "    </tr>\n",
       "    <tr>\n",
       "      <th>20</th>\n",
       "      <td>735082.063000</td>\n",
       "      <td>6.879102e+06</td>\n",
       "      <td>480.551436</td>\n",
       "      <td>276.153239</td>\n",
       "      <td>80.000</td>\n",
       "      <td>1</td>\n",
       "      <td>EarlyGranite</td>\n",
       "    </tr>\n",
       "    <tr>\n",
       "      <th>21</th>\n",
       "      <td>734592.563000</td>\n",
       "      <td>6.882039e+06</td>\n",
       "      <td>487.287083</td>\n",
       "      <td>223.053093</td>\n",
       "      <td>80.000</td>\n",
       "      <td>1</td>\n",
       "      <td>EarlyGranite</td>\n",
       "    </tr>\n",
       "    <tr>\n",
       "      <th>22</th>\n",
       "      <td>732683.469000</td>\n",
       "      <td>6.882333e+06</td>\n",
       "      <td>481.711952</td>\n",
       "      <td>161.600709</td>\n",
       "      <td>80.000</td>\n",
       "      <td>1</td>\n",
       "      <td>EarlyGranite</td>\n",
       "    </tr>\n",
       "    <tr>\n",
       "      <th>23</th>\n",
       "      <td>730627.531500</td>\n",
       "      <td>6.880472e+06</td>\n",
       "      <td>477.402658</td>\n",
       "      <td>120.986348</td>\n",
       "      <td>80.000</td>\n",
       "      <td>1</td>\n",
       "      <td>EarlyGranite</td>\n",
       "    </tr>\n",
       "    <tr>\n",
       "      <th>24</th>\n",
       "      <td>728767.406500</td>\n",
       "      <td>6.878759e+06</td>\n",
       "      <td>470.031623</td>\n",
       "      <td>165.980598</td>\n",
       "      <td>80.000</td>\n",
       "      <td>1</td>\n",
       "      <td>EarlyGranite</td>\n",
       "    </tr>\n",
       "    <tr>\n",
       "      <th>25</th>\n",
       "      <td>728571.594000</td>\n",
       "      <td>6.879934e+06</td>\n",
       "      <td>472.536776</td>\n",
       "      <td>298.870347</td>\n",
       "      <td>80.000</td>\n",
       "      <td>1</td>\n",
       "      <td>EarlyGranite</td>\n",
       "    </tr>\n",
       "    <tr>\n",
       "      <th>26</th>\n",
       "      <td>729256.906500</td>\n",
       "      <td>6.882724e+06</td>\n",
       "      <td>471.722924</td>\n",
       "      <td>265.872737</td>\n",
       "      <td>80.000</td>\n",
       "      <td>1</td>\n",
       "      <td>EarlyGranite</td>\n",
       "    </tr>\n",
       "    <tr>\n",
       "      <th>27</th>\n",
       "      <td>727739.437500</td>\n",
       "      <td>6.884242e+06</td>\n",
       "      <td>474.258726</td>\n",
       "      <td>185.941204</td>\n",
       "      <td>80.000</td>\n",
       "      <td>1</td>\n",
       "      <td>EarlyGranite</td>\n",
       "    </tr>\n",
       "    <tr>\n",
       "      <th>28</th>\n",
       "      <td>724802.406500</td>\n",
       "      <td>6.883312e+06</td>\n",
       "      <td>473.707869</td>\n",
       "      <td>144.627207</td>\n",
       "      <td>80.000</td>\n",
       "      <td>1</td>\n",
       "      <td>EarlyGranite</td>\n",
       "    </tr>\n",
       "    <tr>\n",
       "      <th>29</th>\n",
       "      <td>722403.813000</td>\n",
       "      <td>6.880913e+06</td>\n",
       "      <td>470.707065</td>\n",
       "      <td>123.702047</td>\n",
       "      <td>80.000</td>\n",
       "      <td>1</td>\n",
       "      <td>EarlyGranite</td>\n",
       "    </tr>\n",
       "    <tr>\n",
       "      <th>30</th>\n",
       "      <td>721229.000500</td>\n",
       "      <td>6.880766e+06</td>\n",
       "      <td>477.680894</td>\n",
       "      <td>255.876557</td>\n",
       "      <td>80.000</td>\n",
       "      <td>1</td>\n",
       "      <td>EarlyGranite</td>\n",
       "    </tr>\n",
       "    <tr>\n",
       "      <th>31</th>\n",
       "      <td>720690.563000</td>\n",
       "      <td>6.882822e+06</td>\n",
       "      <td>489.909423</td>\n",
       "      <td>254.444427</td>\n",
       "      <td>80.000</td>\n",
       "      <td>1</td>\n",
       "      <td>EarlyGranite</td>\n",
       "    </tr>\n",
       "    <tr>\n",
       "      <th>32</th>\n",
       "      <td>718928.344000</td>\n",
       "      <td>6.883606e+06</td>\n",
       "      <td>509.462245</td>\n",
       "      <td>176.274084</td>\n",
       "      <td>80.000</td>\n",
       "      <td>1</td>\n",
       "      <td>EarlyGranite</td>\n",
       "    </tr>\n",
       "    <tr>\n",
       "      <th>33</th>\n",
       "      <td>715991.281500</td>\n",
       "      <td>6.882773e+06</td>\n",
       "      <td>505.165864</td>\n",
       "      <td>152.654159</td>\n",
       "      <td>80.000</td>\n",
       "      <td>1</td>\n",
       "      <td>EarlyGranite</td>\n",
       "    </tr>\n",
       "    <tr>\n",
       "      <th>34</th>\n",
       "      <td>712907.375500</td>\n",
       "      <td>6.880766e+06</td>\n",
       "      <td>512.582136</td>\n",
       "      <td>142.596411</td>\n",
       "      <td>80.000</td>\n",
       "      <td>1</td>\n",
       "      <td>EarlyGranite</td>\n",
       "    </tr>\n",
       "    <tr>\n",
       "      <th>35</th>\n",
       "      <td>710459.844000</td>\n",
       "      <td>6.880522e+06</td>\n",
       "      <td>511.839758</td>\n",
       "      <td>232.658556</td>\n",
       "      <td>80.000</td>\n",
       "      <td>1</td>\n",
       "      <td>EarlyGranite</td>\n",
       "    </tr>\n",
       "    <tr>\n",
       "      <th>36</th>\n",
       "      <td>709970.344000</td>\n",
       "      <td>6.882724e+06</td>\n",
       "      <td>532.967915</td>\n",
       "      <td>283.997896</td>\n",
       "      <td>80.000</td>\n",
       "      <td>1</td>\n",
       "      <td>EarlyGranite</td>\n",
       "    </tr>\n",
       "    <tr>\n",
       "      <th>37</th>\n",
       "      <td>709089.250500</td>\n",
       "      <td>6.883312e+06</td>\n",
       "      <td>519.457428</td>\n",
       "      <td>153.495937</td>\n",
       "      <td>80.000</td>\n",
       "      <td>1</td>\n",
       "      <td>EarlyGranite</td>\n",
       "    </tr>\n",
       "    <tr>\n",
       "      <th>38</th>\n",
       "      <td>705858.500500</td>\n",
       "      <td>6.880032e+06</td>\n",
       "      <td>494.307044</td>\n",
       "      <td>127.403250</td>\n",
       "      <td>80.000</td>\n",
       "      <td>1</td>\n",
       "      <td>EarlyGranite</td>\n",
       "    </tr>\n",
       "    <tr>\n",
       "      <th>39</th>\n",
       "      <td>701844.531500</td>\n",
       "      <td>6.875137e+06</td>\n",
       "      <td>476.658525</td>\n",
       "      <td>131.656118</td>\n",
       "      <td>80.000</td>\n",
       "      <td>1</td>\n",
       "      <td>EarlyGranite</td>\n",
       "    </tr>\n",
       "    <tr>\n",
       "      <th>40</th>\n",
       "      <td>698466.937500</td>\n",
       "      <td>6.871074e+06</td>\n",
       "      <td>463.972201</td>\n",
       "      <td>127.377257</td>\n",
       "      <td>80.000</td>\n",
       "      <td>1</td>\n",
       "      <td>EarlyGranite</td>\n",
       "    </tr>\n",
       "  </tbody>\n",
       "</table>\n",
       "</div>"
      ],
      "text/plain": [
       "                X             Y            Z     azimuth     dip  polarity  \\\n",
       "0   739426.627684  6.891935e+06    75.422691  220.000000  70.000         1   \n",
       "1   717311.112372  6.891941e+06 -1497.488309   90.000000  60.000         1   \n",
       "2   723415.321182  6.891939e+06 -5298.154309   10.000000  20.000         1   \n",
       "3   742907.686575  6.891935e+06 -2786.869309  250.000000  60.000         1   \n",
       "4   712584.536312  6.891942e+06  -582.769334   90.014000  60.000         1   \n",
       "5   724309.279198  6.905712e+06 -3763.862995   90.000000  50.000         1   \n",
       "6   728653.933257  6.905715e+06 -4196.807995  269.962000   9.090         1   \n",
       "7   732788.182361  6.905718e+06 -1680.306995  269.962000  60.000         1   \n",
       "8   727261.874621  6.877214e+06 -5666.992176  360.000000  20.000         1   \n",
       "9   718902.531298  6.900479e+06 -1882.895297   83.123000  20.726         1   \n",
       "10  733335.732778  6.903151e+06 -1538.629297  255.407000  51.633         1   \n",
       "11  730820.452963  6.902599e+06 -3825.776297  258.709000  21.801         1   \n",
       "12  725461.656000  6.915002e+06   510.686328  103.095000  60.000         1   \n",
       "13  726102.312000  6.917776e+06   499.040304    0.000000 -60.000         1   \n",
       "14  727390.156000  6.913487e+06   517.569243   71.561000 -60.000         1   \n",
       "15  743403.687500  6.877878e+06   454.749952  169.802194  80.000         1   \n",
       "16  738704.406500  6.877046e+06   458.148740  170.056246  80.000         1   \n",
       "17  735326.781500  6.875284e+06   452.966456  114.812185  80.000         1   \n",
       "18  734151.969000  6.874305e+06   448.179887  206.518042  80.000         1   \n",
       "19  734200.938000  6.875724e+06   461.985804  299.406115  80.000         1   \n",
       "20  735082.063000  6.879102e+06   480.551436  276.153239  80.000         1   \n",
       "21  734592.563000  6.882039e+06   487.287083  223.053093  80.000         1   \n",
       "22  732683.469000  6.882333e+06   481.711952  161.600709  80.000         1   \n",
       "23  730627.531500  6.880472e+06   477.402658  120.986348  80.000         1   \n",
       "24  728767.406500  6.878759e+06   470.031623  165.980598  80.000         1   \n",
       "25  728571.594000  6.879934e+06   472.536776  298.870347  80.000         1   \n",
       "26  729256.906500  6.882724e+06   471.722924  265.872737  80.000         1   \n",
       "27  727739.437500  6.884242e+06   474.258726  185.941204  80.000         1   \n",
       "28  724802.406500  6.883312e+06   473.707869  144.627207  80.000         1   \n",
       "29  722403.813000  6.880913e+06   470.707065  123.702047  80.000         1   \n",
       "30  721229.000500  6.880766e+06   477.680894  255.876557  80.000         1   \n",
       "31  720690.563000  6.882822e+06   489.909423  254.444427  80.000         1   \n",
       "32  718928.344000  6.883606e+06   509.462245  176.274084  80.000         1   \n",
       "33  715991.281500  6.882773e+06   505.165864  152.654159  80.000         1   \n",
       "34  712907.375500  6.880766e+06   512.582136  142.596411  80.000         1   \n",
       "35  710459.844000  6.880522e+06   511.839758  232.658556  80.000         1   \n",
       "36  709970.344000  6.882724e+06   532.967915  283.997896  80.000         1   \n",
       "37  709089.250500  6.883312e+06   519.457428  153.495937  80.000         1   \n",
       "38  705858.500500  6.880032e+06   494.307044  127.403250  80.000         1   \n",
       "39  701844.531500  6.875137e+06   476.658525  131.656118  80.000         1   \n",
       "40  698466.937500  6.871074e+06   463.972201  127.377257  80.000         1   \n",
       "\n",
       "       formation  \n",
       "0      SimpleBIF  \n",
       "1      SimpleBIF  \n",
       "2    SimpleMafic  \n",
       "3    SimpleMafic  \n",
       "4    SimpleMafic  \n",
       "5    SimpleMafic  \n",
       "6    SimpleMafic  \n",
       "7    SimpleMafic  \n",
       "8    SimpleMafic  \n",
       "9    SimpleMafic  \n",
       "10   SimpleMafic  \n",
       "11   SimpleMafic  \n",
       "12   SimpleMafic  \n",
       "13   SimpleMafic  \n",
       "14   SimpleMafic  \n",
       "15  EarlyGranite  \n",
       "16  EarlyGranite  \n",
       "17  EarlyGranite  \n",
       "18  EarlyGranite  \n",
       "19  EarlyGranite  \n",
       "20  EarlyGranite  \n",
       "21  EarlyGranite  \n",
       "22  EarlyGranite  \n",
       "23  EarlyGranite  \n",
       "24  EarlyGranite  \n",
       "25  EarlyGranite  \n",
       "26  EarlyGranite  \n",
       "27  EarlyGranite  \n",
       "28  EarlyGranite  \n",
       "29  EarlyGranite  \n",
       "30  EarlyGranite  \n",
       "31  EarlyGranite  \n",
       "32  EarlyGranite  \n",
       "33  EarlyGranite  \n",
       "34  EarlyGranite  \n",
       "35  EarlyGranite  \n",
       "36  EarlyGranite  \n",
       "37  EarlyGranite  \n",
       "38  EarlyGranite  \n",
       "39  EarlyGranite  \n",
       "40  EarlyGranite  "
      ]
     },
     "execution_count": 50,
     "metadata": {},
     "output_type": "execute_result"
    }
   ],
   "source": [
    "Foliations"
   ]
  },
  {
   "cell_type": "markdown",
   "metadata": {},
   "source": [
    "### Foliations"
   ]
  },
  {
   "cell_type": "code",
   "execution_count": 64,
   "metadata": {
    "ExecuteTime": {
     "end_time": "2016-10-27T11:13:09.712766",
     "start_time": "2016-10-27T11:13:09.694436"
    },
    "collapsed": false
   },
   "outputs": [
    {
     "data": {
      "text/plain": [
       "array([], shape=(0, 7), dtype=object)"
      ]
     },
     "execution_count": 64,
     "metadata": {},
     "output_type": "execute_result"
    }
   ],
   "source": [
    "dips = Foliations[Foliations[\"formation\"] == \"EarlyGranite\"].as_matrix()[:,:3].astype(\"float32\")\n",
    "dips_angles = Foliations[Foliations[\"formation\"] == \"EarlyGranite\"][\"dip\"].as_matrix().astype(\"float32\")\n",
    "azimuths = Foliations[Foliations[\"formation\"] == \"EarlyGranite\"][\"azimuth\"].as_matrix().astype(\"float32\")\n",
    "polarity = Foliations[Foliations[\"formation\"] == \"EarlyGranite\"][\"polarity\"].as_matrix().astype(\"float32\")\n",
    "Foliations[Foliations[\"formation\"] == (\"EarlyGranite|SimpleMafic\")].as_matrix()"
   ]
  },
  {
   "cell_type": "code",
   "execution_count": 110,
   "metadata": {
    "ExecuteTime": {
     "end_time": "2016-10-27T13:19:38.900784",
     "start_time": "2016-10-27T13:19:38.895672"
    },
    "collapsed": false
   },
   "outputs": [],
   "source": [
    "series_name = {\"EarlyGranite_Series\":(\"EarlyGranite\",\"Blabla\")}\n",
    "assert type(series_name) is dict, \"cool\"\n",
    "assert sum(len(i) for i in series_name.values()) is 2, \"bad\""
   ]
  },
  {
   "cell_type": "code",
   "execution_count": 116,
   "metadata": {
    "ExecuteTime": {
     "end_time": "2016-10-27T13:23:23.870882",
     "start_time": "2016-10-27T13:23:23.863439"
    },
    "collapsed": false
   },
   "outputs": [
    {
     "data": {
      "text/plain": [
       "'EarlyGranite|Blabla'"
      ]
     },
     "execution_count": 116,
     "metadata": {},
     "output_type": "execute_result"
    }
   ],
   "source": [
    "\"|\".join(series_name[\"EarlyGranite_Series\"])"
   ]
  },
  {
   "cell_type": "code",
   "execution_count": 105,
   "metadata": {
    "ExecuteTime": {
     "end_time": "2016-10-27T13:14:23.999642",
     "start_time": "2016-10-27T13:14:23.993060"
    },
    "collapsed": false
   },
   "outputs": [
    {
     "data": {
      "text/plain": [
       "'SimpleBIF|EarlyGranite'"
      ]
     },
     "execution_count": 105,
     "metadata": {},
     "output_type": "execute_result"
    }
   ],
   "source": [
    "\"SimpleBIF|EarlyGranite\""
   ]
  },
  {
   "cell_type": "code",
   "execution_count": 120,
   "metadata": {
    "ExecuteTime": {
     "end_time": "2016-10-27T13:30:09.075271",
     "start_time": "2016-10-27T13:30:09.063132"
    },
    "collapsed": false
   },
   "outputs": [
    {
     "data": {
      "text/plain": [
       "array([True, False], dtype=object)"
      ]
     },
     "execution_count": 120,
     "metadata": {},
     "output_type": "execute_result"
    }
   ],
   "source": [
    "df = Foliations\n",
    "df[df['formation'].str.contains(\"SimpleBIF|EarlyGranite\")]\n",
    "df['formation'].str.contains(\"SimpleBIF|EarlyGranite\").unique()"
   ]
  },
  {
   "cell_type": "markdown",
   "metadata": {},
   "source": [
    "### Checking Gradients"
   ]
  },
  {
   "cell_type": "code",
   "execution_count": 98,
   "metadata": {
    "collapsed": false
   },
   "outputs": [],
   "source": [
    "G_x = np.sin(np.deg2rad(dips_angles)) * np.sin(np.deg2rad(azimuths)) * polarity\n",
    "G_y = np.sin(np.deg2rad(dips_angles)) * np.cos(np.deg2rad(azimuths)) * polarity\n",
    "G_z = np.cos(np.deg2rad(dips_angles)) * polarity\n",
    "\n",
    "G_x, G_y, G_z;"
   ]
  },
  {
   "cell_type": "markdown",
   "metadata": {},
   "source": [
    "### Choosing important isovalues to plot"
   ]
  },
  {
   "cell_type": "code",
   "execution_count": 88,
   "metadata": {
    "collapsed": false
   },
   "outputs": [],
   "source": [
    "b = interpolator.geoMigueller(dips,dips_angles,azimuths,polarity, rest, ref,0.1,-0.33333,-3*(-0.3333),0.8557,8.557,1)[0]\n",
    "arg1,h1 = np.argmin((abs(interpolator.grid - ref[0])).sum(1)), b[np.argmin((abs(interpolator.grid - ref[0])).sum(1))]\n",
    "arg2, h2 =np.argmin((abs(interpolator.grid - ref[1])).sum(1)), b[np.argmin((abs(interpolator.grid - ref[1])).sum(1))]"
   ]
  },
  {
   "cell_type": "markdown",
   "metadata": {},
   "source": [
    "### Plotting potential field"
   ]
  },
  {
   "cell_type": "code",
   "execution_count": 89,
   "metadata": {
    "collapsed": false
   },
   "outputs": [],
   "source": [
    "\"\"\"\n",
    "xmin = layers[:,0].min()\n",
    "xmax = layers[:,0].max()\n",
    "ymin = layers[:,1].min()\n",
    "ymax = layers[:,1].max()\n",
    "zmin = layers[:,2].min()\n",
    "zmax = layers[:,2].max()\n",
    "\"\"\"\n",
    "nx = 50\n",
    "ny = 50\n",
    "nz = 50\n",
    "dx = (xmax-xmin)/nx\n",
    "dy = (ymax-ymin)/ny\n",
    "dz = (zmax-zmin)/nz\n",
    "\n",
    "#Genereting a regular grid\n",
    "interpolator.create_regular_grid_3D(xmin,xmax,ymin,ymax,zmin,zmax,nx,ny,nz)\n",
    "interpolator.theano_set_3D_nugget_degree0()\n",
    "\n",
    "val = interpolator.geoMigueller(dips,dips_angles,azimuths,polarity, rest, ref,0.1,-0.33333,-3*(-0.3333),0.8557,8.557,1)[0]\n",
    "\n",
    "G_x, G_y, G_z = interpolator.geoMigueller(dips,dips_angles,azimuths,polarity, rest, ref,0.1,-0.33333,-3*(-0.3333),0.8557,8.557,1)[-3:]\n",
    "\n",
    "sol_early_granite = val.reshape(50,50,50,\n",
    "    order = \"C\")\n",
    "\n",
    "\n",
    "arg1,h1 = np.argmin((abs(interpolator.grid - ref[0])).sum(1)), val[np.argmin((abs(interpolator.grid - ref[0])).sum(1))]\n",
    "arg2, h2 =np.argmin((abs(interpolator.grid - ref[1])).sum(1)), val[np.argmin((abs(interpolator.grid - ref[1])).sum(1))]"
   ]
  },
  {
   "cell_type": "code",
   "execution_count": 46,
   "metadata": {
    "collapsed": false
   },
   "outputs": [
    {
     "name": "stdout",
     "output_type": "stream",
     "text": [
      "[-19.06]\n"
     ]
    }
   ],
   "source": [
    "fig = plt.figure()\n",
    "ax = fig.add_subplot(111, projection='3d')\n",
    "\n",
    "cm = plt.get_cmap(\"jet\")\n",
    "cNorm = matplotlib.colors.Normalize(vmin=sol_early_granite.min(), vmax=sol_early_granite.max())\n",
    "scalarMap = cmx.ScalarMappable(norm=cNorm, cmap=cm)\n",
    "\n",
    "isolines = np.linspace(h1,sol_early_granite.min()+(sol_early_granite.max()-sol_early_granite.min())*0.01,1)\n",
    "print(isolines)\n",
    "\n",
    "for i in isolines[0:10]:\n",
    "    vertices = measure.marching_cubes(sol_early_granite, i, spacing = (dx,dy,dz),\n",
    "    gradient_direction = \"descent\")[0]\n",
    "\n",
    "    ax.scatter(vertices[::10,0]+xmin,vertices[::10,1]+ymin,zmin+vertices[::10,2],color=scalarMap.to_rgba(i),alpha = 0.2)\n",
    "    #color=scalarMap.to_rgba(vertices[::10,2])\n",
    "    \n",
    "ax.scatter(layers[:,0],layers[:,1],layers[:,2], s = 50, c = \"r\" )\n",
    "ax.scatter(ref[0,0],ref[0,1],ref[0,2], s = 100, c = \"g\")\n",
    "\n",
    "\n",
    "ax.quiver3D(dips[:,0],dips[:,1],dips[:,2], G_x,G_y,G_z, pivot = \"tail\",  length = 40,\n",
    "            arrow_length_ratio = 0.01 )\n",
    "ax.set_xlabel(\"x\")\n",
    "ax.set_ylabel(\"y\")\n",
    "ax.set_zlabel(\"z\")\n",
    "ax.ticklabel_format(style='sci',  scilimits=(0,0))"
   ]
  },
  {
   "cell_type": "code",
   "execution_count": 90,
   "metadata": {
    "collapsed": false
   },
   "outputs": [
    {
     "data": {
      "text/plain": [
       "-0.0010114675"
      ]
     },
     "execution_count": 90,
     "metadata": {},
     "output_type": "execute_result"
    }
   ],
   "source": [
    "val[1]"
   ]
  },
  {
   "cell_type": "code",
   "execution_count": 99,
   "metadata": {
    "collapsed": false
   },
   "outputs": [],
   "source": [
    "c_sol = np.array(\n",
    "           [-0.0672002794173474499173082108427479397,\n",
    "           4.47894052448361357221529033267870545387,\n",
    "           32.7214861975830686446897743735462427139,\n",
    "           -15.099054128442860545078474387992173433,\n",
    "           -35.570184227211939287371933460235595703,\n",
    "           -23.597843507073847035826474893838167190,\n",
    "           -9.1367069719955349427209512214176356792,\n",
    "           4.81630221861661045323899088543839752674,\n",
    "           24.1023567655768538031679781852290034294,\n",
    "           14.7752332477670034194261461379937827587,\n",
    "           -38.436698200821716397967975353822112083,\n",
    "           -28.905171663223260480890530743636190891,\n",
    "           -1.7122911401057445690554459361010231077,\n",
    "           9.55799062954935685354485030984506011009,\n",
    "           36.4091553829197351888069533742964267730,\n",
    "           -33.354975131192752257902611745521426200,\n",
    "           -25.801132784690611998712483909912407398,\n",
    "           -0.1197362474730433445913035939156543463,\n",
    "           7.08067481512648022601297270739451050758,\n",
    "           9.69679697095352999269834981532767415046,\n",
    "           -21.877845350465118912097750580869615077,\n",
    "           -35.105888270549193919123354135081171989,\n",
    "           21.2502460242014201696747477399185299873,\n",
    "           9.82027576377756972192401008214801549911,\n",
    "           2.07133868598002734984220296610146760940,\n",
    "           1.30424286272239964290520219947211444377,\n",
    "           -1.8828536134931623813315582083305343985,\n",
    "           -15.775675207285329904038917447905987501,\n",
    "           -21.336313523266436931180578540079295635,\n",
    "           -28.427134067245340531826514052227139472,\n",
    "           15.0210994227116518828779589966870844364,\n",
    "           1.32815973934092612651625131547916680574,\n",
    "           -9.2895525062595538656751159578561782836,\n",
    "           -20.264065055578527108082198537886142730,\n",
    "           -21.763582635243821528092666994780302047,\n",
    "           -43.355299704163869023432198446244001388,\n",
    "           16.2989847048205618307292752433568239212,\n",
    "           -4.4946721317183548904949930147267878055,\n",
    "           -15.817089609635042180002528766635805368,\n",
    "           -15.765853757006459190392888558562844991,\n",
    "           -27.297752956749189223728535580448806285,\n",
    "           -6.7064720245132667386656066810246556997,\n",
    "           -7.0304665651463196240911202039569616317,\n",
    "           -17.817243710581472271314851241186261177,\n",
    "           -13.029291273947210427763820916879922151,\n",
    "           -22.536084666631584383367226109839975833,\n",
    "           -18.233255694548414993505502934567630290,\n",
    "           7.80734573679180154925916212960146367549,\n",
    "           -40.204061576787147203049244126304984092,\n",
    "           -8.3847706346175101543849450536072254180,\n",
    "           -1.0361008900613859484707290903315879404,\n",
    "           -1.2482482257017757376615918474271893501,\n",
    "           0.29967542823352022463012644948321394622,\n",
    "           0.05352316474983948024757296479947399348,\n",
    "           0.03556908685958661692216864480542426463,\n",
    "           0.09169942120311701250212621516766375862,\n",
    "           -0.2939963147728482106835201648209476843,\n",
    "           -0.0893806584383176616626087707118131220,\n",
    "           0.04834027985525080756135096748948853928,\n",
    "           -0.0607725134815840367652484133031975943,\n",
    "           -0.1120108487523314849676481230744684580,\n",
    "           -0.0594942684137691607526576831332931760,\n",
    "           -0.0674597421954390569220905149450118187,\n",
    "           -0.0250704422226563083953010391269344836,\n",
    "           0.03042081585143702887608085916326672304,\n",
    "           0.00750322929848960731152862635440214944,\n",
    "           0.02354094701283681798087421555010223528,\n",
    "           -0.2011706776817408781621310254195122979,\n",
    "           -0.2215903621346705931749454521195730194,\n",
    "           0.12022485101380796235215342449009767733,\n",
    "           0.01920049472747586277732168014154012780,\n",
    "           -0.0331575839206144085125060883001424372,\n",
    "           -0.0734614301462658547681172649390646256,\n",
    "           0.04975284539966429164792316441889852285,\n",
    "           -0.1481455425060009822857409744756296277,\n",
    "           -0.0550581186556105758866941357609903207,\n",
    "           0.03515883845201003138347672916097508277,\n",
    "           0.27185731576003852039136177154432516545,\n",
    "           -96.726595831147122339643829036504030227,\n",
    "           908.478903399191722201067022979259490966,\n",
    "           -763.10020175088720861822366714477539062,\n",
    "           -196.48550866070672782370820641517639160,\n",
    "           -27.602873878443197952492482727393507957,\n",
    "           -81.235904022154358017360209487378597259,\n",
    "           707.459640987386478627740871161222457885,\n",
    "           -442.66541640357462483734707348048686981,\n",
    "           -231.53821638419398709629604127258062362,\n",
    "           -643.65061207514315810840344056487083435,\n",
    "           234.722439055014092446072027087211608886,\n",
    "           707.076346739397308738261926919221878051,\n",
    "           -170.05407504704984944510215427726507186,\n",
    "           446.355938756530917999043595045804977416,\n",
    "           -802.94228665506841480237198993563652038,\n",
    "           -374.90165841315047146053984761238098144,\n",
    "           1120.47665956918308438616804778575897216,\n",
    "           -467.94990174027645934984320774674415588,\n",
    "           325.925390909614804968441603705286979675,\n",
    "           -601.36014778938852032297290861606597900,\n",
    "           -939.50747080699079560872633010149002075,\n",
    "           1363.67222528979527851333841681480407714,\n",
    "           2.04947601616707331118050205986946821212,\n",
    "           -41.055459973937189488424337469041347503,\n",
    "           36.7466477144488479211759113240987062454,\n",
    "           -11.348044426398136153011364513076841831\n",
    "    ]\n",
    ")"
   ]
  },
  {
   "cell_type": "code",
   "execution_count": 112,
   "metadata": {
    "collapsed": false
   },
   "outputs": [],
   "source": [
    "import pymc as pm\n",
    "a = pm.Uniform('a', lower=-10000.1, upper=10000.1, )\n",
    "b = pm.Uniform('b', lower=-10000.1, upper=10000.1, )\n",
    "c = pm.Uniform('c', lower=-10000.1, upper=10000.1, )\n",
    "d = pm.Uniform('d', lower=-10000.1, upper=10000.1, )\n",
    "e = pm.Uniform('e', lower=-1.1, upper=1.1, )\n",
    "f = pm.Uniform('f', lower=-1.1, upper=1.1, )\n",
    "\n",
    "@pm.deterministic\n",
    "def this(value = 0, a = a ,b = b,c = c,d = d,e= e,f =f, c_sol = c_sol):\n",
    "    sol = interpolator.geoMigueller(dips,dips_angles,azimuths,polarity, rest, ref,\n",
    "                                 a,b,-3*b,d,e,f)[1]\n",
    "\n",
    "    \n",
    "    #error = abs(sol-c_sol)\n",
    "    #print (error)\n",
    "    return sol\n",
    "  \n",
    "like= pm.Normal(\"likelihood\", this, 1./np.square(1e-30),\n",
    "                value = c_sol, observed = True, size = len(c_sol)\n",
    ")\n",
    "model = pm.Model([a,b,c,d,e,f, like])"
   ]
  },
  {
   "cell_type": "code",
   "execution_count": 113,
   "metadata": {
    "collapsed": true
   },
   "outputs": [],
   "source": [
    "M = pm.MAP(model)\n",
    "M.fit()"
   ]
  },
  {
   "cell_type": "code",
   "execution_count": 114,
   "metadata": {
    "collapsed": false
   },
   "outputs": [
    {
     "data": {
      "text/plain": [
       "(array(4556.87857596751),\n",
       " array(21.665116108523762),\n",
       " array(-6104.283354739862),\n",
       " array(9999.684773969651),\n",
       " array(-0.05333732686571408),\n",
       " array(-0.19436194546932145),\n",
       " array([ 0.,  0.,  0., -0., -0., -0., -0.,  0.,  0.,  0., -0., -0., -0.,  0.,  0., -0., -0.,  0.,  0.,  0., -0., -0.,  0.,  0.,\n",
       "         0.,  0., -0., -0., -0., -0.,  0.,  0., -0., -0., -0., -0.,  0., -0., -0., -0., -0., -0., -0., -0., -0., -0., -0.,  0.,\n",
       "        -0., -0., -0., -0.,  0.,  0.,  0.,  0.,  0.,  0.,  0.,  0.,  0.,  0.,  0.,  0.,  0.,  0.,  0.,  0.,  0.,  0.,  0.,  0.,\n",
       "         0.,  0.,  0.,  0.,  0.,  0., -0.,  0., -0.,  0., -0.,  0.,  0., -0.,  0., -0., -0.,  0., -0.,  0., -0., -0.,  0., -0.,\n",
       "         0., -0., -0.,  0.,  0.,  0.,  0., -0.], dtype=float32),\n",
       " array([   -0.07,     4.48,    32.72,   -15.1 ,   -35.57,   -23.6 ,    -9.14,     4.82,    24.1 ,    14.78,   -38.44,   -28.91,\n",
       "           -1.71,     9.56,    36.41,   -33.35,   -25.8 ,    -0.12,     7.08,     9.7 ,   -21.88,   -35.11,    21.25,     9.82,\n",
       "            2.07,     1.3 ,    -1.88,   -15.78,   -21.34,   -28.43,    15.02,     1.33,    -9.29,   -20.26,   -21.76,   -43.36,\n",
       "           16.3 ,    -4.49,   -15.82,   -15.77,   -27.3 ,    -6.71,    -7.03,   -17.82,   -13.03,   -22.54,   -18.23,     7.81,\n",
       "          -40.2 ,    -8.38,    -1.04,    -1.25,     0.3 ,     0.05,     0.04,     0.09,    -0.29,    -0.09,     0.05,    -0.06,\n",
       "           -0.11,    -0.06,    -0.07,    -0.03,     0.03,     0.01,     0.02,    -0.2 ,    -0.22,     0.12,     0.02,    -0.03,\n",
       "           -0.07,     0.05,    -0.15,    -0.06,     0.04,     0.27,   -96.73,   908.48,  -763.1 ,  -196.49,   -27.6 ,   -81.24,\n",
       "          707.46,  -442.67,  -231.54,  -643.65,   234.72,   707.08,  -170.05,   446.36,  -802.94,  -374.9 ,  1120.48,  -467.95,\n",
       "          325.93,  -601.36,  -939.51,  1363.67,     2.05,   -41.06,    36.75,   -11.35]),\n",
       " array([-0.17, -0.17, -0.89,  0.44,  0.86,  0.98,  0.67, -0.31, -0.84, -0.24,  0.86,  0.98,  0.1 , -0.57, -0.82,  0.96,  0.95,\n",
       "        -0.06, -0.45, -0.6 ,  0.78,  0.96, -0.44, -0.78, -0.74, -0.78,  0.97,  0.97,  0.41,  0.88, -0.48, -0.11,  0.72,  0.93,\n",
       "         0.51,  0.96, -0.48,  0.07,  0.98,  0.8 ,  0.55,  0.24,  0.26,  0.98,  0.87,  0.78,  0.6 , -0.24,  0.88,  0.6 ,  0.65,\n",
       "         0.6 , -0.17, -0.17, -0.17, -0.17, -0.17, -0.17, -0.17, -0.17, -0.17, -0.17, -0.17, -0.17, -0.17, -0.17, -0.17, -0.17,\n",
       "        -0.17, -0.17, -0.17, -0.17, -0.17, -0.17, -0.17, -0.17, -0.17, -0.17,  0.  , -0.  ,  0.  , -0.  ,  0.  , -0.  , -0.  ,\n",
       "         0.  , -0.  ,  0.  ,  0.  , -0.  ,  0.  , -0.  ,  0.  ,  0.  , -0.  ,  0.  , -0.  ,  0.  ,  0.  , -0.  , -0.  , -0.  ,\n",
       "        -0.  ,  0.  ], dtype=float32))"
      ]
     },
     "execution_count": 114,
     "metadata": {},
     "output_type": "execute_result"
    }
   ],
   "source": [
    "a.value, b.value, c.value,d.value, e.value, f.value, this.value, c_sol, interpolator.geoMigueller(dips,dips_angles,azimuths,polarity, rest, ref,1,1,1,1,1,1)[1]"
   ]
  },
  {
   "cell_type": "code",
   "execution_count": null,
   "metadata": {
    "collapsed": true
   },
   "outputs": [],
   "source": [
    ""
   ]
  },
  {
   "cell_type": "markdown",
   "metadata": {},
   "source": [
    "### Simple Mafic2 and SimpleBif\n",
    "#### Points and foliations"
   ]
  },
  {
   "cell_type": "code",
   "execution_count": 7,
   "metadata": {
    "collapsed": false
   },
   "outputs": [
    {
     "data": {
      "text/plain": [
       "array([[  735484.81,  6891936.5 ,    -1819.32],\n",
       "       [  735484.81,  6891936.5 ,    -1819.32],\n",
       "       [  735484.81,  6891936.5 ,    -1819.32],\n",
       "       [  735484.81,  6891936.5 ,    -1819.32],\n",
       "       [  735484.81,  6891936.5 ,    -1819.32],\n",
       "       [  735484.81,  6891936.5 ,    -1819.32],\n",
       "       [  735484.81,  6891936.5 ,    -1819.32],\n",
       "       [  735484.81,  6891936.5 ,    -1819.32],\n",
       "       [  735484.81,  6891936.5 ,    -1819.32],\n",
       "       [  735484.81,  6891936.5 ,    -1819.32],\n",
       "       [  739179.44,  6891935.5 ,     -552.59],\n",
       "       [  739179.44,  6891935.5 ,     -552.59],\n",
       "       [  739179.44,  6891935.5 ,     -552.59],\n",
       "       [  739179.44,  6891935.5 ,     -552.59],\n",
       "       [  739179.44,  6891935.5 ,     -552.59],\n",
       "       [  739179.44,  6891935.5 ,     -552.59],\n",
       "       [  739179.44,  6891935.5 ,     -552.59],\n",
       "       [  739179.44,  6891935.5 ,     -552.59],\n",
       "       [  739179.44,  6891935.5 ,     -552.59],\n",
       "       [  739179.44,  6891935.5 ,     -552.59],\n",
       "       [  739179.44,  6891935.5 ,     -552.59],\n",
       "       [  739179.44,  6891935.5 ,     -552.59],\n",
       "       [  739179.44,  6891935.5 ,     -552.59],\n",
       "       [  739179.44,  6891935.5 ,     -552.59]], dtype=float32)"
      ]
     },
     "execution_count": 7,
     "metadata": {},
     "output_type": "execute_result"
    }
   ],
   "source": [
    "# We extract the points of the formations and we make a numpy array float 32 out of it\n",
    "layer_1 = Points[Points[\"formation\"] == \"SimpleMafic2\"].as_matrix()[:,:-1].astype(\"float32\")\n",
    "layer_2 = Points[Points[\"formation\"] == \"SimpleBIF\"].as_matrix()[:,:-1].astype(\"float32\")\n",
    "layers = np.asarray([layer_1,layer_2])\n",
    "\n",
    "# The code for rest and ref has to change a bit according to the number of layer per formation\n",
    "rest = np.vstack((i[1:] for i in layers))\n",
    "ref = np.vstack((np.tile(i[0],(np.shape(i)[0]-1,1)) for i in layers))\n",
    "\n",
    "\"\"\"\n",
    "dips = np.asarray(\n",
    "    [Foliations[Foliations[\"formation\"] == \"SimpleMafic2\"].as_matrix()[:,:3].astype(\"float32\"),\n",
    "     Foliations[Foliations[\"formation\"] == \"SimpleBIF\"].as_matrix()[:,:3].astype(\"float32\")]\n",
    "                )\n",
    "dips_angles = np.asarray(\n",
    "    [Foliations[Foliations[\"formation\"] == \"EarlyGranite\"][\"dip\"].as_matrix().astype(\"float32\"),\n",
    "     Foliations[Foliations[\"formation\"] == \"EarlyGranite\"][\"dip\"].as_matrix().astype(\"float32\")]\n",
    "                        )\n",
    "azimuths =  np.asarray(\n",
    "    [Foliations[Foliations[\"formation\"] == \"SimpleMafic2\"][\"azimuth\"].as_matrix().astype(\"float32\"),\n",
    "     Foliations[Foliations[\"formation\"] == \"SimpleBIF\"][\"dip\"].as_matrix().astype(\"float32\")]\n",
    "                        )\n",
    "\n",
    "polarity =  np.asarray(\n",
    "    [Foliations[Foliations[\"formation\"] == \"SimpleMafic2\"][\"polarity\"].as_matrix().astype(\"float32\"),\n",
    "     Foliations[Foliations[\"formation\"] == \"SimpleBIF\"][\"polarity\"].as_matrix().astype(\"float32\")]\n",
    "                        )\n",
    "\"\"\"\n",
    "dips = np.asarray(\n",
    "     Foliations[Foliations[\"formation\"] == \"SimpleBIF\"].as_matrix()[:,:3].astype(\"float32\")\n",
    "                )\n",
    "dips_angles = np.asarray(\n",
    "     Foliations[Foliations[\"formation\"] == \"SimpleBIF\"][\"dip\"].as_matrix().astype(\"float32\")\n",
    "                        )\n",
    "azimuths =  np.asarray(\n",
    "     Foliations[Foliations[\"formation\"] == \"SimpleBIF\"][\"azimuth\"].as_matrix().astype(\"float32\")\n",
    "                        )\n",
    "\n",
    "polarity =  np.asarray(\n",
    "     Foliations[Foliations[\"formation\"] == \"SimpleBIF\"][\"polarity\"].as_matrix().astype(\"float32\")\n",
    "                        )\n",
    "\n",
    "ref"
   ]
  },
  {
   "cell_type": "markdown",
   "metadata": {},
   "source": [
    "## Solving and Plotting"
   ]
  },
  {
   "cell_type": "code",
   "execution_count": 23,
   "metadata": {
    "collapsed": false
   },
   "outputs": [],
   "source": [
    "xmin = 696000\n",
    "xmax = 747000\n",
    "ymin = 6863000\n",
    "ymax = 6950000\n",
    "zmin = -20000\n",
    "zmax = 2000\n",
    "\"\"\"\n",
    "xmin = layers[0][:,0].min()\n",
    "xmax = layers[0][:,0].max()\n",
    "ymin = layers[0][:,1].min()\n",
    "ymax = layers[0][:,1].max()\n",
    "zmin = layers[0][:,2].min()\n",
    "zmax = layers[0][:,2].max()\n",
    "\"\"\"\n",
    "\n",
    "importlib.reload(GeoMig)\n",
    "interpolator = GeoMig.GeoMigSim_pro2(c_o = np.float32(1),range = np.sqrt((xmax-xmin)**2+(ymax-ymin)**2+(zmax-zmin)**2))\n",
    "\n",
    "\n",
    "nx = 50\n",
    "ny = 50\n",
    "nz = 50\n",
    "dx = (xmax-xmin)/nx\n",
    "dy = (ymax-ymin)/ny\n",
    "dz = (zmax-zmin)/nz\n",
    "\n",
    "#Genereting a regular grid\n",
    "interpolator.create_regular_grid_3D(xmin,xmax,ymin,ymax,zmin,zmax,nx,ny,nz)\n",
    "interpolator.theano_set_3D_nugget()"
   ]
  },
  {
   "cell_type": "code",
   "execution_count": 35,
   "metadata": {
    "collapsed": false
   },
   "outputs": [
    {
     "name": "stdout",
     "output_type": "stream",
     "text": [
      "\n",
      "[-1.25 -1.25]\n"
     ]
    }
   ],
   "source": [
    "val = interpolator.geoMigueller(dips,dips_angles,azimuths,polarity, rest, ref,\n",
    "                               0.1,-0.33333,1,0.85,1,1)[0]\n",
    "\n",
    "G_x, G_y, G_z = interpolator.geoMigueller(dips,dips_angles,azimuths,polarity, rest, ref,\n",
    "                                         0.1,-0.33333,1,0.85,1,1)[-3:]\n",
    "print()\n",
    "sol_early_granite = val.reshape(50,50,50,\n",
    "    order = \"C\")\n",
    "\n",
    "\n",
    "arg1,h1 = np.argmin((abs(interpolator.grid - ref[0])).sum(1)), val[np.argmin((abs(interpolator.grid - ref[0])).sum(1))]\n",
    "arg2, h2 =np.argmin((abs(interpolator.grid - ref[-1])).sum(1)), val[np.argmin((abs(interpolator.grid - ref[-1])).sum(1))]\n",
    "\n",
    "\n",
    "\n",
    "fig = plt.figure()\n",
    "ax = fig.add_subplot(111, projection='3d')\n",
    "\n",
    "cm = plt.get_cmap(\"jet\")\n",
    "cNorm = matplotlib.colors.Normalize(vmin=sol_early_granite.min(),\n",
    "                                    vmax=sol_early_granite.max())\n",
    "scalarMap = cmx.ScalarMappable(norm=cNorm, cmap=cm)\n",
    "\n",
    "isolines = np.linspace(sol_early_granite.min()+(sol_early_granite.max()-sol_early_granite.min())*0.01,\n",
    "                       sol_early_granite.max()-(sol_early_granite.max()-sol_early_granite.min())*0.01,\n",
    "                       3)\n",
    "\n",
    "isolines = np.linspace(h1,\n",
    "                       h2,\n",
    "                       2)\n",
    "print(isolines)\n",
    "\n",
    "for i in isolines[0:10]:\n",
    "    vertices = measure.marching_cubes(sol_early_granite, i, spacing = (dx,dy,dz),\n",
    "    gradient_direction = \"descent\")[0]\n",
    "\n",
    "    ax.plot_wireframe(vertices[::10,0]+xmin,vertices[::10,1]+ymin,zmin+vertices[::10,2],color=scalarMap.to_rgba(i),alpha = 0.2)\n",
    "    #color=scalarMap.to_rgba(vertices[::10,2])\n",
    "    \n",
    "ax.scatter(layers[0][:,0],layers[0][:,1],layers[0][:,2], s = 50, c = \"r\" )\n",
    "ax.scatter(layers[1][:,0],layers[1][:,1],layers[1][:,2], s = 50, c = \"yellow\" )\n",
    "ax.scatter(ref[0,0],ref[0,1],ref[0,2], s = 100, c = \"g\")\n",
    "\n",
    "\n",
    "ax.quiver3D(dips[:,0],dips[:,1],dips[:,2], G_x,G_y,G_z, pivot = \"tail\",  length = 400,\n",
    "            arrow_length_ratio = 0.01 )\n",
    "ax.set_xlabel(\"x\")\n",
    "ax.set_ylabel(\"y\")\n",
    "ax.set_zlabel(\"z\")\n",
    "ax.ticklabel_format(style='sci',  scilimits=(0,0))"
   ]
  },
  {
   "cell_type": "code",
   "execution_count": 34,
   "metadata": {
    "collapsed": true
   },
   "outputs": [],
   "source": [
    "ax.plot_trisurf?"
   ]
  },
  {
   "cell_type": "code",
   "execution_count": 82,
   "metadata": {
    "collapsed": false
   },
   "outputs": [
    {
     "data": {
      "text/plain": [
       "(3.0458457, 3.0458486, 3.0453672, 3.0469098)"
      ]
     },
     "execution_count": 82,
     "metadata": {},
     "output_type": "execute_result"
    }
   ],
   "source": [
    "h1,h2, sol_early_granite.min(), sol_early_granite.max()"
   ]
  },
  {
   "cell_type": "code",
   "execution_count": 21,
   "metadata": {
    "collapsed": false
   },
   "outputs": [
    {
     "data": {
      "text/plain": [
       "8.0420867858341905e-05"
      ]
     },
     "execution_count": 21,
     "metadata": {},
     "output_type": "execute_result"
    }
   ],
   "source": [
    "interpolator.geoMigueller(dips,dips_angles,azimuths,polarity, rest, ref,\n",
    "                               0.1,-0.33333,1,0.85,1,1)[2].max()"
   ]
  },
  {
   "cell_type": "code",
   "execution_count": 22,
   "metadata": {
    "collapsed": false
   },
   "outputs": [
    {
     "data": {
      "text/plain": [
       "4.4534946520081515e-05"
      ]
     },
     "execution_count": 22,
     "metadata": {},
     "output_type": "execute_result"
    }
   ],
   "source": [
    "interpolator.geoMigueller(dips,dips_angles,azimuths,polarity, rest, ref,\n",
    "                               0.1,-0.33333,1,0.85,1,1)[3].max()"
   ]
  },
  {
   "cell_type": "code",
   "execution_count": 25,
   "metadata": {
    "collapsed": false
   },
   "outputs": [
    {
     "data": {
      "text/plain": [
       "-1.2528119"
      ]
     },
     "execution_count": 25,
     "metadata": {},
     "output_type": "execute_result"
    }
   ],
   "source": [
    "interpolator.geoMigueller(dips,dips_angles,azimuths,polarity, rest, ref,\n",
    "                               0.1,-0.33333,1,0.85,1,1)[4].max()"
   ]
  },
  {
   "cell_type": "code",
   "execution_count": 36,
   "metadata": {
    "collapsed": false
   },
   "outputs": [
    {
     "data": {
      "text/plain": [
       "array([-1.81,  2.6 , -2.16, -0.  ,  1.03,  1.5 , -0.  ,  0.  ,  0.  ,  0.01,  0.  ,  0.  , -0.  , -0.  , -0.  , -0.  ,  0.01,\n",
       "        0.  ,  0.  , -0.  ,  0.  , -0.  , -0.  , -0.  ,  0.  , -0.  , -0.  , -0.01,  0.  ,  0.  , -0.  , -0.  , -0.  ,  0.  ,\n",
       "        0.  ,  0.  ,  0.  ,  0.  ,  0.  ], dtype=float32)"
      ]
     },
     "execution_count": 36,
     "metadata": {},
     "output_type": "execute_result"
    }
   ],
   "source": [
    "interpolator.geoMigueller(dips,dips_angles,azimuths,polarity, rest, ref,\n",
    "                               0.1,-0.33333,1,0.85,1,1)[1]"
   ]
  },
  {
   "cell_type": "code",
   "execution_count": null,
   "metadata": {
    "collapsed": true
   },
   "outputs": [],
   "source": [
    ""
   ]
  },
  {
   "cell_type": "code",
   "execution_count": null,
   "metadata": {
    "collapsed": true
   },
   "outputs": [],
   "source": [
    ""
   ]
  },
  {
   "cell_type": "code",
   "execution_count": 14,
   "metadata": {
    "collapsed": true
   },
   "outputs": [],
   "source": [
    "import matplotlib.pyplot as plt\n",
    "%matplotlib notebook\n",
    "G_x, G_y, G_z = test.geoMigueller(dips,dips_angles,azimuths,polarity, rest, ref,1,1,1,1,1,1)[-3:]\n",
    "\n",
    "#sol = test.geoMigueller(dips,dips_angles,azimuths,polarity, rest, ref,a,b,-3*b,d,1,-1)[2].reshape(20,20,20)\n",
    "def plot_this_crap(direction):\n",
    "    fig = plt.figure()\n",
    "    ax = fig.add_subplot(111)\n",
    " \n",
    "    if direction == \"x\":\n",
    "\n",
    "        plt.arrow(dip_pos_1[1],dip_pos_1[2], dip_pos_1_v[1]-dip_pos_1[1],\n",
    "                  dip_pos_1_v[2]-dip_pos_1[2], head_width = 0.2)\n",
    "        plt.arrow(dip_pos_2[1],dip_pos_2[2],dip_pos_2_v[1]-dip_pos_2[1], \n",
    "                  dip_pos_2_v[2]-dip_pos_2[2], head_width = 0.2)\n",
    "\n",
    "        plt.plot(layer_1[:,1],layer_1[:,2], \"o\")\n",
    "        plt.plot(layer_2[:,1],layer_2[:,2], \"o\")\n",
    "\n",
    "        plt.plot(layer_1[:,1],layer_1[:,2], )\n",
    "        plt.plot(layer_2[:,1],layer_2[:,2], )\n",
    "        plt.contour( sol[25,:,:] ,30,extent = (0,10,0,10) )\n",
    "\n",
    "    if direction == \"y\":\n",
    "\n",
    "        plt.quiver(dips[:,0],dips[:,2], G_x,G_z, pivot = \"tail\")\n",
    "\n",
    "        plt.plot(layer_1[:,0],layer_1[:,2], \"o\")\n",
    "        plt.plot(layer_2[:,0],layer_2[:,2], \"o\")\n",
    "\n",
    "        plt.plot(layer_1[:,0],layer_1[:,2], )\n",
    "        plt.plot(layer_2[:,0],layer_2[:,2], )\n",
    "        plt.contour( sol[:,10,:].T ,10,extent = (0,10,0,10) )\n",
    "\n",
    "    if direction == \"z\":\n",
    "\n",
    "        plt.arrow(dip_pos_1[0],dip_pos_1[1], dip_pos_1_v[0]-dip_pos_1[0],\n",
    "                  dip_pos_1_v[1]-dip_pos_1[1], head_width = 0.2)\n",
    "        plt.arrow(dip_pos_2[0],dip_pos_2[1],dip_pos_2_v[0]-dip_pos_2[0], \n",
    "                  dip_pos_2_v[1]-dip_pos_2[1], head_width = 0.2)\n",
    "\n",
    "        plt.plot(layer_1[:,0],layer_1[:,1], \"o\")\n",
    "        plt.plot(layer_2[:,0],layer_2[:,1], \"o\")\n",
    "\n",
    "        plt.plot(layer_1[:,0],layer_1[:,1], )\n",
    "        plt.plot(layer_2[:,0],layer_2[:,1], )\n",
    "        plt.contour( sol[:,:,25] ,30,extent = (0,10,0,10) )\n",
    "    \n",
    "    \n",
    "    \n",
    "#plt.colorbar()\n",
    "#plt.xlim(0,10)\n",
    "#plt.ylim(0,10)\n",
    "    plt.colorbar()\n",
    "    plt.title(\"GeoBulleter v 0.1\")"
   ]
  },
  {
   "cell_type": "code",
   "execution_count": null,
   "metadata": {
    "collapsed": true
   },
   "outputs": [],
   "source": [
    "plot_this_crap"
   ]
  },
  {
   "cell_type": "code",
   "execution_count": null,
   "metadata": {
    "collapsed": true
   },
   "outputs": [],
   "source": [
    ""
   ]
  },
  {
   "cell_type": "code",
   "execution_count": null,
   "metadata": {
    "collapsed": true
   },
   "outputs": [],
   "source": [
    ""
   ]
  },
  {
   "cell_type": "code",
   "execution_count": null,
   "metadata": {
    "collapsed": true
   },
   "outputs": [],
   "source": [
    ""
   ]
  },
  {
   "cell_type": "code",
   "execution_count": null,
   "metadata": {
    "collapsed": true
   },
   "outputs": [],
   "source": [
    ""
   ]
  },
  {
   "cell_type": "code",
   "execution_count": null,
   "metadata": {
    "collapsed": true
   },
   "outputs": [],
   "source": [
    ""
   ]
  },
  {
   "cell_type": "code",
   "execution_count": null,
   "metadata": {
    "collapsed": true
   },
   "outputs": [],
   "source": [
    ""
   ]
  },
  {
   "cell_type": "code",
   "execution_count": null,
   "metadata": {
    "collapsed": true
   },
   "outputs": [],
   "source": [
    ""
   ]
  },
  {
   "cell_type": "code",
   "execution_count": null,
   "metadata": {
    "collapsed": true
   },
   "outputs": [],
   "source": [
    ""
   ]
  },
  {
   "cell_type": "markdown",
   "metadata": {
    "collapsed": true
   },
   "source": [
    "# Export vtk"
   ]
  },
  {
   "cell_type": "code",
   "execution_count": 14,
   "metadata": {
    "collapsed": false
   },
   "outputs": [
    {
     "ename": "ImportError",
     "evalue": "No module named 'pyevtk'",
     "traceback": [
      "\u001b[1;31m---------------------------------------------------------------------------\u001b[0m",
      "\u001b[1;31mImportError\u001b[0m                               Traceback (most recent call last)",
      "\u001b[1;32m<ipython-input-14-8308869b7d0c>\u001b[0m in \u001b[0;36m<module>\u001b[1;34m()\u001b[0m\n\u001b[0;32m     19\u001b[0m \u001b[0mdely\u001b[0m \u001b[1;33m=\u001b[0m \u001b[1;36m0.2\u001b[0m\u001b[1;33m\u001b[0m\u001b[0m\n\u001b[0;32m     20\u001b[0m \u001b[0mdelz\u001b[0m \u001b[1;33m=\u001b[0m \u001b[1;36m0.2\u001b[0m\u001b[1;33m\u001b[0m\u001b[0m\n\u001b[1;32m---> 21\u001b[1;33m \u001b[1;32mfrom\u001b[0m \u001b[0mpyevtk\u001b[0m\u001b[1;33m.\u001b[0m\u001b[0mhl\u001b[0m \u001b[1;32mimport\u001b[0m \u001b[0mgridToVTK\u001b[0m\u001b[1;33m\u001b[0m\u001b[0m\n\u001b[0m\u001b[0;32m     22\u001b[0m \u001b[1;31m# Coordinates\u001b[0m\u001b[1;33m\u001b[0m\u001b[1;33m\u001b[0m\u001b[0m\n\u001b[0;32m     23\u001b[0m \u001b[0mx\u001b[0m \u001b[1;33m=\u001b[0m \u001b[0mnp\u001b[0m\u001b[1;33m.\u001b[0m\u001b[0marange\u001b[0m\u001b[1;33m(\u001b[0m\u001b[1;36m0\u001b[0m\u001b[1;33m,\u001b[0m \u001b[0mextent_x\u001b[0m \u001b[1;33m+\u001b[0m \u001b[1;36m0.1\u001b[0m\u001b[1;33m*\u001b[0m\u001b[0mdelx\u001b[0m\u001b[1;33m,\u001b[0m \u001b[0mdelx\u001b[0m\u001b[1;33m,\u001b[0m \u001b[0mdtype\u001b[0m\u001b[1;33m=\u001b[0m\u001b[1;34m'float64'\u001b[0m\u001b[1;33m)\u001b[0m\u001b[1;33m\u001b[0m\u001b[0m\n",
      "\u001b[1;31mImportError\u001b[0m: No module named 'pyevtk'"
     ],
     "output_type": "error"
    }
   ],
   "source": [
    "\"\"\"Export model to VTK\n",
    "\n",
    "Export the geology blocks to VTK for visualisation of the entire 3-D model in an\n",
    "external VTK viewer, e.g. Paraview.\n",
    "\n",
    "..Note:: Requires pyevtk, available for free on: https://github.com/firedrakeproject/firedrake/tree/master/python/evtk\n",
    "\n",
    "**Optional keywords**:\n",
    "    - *vtk_filename* = string : filename of VTK file (default: output_name)\n",
    "    - *data* = np.array : data array to export to VKT (default: entire block model)\n",
    "\"\"\"\n",
    "vtk_filename = \"noddyFunct2\"\n",
    "\n",
    "extent_x = 10\n",
    "extent_y = 10\n",
    "extent_z = 10\n",
    "\n",
    "delx = 0.2\n",
    "dely = 0.2\n",
    "delz = 0.2\n",
    "from pyevtk.hl import gridToVTK\n",
    "# Coordinates\n",
    "x = np.arange(0, extent_x + 0.1*delx, delx, dtype='float64')\n",
    "y = np.arange(0, extent_y + 0.1*dely, dely, dtype='float64')\n",
    "z = np.arange(0, extent_z + 0.1*delz, delz, dtype='float64')\n",
    "\n",
    "# self.block = np.swapaxes(self.block, 0, 2)\n",
    "\n",
    "\n",
    "gridToVTK(vtk_filename, x, y, z, cellData = {\"geology\" : sol})"
   ]
  },
  {
   "cell_type": "code",
   "execution_count": null,
   "metadata": {
    "collapsed": true
   },
   "outputs": [],
   "source": [
    ""
   ]
  },
  {
   "cell_type": "code",
   "execution_count": null,
   "metadata": {
    "collapsed": true
   },
   "outputs": [],
   "source": [
    ""
   ]
  },
  {
   "cell_type": "code",
   "execution_count": null,
   "metadata": {
    "collapsed": true
   },
   "outputs": [],
   "source": [
    ""
   ]
  },
  {
   "cell_type": "markdown",
   "metadata": {
    "collapsed": true
   },
   "source": [
    "# Performance Analysis"
   ]
  },
  {
   "cell_type": "markdown",
   "metadata": {},
   "source": [
    "# CPU"
   ]
  },
  {
   "cell_type": "code",
   "execution_count": 32,
   "metadata": {
    "collapsed": false
   },
   "outputs": [
    {
     "name": "stdout",
     "output_type": "stream",
     "text": [
      "10 loops, best of 3: 46.8 ms per loop\n"
     ]
    }
   ],
   "source": [
    "%%timeit\n",
    "sol =  interpolator.geoMigueller(dips,dips_angles,azimuths,polarity, rest, ref)[0]"
   ]
  },
  {
   "cell_type": "code",
   "execution_count": 17,
   "metadata": {
    "collapsed": false
   },
   "outputs": [
    {
     "name": "stderr",
     "output_type": "stream",
     "text": [
      "Function profiling\n",
      "==================\n",
      "  Message: /home/miguel/PycharmProjects/GeMpy/GeoMig.py:1313\n",
      "  Time in 44 calls to Function.__call__: 8.266213e-01s\n",
      "  Time in Function.fn.__call__: 8.231266e-01s (99.577%)\n",
      "  Time in thunks: 8.101749e-01s (98.010%)\n",
      "  Total compile time: 2.099230e+00s\n",
      "    Number of Apply nodes: 205\n",
      "    Theano Optimizer time: 1.619022e+00s\n",
      "       Theano validate time: 5.564022e-02s\n",
      "    Theano Linker time (includes C, CUDA code generation/compiling): 1.830056e-01s\n",
      "       Import time 4.438877e-02s\n",
      "\n",
      "Time in all call to theano.grad() 0.000000e+00s\n",
      "Time since theano import 19.954s\n",
      "Class\n",
      "---\n",
      "<% time> <sum %> <apply time> <time per call> <type> <#call> <#apply> <Class name>\n",
      "  65.5%    65.5%       0.531s       2.36e-04s     C     2244      51   theano.tensor.elemwise.Elemwise\n",
      "  10.7%    76.2%       0.087s       1.97e-03s     Py      44       1   theano.tensor.nlinalg.MatrixInverse\n",
      "   9.5%    85.7%       0.077s       1.74e-04s     C      440      10   theano.tensor.blas.Dot22Scalar\n",
      "   5.8%    91.5%       0.047s       1.52e-04s     C      308       7   theano.tensor.elemwise.Sum\n",
      "   4.6%    96.1%       0.037s       9.36e-05s     C      396       9   theano.tensor.basic.Alloc\n",
      "   2.8%    98.8%       0.023s       8.54e-05s     C      264       6   theano.tensor.basic.Join\n",
      "   0.4%    99.3%       0.004s       2.05e-06s     C     1716      39   theano.tensor.elemwise.DimShuffle\n",
      "   0.2%    99.5%       0.002s       2.53e-06s     C      660      15   theano.tensor.subtensor.IncSubtensor\n",
      "   0.1%    99.6%       0.001s       1.03e-06s     C     1056      24   theano.tensor.basic.Reshape\n",
      "   0.1%    99.7%       0.001s       2.43e-05s     Py      44       1   theano.tensor.extra_ops.FillDiagonal\n",
      "   0.1%    99.8%       0.001s       1.14e-06s     C      660      15   theano.tensor.subtensor.Subtensor\n",
      "   0.1%    99.9%       0.001s       9.05e-07s     C      572      13   theano.tensor.opt.MakeVector\n",
      "   0.0%    99.9%       0.000s       6.72e-06s     C       44       1   theano.tensor.blas_c.CGemv\n",
      "   0.0%   100.0%       0.000s       7.24e-07s     C      264       6   theano.compile.ops.Shape_i\n",
      "   0.0%   100.0%       0.000s       6.23e-07s     C      220       5   theano.tensor.basic.ScalarFromTensor\n",
      "   0.0%   100.0%       0.000s       2.42e-06s     C       44       1   theano.compile.ops.DeepCopyOp\n",
      "   0.0%   100.0%       0.000s       8.67e-07s     C       44       1   theano.tensor.basic.AllocEmpty\n",
      "   ... (remaining 0 Classes account for   0.00%(0.00s) of the runtime)\n",
      "\n",
      "Ops\n",
      "---\n",
      "<% time> <sum %> <apply time> <time per call> <type> <#call> <#apply> <Op name>\n",
      "  30.4%    30.4%       0.246s       5.59e-03s     C       44        1   Elemwise{Composite{(i0 * i1 * LT(Composite{Cast{float32}(sqrt(((i0 + i1) - i2)))}(i2, i3, i4), i5) * Composite{(sqr(i0) * i0)}((i5 - Composite{Cast{float32}(sqrt(((i0 + i1) - i2)))}(i2, i3, i4))) * ((i6 * sqr(Composite{Cast{float32}(sqrt(((i0 + i1) - i2)))}(i2, i3, i4))) + i7 + (i8 * i5 * Composite{Cast{float32}(sqrt(((i0 + i1) - i2)))}(i2, i3, i4))))}}[(0, 1)]\n",
      "  27.9%    58.3%       0.226s       5.14e-03s     C       44        1   Elemwise{Composite{(i0 * ((LT(Composite{Cast{float32}(sqrt(((i0 + i1) - i2)))}(i1, i2, i3), i4) * ((i5 + (i6 * Composite{(sqr(i0) * i0)}((Composite{Cast{float32}(sqrt(((i0 + i1) - i2)))}(i1, i2, i3) / i4))) + (i7 * Composite{((sqr(sqr(i0)) * sqr(i0)) * i0)}((Composite{Cast{float32}(sqrt(((i0 + i1) - i2)))}(i1, i2, i3) / i4)))) - ((i8 * sqr((Composite{Cast{float32}(sqrt(((i0 + i1) - i2)))}(i1, i2, i3) / i4))) + (i9 * Composite{(sqr(sqr(i0)\n",
      "  10.7%    69.0%       0.087s       1.97e-03s     Py      44        1   MatrixInverse\n",
      "   9.5%    78.5%       0.077s       1.74e-04s     C      440       10   Dot22Scalar\n",
      "   5.7%    84.2%       0.046s       3.47e-04s     C      132        3   Sum{axis=[0], acc_dtype=float64}\n",
      "   5.0%    89.1%       0.040s       6.08e-05s     C      660       15   Elemwise{sub,no_inplace}\n",
      "   4.6%    93.7%       0.037s       9.36e-05s     C      396        9   Alloc\n",
      "   2.8%    96.5%       0.023s       8.54e-05s     C      264        6   Join\n",
      "   0.8%    97.3%       0.006s       4.87e-05s     C      132        3   Elemwise{mul,no_inplace}\n",
      "   0.4%    97.6%       0.003s       6.91e-05s     C       44        1   Elemwise{Composite{Switch(EQ(i0, i1), i1, ((i2 * i3 * i4 * (((i5 * LT(i0, i6) * Composite{(sqr((i0 - i1)) * (i0 - i1))}(i6, i0) * Composite{((i0 * i1) + i2 + (i3 * i4 * i5))}(i7, sqr(i0), i8, i9, i6, i0)) / (i10 * sqr(i0))) - ((i11 * LT(i0, i6) * (((i12 - (i0 * i13 * i14)) + (Composite{(sqr(i0) * i0)}(i0) * i15 * i16)) - (i9 * Composite{(sqr(sqr(i0)) * i0)}(i0)))) / (i10 * sqr(i0))))) + ((i5 * i17 * LT(i0, i6) * Composite{(sqr((i0 - i1)) \n",
      "   0.3%    98.0%       0.003s       6.56e-06s     C      396        9   InplaceDimShuffle{x,0}\n",
      "   0.2%    98.1%       0.002s       3.44e-05s     C       44        1   Elemwise{Composite{(((i0 * i1 * LT(Composite{Cast{float32}(sqrt(((i0 + i1) - i2)))}(i2, i3, i4), i5) * Composite{(sqr(i0) * i0)}((i5 - Composite{Cast{float32}(sqrt(((i0 + i1) - i2)))}(i2, i3, i4))) * ((i6 * sqr(Composite{Cast{float32}(sqrt(((i0 + i1) - i2)))}(i2, i3, i4))) + i7 + (i8 * i5 * Composite{Cast{float32}(sqrt(((i0 + i1) - i2)))}(i2, i3, i4)))) / i9) - ((i0 * i10 * LT(Composite{Cast{float32}(sqrt(((i0 + i1) - i2)))}(i2, i11, i12)\n",
      "   0.2%    98.3%       0.001s       3.03e-05s     C       44        1   Elemwise{Composite{((((LT(Composite{Cast{float32}(sqrt(((i0 + i1) - i2)))}(i0, i1, i2), i3) * ((i4 + (i5 * Composite{(sqr(i0) * i0)}((Composite{Cast{float32}(sqrt(((i0 + i1) - i2)))}(i0, i1, i2) / i3))) + (i6 * Composite{((sqr(sqr(i0)) * sqr(i0)) * i0)}((Composite{Cast{float32}(sqrt(((i0 + i1) - i2)))}(i0, i1, i2) / i3)))) - ((i7 * sqr((Composite{Cast{float32}(sqrt(((i0 + i1) - i2)))}(i0, i1, i2) / i3))) + (i8 * Composite{(sqr(sqr(i0)) * \n",
      "   0.2%    98.5%       0.001s       2.91e-05s     C       44        1   Elemwise{Composite{Cast{float32}(sqrt(((i0 + i1) - i2)))}}\n",
      "   0.2%    98.6%       0.001s       6.94e-06s     C      176        4   Elemwise{Cast{float64}}\n",
      "   0.1%    98.8%       0.001s       6.85e-06s     C      176        4   Elemwise{Sqr}[(0, 0)]\n",
      "   0.1%    98.9%       0.001s       3.65e-06s     C      308        7   IncSubtensor{InplaceSet;int64:int64:, int64:int64:}\n",
      "   0.1%    99.0%       0.001s       6.21e-06s     C      176        4   Sum{axis=[1], acc_dtype=float64}\n",
      "   0.1%    99.2%       0.001s       1.03e-06s     C     1056       24   Reshape{2}\n",
      "   0.1%    99.3%       0.001s       2.43e-05s     Py      44        1   FillDiagonal\n",
      "   ... (remaining 41 Ops account for   0.70%(0.01s) of the runtime)\n",
      "\n",
      "Apply\n",
      "------\n",
      "<% time> <sum %> <apply time> <time per call> <#call> <id> <Apply name>\n",
      "  30.4%    30.4%       0.246s       5.59e-03s     44   199   Elemwise{Composite{(i0 * i1 * LT(Composite{Cast{float32}(sqrt(((i0 + i1) - i2)))}(i2, i3, i4), i5) * Composite{(sqr(i0) * i0)}((i5 - Composite{Cast{float32}(sqrt(((i0 + i1) - i2)))}(i2, i3, i4))) * ((i6 * sqr(Composite{Cast{float32}(sqrt(((i0 + i1) - i2)))}(i2, i3, i4))) + i7 + (i8 * i5 * Composite{Cast{float32}(sqrt(((i0 + i1) - i2)))}(i2, i3, i4))))}}[(0, 1)](Subtensor{:int64:}.0, Join.0, Reshape{2}.0, Reshape{2}.0, Dot22Scalar.0, InplaceDimShuffl\n",
      "  27.9%    58.3%       0.226s       5.14e-03s     44   200   Elemwise{Composite{(i0 * ((LT(Composite{Cast{float32}(sqrt(((i0 + i1) - i2)))}(i1, i2, i3), i4) * ((i5 + (i6 * Composite{(sqr(i0) * i0)}((Composite{Cast{float32}(sqrt(((i0 + i1) - i2)))}(i1, i2, i3) / i4))) + (i7 * Composite{((sqr(sqr(i0)) * sqr(i0)) * i0)}((Composite{Cast{float32}(sqrt(((i0 + i1) - i2)))}(i1, i2, i3) / i4)))) - ((i8 * sqr((Composite{Cast{float32}(sqrt(((i0 + i1) - i2)))}(i1, i2, i3) / i4))) + (i9 * Composite{(sqr(sqr(i0)) * i0)}((C\n",
      "  10.7%    69.0%       0.087s       1.97e-03s     44   189   MatrixInverse(IncSubtensor{InplaceSet;int64::, int64:int64:}.0)\n",
      "   5.8%    74.8%       0.047s       1.07e-03s     44   143   Dot22Scalar(Elemwise{Cast{float64}}.0, InplaceDimShuffle{1,0}.0, TensorConstant{2.0})\n",
      "   4.3%    79.1%       0.035s       7.87e-04s     44   191   Alloc(CGemv{inplace}.0, Shape_i{0}.0, TensorConstant{1}, TensorConstant{1}, Elemwise{add,no_inplace}.0)\n",
      "   4.0%    83.1%       0.032s       7.35e-04s     44   202   Sum{axis=[0], acc_dtype=float64}(Elemwise{Composite{(i0 * i1 * LT(Composite{Cast{float32}(sqrt(((i0 + i1) - i2)))}(i2, i3, i4), i5) * Composite{(sqr(i0) * i0)}((i5 - Composite{Cast{float32}(sqrt(((i0 + i1) - i2)))}(i2, i3, i4))) * ((i6 * sqr(Composite{Cast{float32}(sqrt(((i0 + i1) - i2)))}(i2, i3, i4))) + i7 + (i8 * i5 * Composite{Cast{float32}(sqrt(((i0 + i1) - i2)))}(i2, i3, i4))))}}[(0, 1)].0)\n",
      "   2.6%    85.7%       0.021s       4.84e-04s     44   145   Join(TensorConstant{0}, Elemwise{sub,no_inplace}.0, Elemwise{sub,no_inplace}.0, Elemwise{sub,no_inplace}.0)\n",
      "   1.7%    87.5%       0.014s       3.17e-04s     44    86   Dot22Scalar(Elemwise{Cast{float64}}.0, InplaceDimShuffle{1,0}.0, TensorConstant{2.0})\n",
      "   1.7%    89.1%       0.014s       3.09e-04s     44   130   Elemwise{sub,no_inplace}(InplaceDimShuffle{0,x}.0, InplaceDimShuffle{1,0}.0)\n",
      "   1.6%    90.8%       0.013s       3.02e-04s     44   129   Elemwise{sub,no_inplace}(InplaceDimShuffle{0,x}.0, InplaceDimShuffle{1,0}.0)\n",
      "   1.5%    92.3%       0.012s       2.83e-04s     44   131   Elemwise{sub,no_inplace}(InplaceDimShuffle{0,x}.0, InplaceDimShuffle{1,0}.0)\n",
      "   1.4%    93.7%       0.011s       2.58e-04s     44   203   Sum{axis=[0], acc_dtype=float64}(Elemwise{Composite{(i0 * ((LT(Composite{Cast{float32}(sqrt(((i0 + i1) - i2)))}(i1, i2, i3), i4) * ((i5 + (i6 * Composite{(sqr(i0) * i0)}((Composite{Cast{float32}(sqrt(((i0 + i1) - i2)))}(i1, i2, i3) / i4))) + (i7 * Composite{((sqr(sqr(i0)) * sqr(i0)) * i0)}((Composite{Cast{float32}(sqrt(((i0 + i1) - i2)))}(i1, i2, i3) / i4)))) - ((i8 * sqr((Composite{Cast{float32}(sqrt(((i0 + i1) - i2)))}(i1, i2, i3) / i4))) + (i9 * \n",
      "   1.4%    95.1%       0.011s       2.58e-04s     44    85   Dot22Scalar(Elemwise{Cast{float64}}.0, InplaceDimShuffle{1,0}.0, TensorConstant{2.0})\n",
      "   0.8%    95.9%       0.006s       1.43e-04s     44   198   Elemwise{mul,no_inplace}(Subtensor{int64::}.0, Positions of the points to interpolate.T)\n",
      "   0.4%    96.3%       0.003s       6.91e-05s     44   178   Elemwise{Composite{Switch(EQ(i0, i1), i1, ((i2 * i3 * i4 * (((i5 * LT(i0, i6) * Composite{(sqr((i0 - i1)) * (i0 - i1))}(i6, i0) * Composite{((i0 * i1) + i2 + (i3 * i4 * i5))}(i7, sqr(i0), i8, i9, i6, i0)) / (i10 * sqr(i0))) - ((i11 * LT(i0, i6) * (((i12 - (i0 * i13 * i14)) + (Composite{(sqr(i0) * i0)}(i0) * i15 * i16)) - (i9 * Composite{(sqr(sqr(i0)) * i0)}(i0)))) / (i10 * sqr(i0))))) + ((i5 * i17 * LT(i0, i6) * Composite{(sqr((i0 - i1)) * (i0 - i1)\n",
      "   0.3%    96.6%       0.003s       5.74e-05s     44   140   Dot22Scalar(Elemwise{Cast{float64}}.0, InplaceDimShuffle{1,0}.0, TensorConstant{2.0})\n",
      "   0.3%    96.9%       0.002s       5.49e-05s     44    53   InplaceDimShuffle{x,0}(Subtensor{::, int64}.0)\n",
      "   0.3%    97.1%       0.002s       4.80e-05s     44   201   Sum{axis=[0], acc_dtype=float64}(Elemwise{mul,no_inplace}.0)\n",
      "   0.2%    97.3%       0.002s       3.44e-05s     44   175   Elemwise{Composite{(((i0 * i1 * LT(Composite{Cast{float32}(sqrt(((i0 + i1) - i2)))}(i2, i3, i4), i5) * Composite{(sqr(i0) * i0)}((i5 - Composite{Cast{float32}(sqrt(((i0 + i1) - i2)))}(i2, i3, i4))) * ((i6 * sqr(Composite{Cast{float32}(sqrt(((i0 + i1) - i2)))}(i2, i3, i4))) + i7 + (i8 * i5 * Composite{Cast{float32}(sqrt(((i0 + i1) - i2)))}(i2, i3, i4)))) / i9) - ((i0 * i10 * LT(Composite{Cast{float32}(sqrt(((i0 + i1) - i2)))}(i2, i11, i12), i5) * Com\n",
      "   0.2%    97.5%       0.001s       3.03e-05s     44   172   Elemwise{Composite{((((LT(Composite{Cast{float32}(sqrt(((i0 + i1) - i2)))}(i0, i1, i2), i3) * ((i4 + (i5 * Composite{(sqr(i0) * i0)}((Composite{Cast{float32}(sqrt(((i0 + i1) - i2)))}(i0, i1, i2) / i3))) + (i6 * Composite{((sqr(sqr(i0)) * sqr(i0)) * i0)}((Composite{Cast{float32}(sqrt(((i0 + i1) - i2)))}(i0, i1, i2) / i3)))) - ((i7 * sqr((Composite{Cast{float32}(sqrt(((i0 + i1) - i2)))}(i0, i1, i2) / i3))) + (i8 * Composite{(sqr(sqr(i0)) * i0)}((Compo\n",
      "   ... (remaining 185 Apply instances account for 2.51%(0.02s) of the runtime)\n",
      "\n",
      "Here are tips to potentially make your code run faster\n",
      "                 (if you think of new ones, suggest them on the mailing list).\n",
      "                 Test them first, as they are not guaranteed to always provide a speedup.\n",
      "We don't know if amdlibm will accelerate this scalar op. deg2rad\n",
      "We don't know if amdlibm will accelerate this scalar op. deg2rad\n",
      "  - Try installing amdlibm and set the Theano flag lib.amdlibm=True. This speeds up only some Elemwise operation.\n"
     ]
    }
   ],
   "source": [
    "interpolator.geoMigueller.profile.summary()"
   ]
  },
  {
   "cell_type": "code",
   "execution_count": null,
   "metadata": {
    "collapsed": true
   },
   "outputs": [],
   "source": [
    ""
   ]
  },
  {
   "cell_type": "code",
   "execution_count": 23,
   "metadata": {
    "collapsed": false,
    "scrolled": true
   },
   "outputs": [
    {
     "name": "stdout",
     "output_type": "stream",
     "text": [
      "51 [ 1.   1.2  1.2  1.2  1.2  1.2  1.2  1.2  1.2  1.2  1.2  1.2  1.2  1.2  1.2  1.2  1.2  1.2  1.2  1.2  1.2  1.2  1.2  1.2  1.2  1.2\n",
      "  1.2  1.2  1.2  1.2  1.2  1.2  1.2  1.2  1.2  1.2  1.2  1.2  1.2  1.2  1.2  1.2  1.2  1.2  1.2  1.2  1.2  1.2  1.2  1.2  1.2]\n"
     ]
    },
    {
     "data": {
      "text/plain": [
       "'/home/bl3/PycharmProjects/GeMpy/GeoMigueller.vtr'"
      ]
     },
     "execution_count": 23,
     "metadata": {},
     "output_type": "execute_result"
    }
   ],
   "source": [
    "sys.path.append(\"/home/bl3/anaconda3/lib/python3.5/site-packages/PyEVTK-1.0.0-py3.5.egg_FILES/pyevtk\")\n",
    "nx = 50\n",
    "ny = 50\n",
    "nz = 50\n",
    "\n",
    "xmin = 1\n",
    "ymin = 1\n",
    "zmin = 1\n",
    "grid =  sol\n",
    "var_name = \"Geology\"\n",
    "#from evtk.hl import gridToVTK\n",
    "import pyevtk\n",
    "from pyevtk.hl import gridToVTK\n",
    "\n",
    "# define coordinates\n",
    "x = np.zeros(nx + 1)\n",
    "y = np.zeros(ny + 1)\n",
    "z = np.zeros(nz + 1)\n",
    "x[1:] = np.cumsum(delx)\n",
    "y[1:] = np.cumsum(dely)\n",
    "z[1:] = np.cumsum(delz)\n",
    "\n",
    "\n",
    "\n",
    "# plot in coordinates\n",
    "x += xmin\n",
    "y += ymin\n",
    "z += zmin\n",
    "\n",
    "print (len(x), x)\n",
    "gridToVTK(\"GeoMigueller\", x, y, z,\n",
    "          cellData = {var_name: grid})"
   ]
  },
  {
   "cell_type": "markdown",
   "metadata": {},
   "source": [
    "## GPU"
   ]
  },
  {
   "cell_type": "code",
   "execution_count": 23,
   "metadata": {
    "collapsed": false
   },
   "outputs": [
    {
     "name": "stderr",
     "output_type": "stream",
     "text": [
      "/home/miguel/anaconda3/lib/python3.5/site-packages/ipykernel/__main__.py:1: DeprecationWarning: stack(*tensors) interface is deprecated, use stack(tensors, axis=0) instead.\n",
      "  if __name__ == '__main__':\n"
     ]
    }
   ],
   "source": [
    "interpolator.theano_set_3D()"
   ]
  },
  {
   "cell_type": "code",
   "execution_count": 26,
   "metadata": {
    "collapsed": false
   },
   "outputs": [
    {
     "name": "stdout",
     "output_type": "stream",
     "text": [
      "10 loops, best of 3: 15 ms per loop\n"
     ]
    }
   ],
   "source": [
    "%%timeit\n",
    "sol =  interpolator.geoMigueller(dips,dips_angles,azimuths,polarity, rest, ref)[0].reshape(20,20,20, order = \"C\")"
   ]
  },
  {
   "cell_type": "code",
   "execution_count": 27,
   "metadata": {
    "collapsed": false
   },
   "outputs": [
    {
     "name": "stderr",
     "output_type": "stream",
     "text": [
      "Function profiling\n",
      "==================\n",
      "  Message: /home/miguel/PycharmProjects/GeMpy/GeoMig.py:1313\n",
      "  Time in 42 calls to Function.__call__: 7.134078e-01s\n",
      "  Time in Function.fn.__call__: 7.101927e-01s (99.549%)\n",
      "  Time in thunks: 5.815070e-01s (81.511%)\n",
      "  Total compile time: 2.534589e+00s\n",
      "    Number of Apply nodes: 290\n",
      "    Theano Optimizer time: 2.050112e+00s\n",
      "       Theano validate time: 1.564834e-01s\n",
      "    Theano Linker time (includes C, CUDA code generation/compiling): 4.177537e-01s\n",
      "       Import time 0.000000e+00s\n",
      "\n",
      "Time in all call to theano.grad() 0.000000e+00s\n",
      "Time since theano import 360.828s\n",
      "Class\n",
      "---\n",
      "<% time> <sum %> <apply time> <time per call> <type> <#call> <#apply> <Class name>\n",
      "  37.6%    37.6%       0.219s       1.93e-04s     C     1134      27   theano.tensor.elemwise.Elemwise\n",
      "  16.2%    53.8%       0.094s       3.12e-05s     C     3024      72   theano.sandbox.cuda.basic_ops.GpuElemwise\n",
      "  13.5%    67.3%       0.079s       1.87e-04s     C      420      10   theano.tensor.blas.Dot22Scalar\n",
      "   9.5%    76.9%       0.056s       6.01e-05s     C      924      22   theano.sandbox.cuda.basic_ops.GpuFromHost\n",
      "   6.3%    83.2%       0.037s       8.70e-04s     Py      42       1   theano.tensor.nlinalg.MatrixInverse\n",
      "   3.9%    87.0%       0.022s       3.57e-05s     C      630      15   theano.sandbox.cuda.basic_ops.GpuIncSubtensor\n",
      "   3.8%    90.8%       0.022s       7.45e-05s     C      294       7   theano.sandbox.cuda.basic_ops.GpuAlloc\n",
      "   3.2%    94.0%       0.018s       7.32e-05s     C      252       6   theano.sandbox.cuda.basic_ops.GpuJoin\n",
      "   2.5%    96.5%       0.015s       3.89e-05s     C      378       9   theano.sandbox.cuda.basic_ops.HostFromGpu\n",
      "   1.6%    98.1%       0.009s       1.32e-05s     C      714      17   theano.sandbox.cuda.basic_ops.GpuReshape\n",
      "   0.4%    98.5%       0.002s       1.90e-05s     C      126       3   theano.sandbox.cuda.basic_ops.GpuCAReduce\n",
      "   0.2%    98.8%       0.001s       9.42e-07s     C     1470      35   theano.sandbox.cuda.basic_ops.GpuDimShuffle\n",
      "   0.2%    99.0%       0.001s       2.85e-05s     Py      42       1   theano.tensor.extra_ops.FillDiagonal\n",
      "   0.2%    99.1%       0.001s       6.17e-06s     C      168       4   theano.tensor.elemwise.Sum\n",
      "   0.2%    99.3%       0.001s       1.60e-06s     C      630      15   theano.sandbox.cuda.basic_ops.GpuSubtensor\n",
      "   0.1%    99.5%       0.001s       3.29e-06s     C      252       6   theano.tensor.subtensor.IncSubtensor\n",
      "   0.1%    99.6%       0.001s       1.77e-05s     C       42       1   theano.sandbox.cuda.basic_ops.GpuAllocEmpty\n",
      "   0.1%    99.7%       0.001s       9.17e-07s     C      546      13   theano.tensor.opt.MakeVector\n",
      "   0.1%    99.8%       0.000s       5.26e-06s     C       84       2   theano.tensor.basic.Alloc\n",
      "   0.1%    99.8%       0.000s       2.10e-06s     C      168       4   theano.tensor.elemwise.DimShuffle\n",
      "   ... (remaining 5 Classes account for   0.19%(0.00s) of the runtime)\n",
      "\n",
      "Ops\n",
      "---\n",
      "<% time> <sum %> <apply time> <time per call> <type> <#call> <#apply> <Op name>\n",
      "  37.2%    37.2%       0.216s       5.15e-04s     C      420       10   Elemwise{Composite{Cast{float32}(sqrt(((i0 + i1) - i2)))}}\n",
      "  13.5%    50.7%       0.079s       1.87e-04s     C      420       10   Dot22Scalar\n",
      "   9.5%    60.2%       0.056s       6.01e-05s     C      924       22   GpuFromHost\n",
      "   6.4%    66.6%       0.037s       6.32e-05s     C      588       14   GpuElemwise{sub,no_inplace}\n",
      "   6.3%    72.9%       0.037s       8.70e-04s     Py      42        1   MatrixInverse\n",
      "   3.5%    76.4%       0.020s       9.64e-05s     C      210        5   GpuAlloc\n",
      "   3.2%    79.6%       0.018s       7.32e-05s     C      252        6   GpuJoin\n",
      "   3.1%    82.7%       0.018s       4.29e-05s     C      420       10   GpuElemwise{Composite{Cast{float32}(LT(i0, i1))},no_inplace}\n",
      "   3.0%    85.7%       0.018s       5.22e-05s     C      336        8   GpuElemwise{Composite{(i0 * (i1 ** i2))},no_inplace}\n",
      "   2.5%    88.2%       0.015s       3.89e-05s     C      378        9   HostFromGpu\n",
      "   2.2%    90.3%       0.013s       4.27e-05s     C      294        7   GpuIncSubtensor{InplaceSet;int64:int64:, int64:int64:}\n",
      "   1.6%    92.0%       0.009s       1.32e-05s     C      714       17   GpuReshape{2}\n",
      "   1.3%    93.3%       0.007s       8.91e-05s     C       84        2   GpuElemwise{Composite{(i0 * sqr(i1))},no_inplace}\n",
      "   0.6%    93.8%       0.003s       3.85e-05s     C       84        2   GpuIncSubtensor{InplaceSet;int64::, int64:int64:}\n",
      "   0.5%    94.4%       0.003s       3.76e-05s     C       84        2   GpuIncSubtensor{InplaceSet;int64:int64:, int64::}\n",
      "   0.4%    94.8%       0.002s       1.90e-05s     C      126        3   GpuCAReduce{add}{1,0}\n",
      "   0.4%    95.1%       0.002s       2.45e-05s     C       84        2   GpuIncSubtensor{InplaceSet;int64:int64:, int64}\n",
      "   0.3%    95.4%       0.002s       1.96e-05s     C       84        2   GpuAlloc{memset_0=True}\n",
      "   0.2%    95.6%       0.001s       2.86e-05s     C       42        1   GpuIncSubtensor{InplaceSet;:int64:, int64}\n",
      "   0.2%    95.8%       0.001s       2.85e-05s     Py      42        1   FillDiagonal\n",
      "   ... (remaining 67 Ops account for   4.19%(0.02s) of the runtime)\n",
      "\n",
      "Apply\n",
      "------\n",
      "<% time> <sum %> <apply time> <time per call> <#call> <id> <Apply name>\n",
      "  22.8%    22.8%       0.133s       3.16e-03s     42   205   Elemwise{Composite{Cast{float32}(sqrt(((i0 + i1) - i2)))}}(Reshape{2}.0, Reshape{2}.0, Dot22Scalar.0)\n",
      "   7.9%    30.7%       0.046s       1.09e-03s     42   162   Dot22Scalar(Elemwise{Cast{float64}}.0, InplaceDimShuffle{1,0}.0, TensorConstant{2.0})\n",
      "   6.9%    37.6%       0.040s       9.60e-04s     42   197   Elemwise{Composite{Cast{float32}(sqrt(((i0 + i1) - i2)))}}(Reshape{2}.0, Reshape{2}.0, Dot22Scalar.0)\n",
      "   6.9%    44.5%       0.040s       9.55e-04s     42   198   Elemwise{Composite{Cast{float32}(sqrt(((i0 + i1) - i2)))}}(Reshape{2}.0, Reshape{2}.0, Dot22Scalar.0)\n",
      "   6.3%    50.8%       0.037s       8.70e-04s     42   271   MatrixInverse(HostFromGpu.0)\n",
      "   3.0%    53.8%       0.018s       4.20e-04s     42   115   Dot22Scalar(Elemwise{Cast{float64}}.0, InplaceDimShuffle{1,0}.0, TensorConstant{2.0})\n",
      "   2.9%    56.7%       0.017s       3.97e-04s     42   215   GpuFromHost(Elemwise{Composite{Cast{float32}(sqrt(((i0 + i1) - i2)))}}.0)\n",
      "   2.6%    59.3%       0.015s       3.56e-04s     42   207   GpuFromHost(Elemwise{Composite{Cast{float32}(sqrt(((i0 + i1) - i2)))}}.0)\n",
      "   2.0%    61.3%       0.012s       2.83e-04s     42   114   Dot22Scalar(Elemwise{Cast{float64}}.0, InplaceDimShuffle{1,0}.0, TensorConstant{2.0})\n",
      "   1.5%    62.8%       0.009s       2.04e-04s     42   275   GpuAlloc(GpuGemv{inplace}.0, Shape_i{0}.0, TensorConstant{1}, TensorConstant{1}, Elemwise{add,no_inplace}.0)\n",
      "   1.2%    64.0%       0.007s       1.61e-04s     42   208   GpuFromHost(Elemwise{Composite{Cast{float32}(sqrt(((i0 + i1) - i2)))}}.0)\n",
      "   1.1%    65.1%       0.006s       1.53e-04s     42   129   GpuAlloc(GpuElemwise{sub,no_inplace}.0, TensorConstant{1}, TensorConstant{3}, Elemwise{Composite{Switch(EQ(i0, i1), (i0 // (-i0)), i0)}}.0, Shape_i{0}.0)\n",
      "   1.0%    66.1%       0.006s       1.40e-04s     42   230   GpuElemwise{Composite{Cast{float32}(LT(i0, i1))},no_inplace}(GpuFromHost.0, GpuDimShuffle{x,x}.0)\n",
      "   0.9%    67.0%       0.005s       1.28e-04s     42   105   GpuElemwise{sub,no_inplace}(GpuDimShuffle{x,0}.0, GpuReshape{2}.0)\n",
      "   0.9%    67.9%       0.005s       1.21e-04s     42   289   HostFromGpu(GpuElemwise{Composite{((((i0 * i1) / i2) + i3) + i4)}}[(0, 1)].0)\n",
      "   0.9%    68.8%       0.005s       1.20e-04s     42   150   GpuJoin(TensorConstant{0}, GpuElemwise{sub,no_inplace}.0, GpuElemwise{sub,no_inplace}.0, GpuElemwise{sub,no_inplace}.0)\n",
      "   0.8%    69.6%       0.005s       1.12e-04s     42   144   GpuJoin(TensorConstant{0}, GpuElemwise{sub,no_inplace}.0, GpuElemwise{sub,no_inplace}.0, GpuElemwise{sub,no_inplace}.0)\n",
      "   0.8%    70.3%       0.004s       1.05e-04s     42   125   GpuElemwise{sub,no_inplace}(GpuDimShuffle{0,x}.0, GpuDimShuffle{1,0}.0)\n",
      "   0.7%    71.1%       0.004s       1.02e-04s     42   202   GpuFromHost(Elemwise{Composite{Cast{float32}(sqrt(((i0 + i1) - i2)))}}.0)\n",
      "   0.7%    71.8%       0.004s       1.00e-04s     42   138   GpuElemwise{sub,no_inplace}(GpuDimShuffle{0,x}.0, GpuDimShuffle{1,0}.0)\n",
      "   ... (remaining 270 Apply instances account for 28.22%(0.16s) of the runtime)\n",
      "\n",
      "Here are tips to potentially make your code run faster\n",
      "                 (if you think of new ones, suggest them on the mailing list).\n",
      "                 Test them first, as they are not guaranteed to always provide a speedup.\n",
      "  - Try installing amdlibm and set the Theano flag lib.amdlibm=True. This speeds up only some Elemwise operation.\n"
     ]
    }
   ],
   "source": [
    "interpolator.geoMigueller.profile.summary()"
   ]
  },
  {
   "cell_type": "code",
   "execution_count": 19,
   "metadata": {
    "collapsed": false
   },
   "outputs": [
    {
     "name": "stderr",
     "output_type": "stream",
     "text": [
      "/home/miguel/anaconda3/lib/python3.5/site-packages/ipykernel/__main__.py:1: DeprecationWarning: stack(*tensors) interface is deprecated, use stack(tensors, axis=0) instead.\n",
      "  if __name__ == '__main__':\n"
     ]
    }
   ],
   "source": [
    "interpolator.theano_set_3D_legacy()"
   ]
  },
  {
   "cell_type": "code",
   "execution_count": 21,
   "metadata": {
    "collapsed": false
   },
   "outputs": [
    {
     "name": "stdout",
     "output_type": "stream",
     "text": [
      "100 loops, best of 3: 8.26 ms per loop\n"
     ]
    }
   ],
   "source": [
    "%%timeit\n",
    "sol =  interpolator.geoMigueller(dips,dips_angles,azimuths,polarity, rest, ref)[0].reshape(20,20,20, order = \"C\")"
   ]
  },
  {
   "cell_type": "code",
   "execution_count": 22,
   "metadata": {
    "collapsed": false
   },
   "outputs": [
    {
     "name": "stderr",
     "output_type": "stream",
     "text": [
      "Function profiling\n",
      "==================\n",
      "  Message: /home/miguel/PycharmProjects/GeMpy/GeoMig.py:891\n",
      "  Time in 412 calls to Function.__call__: 3.404917e+00s\n",
      "  Time in Function.fn.__call__: 3.387632e+00s (99.492%)\n",
      "  Time in thunks: 2.173600e+00s (63.837%)\n",
      "  Total compile time: 2.628126e+00s\n",
      "    Number of Apply nodes: 267\n",
      "    Theano Optimizer time: 2.358552e+00s\n",
      "       Theano validate time: 1.787663e-01s\n",
      "    Theano Linker time (includes C, CUDA code generation/compiling): 2.059927e-01s\n",
      "       Import time 0.000000e+00s\n",
      "\n",
      "Time in all call to theano.grad() 0.000000e+00s\n",
      "Time since theano import 323.117s\n",
      "Class\n",
      "---\n",
      "<% time> <sum %> <apply time> <time per call> <type> <#call> <#apply> <Class name>\n",
      "  40.6%    40.6%       0.882s       2.58e-05s     C    34196      83   theano.sandbox.cuda.basic_ops.GpuElemwise\n",
      "  10.1%    50.6%       0.219s       3.54e-05s     C     6180      15   theano.sandbox.cuda.basic_ops.GpuIncSubtensor\n",
      "   9.1%    59.8%       0.199s       4.83e-05s     C     4120      10   theano.sandbox.cuda.blas.GpuDot22Scalar\n",
      "   9.1%    68.9%       0.199s       4.82e-04s     Py     412       1   theano.tensor.nlinalg.MatrixInverse\n",
      "   9.0%    77.9%       0.195s       6.75e-05s     C     2884       7   theano.sandbox.cuda.basic_ops.GpuAlloc\n",
      "   7.2%    85.1%       0.157s       6.35e-05s     C     2472       6   theano.sandbox.cuda.basic_ops.GpuJoin\n",
      "   4.0%    89.1%       0.087s       8.83e-06s     C     9888      24   theano.sandbox.cuda.basic_ops.GpuReshape\n",
      "   3.5%    92.6%       0.077s       2.66e-05s     C     2884       7   theano.sandbox.cuda.basic_ops.HostFromGpu\n",
      "   3.2%    95.8%       0.069s       1.52e-05s     C     4532      11   theano.sandbox.cuda.basic_ops.GpuFromHost\n",
      "   2.0%    97.8%       0.044s       1.53e-05s     C     2884       7   theano.sandbox.cuda.basic_ops.GpuCAReduce\n",
      "   0.4%    98.3%       0.009s       5.83e-07s     C    15656      38   theano.sandbox.cuda.basic_ops.GpuDimShuffle\n",
      "   0.3%    98.6%       0.008s       1.82e-05s     Py     412       1   theano.tensor.extra_ops.FillDiagonal\n",
      "   0.3%    98.9%       0.007s       1.09e-06s     C     6180      15   theano.sandbox.cuda.basic_ops.GpuSubtensor\n",
      "   0.3%    99.2%       0.006s       1.38e-05s     C      412       1   theano.sandbox.cuda.basic_ops.GpuAllocEmpty\n",
      "   0.2%    99.4%       0.005s       1.96e-06s     C     2472       6   theano.tensor.subtensor.IncSubtensor\n",
      "   0.2%    99.6%       0.004s       6.79e-07s     C     5356      13   theano.tensor.opt.MakeVector\n",
      "   0.1%    99.7%       0.003s       3.62e-06s     C      824       2   theano.tensor.basic.Alloc\n",
      "   0.1%    99.8%       0.002s       5.72e-06s     C      412       1   theano.sandbox.cuda.blas.GpuGemv\n",
      "   0.1%    99.9%       0.002s       6.37e-07s     C     3296       8   theano.tensor.elemwise.Elemwise\n",
      "   0.1%   100.0%       0.001s       5.51e-07s     C     2472       6   theano.compile.ops.Shape_i\n",
      "   ... (remaining 1 Classes account for   0.04%(0.00s) of the runtime)\n",
      "\n",
      "Ops\n",
      "---\n",
      "<% time> <sum %> <apply time> <time per call> <type> <#call> <#apply> <Op name>\n",
      "  15.9%    15.9%       0.345s       5.97e-05s     C     5768       14   GpuElemwise{sub,no_inplace}\n",
      "   9.1%    25.0%       0.199s       4.83e-05s     C     4120       10   GpuDot22Scalar\n",
      "   9.1%    34.1%       0.199s       4.82e-04s     Py     412        1   MatrixInverse\n",
      "   8.3%    42.5%       0.181s       8.79e-05s     C     2060        5   GpuAlloc\n",
      "   8.1%    50.6%       0.176s       5.35e-05s     C     3296        8   GpuElemwise{Composite{(i0 * (i1 ** i2))},no_inplace}\n",
      "   7.2%    57.8%       0.157s       6.35e-05s     C     2472        6   GpuJoin\n",
      "   6.8%    64.6%       0.147s       3.58e-05s     C     4120       10   GpuElemwise{Composite{Cast{float32}(LT(i0, i1))},no_inplace}\n",
      "   5.7%    70.3%       0.125s       4.33e-05s     C     2884        7   GpuIncSubtensor{InplaceSet;int64:int64:, int64:int64:}\n",
      "   4.0%    74.3%       0.087s       8.83e-06s     C     9888       24   GpuReshape{2}\n",
      "   3.5%    77.9%       0.077s       2.66e-05s     C     2884        7   HostFromGpu\n",
      "   3.3%    81.1%       0.071s       8.60e-05s     C      824        2   GpuElemwise{Composite{(i0 * sqr(i1))},no_inplace}\n",
      "   3.2%    84.3%       0.069s       1.52e-05s     C     4532       11   GpuFromHost\n",
      "   1.4%    85.7%       0.031s       3.71e-05s     C      824        2   GpuIncSubtensor{InplaceSet;int64:int64:, int64::}\n",
      "   1.4%    87.1%       0.030s       3.62e-05s     C      824        2   GpuIncSubtensor{InplaceSet;int64::, int64:int64:}\n",
      "   1.1%    88.2%       0.025s       1.50e-05s     C     1648        4   GpuCAReduce{pre=sqr,red=add}{0,1}\n",
      "   1.1%    89.3%       0.023s       5.64e-06s     C     4120       10   GpuElemwise{Composite{sqrt(((i0 + i1) - i2))}}[(0, 2)]\n",
      "   0.9%    90.2%       0.020s       2.39e-05s     C      824        2   GpuIncSubtensor{InplaceSet;int64:int64:, int64}\n",
      "   0.9%    91.1%       0.019s       1.56e-05s     C     1236        3   GpuCAReduce{add}{1,0}\n",
      "   0.6%    91.7%       0.014s       1.64e-05s     C      824        2   GpuAlloc{memset_0=True}\n",
      "   0.5%    92.2%       0.011s       2.78e-05s     C      412        1   GpuIncSubtensor{InplaceSet;:int64:, int64}\n",
      "   ... (remaining 62 Ops account for   7.77%(0.17s) of the runtime)\n",
      "\n",
      "Apply\n",
      "------\n",
      "<% time> <sum %> <apply time> <time per call> <#call> <id> <Apply name>\n",
      "   9.1%     9.1%       0.199s       4.82e-04s    412   248   MatrixInverse(HostFromGpu.0)\n",
      "   3.8%    12.9%       0.082s       1.99e-04s    412   252   GpuAlloc(GpuGemv{inplace}.0, Shape_i{0}.0, TensorConstant{1}, TensorConstant{1}, Elemwise{add,no_inplace}.0)\n",
      "   2.3%    15.2%       0.051s       1.23e-04s    412   138   GpuAlloc(GpuElemwise{sub,no_inplace}.0, TensorConstant{1}, TensorConstant{3}, Elemwise{Composite{Switch(EQ(i0, i1), (i0 // (-i0)), i0)}}.0, Shape_i{0}.0)\n",
      "   2.2%    17.4%       0.048s       1.16e-04s    412   184   GpuElemwise{Composite{(i0 * (i1 ** i2))},no_inplace}(CudaNdarrayConstant{[[ 0.75]]}, GpuElemwise{TrueDiv}[(0, 0)].0, CudaNdarrayConstant{[[ 7.]]})\n",
      "   2.1%    19.6%       0.046s       1.12e-04s    412   176   GpuJoin(TensorConstant{0}, GpuElemwise{sub,no_inplace}.0, GpuElemwise{sub,no_inplace}.0, GpuElemwise{sub,no_inplace}.0)\n",
      "   2.1%    21.7%       0.046s       1.11e-04s    412   168   GpuJoin(TensorConstant{0}, GpuElemwise{sub,no_inplace}.0, GpuElemwise{sub,no_inplace}.0, GpuElemwise{sub,no_inplace}.0)\n",
      "   2.0%    23.7%       0.044s       1.08e-04s    412   145   GpuDot22Scalar(GpuReshape{2}.0, GpuDimShuffle{1,0}.0, TensorConstant{2.0})\n",
      "   1.9%    25.6%       0.042s       1.02e-04s    412   109   GpuElemwise{sub,no_inplace}(GpuDimShuffle{x,0}.0, GpuReshape{2}.0)\n",
      "   1.9%    27.6%       0.042s       1.01e-04s    412   134   GpuElemwise{sub,no_inplace}(GpuDimShuffle{0,x}.0, GpuDimShuffle{1,0}.0)\n",
      "   1.9%    29.5%       0.041s       1.01e-04s    412    40   GpuDot22Scalar(GpuFromHost.0, GpuDimShuffle{1,0}.0, TensorConstant{2.0})\n",
      "   1.9%    31.4%       0.041s       9.99e-05s    412    49   GpuDot22Scalar(GpuFromHost.0, GpuDimShuffle{1,0}.0, TensorConstant{2.0})\n",
      "   1.8%    33.2%       0.040s       9.73e-05s    412   156   GpuElemwise{sub,no_inplace}(GpuDimShuffle{0,x}.0, GpuDimShuffle{1,0}.0)\n",
      "   1.8%    35.0%       0.039s       9.57e-05s    412   151   GpuElemwise{sub,no_inplace}(GpuDimShuffle{0,x}.0, GpuDimShuffle{1,0}.0)\n",
      "   1.8%    36.8%       0.039s       9.48e-05s    412   212   GpuElemwise{Composite{Cast{float32}(LT(i0, i1))},no_inplace}(GpuElemwise{Composite{sqrt(((i0 + i1) - i2))}}[(0, 2)].0, GpuDimShuffle{x,x}.0)\n",
      "   1.8%    38.6%       0.038s       9.30e-05s    412   155   GpuElemwise{sub,no_inplace}(GpuDimShuffle{0,x}.0, GpuDimShuffle{1,0}.0)\n",
      "   1.8%    40.3%       0.038s       9.29e-05s    412   153   GpuElemwise{Composite{Cast{float32}(LT(i0, i1))},no_inplace}(GpuElemwise{Composite{sqrt(((i0 + i1) - i2))}}[(0, 2)].0, GpuDimShuffle{x,x}.0)\n",
      "   1.7%    42.1%       0.038s       9.23e-05s    412   154   GpuElemwise{sub,no_inplace}(GpuDimShuffle{0,x}.0, GpuDimShuffle{1,0}.0)\n",
      "   1.7%    43.8%       0.038s       9.23e-05s    412   110   GpuElemwise{sub,no_inplace}(GpuDimShuffle{x,0}.0, GpuReshape{2}.0)\n",
      "   1.7%    45.6%       0.038s       9.20e-05s    412   111   GpuElemwise{sub,no_inplace}(GpuDimShuffle{x,0}.0, GpuReshape{2}.0)\n",
      "   1.7%    47.3%       0.038s       9.16e-05s    412   152   GpuElemwise{Composite{Cast{float32}(LT(i0, i1))},no_inplace}(GpuElemwise{Composite{sqrt(((i0 + i1) - i2))}}[(0, 2)].0, GpuDimShuffle{x,x}.0)\n",
      "   ... (remaining 247 Apply instances account for 52.68%(1.14s) of the runtime)\n",
      "\n",
      "Here are tips to potentially make your code run faster\n",
      "                 (if you think of new ones, suggest them on the mailing list).\n",
      "                 Test them first, as they are not guaranteed to always provide a speedup.\n",
      "  Sorry, no tip for today.\n"
     ]
    }
   ],
   "source": [
    "interpolator.geoMigueller.profile.summary()"
   ]
  },
  {
   "cell_type": "code",
   "execution_count": 1,
   "metadata": {
    "collapsed": false
   },
   "outputs": [
    {
     "name": "stdout",
     "output_type": "stream",
     "text": [
      "[Elemwise{exp,no_inplace}(<TensorType(float32, vector)>)]\n",
      "Looping 1000 times took 2.271379 seconds\n",
      "Result is [ 1.23178029  1.61879337  1.52278066 ...,  2.20771813  2.29967761\n",
      "  1.62323284]\n",
      "Used the cpu\n"
     ]
    }
   ],
   "source": [
    "from theano import function, config, shared, sandbox\n",
    "import theano.tensor as T\n",
    "import numpy\n",
    "import time\n",
    "\n",
    "vlen = 10 * 30 * 768  # 10 x #cores x # threads per core\n",
    "iters = 1000\n",
    "\n",
    "rng = numpy.random.RandomState(22)\n",
    "x = shared(numpy.asarray(rng.rand(vlen), config.floatX))\n",
    "f = function([], T.exp(x))\n",
    "print(f.maker.fgraph.toposort())\n",
    "t0 = time.time()\n",
    "for i in range(iters):\n",
    "    r = f()\n",
    "t1 = time.time()\n",
    "print(\"Looping %d times took %f seconds\" % (iters, t1 - t0))\n",
    "print(\"Result is %s\" % (r,))\n",
    "if numpy.any([isinstance(x.op, T.Elemwise) for x in f.maker.fgraph.toposort()]):\n",
    "    print('Used the cpu')\n",
    "else:\n",
    "    print('Used the gpu')"
   ]
  },
  {
   "cell_type": "code",
   "execution_count": 1,
   "metadata": {
    "collapsed": false
   },
   "outputs": [
    {
     "name": "stderr",
     "output_type": "stream",
     "text": [
      "Using gpu device 0: GeForce GTX 970 (CNMeM is disabled, cuDNN not available)\n"
     ]
    },
    {
     "name": "stdout",
     "output_type": "stream",
     "text": [
      "[GpuElemwise{exp,no_inplace}(<CudaNdarrayType(float32, vector)>), HostFromGpu(GpuElemwise{exp,no_inplace}.0)]\n",
      "Looping 1000 times took 0.353415 seconds\n",
      "Result is [ 1.23178029  1.61879349  1.52278066 ...,  2.20771813  2.29967761\n",
      "  1.62323296]\n",
      "Used the gpu\n"
     ]
    }
   ],
   "source": [
    "from theano import function, config, shared, sandbox\n",
    "import theano.tensor as T\n",
    "import numpy\n",
    "import time\n",
    "\n",
    "vlen = 10 * 30 * 768  # 10 x #cores x # threads per core\n",
    "iters = 1000\n",
    "\n",
    "rng = numpy.random.RandomState(22)\n",
    "x = shared(numpy.asarray(rng.rand(vlen), config.floatX))\n",
    "f = function([], T.exp(x))\n",
    "print(f.maker.fgraph.toposort())\n",
    "t0 = time.time()\n",
    "for i in range(iters):\n",
    "    r = f()\n",
    "t1 = time.time()\n",
    "print(\"Looping %d times took %f seconds\" % (iters, t1 - t0))\n",
    "print(\"Result is %s\" % (r,))\n",
    "if numpy.any([isinstance(x.op, T.Elemwise) for x in f.maker.fgraph.toposort()]):\n",
    "    print('Used the cpu')\n",
    "else:\n",
    "    print('Used the gpu')"
   ]
  },
  {
   "cell_type": "code",
   "execution_count": 18,
   "metadata": {
    "collapsed": false
   },
   "outputs": [
    {
     "name": "stdout",
     "output_type": "stream",
     "text": [
      "[Elemwise{exp,no_inplace}(<TensorType(float32, vector)>)]\n",
      "Looping 1000 times took 2.291412 seconds\n",
      "Result is [ 1.23178029  1.61879337  1.52278066 ...,  2.20771813  2.29967761\n",
      "  1.62323284]\n",
      "Used the cpu\n"
     ]
    }
   ],
   "source": [
    "from theano import function, config, shared, sandbox\n",
    "import theano.tensor as T\n",
    "import numpy\n",
    "import time\n",
    "\n",
    "vlen = 10 * 30 * 768  # 10 x #cores x # threads per core\n",
    "iters = 1000\n",
    "\n",
    "rng = numpy.random.RandomState(22)\n",
    "x = shared(numpy.asarray(rng.rand(vlen), config.floatX))\n",
    "f = function([], T.exp(x))\n",
    "print(f.maker.fgraph.toposort())\n",
    "t0 = time.time()\n",
    "for i in range(iters):\n",
    "    r = f()\n",
    "t1 = time.time()\n",
    "print(\"Looping %d times took %f seconds\" % (iters, t1 - t0))\n",
    "print(\"Result is %s\" % (r,))\n",
    "if numpy.any([isinstance(x.op, T.Elemwise) for x in f.maker.fgraph.toposort()]):\n",
    "    print('Used the cpu')\n",
    "else:\n",
    "    print('Used the gpu')"
   ]
  },
  {
   "cell_type": "code",
   "execution_count": null,
   "metadata": {
    "collapsed": true
   },
   "outputs": [],
   "source": [
    ""
   ]
  },
  {
   "cell_type": "code",
   "execution_count": 759,
   "metadata": {
    "collapsed": false
   },
   "outputs": [
    {
     "data": {
      "text/plain": [
       "array([[-0.59,  0.08,  0.  ,  0.07],\n",
       "       [ 0.08, -0.59,  0.07,  0.  ],\n",
       "       [ 0.  ,  0.12, -0.59,  0.13],\n",
       "       [ 0.07,  0.  ,  0.13, -0.59]])"
      ]
     },
     "execution_count": 759,
     "metadata": {},
     "output_type": "execute_result"
    }
   ],
   "source": [
    "np.set_printoptions(precision=2)\n",
    "test.geoMigueller(dips,dips_angles,rest, ref)[1]"
   ]
  },
  {
   "cell_type": "code",
   "execution_count": 751,
   "metadata": {
    "collapsed": false
   },
   "outputs": [],
   "source": [
    "T.fill_diagonal?"
   ]
  },
  {
   "cell_type": "code",
   "execution_count": 758,
   "metadata": {
    "collapsed": false,
    "scrolled": true
   },
   "outputs": [
    {
     "name": "stdout",
     "output_type": "stream",
     "text": [
      "[ 2.5   4.87] [ 6.34  3.94] [[ 1.  7.]\n",
      " [ 5.  7.]\n",
      " [ 6.  7.]\n",
      " [ 9.  8.]]\n"
     ]
    },
    {
     "data": {
      "image/png": "[encoded data removed]",
      "text/plain": [
       "<matplotlib.figure.Figure at 0x7f1cc4711198>"
      ]
     },
     "metadata": {},
     "output_type": "display_data"
    }
   ],
   "source": [
    "import matplotlib.pyplot as plt\n",
    "% matplotlib inline\n",
    "dip_pos_1_v = np.array([np.cos(np.deg2rad(dip_angle_1))*1,\n",
    "                        np.sin(np.deg2rad(dip_angle_1))]) + dip_pos_1\n",
    "\n",
    "dip_pos_2_v = np.array([np.cos(np.deg2rad(dip_angle_2))*1, \n",
    "                        np.sin(np.deg2rad(dip_angle_2))]) + dip_pos_2\n",
    "\n",
    "plt.arrow(dip_pos_1[0],dip_pos_1[1], dip_pos_1_v[0]-dip_pos_1[0],\n",
    "          dip_pos_1_v[1]-dip_pos_1[1], head_width = 0.2)\n",
    "plt.arrow(dip_pos_2[0],dip_pos_2[1],dip_pos_2_v[0]-dip_pos_2[0], \n",
    "          dip_pos_2_v[1]-dip_pos_2[1], head_width = 0.2)\n",
    "\n",
    "plt.plot(layer_1[:,0],layer_1[:,1], \"o\")\n",
    "plt.plot(layer_2[:,0],layer_2[:,1], \"o\")\n",
    "\n",
    "plt.plot(layer_1[:,0],layer_1[:,1], )\n",
    "plt.plot(layer_2[:,0],layer_2[:,1], )\n",
    "\n",
    "plt.contour( sol.reshape(50,50) ,30,extent = (0,10,0,10) )\n",
    "#plt.colorbar()\n",
    "#plt.xlim(0,10)\n",
    "#plt.ylim(0,10)\n",
    "plt.title(\"GeoBulleter v 0.1\")\n",
    "print (dip_pos_1_v, dip_pos_2_v, layer_1)"
   ]
  },
  {
   "cell_type": "code",
   "execution_count": 443,
   "metadata": {
    "collapsed": false
   },
   "outputs": [
    {
     "name": "stdout",
     "output_type": "stream",
     "text": [
      "[ 0.  0.  0.  0.  0.  0.  0.  0.  0.  0.]\n"
     ]
    }
   ],
   "source": [
    "n = 10\n",
    "#a = T.horizontal_stack(T.vertical_stack(T.ones(n),T.zeros(n)), T.vertical_stack(T.zeros(n), T.ones(n)))\n",
    "a = T.zeros(n)\n",
    "\n",
    "print (a.eval())\n",
    "#U_G = T.horizontal_stack(([T.ones(n),T.zeros(n)],[T.zeros(n),T.ones(n)]))"
   ]
  },
  {
   "cell_type": "code",
   "execution_count": 6,
   "metadata": {
    "collapsed": true
   },
   "outputs": [],
   "source": [
    "T.stack?ö+aeg"
   ]
  },
  {
   "cell_type": "code",
   "execution_count": null,
   "metadata": {
    "collapsed": true
   },
   "outputs": [],
   "source": [
    "_squared_euclidean_distances2 = T.sqrt(\n",
    "            (dips ** 2).sum(1).reshape((dips.shape[0], 1)) + (aux_Y ** 2).sum(1).reshape(\n",
    "                (1, aux_Y.shape[0])) - 2 * dips.dot(aux_Y.T))\n",
    "\n",
    "        _squared_euclidean_distances3 = T.sqrt(\n",
    "            (dips ** 2).sum(1).reshape((dips.shape[0], 1)) + (aux_X ** 2).sum(1).reshape(\n",
    "                (1, aux_X.shape[0])) - 2 * dips.dot(aux_X.T))\n",
    "\n",
    "        h3 = T.vertical_stack(\n",
    "            (dips[:, 0] - aux_Y[:, 0].reshape((aux_Y[:, 0].shape[0], 1))).T,\n",
    "            (dips[:, 1] - aux_Y[:, 1].reshape((aux_Y[:, 1].shape[0], 1))).T\n",
    "        )\n",
    "\n",
    "\n",
    "        h4 = T.vertical_stack(\n",
    "            (dips[:, 0] - aux_X[:, 0].reshape((aux_X[:, 0].shape[0], 1))).T,\n",
    "            (dips[:, 1] - aux_X[:, 1].reshape((aux_X[:, 1].shape[0], 1))).T)\n",
    "\n",
    "        r_3 = T.tile(_squared_euclidean_distances2, (2, 1))  # Careful with the number of dimensions\n",
    "        r_4 = T.tile(_squared_euclidean_distances3, (2, 1))  # Careful with the number of dimensions\n",
    "\n",
    "        _ans_d1_3 = (r_3 < self.a) * (\n",
    "            -7 * (self.a - r_3) ** 3 * r_3 * (8 * self.a ** 2 + 9 * self.a * r_3 + 3 * r_3 ** 2) * 1) \n",
    "        / (4 * self.a ** 7)\n",
    "\n",
    "        _ans_d1_4 = (r_4 < self.a) * (\n",
    "            -7 * (self.a - r_4) ** 3 * r_4 * (8 * self.a ** 2 + 9 * self.a * r_4 + 3 * r_4 ** 2) * 1) \n",
    "        / (4 * self.a ** 7)\n",
    "\n",
    "        _C_GI = (h3 / r_3 * _ans_d1_3 - h4 / r_4 * _ans_d1_4).T\n",
    "\n",
    "        self._f_CGI = theano.function([dips, aux_X, aux_Y], _C_GI)"
   ]
  },
  {
   "cell_type": "code",
   "execution_count": 67,
   "metadata": {
    "collapsed": true
   },
   "outputs": [
    {
     "name": "stdout",
     "output_type": "stream",
     "text": [
      "\n",
      "\n",
      "\n",
      " <Element '{http://www.geomodeller.com/geo}Section' at 0x7f9624974f48> \n",
      "\n",
      "Elements and their ID \n",
      "\n",
      "<Element '{http://www.geomodeller.com/geo}Interface' at 0x7f9624970098> SM_Seis_E\n",
      "<Element '{http://www.geomodeller.com/geo}Interface' at 0x7f96249701d8> SM_Seis_C\n",
      "<Element '{http://www.geomodeller.com/geo}Foliation' at 0x7f9624970368> SM_Seis_Ori_C\n",
      "<Element '{http://www.geomodeller.com/geo}Foliation' at 0x7f96249704f8> SM_Seis_Ori_E\n",
      "<Element '{http://www.geomodeller.com/geo}Foliation' at 0x7f9624970688> SM_Seis_Ori_W\n",
      "\n",
      "Dictionaries:\n",
      "  {'SM_Seis_E': <Element '{http://www.geomodeller.com/geo}Interface' at 0x7f9624970098>, 'SM_Seis_C': <Element '{http://www.geomodeller.com/geo}Interface' at 0x7f96249701d8>} \n",
      " {'SM_Seis_Ori_E_d': <Element '{http://www.geomodeller.com/geo}Foliation' at 0x7f96249704f8>, 'SM_Seis_Ori_W_a': <Element '{http://www.geomodeller.com/geo}Foliation' at 0x7f9624970688>, 'SM_Seis_Ori_W_d': <Element '{http://www.geomodeller.com/geo}Foliation' at 0x7f9624970688>, 'SM_Seis_Ori_C_a': <Element '{http://www.geomodeller.com/geo}Foliation' at 0x7f9624970368>, 'SM_Seis_Ori_C_d': <Element '{http://www.geomodeller.com/geo}Foliation' at 0x7f9624970368>, 'SM_Seis_Ori_E_a': <Element '{http://www.geomodeller.com/geo}Foliation' at 0x7f96249704f8>}\n",
      "\n",
      " Contact points [<Element '{http://www.geomodeller.com/geo}Interface' at 0x7f9624970098>, <Element '{http://www.geomodeller.com/geo}Interface' at 0x7f96249701d8>] \n",
      " ['SimpleMafic 36284.297,-3068.116 ', 'SimpleMafic 29815.703,-5708.065 '] \n",
      "\n",
      "foliations [<Element '{http://www.geomodeller.com/geo}Foliation' at 0x7f9624970368>, <Element '{http://www.geomodeller.com/geo}Foliation' at 0x7f96249704f8>, <Element '{http://www.geomodeller.com/geo}Foliation' at 0x7f9624970688>] \n",
      "\n",
      "azimut: 258.709\n",
      "dip 21.801\n",
      "coordinates 34448.43,-3825.776\n",
      "azimut: 255.407\n",
      "dip 51.633\n",
      "coordinates 37026.152,-1538.629\n",
      "azimut: 83.123\n",
      "dip 20.726\n",
      "coordinates 22337.496,-1882.895\n",
      "\n",
      "\n",
      "\n",
      " <Element '{http://www.geomodeller.com/geo}Section' at 0x7f9624974f48> \n",
      "\n",
      "Elements and their ID \n",
      "\n",
      "<Element '{http://www.geomodeller.com/geo}Interface' at 0x7f9624970098> SM_Seis_E\n",
      "<Element '{http://www.geomodeller.com/geo}Interface' at 0x7f96249701d8> SM_Seis_C\n",
      "<Element '{http://www.geomodeller.com/geo}Foliation' at 0x7f9624970368> SM_Seis_Ori_C\n",
      "<Element '{http://www.geomodeller.com/geo}Foliation' at 0x7f96249704f8> SM_Seis_Ori_E\n",
      "<Element '{http://www.geomodeller.com/geo}Foliation' at 0x7f9624970688> SM_Seis_Ori_W\n",
      "\n",
      "Dictionaries:\n",
      "  {'SM_Seis_E': <Element '{http://www.geomodeller.com/geo}Interface' at 0x7f9624970098>, 'SM_Seis_C': <Element '{http://www.geomodeller.com/geo}Interface' at 0x7f96249701d8>} \n",
      " {'SM_Seis_Ori_E_d': <Element '{http://www.geomodeller.com/geo}Foliation' at 0x7f96249704f8>, 'SM_Seis_Ori_W_a': <Element '{http://www.geomodeller.com/geo}Foliation' at 0x7f9624970688>, 'SM_Seis_Ori_W_d': <Element '{http://www.geomodeller.com/geo}Foliation' at 0x7f9624970688>, 'SM_Seis_Ori_C_a': <Element '{http://www.geomodeller.com/geo}Foliation' at 0x7f9624970368>, 'SM_Seis_Ori_C_d': <Element '{http://www.geomodeller.com/geo}Foliation' at 0x7f9624970368>, 'SM_Seis_Ori_E_a': <Element '{http://www.geomodeller.com/geo}Foliation' at 0x7f96249704f8>}\n",
      "\n",
      " Contact points [<Element '{http://www.geomodeller.com/geo}Interface' at 0x7f9624970098>, <Element '{http://www.geomodeller.com/geo}Interface' at 0x7f96249701d8>] \n",
      " ['SimpleMafic 36284.297,-3068.116 ', 'SimpleMafic 29815.703,-5708.065 '] \n",
      "\n",
      "foliations [<Element '{http://www.geomodeller.com/geo}Foliation' at 0x7f9624970368>, <Element '{http://www.geomodeller.com/geo}Foliation' at 0x7f96249704f8>, <Element '{http://www.geomodeller.com/geo}Foliation' at 0x7f9624970688>] \n",
      "\n",
      "azimut: 258.709\n",
      "dip 21.801\n",
      "coordinates 34448.43,-3825.776\n",
      "azimut: 255.407\n",
      "dip 51.633\n",
      "coordinates 37026.152,-1538.629\n",
      "azimut: 83.123\n",
      "dip 20.726\n",
      "coordinates 22337.496,-1882.895\n",
      "\n",
      "\n",
      "\n",
      " <Element '{http://www.geomodeller.com/geo}Section' at 0x7f9624974f48> \n",
      "\n",
      "Elements and their ID \n",
      "\n",
      "<Element '{http://www.geomodeller.com/geo}Interface' at 0x7f9624970098> SM_Seis_E\n",
      "<Element '{http://www.geomodeller.com/geo}Interface' at 0x7f96249701d8> SM_Seis_C\n",
      "<Element '{http://www.geomodeller.com/geo}Foliation' at 0x7f9624970368> SM_Seis_Ori_C\n",
      "<Element '{http://www.geomodeller.com/geo}Foliation' at 0x7f96249704f8> SM_Seis_Ori_E\n",
      "<Element '{http://www.geomodeller.com/geo}Foliation' at 0x7f9624970688> SM_Seis_Ori_W\n",
      "\n",
      "Dictionaries:\n",
      "  {'SM_Seis_E': <Element '{http://www.geomodeller.com/geo}Interface' at 0x7f9624970098>, 'SM_Seis_C': <Element '{http://www.geomodeller.com/geo}Interface' at 0x7f96249701d8>} \n",
      " {'SM_Seis_Ori_E_d': <Element '{http://www.geomodeller.com/geo}Foliation' at 0x7f96249704f8>, 'SM_Seis_Ori_W_a': <Element '{http://www.geomodeller.com/geo}Foliation' at 0x7f9624970688>, 'SM_Seis_Ori_W_d': <Element '{http://www.geomodeller.com/geo}Foliation' at 0x7f9624970688>, 'SM_Seis_Ori_C_a': <Element '{http://www.geomodeller.com/geo}Foliation' at 0x7f9624970368>, 'SM_Seis_Ori_C_d': <Element '{http://www.geomodeller.com/geo}Foliation' at 0x7f9624970368>, 'SM_Seis_Ori_E_a': <Element '{http://www.geomodeller.com/geo}Foliation' at 0x7f96249704f8>}\n",
      "\n",
      " Contact points [<Element '{http://www.geomodeller.com/geo}Interface' at 0x7f9624970098>, <Element '{http://www.geomodeller.com/geo}Interface' at 0x7f96249701d8>] \n",
      " ['SimpleMafic 36284.297,-3068.116 ', 'SimpleMafic 29815.703,-5708.065 '] \n",
      "\n",
      "foliations [<Element '{http://www.geomodeller.com/geo}Foliation' at 0x7f9624970368>, <Element '{http://www.geomodeller.com/geo}Foliation' at 0x7f96249704f8>, <Element '{http://www.geomodeller.com/geo}Foliation' at 0x7f9624970688>] \n",
      "\n",
      "azimut: 258.709\n",
      "dip 21.801\n",
      "coordinates 34448.43,-3825.776\n",
      "azimut: 255.407\n",
      "dip 51.633\n",
      "coordinates 37026.152,-1538.629\n",
      "azimut: 83.123\n",
      "dip 20.726\n",
      "coordinates 22337.496,-1882.895\n",
      "\n",
      "\n",
      "\n",
      " <Element '{http://www.geomodeller.com/geo}Section' at 0x7f9624974f48> \n",
      "\n",
      "Elements and their ID \n",
      "\n",
      "<Element '{http://www.geomodeller.com/geo}Interface' at 0x7f9624970098> SM_Seis_E\n",
      "<Element '{http://www.geomodeller.com/geo}Interface' at 0x7f96249701d8> SM_Seis_C\n",
      "<Element '{http://www.geomodeller.com/geo}Foliation' at 0x7f9624970368> SM_Seis_Ori_C\n",
      "<Element '{http://www.geomodeller.com/geo}Foliation' at 0x7f96249704f8> SM_Seis_Ori_E\n",
      "<Element '{http://www.geomodeller.com/geo}Foliation' at 0x7f9624970688> SM_Seis_Ori_W\n",
      "\n",
      "Dictionaries:\n",
      "  {'SM_Seis_E': <Element '{http://www.geomodeller.com/geo}Interface' at 0x7f9624970098>, 'SM_Seis_C': <Element '{http://www.geomodeller.com/geo}Interface' at 0x7f96249701d8>} \n",
      " {'SM_Seis_Ori_E_d': <Element '{http://www.geomodeller.com/geo}Foliation' at 0x7f96249704f8>, 'SM_Seis_Ori_W_a': <Element '{http://www.geomodeller.com/geo}Foliation' at 0x7f9624970688>, 'SM_Seis_Ori_W_d': <Element '{http://www.geomodeller.com/geo}Foliation' at 0x7f9624970688>, 'SM_Seis_Ori_C_a': <Element '{http://www.geomodeller.com/geo}Foliation' at 0x7f9624970368>, 'SM_Seis_Ori_C_d': <Element '{http://www.geomodeller.com/geo}Foliation' at 0x7f9624970368>, 'SM_Seis_Ori_E_a': <Element '{http://www.geomodeller.com/geo}Foliation' at 0x7f96249704f8>}\n",
      "\n",
      " Contact points [<Element '{http://www.geomodeller.com/geo}Interface' at 0x7f9624970098>, <Element '{http://www.geomodeller.com/geo}Interface' at 0x7f96249701d8>] \n",
      " ['SimpleMafic 36284.297,-3068.116 ', 'SimpleMafic 29815.703,-5708.065 '] \n",
      "\n",
      "foliations [<Element '{http://www.geomodeller.com/geo}Foliation' at 0x7f9624970368>, <Element '{http://www.geomodeller.com/geo}Foliation' at 0x7f96249704f8>, <Element '{http://www.geomodeller.com/geo}Foliation' at 0x7f9624970688>] \n",
      "\n",
      "azimut: 258.709\n",
      "dip 21.801\n",
      "coordinates 34448.43,-3825.776\n",
      "azimut: 255.407\n",
      "dip 51.633\n",
      "coordinates 37026.152,-1538.629\n",
      "azimut: 83.123\n",
      "dip 20.726\n",
      "coordinates 22337.496,-1882.895\n",
      "\n",
      "\n",
      "\n",
      " <Element '{http://www.geomodeller.com/geo}Section' at 0x7f9624974f48> \n",
      "\n",
      "Elements and their ID \n",
      "\n",
      "<Element '{http://www.geomodeller.com/geo}Interface' at 0x7f9624970098> SM_Seis_E\n",
      "<Element '{http://www.geomodeller.com/geo}Interface' at 0x7f96249701d8> SM_Seis_C\n",
      "<Element '{http://www.geomodeller.com/geo}Foliation' at 0x7f9624970368> SM_Seis_Ori_C\n",
      "<Element '{http://www.geomodeller.com/geo}Foliation' at 0x7f96249704f8> SM_Seis_Ori_E\n",
      "<Element '{http://www.geomodeller.com/geo}Foliation' at 0x7f9624970688> SM_Seis_Ori_W\n",
      "\n",
      "Dictionaries:\n",
      "  {'SM_Seis_E': <Element '{http://www.geomodeller.com/geo}Interface' at 0x7f9624970098>, 'SM_Seis_C': <Element '{http://www.geomodeller.com/geo}Interface' at 0x7f96249701d8>} \n",
      " {'SM_Seis_Ori_E_d': <Element '{http://www.geomodeller.com/geo}Foliation' at 0x7f96249704f8>, 'SM_Seis_Ori_W_a': <Element '{http://www.geomodeller.com/geo}Foliation' at 0x7f9624970688>, 'SM_Seis_Ori_W_d': <Element '{http://www.geomodeller.com/geo}Foliation' at 0x7f9624970688>, 'SM_Seis_Ori_C_a': <Element '{http://www.geomodeller.com/geo}Foliation' at 0x7f9624970368>, 'SM_Seis_Ori_C_d': <Element '{http://www.geomodeller.com/geo}Foliation' at 0x7f9624970368>, 'SM_Seis_Ori_E_a': <Element '{http://www.geomodeller.com/geo}Foliation' at 0x7f96249704f8>}\n",
      "\n",
      " Contact points [<Element '{http://www.geomodeller.com/geo}Interface' at 0x7f9624970098>, <Element '{http://www.geomodeller.com/geo}Interface' at 0x7f96249701d8>] \n",
      " ['SimpleMafic 36284.297,-3068.116 ', 'SimpleMafic 29815.703,-5708.065 '] \n",
      "\n",
      "foliations [<Element '{http://www.geomodeller.com/geo}Foliation' at 0x7f9624970368>, <Element '{http://www.geomodeller.com/geo}Foliation' at 0x7f96249704f8>, <Element '{http://www.geomodeller.com/geo}Foliation' at 0x7f9624970688>] \n",
      "\n",
      "azimut: 258.709\n",
      "dip 21.801\n",
      "coordinates 34448.43,-3825.776\n",
      "azimut: 255.407\n",
      "dip 51.633\n",
      "coordinates 37026.152,-1538.629\n",
      "azimut: 83.123\n",
      "dip 20.726\n",
      "coordinates 22337.496,-1882.895\n"
     ]
    }
   ],
   "source": [
    "import geomodeller_xml_obj\n",
    "data = geomodeller_xml_obj.GeomodellerClass()\n",
    "data.load_geomodeller_file('/home/bl3/PycharmProjects/Temp_SandstoneCopy/Temp_SandstoneCopy.xml')\n",
    "section_elements = data.get_sections() # This reads geomodeller sections. Each section one object\n",
    "\n",
    "data.get_formation_point_data(section_elements[0])\n",
    "points_elements = [data.get_formation_point_data(i) for i in section_elements]\n",
    "print (points_elements[0][0])\n",
    "points_coord = data.get_point_coordinates(points_elements[0][0])\n",
    "\n",
    "importlib.reload(geomodeller_xml_obj)\n",
    "\n",
    "data = geomodeller_xml_obj.GeomodellerClass()\n",
    "data.load_geomodeller_file('/home/bl3/PycharmProjects/Temp_SandstoneCopy/Temp_SandstoneCopy.xml')\n",
    "section_dict = data.create_sections_dict()\n",
    "contact_points_dict = {}\n",
    "foliation_dict = {}\n",
    "for i in range(len(section_dict)):\n",
    "    print (\"\\n\\n\\n\", next (iter (section_dict.values())), \"\\n\")\n",
    "    print (\"Elements and their ID \\n\")\n",
    "    contact_points = data.get_formation_point_data( next (iter (section_dict.values())))\n",
    "\n",
    "    try:\n",
    "        for contact_point in contact_points:\n",
    "            contact_points_dict[contact_point.get(\"ObservationID\")] = contact_point\n",
    "            print (contact_point, contact_point.get(\"ObservationID\"))\n",
    "    except TypeError:\n",
    "        print (\"No contact points in the section\")\n",
    "    #ObsID = contact_points.get(\"ObservationID\")\n",
    "    foliations = data.get_foliations( next (iter (section_dict.values())))\n",
    "    try:\n",
    "        for foliation in foliations:\n",
    "            # dictionary to access with azimth name\n",
    "            foliation_dict[foliation.get(\"ObservationID\")+\"_a\"] = foliation\n",
    "            # dictionary to access with dip name\n",
    "            foliation_dict[foliation.get(\"ObservationID\")+\"_d\"] = foliation\n",
    "            print (foliation, foliation.get(\"ObservationID\"))\n",
    "\n",
    "    except TypeError:\n",
    "        print (\"No foliation in the section\")\n",
    "    try:\n",
    "        coord_interface = data.get_point_coordinates(contact_points)\n",
    "    except TypeError:\n",
    "        print (\"Element does not have iterable objects\")\n",
    "\n",
    "    print (\"\\nDictionaries:\\n \", contact_points_dict, \"\\n\", foliation_dict)\n",
    "\n",
    "    print (\"\\n Contact points\", contact_points, \"\\n\", coord_interface, \"\\n\")\n",
    "\n",
    "    print (\"foliations\" , foliations,  \"\\n\")\n",
    "    try:\n",
    "        for i in range(len(foliations)):\n",
    "            print (\"azimut:\",data.get_foliation_azimuth(foliations[i]))\n",
    "            print (\"dip\",data.get_foliation_dip(foliations[i]))\n",
    "            print (\"coordinates\", data.get_foliation_coordinates(foliations[i]))\n",
    "    except TypeError:\n",
    "        print (\"No foliation in the section\")"
   ]
  }
 ],
 "metadata": {
  "anaconda-cloud": {},
  "kernelspec": {
   "display_name": "Python [Root]",
   "language": "python",
   "name": "Python [Root]"
  },
  "language_info": {
   "codemirror_mode": {
    "name": "ipython",
    "version": 3.0
   },
   "file_extension": ".py",
   "mimetype": "text/x-python",
   "name": "python",
   "nbconvert_exporter": "python",
   "pygments_lexer": "ipython3",
   "version": "3.5.2"
  },
  "latex_envs": {
   "bibliofile": "biblio.bib",
   "cite_by": "apalike",
   "current_citInitial": 1.0,
   "eqLabelWithNumbers": true,
   "eqNumInitial": 0.0
  },
  "nav_menu": {},
  "toc": {
   "navigate_menu": true,
   "number_sections": true,
   "sideBar": true,
   "threshold": 6.0,
   "toc_cell": false,
   "toc_section_display": "block",
   "toc_window_display": false
  }
 },
 "nbformat": 4,
 "nbformat_minor": 0
}