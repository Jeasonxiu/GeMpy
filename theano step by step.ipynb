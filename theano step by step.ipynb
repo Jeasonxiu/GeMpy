{
 "cells": [
  {
   "cell_type": "code",
   "execution_count": 1131,
   "metadata": {
    "collapsed": false
   },
   "outputs": [],
   "source": [
    "import importlib\n",
    "import theano.tensor as T\n",
    "import sys, os\n",
    "sys.path.append(\"/home/bl3/PycharmProjects/GeMpy/\")\n",
    "import GeoMig\n",
    "#importlib.reload(GeoMig)\n",
    "importlib.reload(GeoMig)\n",
    "import numpy as np"
   ]
  },
  {
   "cell_type": "code",
   "execution_count": 1132,
   "metadata": {
    "collapsed": false
   },
   "outputs": [],
   "source": [
    "layer_1 = np.array([[1,7],[5,7],[6,7], [9,8]], dtype = \"float64\")\n",
    "\n",
    "layer_2 = np.array([[1,1],[5,1],[9,1]], dtype = \"float64\")\n",
    "\n",
    "dip_pos_1 = np.array([2,4,], dtype = \"float64\")\n",
    "dip_pos_2 = np.array([6.,3.], dtype = \"float64\")\n",
    "dip_pos_3 = np.array([8,4], dtype = \"float64\")\n",
    "#aux = np.vstack((layer_1[:],layer_2[:]))\n",
    "#print (aux)\n",
    "#a, b = np.tile(aux,(2,1,1)), np.shape(np.tile(aux,(2,1,1)))\n",
    "#a, a.shape\n",
    "test = GeoMig.GeoMigSim_pro2()\n",
    "test.theano_set([layer_1, layer_2])"
   ]
  },
  {
   "cell_type": "code",
   "execution_count": 1133,
   "metadata": {
    "collapsed": false
   },
   "outputs": [],
   "source": [
    "test.theano_set()"
   ]
  },
  {
   "cell_type": "code",
   "execution_count": 1134,
   "metadata": {
    "collapsed": true
   },
   "outputs": [],
   "source": [
    "layers = np.asarray([layer_1,layer_2])\n",
    "dips = np.asarray([dip_pos_1,dip_pos_2])#, dip_pos_3])"
   ]
  },
  {
   "cell_type": "code",
   "execution_count": 1135,
   "metadata": {
    "collapsed": false
   },
   "outputs": [
    {
     "data": {
      "text/plain": [
       "(2,)"
      ]
     },
     "execution_count": 1135,
     "metadata": {},
     "output_type": "execute_result"
    }
   ],
   "source": [
    "layers.shape"
   ]
  },
  {
   "cell_type": "code",
   "execution_count": 1136,
   "metadata": {
    "collapsed": false
   },
   "outputs": [],
   "source": [
    "#test.call_theano_for_CI([layer_1,layer_2])"
   ]
  },
  {
   "cell_type": "code",
   "execution_count": 1137,
   "metadata": {
    "collapsed": false
   },
   "outputs": [
    {
     "data": {
      "text/plain": [
       "[array([[-0.58      ,  0.09102912, -0.58      , -0.01933956],\n",
       "        [ 0.09102912, -0.58      , -0.01933956, -0.58      ],\n",
       "        [-0.58      , -0.01933956, -0.58      ,  0.01850576],\n",
       "        [-0.01933956, -0.58      ,  0.01850576, -0.58      ]]),\n",
       " array([[ 1.,  1.,  0.,  0.],\n",
       "        [ 1.,  1.,  0.,  0.],\n",
       "        [ 0.,  0.,  1.,  1.],\n",
       "        [ 0.,  0.,  1.,  1.]])]"
      ]
     },
     "execution_count": 1137,
     "metadata": {},
     "output_type": "execute_result"
    }
   ],
   "source": [
    "test.call_theano_for_CG(dips)"
   ]
  },
  {
   "cell_type": "code",
   "execution_count": 1129,
   "metadata": {
    "collapsed": false
   },
   "outputs": [
    {
     "ename": "AttributeError",
     "evalue": "'GeoMigSim_pro2' object has no attribute '_f_CGI'",
     "traceback": [
      "\u001b[1;31m---------------------------------------------------------------------------\u001b[0m",
      "\u001b[1;31mAttributeError\u001b[0m                            Traceback (most recent call last)",
      "\u001b[1;32m<ipython-input-1129-066dea789d39>\u001b[0m in \u001b[0;36m<module>\u001b[1;34m()\u001b[0m\n\u001b[1;32m----> 1\u001b[1;33m \u001b[0mtest\u001b[0m\u001b[1;33m.\u001b[0m\u001b[0mcall_theano_for_C_GI\u001b[0m\u001b[1;33m(\u001b[0m\u001b[0mdips\u001b[0m\u001b[1;33m,\u001b[0m\u001b[0mlayers\u001b[0m\u001b[1;33m)\u001b[0m\u001b[1;33m\u001b[0m\u001b[0m\n\u001b[0m",
      "\u001b[1;32m/home/bl3/PycharmProjects/GeMpy/GeoMig.py\u001b[0m in \u001b[0;36mcall_theano_for_C_GI\u001b[1;34m(self, dips, layers)\u001b[0m\n\u001b[0;32m    261\u001b[0m         \u001b[0maux_X\u001b[0m \u001b[1;33m=\u001b[0m \u001b[0mnp\u001b[0m\u001b[1;33m.\u001b[0m\u001b[0mvstack\u001b[0m\u001b[1;33m(\u001b[0m\u001b[1;33m(\u001b[0m\u001b[0mnp\u001b[0m\u001b[1;33m.\u001b[0m\u001b[0mtile\u001b[0m\u001b[1;33m(\u001b[0m\u001b[0mi\u001b[0m\u001b[1;33m[\u001b[0m\u001b[1;36m0\u001b[0m\u001b[1;33m]\u001b[0m\u001b[1;33m,\u001b[0m \u001b[1;33m(\u001b[0m\u001b[0mnp\u001b[0m\u001b[1;33m.\u001b[0m\u001b[0mshape\u001b[0m\u001b[1;33m(\u001b[0m\u001b[0mi\u001b[0m\u001b[1;33m)\u001b[0m\u001b[1;33m[\u001b[0m\u001b[1;36m0\u001b[0m\u001b[1;33m]\u001b[0m \u001b[1;33m-\u001b[0m \u001b[1;36m1\u001b[0m\u001b[1;33m,\u001b[0m \u001b[1;36m1\u001b[0m\u001b[1;33m)\u001b[0m\u001b[1;33m)\u001b[0m \u001b[1;32mfor\u001b[0m \u001b[0mi\u001b[0m \u001b[1;32min\u001b[0m \u001b[0mlayers\u001b[0m\u001b[1;33m)\u001b[0m\u001b[1;33m)\u001b[0m\u001b[1;33m\u001b[0m\u001b[0m\n\u001b[0;32m    262\u001b[0m         \u001b[0maux_Y\u001b[0m \u001b[1;33m=\u001b[0m \u001b[0mnp\u001b[0m\u001b[1;33m.\u001b[0m\u001b[0mvstack\u001b[0m\u001b[1;33m(\u001b[0m\u001b[1;33m(\u001b[0m\u001b[0mi\u001b[0m\u001b[1;33m[\u001b[0m\u001b[1;36m1\u001b[0m\u001b[1;33m:\u001b[0m\u001b[1;33m]\u001b[0m \u001b[1;32mfor\u001b[0m \u001b[0mi\u001b[0m \u001b[1;32min\u001b[0m \u001b[0mlayers\u001b[0m\u001b[1;33m)\u001b[0m\u001b[1;33m)\u001b[0m\u001b[1;33m\u001b[0m\u001b[0m\n\u001b[1;32m--> 263\u001b[1;33m         \u001b[0mself\u001b[0m\u001b[1;33m.\u001b[0m\u001b[0m_CGI\u001b[0m \u001b[1;33m=\u001b[0m \u001b[0mself\u001b[0m\u001b[1;33m.\u001b[0m\u001b[0m_f_CGI\u001b[0m\u001b[1;33m(\u001b[0m\u001b[0mdips\u001b[0m\u001b[1;33m,\u001b[0m \u001b[0maux_X\u001b[0m\u001b[1;33m,\u001b[0m\u001b[0maux_Y\u001b[0m\u001b[1;33m)\u001b[0m\u001b[1;33m\u001b[0m\u001b[0m\n\u001b[0m\u001b[0;32m    264\u001b[0m         \u001b[1;32mreturn\u001b[0m \u001b[0mself\u001b[0m\u001b[1;33m.\u001b[0m\u001b[0m_CGI\u001b[0m\u001b[1;33m\u001b[0m\u001b[0m\n\u001b[0;32m    265\u001b[0m \u001b[1;33m\u001b[0m\u001b[0m\n",
      "\u001b[1;31mAttributeError\u001b[0m: 'GeoMigSim_pro2' object has no attribute '_f_CGI'"
     ],
     "output_type": "error"
    }
   ],
   "source": [
    "test.call_theano_for_C_GI(dips,layers)"
   ]
  },
  {
   "cell_type": "code",
   "execution_count": 1120,
   "metadata": {
    "collapsed": false,
    "scrolled": true
   },
   "outputs": [
    {
     "data": {
      "text/plain": [
       "array([ array([[ 1.,  7.],\n",
       "       [ 5.,  7.],\n",
       "       [ 6.,  7.],\n",
       "       [ 9.,  8.]]),\n",
       "       array([[ 1.,  1.],\n",
       "       [ 5.,  1.],\n",
       "       [ 9.,  1.]])], dtype=object)"
      ]
     },
     "execution_count": 1120,
     "metadata": {},
     "output_type": "execute_result"
    }
   ],
   "source": [
    "layers.squeeze()"
   ]
  },
  {
   "cell_type": "code",
   "execution_count": 1153,
   "metadata": {
    "collapsed": false
   },
   "outputs": [
    {
     "data": {
      "text/plain": [
       "[array([[   0.        ,   11.11111111,   22.22222222,   33.33333333,\n",
       "           44.44444444,   55.55555556,   66.66666667,   77.77777778,\n",
       "           88.88888889,  100.        ],\n",
       "        [   0.        ,   11.11111111,   22.22222222,   33.33333333,\n",
       "           44.44444444,   55.55555556,   66.66666667,   77.77777778,\n",
       "           88.88888889,  100.        ],\n",
       "        [   0.        ,   11.11111111,   22.22222222,   33.33333333,\n",
       "           44.44444444,   55.55555556,   66.66666667,   77.77777778,\n",
       "           88.88888889,  100.        ],\n",
       "        [   0.        ,   11.11111111,   22.22222222,   33.33333333,\n",
       "           44.44444444,   55.55555556,   66.66666667,   77.77777778,\n",
       "           88.88888889,  100.        ],\n",
       "        [   0.        ,   11.11111111,   22.22222222,   33.33333333,\n",
       "           44.44444444,   55.55555556,   66.66666667,   77.77777778,\n",
       "           88.88888889,  100.        ],\n",
       "        [   0.        ,   11.11111111,   22.22222222,   33.33333333,\n",
       "           44.44444444,   55.55555556,   66.66666667,   77.77777778,\n",
       "           88.88888889,  100.        ],\n",
       "        [   0.        ,   11.11111111,   22.22222222,   33.33333333,\n",
       "           44.44444444,   55.55555556,   66.66666667,   77.77777778,\n",
       "           88.88888889,  100.        ],\n",
       "        [   0.        ,   11.11111111,   22.22222222,   33.33333333,\n",
       "           44.44444444,   55.55555556,   66.66666667,   77.77777778,\n",
       "           88.88888889,  100.        ],\n",
       "        [   0.        ,   11.11111111,   22.22222222,   33.33333333,\n",
       "           44.44444444,   55.55555556,   66.66666667,   77.77777778,\n",
       "           88.88888889,  100.        ],\n",
       "        [   0.        ,   11.11111111,   22.22222222,   33.33333333,\n",
       "           44.44444444,   55.55555556,   66.66666667,   77.77777778,\n",
       "           88.88888889,  100.        ]]),\n",
       " array([[   0.        ,    0.        ,    0.        ,    0.        ,\n",
       "            0.        ,    0.        ,    0.        ,    0.        ,\n",
       "            0.        ,    0.        ],\n",
       "        [  11.11111111,   11.11111111,   11.11111111,   11.11111111,\n",
       "           11.11111111,   11.11111111,   11.11111111,   11.11111111,\n",
       "           11.11111111,   11.11111111],\n",
       "        [  22.22222222,   22.22222222,   22.22222222,   22.22222222,\n",
       "           22.22222222,   22.22222222,   22.22222222,   22.22222222,\n",
       "           22.22222222,   22.22222222],\n",
       "        [  33.33333333,   33.33333333,   33.33333333,   33.33333333,\n",
       "           33.33333333,   33.33333333,   33.33333333,   33.33333333,\n",
       "           33.33333333,   33.33333333],\n",
       "        [  44.44444444,   44.44444444,   44.44444444,   44.44444444,\n",
       "           44.44444444,   44.44444444,   44.44444444,   44.44444444,\n",
       "           44.44444444,   44.44444444],\n",
       "        [  55.55555556,   55.55555556,   55.55555556,   55.55555556,\n",
       "           55.55555556,   55.55555556,   55.55555556,   55.55555556,\n",
       "           55.55555556,   55.55555556],\n",
       "        [  66.66666667,   66.66666667,   66.66666667,   66.66666667,\n",
       "           66.66666667,   66.66666667,   66.66666667,   66.66666667,\n",
       "           66.66666667,   66.66666667],\n",
       "        [  77.77777778,   77.77777778,   77.77777778,   77.77777778,\n",
       "           77.77777778,   77.77777778,   77.77777778,   77.77777778,\n",
       "           77.77777778,   77.77777778],\n",
       "        [  88.88888889,   88.88888889,   88.88888889,   88.88888889,\n",
       "           88.88888889,   88.88888889,   88.88888889,   88.88888889,\n",
       "           88.88888889,   88.88888889],\n",
       "        [ 100.        ,  100.        ,  100.        ,  100.        ,\n",
       "          100.        ,  100.        ,  100.        ,  100.        ,\n",
       "          100.        ,  100.        ]])]"
      ]
     },
     "execution_count": 1153,
     "metadata": {},
     "output_type": "execute_result"
    }
   ],
   "source": [
    "c = np.linspace(0,100,10 )\n",
    "a= np.meshgrid(c,c)\n",
    "a"
   ]
  },
  {
   "cell_type": "code",
   "execution_count": 1155,
   "metadata": {
    "collapsed": false
   },
   "outputs": [],
   "source": [
    "T.sum?"
   ]
  },
  {
   "cell_type": "code",
   "execution_count": 1064,
   "metadata": {
    "collapsed": false
   },
   "outputs": [
    {
     "name": "stdout",
     "output_type": "stream",
     "text": [
      "aux [[ 1.  7.]\n",
      " [ 1.  7.]\n",
      " [ 1.  7.]\n",
      " [ 1.  1.]\n",
      " [ 1.  1.]] [[ 5.  7.]\n",
      " [ 6.  7.]\n",
      " [ 9.  8.]\n",
      " [ 5.  1.]\n",
      " [ 9.  1.]] (5, 2) (5, 2)\n",
      "dips [[ 2.  4.]\n",
      " [ 6.  3.]]\n",
      "[[ 4.24264069  5.          8.06225775  4.24264069  7.61577311]\n",
      " [ 4.12310563  4.          5.83095189  2.23606798  3.60555128]\n",
      " [ 4.24264069  5.          8.06225775  4.24264069  7.61577311]\n",
      " [ 4.12310563  4.          5.83095189  2.23606798  3.60555128]]\n",
      "[[ 3.16227766  3.16227766  3.16227766  3.16227766  3.16227766]\n",
      " [ 6.40312424  6.40312424  6.40312424  5.38516481  5.38516481]\n",
      " [ 3.16227766  3.16227766  3.16227766  3.16227766  3.16227766]\n",
      " [ 6.40312424  6.40312424  6.40312424  5.38516481  5.38516481]]\n",
      "[[-3. -4. -7. -3. -7.]\n",
      " [ 1.  0. -3.  1. -3.]\n",
      " [-3. -3. -4.  3.  3.]\n",
      " [-4. -4. -5.  2.  2.]]\n",
      "[[ 1.  1.  1.  1.  1.]\n",
      " [ 5.  5.  5.  5.  5.]]\n",
      "camion\n",
      "[[ 1.  1.  1.  1.  1.]\n",
      " [ 5.  5.  5.  5.  5.]\n",
      " [-3. -3. -3.  3.  3.]\n",
      " [-4. -4. -4.  2.  2.]]\n",
      "[[  1.27950673e-01  -2.32146843e-02  -1.51334127e-01   9.28587371e-02]\n",
      " [  8.56498181e-02  -0.00000000e+00  -1.97592137e-01   1.10425240e-01]\n",
      " [  6.98212002e-02   6.38618306e-05  -2.09463600e-01   1.06436384e-04]\n",
      " [  1.27950673e-01  -1.36420720e-01   1.51334127e-01  -2.80580506e-01]\n",
      " [  6.98212002e-02   1.39156030e-01   2.09463600e-01  -8.76113098e-02]]\n"
     ]
    }
   ],
   "source": [
    "layers = np.asarray([layer_1,layer_2])\n",
    "dips = np.asarray([dip_pos_1,dip_pos_2])\n",
    "\n",
    "#==============================\n",
    "dips2 = np.vstack((i for i in dips))\n",
    "aux_X2 = np.vstack((np.tile(i[0], (np.shape(i)[0] - 1, 1)) for i in layers))\n",
    "aux_Y2 = np.vstack((i[1:] for i in layers))\n",
    "print (\"aux\",aux_X2, aux_Y2,aux_X2.shape, aux_Y2.shape)\n",
    "print (\"dips\", dips)\n",
    "#==============================\n",
    "aux_X = T.dmatrix(\"aux_X\")\n",
    "aux_Y = T.dmatrix(\"aux Y\")\n",
    "dips = T.dmatrix(\"dips\")\n",
    "a = theano.shared(6)\n",
    "# ========================================\n",
    "# THE INTERACTION GRADIENTS/INTERFACES\n",
    "\n",
    "_squared_euclidean_distances2 = T.sqrt(\n",
    "( dips ** 2).sum(1).reshape(( dips.shape[0], 1)) + ( aux_Y ** 2).sum(1).reshape(\n",
    "    (1,  aux_Y.shape[0])) - 2 *  dips.dot( aux_Y.T))\n",
    "\n",
    "_squared_euclidean_distances3 = T.sqrt(\n",
    "( dips ** 2).sum(1).reshape(( dips.shape[0], 1)) + ( aux_X ** 2).sum(1).reshape(\n",
    "    (1,  aux_X.shape[0])) - 2 *  dips.dot( aux_X.T))\n",
    "\n",
    "\n",
    "h3 = T.vertical_stack(\n",
    " (dips[:, 0] -  aux_Y[:, 0].reshape(( aux_Y[:, 0].shape[0], 1))).T,\n",
    "(dips[:, 1] -  aux_Y[:, 1].reshape(( aux_Y[:, 1].shape[0], 1))).T\n",
    ")\n",
    "\n",
    "\n",
    "h_j =  (dips[:, 0] -  aux_X[:, 0].reshape(( aux_X[:, 0].shape[0], 1))).T\n",
    "\n",
    "\n",
    "h4 = T.vertical_stack(\n",
    "(dips[:, 0] -  aux_X[:, 0].reshape(( aux_X[:, 0].shape[0], 1))).T,\n",
    "(dips[:, 1] -  aux_X[:, 1].reshape(( aux_X[:, 1].shape[0], 1))).T)\n",
    "\n",
    "\n",
    "r_3 = T.tile(_squared_euclidean_distances2, (2, 1))  # Careful with the number of dimensions\n",
    "r_4 = T.tile(_squared_euclidean_distances3, (2, 1))  # Careful with the number of dimensions\n",
    "\n",
    "_ans_d1_3 = (r_3 <  a) * (\n",
    "-7 * ( a - r_3) ** 3 * r_3 * (8 *  a ** 2 + 9 *  a * r_3 + 3 * r_3 ** 2) * 1) / (4 *  a ** 7)\n",
    "\n",
    "_ans_d1_4 = (r_4 <  a) * (\n",
    "-7 * ( a - r_4) ** 3 * r_4 * (8 *  a ** 2 + 9 *  a * r_4 + 3 * r_4 ** 2) * 1) / (4 *  a ** 7)\n",
    "\n",
    "_C_GI =( h3 / r_3 *  _ans_d1_3 - h4 / r_4 *  _ans_d1_4).T\n",
    "\n",
    "_f_CGI = theano.function([dips, aux_X, aux_Y], _C_GI)\n",
    "#======================\n",
    "print (r_3.eval({dips: dips2, aux_Y:aux_Y2}))\n",
    "print (r_4.eval({dips: dips2, aux_X:aux_X2}))\n",
    "print (h3.eval({dips: dips2, aux_Y:aux_Y2}))\n",
    "print (h_j.eval({dips: dips2, aux_X:aux_X2}))\n",
    "print (\"camion\")\n",
    "\n",
    "print (h4.eval({dips: dips2, aux_X:aux_X2}))\n",
    "print (_C_GI.eval({dips: dips2, aux_X:aux_X2, aux_Y:aux_Y2}))"
   ]
  },
  {
   "cell_type": "code",
   "execution_count": 920,
   "metadata": {
    "collapsed": true
   },
   "outputs": [],
   "source": [
    "T.horizontal_stack?"
   ]
  },
  {
   "cell_type": "code",
   "execution_count": 1046,
   "metadata": {
    "collapsed": false
   },
   "outputs": [
    {
     "data": {
      "text/plain": [
       "array([[  1.27950673e-01,  -2.32146843e-02,  -1.51334127e-01,\n",
       "          9.28587371e-02],\n",
       "       [  8.56498181e-02,  -0.00000000e+00,  -1.97592137e-01,\n",
       "          1.10425240e-01],\n",
       "       [  6.98212002e-02,   6.38618306e-05,  -2.09463600e-01,\n",
       "          1.06436384e-04],\n",
       "       [  1.27950673e-01,  -1.36420720e-01,   1.51334127e-01,\n",
       "         -2.80580506e-01],\n",
       "       [  6.98212002e-02,   1.39156030e-01,   2.09463600e-01,\n",
       "         -8.76113098e-02]])"
      ]
     },
     "execution_count": 1046,
     "metadata": {},
     "output_type": "execute_result"
    }
   ],
   "source": [
    "_f_CGI(dips2,aux_X2,aux_Y2)"
   ]
  },
  {
   "cell_type": "code",
   "execution_count": null,
   "metadata": {
    "collapsed": true
   },
   "outputs": [],
   "source": [
    ""
   ]
  }
 ],
 "metadata": {
  "anaconda-cloud": {},
  "kernelspec": {
   "display_name": "Python [Root]",
   "language": "python",
   "name": "Python [Root]"
  },
  "language_info": {
   "codemirror_mode": {
    "name": "ipython",
    "version": 3.0
   },
   "file_extension": ".py",
   "mimetype": "text/x-python",
   "name": "python",
   "nbconvert_exporter": "python",
   "pygments_lexer": "ipython3",
   "version": "3.5.2"
  }
 },
 "nbformat": 4,
 "nbformat_minor": 0
}